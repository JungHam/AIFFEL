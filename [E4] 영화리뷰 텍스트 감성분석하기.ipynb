{
 "cells": [
  {
   "cell_type": "code",
   "execution_count": 1,
   "metadata": {
    "scrolled": true
   },
   "outputs": [
    {
     "data": {
      "text/html": [
       "<div>\n",
       "<style scoped>\n",
       "    .dataframe tbody tr th:only-of-type {\n",
       "        vertical-align: middle;\n",
       "    }\n",
       "\n",
       "    .dataframe tbody tr th {\n",
       "        vertical-align: top;\n",
       "    }\n",
       "\n",
       "    .dataframe thead th {\n",
       "        text-align: right;\n",
       "    }\n",
       "</style>\n",
       "<table border=\"1\" class=\"dataframe\">\n",
       "  <thead>\n",
       "    <tr style=\"text-align: right;\">\n",
       "      <th></th>\n",
       "      <th>id</th>\n",
       "      <th>document</th>\n",
       "      <th>label</th>\n",
       "    </tr>\n",
       "  </thead>\n",
       "  <tbody>\n",
       "    <tr>\n",
       "      <th>0</th>\n",
       "      <td>9976970</td>\n",
       "      <td>아 더빙.. 진짜 짜증나네요 목소리</td>\n",
       "      <td>0</td>\n",
       "    </tr>\n",
       "    <tr>\n",
       "      <th>1</th>\n",
       "      <td>3819312</td>\n",
       "      <td>흠...포스터보고 초딩영화줄....오버연기조차 가볍지 않구나</td>\n",
       "      <td>1</td>\n",
       "    </tr>\n",
       "    <tr>\n",
       "      <th>2</th>\n",
       "      <td>10265843</td>\n",
       "      <td>너무재밓었다그래서보는것을추천한다</td>\n",
       "      <td>0</td>\n",
       "    </tr>\n",
       "    <tr>\n",
       "      <th>3</th>\n",
       "      <td>9045019</td>\n",
       "      <td>교도소 이야기구먼 ..솔직히 재미는 없다..평점 조정</td>\n",
       "      <td>0</td>\n",
       "    </tr>\n",
       "    <tr>\n",
       "      <th>4</th>\n",
       "      <td>6483659</td>\n",
       "      <td>사이몬페그의 익살스런 연기가 돋보였던 영화!스파이더맨에서 늙어보이기만 했던 커스틴 ...</td>\n",
       "      <td>1</td>\n",
       "    </tr>\n",
       "  </tbody>\n",
       "</table>\n",
       "</div>"
      ],
      "text/plain": [
       "         id                                           document  label\n",
       "0   9976970                                아 더빙.. 진짜 짜증나네요 목소리      0\n",
       "1   3819312                  흠...포스터보고 초딩영화줄....오버연기조차 가볍지 않구나      1\n",
       "2  10265843                                  너무재밓었다그래서보는것을추천한다      0\n",
       "3   9045019                      교도소 이야기구먼 ..솔직히 재미는 없다..평점 조정      0\n",
       "4   6483659  사이몬페그의 익살스런 연기가 돋보였던 영화!스파이더맨에서 늙어보이기만 했던 커스틴 ...      1"
      ]
     },
     "execution_count": 1,
     "metadata": {},
     "output_type": "execute_result"
    }
   ],
   "source": [
    "import pandas as pd\n",
    "import urllib.request\n",
    "%matplotlib inline\n",
    "import matplotlib.pyplot as plt\n",
    "import re\n",
    "from konlpy.tag import Okt\n",
    "from tensorflow import keras\n",
    "from tensorflow.keras.preprocessing.text import Tokenizer\n",
    "import numpy as np\n",
    "from tensorflow.keras.preprocessing.sequence import pad_sequences\n",
    "from collections import Counter\n",
    "\n",
    "# 데이터를 읽어봅시다. \n",
    "train_data = pd.read_table('~/aiffel/sentiment_classification/ratings_train.txt')\n",
    "test_data = pd.read_table('~/aiffel/sentiment_classification/ratings_test.txt')\n",
    "\n",
    "train_data.head()"
   ]
  },
  {
   "cell_type": "code",
   "execution_count": 2,
   "metadata": {
    "scrolled": true
   },
   "outputs": [],
   "source": [
    "from konlpy.tag import Mecab\n",
    "dicpath = '/usr/local/lib/mecab/dic/mecab-ko-dic'\n",
    "tokenizer = Mecab(dicpath)\n",
    "stopwords = ['의','가','이','은','들','는','좀','잘','걍','과','도','를','으로','자','에','와','한','하다']"
   ]
  },
  {
   "cell_type": "code",
   "execution_count": 3,
   "metadata": {
    "scrolled": true
   },
   "outputs": [
    {
     "name": "stdout",
     "output_type": "stream",
     "text": [
      "53961\n"
     ]
    }
   ],
   "source": [
    "def load_data(train_data, test_data, num_words):\n",
    "    train_data.drop_duplicates(subset=['document'], inplace=True)\n",
    "    train_data = train_data.dropna(how = 'any') \n",
    "    test_data.drop_duplicates(subset=['document'], inplace=True)\n",
    "    test_data = test_data.dropna(how = 'any') \n",
    "\n",
    "    X_train = []\n",
    "    for sentence in train_data['document']:\n",
    "        temp_X = tokenizer.morphs(sentence) # 토큰화\n",
    "        temp_X = [word for word in temp_X if not word in stopwords] # 불용어 제거\n",
    "        X_train.append(temp_X)\n",
    "\n",
    "    X_test = []\n",
    "    for sentence in test_data['document']:\n",
    "        temp_X = tokenizer.morphs(sentence) # 토큰화\n",
    "        temp_X = [word for word in temp_X if not word in stopwords] # 불용어 제거\n",
    "        X_test.append(temp_X)\n",
    "\n",
    "    words = np.concatenate(X_train).tolist()\n",
    "    counter = Counter(words)\n",
    "    print(len(counter))\n",
    "    #이 부분을 조정해서 가변으로 만듬\n",
    "    counter = counter.most_common(num_words-4)\n",
    "    vocab = ['<PAD>', '<BOS>', '<UNK>', '<UNUSED>'] + [key for key, _ in counter]\n",
    "    word_to_index = {word:index for index, word in enumerate(vocab)}\n",
    "\n",
    "    def wordlist_to_indexlist(wordlist):\n",
    "        return [word_to_index[word] if word in word_to_index else word_to_index['<UNK>'] for word in wordlist]\n",
    "\n",
    "    X_train = list(map(wordlist_to_indexlist, X_train))\n",
    "    X_test = list(map(wordlist_to_indexlist, X_test))\n",
    "    \n",
    "    return X_train, np.array(list(train_data['label'])), X_test, np.array(list(test_data['label'])), word_to_index\n",
    "\n",
    "X_train, y_train, X_test, y_test, word_to_index = load_data(train_data, test_data, 20000)"
   ]
  },
  {
   "cell_type": "markdown",
   "metadata": {},
   "source": [
    "여기서 word_to_index의 수가 계속 10000으로 고정되어 나오는 것을 보고 함수를 뜯어봤더니 상수값으로 고정되어 있었다. 그래서 이를 가변으로 만들었다. 처음에는 3만으로 했는데 자꾸 메모리가 터져서 2만으로 줄였다. "
   ]
  },
  {
   "cell_type": "code",
   "execution_count": 4,
   "metadata": {},
   "outputs": [
    {
     "name": "stdout",
     "output_type": "stream",
     "text": [
      "20000\n"
     ]
    }
   ],
   "source": [
    "print(len(word_to_index))"
   ]
  },
  {
   "cell_type": "code",
   "execution_count": 5,
   "metadata": {
    "scrolled": true
   },
   "outputs": [],
   "source": [
    "# 문장 1개를 활용할 딕셔너리와 함께 주면, 단어 인덱스 리스트 벡터로 변환해 주는 함수입니다. \n",
    "# 단, 모든 문장은 <BOS>로 시작하는 것으로 합니다. \n",
    "def get_encoded_sentence(sentence, word_to_index):\n",
    "    return [word_to_index['<BOS>']]+[word_to_index[word] if word in word_to_index else word_to_index['<UNK>'] for word in sentence.split()]\n",
    "\n",
    "# 여러 개의 문장 리스트를 한꺼번에 단어 인덱스 리스트 벡터로 encode해 주는 함수입니다. \n",
    "def get_encoded_sentences(sentences, word_to_index):\n",
    "    return [get_encoded_sentence(sentence, word_to_index) for sentence in sentences]\n",
    "\n",
    "# 숫자 벡터로 encode된 문장을 원래대로 decode하는 함수입니다. \n",
    "def get_decoded_sentence(encoded_sentence, index_to_word):\n",
    "    return ' '.join(index_to_word[index] if index in index_to_word else '<UNK>' for index in encoded_sentence[1:])  #[1:]를 통해 <BOS>를 제외\n",
    "\n",
    "# 여러개의 숫자 벡터로 encode된 문장을 한꺼번에 원래대로 decode하는 함수입니다. \n",
    "def get_decoded_sentences(encoded_sentences, index_to_word):\n",
    "    return [get_decoded_sentence(encoded_sentence, index_to_word) for encoded_sentence in encoded_sentences]"
   ]
  },
  {
   "cell_type": "code",
   "execution_count": 84,
   "metadata": {
    "scrolled": true
   },
   "outputs": [
    {
     "data": {
      "text/plain": [
       "20000"
      ]
     },
     "execution_count": 84,
     "metadata": {},
     "output_type": "execute_result"
    }
   ],
   "source": [
    "index_to_word = {index:word for word, index in word_to_index.items()}"
   ]
  },
  {
   "cell_type": "code",
   "execution_count": 7,
   "metadata": {
    "scrolled": true
   },
   "outputs": [
    {
     "name": "stdout",
     "output_type": "stream",
     "text": [
      "문장길이 평균 :  15.96940191154864\n",
      "문장길이 최대 :  116\n",
      "문장길이 표준편차 :  12.843571191092\n",
      "pad_sequences maxlen :  41\n",
      "전체 문장의 0.9342988343341575%가 maxlen 설정값 이내에 포함됩니다. \n"
     ]
    }
   ],
   "source": [
    "total_data_text = list(X_train) + list(X_test)\n",
    "# 텍스트데이터 문장길이의 리스트를 생성한 후\n",
    "num_tokens = [len(tokens) for tokens in total_data_text]\n",
    "num_tokens = np.array(num_tokens)\n",
    "# 문장길이의 평균값, 최대값, 표준편차를 계산해 본다. \n",
    "print('문장길이 평균 : ', np.mean(num_tokens))\n",
    "print('문장길이 최대 : ', np.max(num_tokens))\n",
    "print('문장길이 표준편차 : ', np.std(num_tokens))\n",
    "\n",
    "# 예를들어, 최대 길이를 (평균 + 2*표준편차)로 한다면,  \n",
    "max_tokens = np.mean(num_tokens) + 2 * np.std(num_tokens)\n",
    "maxlen = int(max_tokens)\n",
    "print('pad_sequences maxlen : ', maxlen)\n",
    "print('전체 문장의 {}%가 maxlen 설정값 이내에 포함됩니다. '.format(np.sum(num_tokens < max_tokens) / len(num_tokens)))"
   ]
  },
  {
   "cell_type": "code",
   "execution_count": 8,
   "metadata": {
    "scrolled": true
   },
   "outputs": [
    {
     "name": "stdout",
     "output_type": "stream",
     "text": [
      "(146182, 41)\n"
     ]
    }
   ],
   "source": [
    "x_train = keras.preprocessing.sequence.pad_sequences(X_train,\n",
    "                                                        value=word_to_index[\"<PAD>\"],\n",
    "                                                        padding='pre', # 혹은 'pre'\n",
    "                                                        maxlen=maxlen)\n",
    "\n",
    "x_test = keras.preprocessing.sequence.pad_sequences(X_test,\n",
    "                                                       value=word_to_index[\"<PAD>\"],\n",
    "                                                       padding='pre', # 혹은 'pre'\n",
    "                                                       maxlen=maxlen)\n",
    "\n",
    "print(x_train.shape)"
   ]
  },
  {
   "cell_type": "markdown",
   "metadata": {},
   "source": [
    "이제 세 모델을 비교해 볼 차례이다. 먼저 model1은 RNN을 이용한 모델이다. "
   ]
  },
  {
   "cell_type": "code",
   "execution_count": 9,
   "metadata": {
    "scrolled": true
   },
   "outputs": [
    {
     "name": "stdout",
     "output_type": "stream",
     "text": [
      "Model: \"sequential\"\n",
      "_________________________________________________________________\n",
      "Layer (type)                 Output Shape              Param #   \n",
      "=================================================================\n",
      "embedding (Embedding)        (None, None, 300)         6000000   \n",
      "_________________________________________________________________\n",
      "lstm (LSTM)                  (None, 8)                 9888      \n",
      "_________________________________________________________________\n",
      "dense (Dense)                (None, 8)                 72        \n",
      "_________________________________________________________________\n",
      "dense_1 (Dense)              (None, 1)                 9         \n",
      "=================================================================\n",
      "Total params: 6,009,969\n",
      "Trainable params: 6,009,969\n",
      "Non-trainable params: 0\n",
      "_________________________________________________________________\n"
     ]
    }
   ],
   "source": [
    "vocab_size = 20000    # 어휘 사전의 크기입니다(10,000개의 단어)\n",
    "word_vector_dim = 300  # 워드 벡터의 차원수 (변경가능한 하이퍼파라미터)\n",
    "\n",
    "# model 설계 - 딥러닝 모델 코드를 직접 작성해 주세요.\n",
    "model1 = keras.Sequential()\n",
    "\n",
    "model1.add(keras.layers.Embedding(vocab_size, word_vector_dim, input_shape=(None,)))\n",
    "model1.add(keras.layers.LSTM(8))   # 가장 널리 쓰이는 RNN인 LSTM 레이어를 사용하였습니다. 이때 LSTM state 벡터의 차원수는 8로 하였습니다. (변경가능)\n",
    "model1.add(keras.layers.Dense(8, activation='relu'))\n",
    "model1.add(keras.layers.Dense(1, activation='sigmoid'))  # 최종 출력은 긍정/부정을 나타내는 1dim 입니다.\n",
    "\n",
    "model1.summary()"
   ]
  },
  {
   "cell_type": "code",
   "execution_count": 10,
   "metadata": {
    "scrolled": true
   },
   "outputs": [
    {
     "name": "stdout",
     "output_type": "stream",
     "text": [
      "Model: \"sequential_1\"\n",
      "_________________________________________________________________\n",
      "Layer (type)                 Output Shape              Param #   \n",
      "=================================================================\n",
      "embedding_1 (Embedding)      (None, None, 300)         6000000   \n",
      "_________________________________________________________________\n",
      "conv1d (Conv1D)              (None, None, 16)          33616     \n",
      "_________________________________________________________________\n",
      "max_pooling1d (MaxPooling1D) (None, None, 16)          0         \n",
      "_________________________________________________________________\n",
      "conv1d_1 (Conv1D)            (None, None, 16)          1808      \n",
      "_________________________________________________________________\n",
      "global_max_pooling1d (Global (None, 16)                0         \n",
      "_________________________________________________________________\n",
      "dense_2 (Dense)              (None, 8)                 136       \n",
      "_________________________________________________________________\n",
      "dense_3 (Dense)              (None, 1)                 9         \n",
      "=================================================================\n",
      "Total params: 6,035,569\n",
      "Trainable params: 6,035,569\n",
      "Non-trainable params: 0\n",
      "_________________________________________________________________\n"
     ]
    }
   ],
   "source": [
    "model2 = keras.Sequential()\n",
    "model2.add(keras.layers.Embedding(vocab_size, word_vector_dim, input_shape=(None,)))\n",
    "model2.add(keras.layers.Conv1D(16, 7, activation='relu'))\n",
    "model2.add(keras.layers.MaxPooling1D(5))\n",
    "model2.add(keras.layers.Conv1D(16, 7, activation='relu'))\n",
    "model2.add(keras.layers.GlobalMaxPooling1D())\n",
    "model2.add(keras.layers.Dense(8, activation='relu'))\n",
    "model2.add(keras.layers.Dense(1, activation='sigmoid'))  # 최종 출력은 긍정/부정을 나타내는 1dim 입니다.\n",
    "\n",
    "model2.summary()"
   ]
  },
  {
   "cell_type": "markdown",
   "metadata": {},
   "source": [
    "모델 2는 여러 layer들을 깔아썼다.  "
   ]
  },
  {
   "cell_type": "code",
   "execution_count": 11,
   "metadata": {
    "scrolled": true
   },
   "outputs": [
    {
     "name": "stdout",
     "output_type": "stream",
     "text": [
      "Model: \"sequential_2\"\n",
      "_________________________________________________________________\n",
      "Layer (type)                 Output Shape              Param #   \n",
      "=================================================================\n",
      "embedding_2 (Embedding)      (None, None, 300)         6000000   \n",
      "_________________________________________________________________\n",
      "global_max_pooling1d_1 (Glob (None, 300)               0         \n",
      "_________________________________________________________________\n",
      "dense_4 (Dense)              (None, 8)                 2408      \n",
      "_________________________________________________________________\n",
      "dense_5 (Dense)              (None, 1)                 9         \n",
      "=================================================================\n",
      "Total params: 6,002,417\n",
      "Trainable params: 6,002,417\n",
      "Non-trainable params: 0\n",
      "_________________________________________________________________\n"
     ]
    }
   ],
   "source": [
    "model3 = keras.Sequential()\n",
    "model3.add(keras.layers.Embedding(vocab_size, word_vector_dim, input_shape=(None,)))\n",
    "model3.add(keras.layers.GlobalMaxPooling1D())\n",
    "model3.add(keras.layers.Dense(8, activation='relu'))\n",
    "model3.add(keras.layers.Dense(1, activation='sigmoid'))  # 최종 출력은 긍정/부정을 나타내는 1dim 입니다.\n",
    "\n",
    "model3.summary()"
   ]
  },
  {
   "cell_type": "markdown",
   "metadata": {},
   "source": [
    "모델 3은 여러 모델 1에서 하나의 layer를 GlobalMaxPooling으로 바꿨다. "
   ]
  },
  {
   "cell_type": "code",
   "execution_count": 12,
   "metadata": {
    "scrolled": true
   },
   "outputs": [
    {
     "name": "stdout",
     "output_type": "stream",
     "text": [
      "(73091, 41)\n",
      "(73091,)\n"
     ]
    }
   ],
   "source": [
    "# 20%는 validation 데이터로\n",
    "x_val = x_train[x_train.shape[0]//2:]\n",
    "y_val = y_train[y_train.shape[0]//2:]\n",
    "partial_x_train = x_train[:x_train.shape[0]//2]\n",
    "partial_y_train = y_train[:y_train.shape[0]//2]\n",
    "print(partial_x_train.shape)\n",
    "print(partial_y_train.shape)"
   ]
  },
  {
   "cell_type": "code",
   "execution_count": 13,
   "metadata": {
    "scrolled": true
   },
   "outputs": [
    {
     "name": "stdout",
     "output_type": "stream",
     "text": [
      "Epoch 1/10\n",
      "143/143 [==============================] - 7s 48ms/step - loss: 0.5036 - accuracy: 0.7798 - val_loss: 0.3761 - val_accuracy: 0.8386\n",
      "Epoch 2/10\n",
      "143/143 [==============================] - 7s 46ms/step - loss: 0.3150 - accuracy: 0.8708 - val_loss: 0.3571 - val_accuracy: 0.8442\n",
      "Epoch 3/10\n",
      "143/143 [==============================] - 7s 46ms/step - loss: 0.2568 - accuracy: 0.8977 - val_loss: 0.3684 - val_accuracy: 0.8436\n",
      "Epoch 4/10\n",
      "143/143 [==============================] - 7s 46ms/step - loss: 0.2163 - accuracy: 0.9164 - val_loss: 0.3875 - val_accuracy: 0.8432\n",
      "Epoch 5/10\n",
      "143/143 [==============================] - 7s 46ms/step - loss: 0.1837 - accuracy: 0.9299 - val_loss: 0.4149 - val_accuracy: 0.8393\n",
      "Epoch 6/10\n",
      "143/143 [==============================] - 7s 46ms/step - loss: 0.1566 - accuracy: 0.9417 - val_loss: 0.4629 - val_accuracy: 0.8365\n",
      "Epoch 7/10\n",
      "143/143 [==============================] - 6s 45ms/step - loss: 0.1368 - accuracy: 0.9496 - val_loss: 0.4947 - val_accuracy: 0.8351\n",
      "Epoch 8/10\n",
      "143/143 [==============================] - 7s 46ms/step - loss: 0.1216 - accuracy: 0.9557 - val_loss: 0.5296 - val_accuracy: 0.8341\n",
      "Epoch 9/10\n",
      "143/143 [==============================] - 6s 45ms/step - loss: 0.1080 - accuracy: 0.9613 - val_loss: 0.5495 - val_accuracy: 0.8295\n",
      "Epoch 10/10\n",
      "143/143 [==============================] - 7s 48ms/step - loss: 0.0989 - accuracy: 0.9651 - val_loss: 0.5795 - val_accuracy: 0.8321\n"
     ]
    }
   ],
   "source": [
    "model1.compile(optimizer='adam',\n",
    "              loss='binary_crossentropy',\n",
    "              metrics=['accuracy'])\n",
    "              \n",
    "epochs=10  # 몇 epoch를 훈련하면 좋을지 결과를 보면서 바꾸어 봅시다. \n",
    "\n",
    "history1 = model1.fit(partial_x_train,\n",
    "                    partial_y_train,\n",
    "                    epochs=epochs,\n",
    "                    batch_size=512,\n",
    "                    validation_data=(x_val, y_val),\n",
    "                    verbose=1)"
   ]
  },
  {
   "cell_type": "code",
   "execution_count": 14,
   "metadata": {
    "scrolled": true
   },
   "outputs": [
    {
     "name": "stdout",
     "output_type": "stream",
     "text": [
      "1537/1537 - 3s - loss: 0.5819 - accuracy: 0.8306\n",
      "[0.5818852186203003, 0.8305633068084717]\n"
     ]
    },
    {
     "data": {
      "image/png": "[encoded data removed]",
      "text/plain": [
       "<Figure size 432x288 with 1 Axes>"
      ]
     },
     "metadata": {
      "needs_background": "light"
     },
     "output_type": "display_data"
    },
    {
     "data": {
      "image/png": "[encoded data removed]",
      "text/plain": [
       "<Figure size 432x288 with 1 Axes>"
      ]
     },
     "metadata": {
      "needs_background": "light"
     },
     "output_type": "display_data"
    }
   ],
   "source": [
    "results = model1.evaluate(x_test,  y_test, verbose=2)\n",
    "\n",
    "print(results)\n",
    "\n",
    "history_dict = history1.history\n",
    "import matplotlib.pyplot as plt\n",
    "\n",
    "def draw_chart(history_dict) :\n",
    "    acc = history_dict['accuracy']\n",
    "    val_acc = history_dict['val_accuracy']\n",
    "    loss = history_dict['loss']\n",
    "    val_loss = history_dict['val_loss']\n",
    "\n",
    "    epochs = range(1, len(acc) + 1)\n",
    "\n",
    "    # \"bo\"는 \"파란색 점\"입니다\n",
    "    plt.plot(epochs, loss, 'bo', label='Training loss')\n",
    "    # b는 \"파란 실선\"입니다\n",
    "    plt.plot(epochs, val_loss, 'b', label='Validation loss')\n",
    "    plt.title('Training and validation loss')\n",
    "    plt.xlabel('Epochs')\n",
    "    plt.ylabel('Loss')\n",
    "    plt.legend()\n",
    "    plt.show()\n",
    "    \n",
    "    plt.clf()   # 그림을 초기화합니다\n",
    "\n",
    "    plt.plot(epochs, acc, 'bo', label='Training acc')\n",
    "    plt.plot(epochs, val_acc, 'b', label='Validation acc')\n",
    "    plt.title('Training and validation accuracy')\n",
    "    plt.xlabel('Epochs')\n",
    "    plt.ylabel('Accuracy')\n",
    "    plt.legend()\n",
    "\n",
    "    plt.show()\n",
    "\n",
    "draw_chart(history_dict)\n",
    "\n"
   ]
  },
  {
   "cell_type": "markdown",
   "metadata": {},
   "source": [
    "0.83의 정확도를 나타냈다. 이제 이 정확도가 가장 높은 모델을 최종 학습 모델로 쓸 것이다. "
   ]
  },
  {
   "cell_type": "code",
   "execution_count": 15,
   "metadata": {
    "scrolled": true
   },
   "outputs": [
    {
     "name": "stdout",
     "output_type": "stream",
     "text": [
      "Epoch 1/10\n",
      "143/143 [==============================] - 12s 87ms/step - loss: 0.4839 - accuracy: 0.7549 - val_loss: 0.3622 - val_accuracy: 0.8418\n",
      "Epoch 2/10\n",
      "143/143 [==============================] - 7s 46ms/step - loss: 0.2925 - accuracy: 0.8807 - val_loss: 0.3555 - val_accuracy: 0.8458\n",
      "Epoch 3/10\n",
      "143/143 [==============================] - 7s 46ms/step - loss: 0.2074 - accuracy: 0.9228 - val_loss: 0.3785 - val_accuracy: 0.8460\n",
      "Epoch 4/10\n",
      "143/143 [==============================] - 7s 46ms/step - loss: 0.1306 - accuracy: 0.9561 - val_loss: 0.4499 - val_accuracy: 0.8381\n",
      "Epoch 5/10\n",
      "143/143 [==============================] - 7s 47ms/step - loss: 0.0779 - accuracy: 0.9762 - val_loss: 0.5220 - val_accuracy: 0.8323\n",
      "Epoch 6/10\n",
      "143/143 [==============================] - 7s 46ms/step - loss: 0.0478 - accuracy: 0.9861 - val_loss: 0.5924 - val_accuracy: 0.8340\n",
      "Epoch 7/10\n",
      "143/143 [==============================] - 7s 46ms/step - loss: 0.0310 - accuracy: 0.9909 - val_loss: 0.6695 - val_accuracy: 0.8301\n",
      "Epoch 8/10\n",
      "143/143 [==============================] - 7s 47ms/step - loss: 0.0226 - accuracy: 0.9937 - val_loss: 0.7157 - val_accuracy: 0.8296\n",
      "Epoch 9/10\n",
      "143/143 [==============================] - 7s 47ms/step - loss: 0.0166 - accuracy: 0.9950 - val_loss: 0.7788 - val_accuracy: 0.8282\n",
      "Epoch 10/10\n",
      "143/143 [==============================] - 7s 47ms/step - loss: 0.0134 - accuracy: 0.9962 - val_loss: 0.8136 - val_accuracy: 0.8248\n"
     ]
    }
   ],
   "source": [
    "model2.compile(optimizer='adam',\n",
    "              loss='binary_crossentropy',\n",
    "              metrics=['accuracy'])\n",
    "              \n",
    "epochs=10  # 몇 epoch를 훈련하면 좋을지 결과를 보면서 바꾸어 봅시다. \n",
    "\n",
    "history2 = model2.fit(partial_x_train,\n",
    "                    partial_y_train,\n",
    "                    epochs=epochs,\n",
    "                    batch_size=512,\n",
    "                    validation_data=(x_val, y_val),\n",
    "                    verbose=1)"
   ]
  },
  {
   "cell_type": "code",
   "execution_count": 16,
   "metadata": {
    "scrolled": true
   },
   "outputs": [
    {
     "name": "stdout",
     "output_type": "stream",
     "text": [
      "1537/1537 - 5s - loss: 0.8364 - accuracy: 0.8210\n",
      "[0.8364234566688538, 0.8210020661354065]\n"
     ]
    },
    {
     "data": {
      "image/png": "[encoded data removed]",
      "text/plain": [
       "<Figure size 432x288 with 1 Axes>"
      ]
     },
     "metadata": {
      "needs_background": "light"
     },
     "output_type": "display_data"
    },
    {
     "data": {
      "image/png": "[encoded data removed]",
      "text/plain": [
       "<Figure size 432x288 with 1 Axes>"
      ]
     },
     "metadata": {
      "needs_background": "light"
     },
     "output_type": "display_data"
    }
   ],
   "source": [
    "results = model2.evaluate(x_test,  y_test, verbose=2)\n",
    "\n",
    "print(results)\n",
    "\n",
    "history_dict = history2.history\n",
    "draw_chart(history_dict)"
   ]
  },
  {
   "cell_type": "markdown",
   "metadata": {},
   "source": [
    "0.83의 정확도를 나타냈는데, 특이하게 처음에는 accuracy가 확 올랐다가 그 다음에 오버피팅이 되는 모습을 볼 수 있다. "
   ]
  },
  {
   "cell_type": "code",
   "execution_count": 17,
   "metadata": {
    "scrolled": true
   },
   "outputs": [
    {
     "name": "stdout",
     "output_type": "stream",
     "text": [
      "Epoch 1/10\n",
      "143/143 [==============================] - 7s 47ms/step - loss: 0.5246 - accuracy: 0.7799 - val_loss: 0.3816 - val_accuracy: 0.8344\n",
      "Epoch 2/10\n",
      "143/143 [==============================] - 7s 47ms/step - loss: 0.3174 - accuracy: 0.8695 - val_loss: 0.3501 - val_accuracy: 0.8469\n",
      "Epoch 3/10\n",
      "143/143 [==============================] - 7s 49ms/step - loss: 0.2441 - accuracy: 0.9046 - val_loss: 0.3558 - val_accuracy: 0.8490\n",
      "Epoch 4/10\n",
      "143/143 [==============================] - 7s 48ms/step - loss: 0.1862 - accuracy: 0.9311 - val_loss: 0.3754 - val_accuracy: 0.8458\n",
      "Epoch 5/10\n",
      "143/143 [==============================] - 7s 46ms/step - loss: 0.1370 - accuracy: 0.9545 - val_loss: 0.4061 - val_accuracy: 0.8434\n",
      "Epoch 6/10\n",
      "143/143 [==============================] - 7s 46ms/step - loss: 0.0969 - accuracy: 0.9721 - val_loss: 0.4401 - val_accuracy: 0.8416\n",
      "Epoch 7/10\n",
      "143/143 [==============================] - 7s 47ms/step - loss: 0.0657 - accuracy: 0.9833 - val_loss: 0.4783 - val_accuracy: 0.8386\n",
      "Epoch 8/10\n",
      "143/143 [==============================] - 7s 47ms/step - loss: 0.0450 - accuracy: 0.9903 - val_loss: 0.5178 - val_accuracy: 0.8355\n",
      "Epoch 9/10\n",
      "143/143 [==============================] - 7s 47ms/step - loss: 0.0304 - accuracy: 0.9937 - val_loss: 0.5501 - val_accuracy: 0.8346\n",
      "Epoch 10/10\n",
      "143/143 [==============================] - 7s 46ms/step - loss: 0.0213 - accuracy: 0.9954 - val_loss: 0.5818 - val_accuracy: 0.8339\n"
     ]
    }
   ],
   "source": [
    "model3.compile(optimizer='adam',\n",
    "              loss='binary_crossentropy',\n",
    "              metrics=['accuracy'])\n",
    "              \n",
    "epochs=10  # 몇 epoch를 훈련하면 좋을지 결과를 보면서 바꾸어 봅시다. \n",
    "\n",
    "history3 = model3.fit(partial_x_train,\n",
    "                    partial_y_train,\n",
    "                    epochs=epochs,\n",
    "                    batch_size=512,\n",
    "                    validation_data=(x_val, y_val),\n",
    "                    verbose=1)"
   ]
  },
  {
   "cell_type": "code",
   "execution_count": 18,
   "metadata": {
    "scrolled": true
   },
   "outputs": [
    {
     "name": "stdout",
     "output_type": "stream",
     "text": [
      "1537/1537 - 2s - loss: 0.5857 - accuracy: 0.8342\n",
      "[0.5857086181640625, 0.8342046737670898]\n"
     ]
    },
    {
     "data": {
      "image/png": "[encoded data removed]",
      "text/plain": [
       "<Figure size 432x288 with 1 Axes>"
      ]
     },
     "metadata": {
      "needs_background": "light"
     },
     "output_type": "display_data"
    },
    {
     "data": {
      "image/png": "[encoded data removed]",
      "text/plain": [
       "<Figure size 432x288 with 1 Axes>"
      ]
     },
     "metadata": {
      "needs_background": "light"
     },
     "output_type": "display_data"
    }
   ],
   "source": [
    "results = model3.evaluate(x_test,  y_test, verbose=2)\n",
    "\n",
    "print(results)\n",
    "\n",
    "history_dict = history3.history\n",
    "draw_chart(history_dict)"
   ]
  },
  {
   "cell_type": "markdown",
   "metadata": {
    "scrolled": true
   },
   "source": [
    "모델 1과 모델 3이 비슷한 수치를 보였다. 그래서 이 둘을 모두 학습에 쓰려고 한다. "
   ]
  },
  {
   "cell_type": "code",
   "execution_count": 82,
   "metadata": {
    "scrolled": true
   },
   "outputs": [],
   "source": [
    "import gensim\n",
    "from gensim.models import Word2Vec\n",
    "import os\n",
    "\n",
    "# 학습한 Embedding 파라미터를 파일에 써서 저장합니다. \n",
    "word2vec_file_path = os.getenv('HOME')+'/aiffel/sentiment_classification/word2vec1.txt'\n",
    "f = open(word2vec_file_path, 'w')\n",
    "f.write('{} {}\\n'.format(vocab_size-4, word_vector_dim))  # 몇개의 벡터를 얼마 사이즈로 기재할지 타이틀을 씁니다.\n",
    "\n",
    "# 단어 개수(에서 특수문자 4개는 제외하고)만큼의 워드 벡터를 파일에 기록합니다. \n",
    "vectors = model1.get_weights()[0]\n",
    "for i in range(4,vocab_size):\n",
    "    f.write('{} {}\\n'.format(index_to_word[i], ' '.join(map(str, list(vectors[i, :])))))\n",
    "f.close()\n",
    "\n",
    "word2vec_file_path = os.getenv('HOME')+'/aiffel/sentiment_classification/word2vec2.txt'\n",
    "f = open(word2vec_file_path, 'w')\n",
    "f.write('{} {}\\n'.format(vocab_size-4, word_vector_dim))  # 몇개의 벡터를 얼마 사이즈로 기재할지 타이틀을 씁니다.\n",
    "\n",
    "# 단어 개수(에서 특수문자 4개는 제외하고)만큼의 워드 벡터를 파일에 기록합니다. \n",
    "vectors = model2.get_weights()[0]\n",
    "for i in range(4,vocab_size):\n",
    "    f.write('{} {}\\n'.format(index_to_word[i], ' '.join(map(str, list(vectors[i, :])))))\n",
    "f.close()\n"
   ]
  },
  {
   "cell_type": "code",
   "execution_count": 19,
   "metadata": {
    "scrolled": true
   },
   "outputs": [
    {
     "name": "stdout",
     "output_type": "stream",
     "text": [
      "Word2Vec(vocab=30185, size=200, alpha=0.025)\n"
     ]
    },
    {
     "name": "stderr",
     "output_type": "stream",
     "text": [
      "/home/aiffel/anaconda3/envs/aiffel/lib/python3.7/site-packages/ipykernel_launcher.py:11: DeprecationWarning: Call to deprecated `__contains__` (Method will be removed in 4.0.0, use self.wv.__contains__() instead).\n",
      "  # This is added back by InteractiveShellApp.init_path()\n",
      "/home/aiffel/anaconda3/envs/aiffel/lib/python3.7/site-packages/ipykernel_launcher.py:12: DeprecationWarning: Call to deprecated `__getitem__` (Method will be removed in 4.0.0, use self.wv.__getitem__() instead).\n",
      "  if sys.path[0] == '':\n"
     ]
    }
   ],
   "source": [
    "\n",
    "ko_emb_model = gensim.models.Word2Vec.load('~/Downloads/ko.bin')\n",
    "print(ko_emb_model)\n",
    "vocab_size = 20000    # 어휘 사전의 크기입니다 => 아까 2만개의 단어장을 생성함\n",
    "word_vector_dim = 200  # 워드 벡터의 차원수 => 깃허브에는 차원이 200이라고 나와있음\n",
    "\n",
    "embedding_matrix = np.random.rand(vocab_size, word_vector_dim)\n",
    "\n",
    "# embedding_matrix에 Word2Vec 워드벡터를 단어 하나씩마다 차례차례 카피한다.\n",
    "for i in range(4,vocab_size):\n",
    "    if index_to_word[i] in ko_emb_model:\n",
    "        embedding_matrix[i] = ko_emb_model[index_to_word[i]]"
   ]
  },
  {
   "cell_type": "code",
   "execution_count": 62,
   "metadata": {
    "scrolled": true
   },
   "outputs": [
    {
     "name": "stdout",
     "output_type": "stream",
     "text": [
      "0.45262784\n",
      "[('젊은이', 0.6494427919387817), ('여인', 0.6287257671356201), ('백성', 0.6063709855079651), ('포졸', 0.6043275594711304), ('죄인', 0.5960500836372375), ('선비', 0.5868039131164551), ('부녀자', 0.5654411315917969), ('죄수', 0.5639811754226685), ('구경꾼', 0.5620019435882568), ('손님', 0.5589559078216553)]\n",
      "[('곤충', 0.7881758213043213), ('생물', 0.7381489276885986), ('포유류', 0.7128771543502808), ('설치류', 0.6948099136352539), ('기생충', 0.6733793616294861), ('진딧물', 0.6730732917785645), ('파충류', 0.6707451343536377), ('영장류', 0.6645059585571289), ('균류', 0.6637319326400757), ('절지', 0.6627507209777832)]\n",
      "0.12902942\n"
     ]
    }
   ],
   "source": [
    "ko_emb_model.wv.vectors.shape\n",
    "print(ko_emb_model.wv.similarity('사람','동물'))\n",
    "print(ko_emb_model.wv.most_similar('사람'))\n",
    "print(ko_emb_model.wv.most_similar('동물'))"
   ]
  },
  {
   "cell_type": "markdown",
   "metadata": {},
   "source": [
    "layer를 평가하려고 아무 단어나 골라서 쳐봤는데 도데체 뭘 학습한 건지 사람의 경우 대명사들이 학습되어있고, 동물은 종류와 종이 뒤섞여 있다. "
   ]
  },
  {
   "cell_type": "code",
   "execution_count": 69,
   "metadata": {},
   "outputs": [
    {
     "name": "stdout",
     "output_type": "stream",
     "text": [
      "0.073823944\n",
      "-0.055526674\n",
      "0.05497939\n",
      "0.03039897\n",
      "[('즐거움', 0.7912124395370483), ('슬픔', 0.7767106294631958), ('아름다움', 0.6815950870513916), ('웃음', 0.6811692714691162), ('괴로움', 0.6798388957977295), ('행운', 0.6609852910041809), ('인생', 0.6571204662322998), ('젊음', 0.6522527933120728), ('영광', 0.6512227654457092), ('행복', 0.6493781805038452)]\n",
      "[('기쁨', 0.7767106294631958), ('절망', 0.7710497379302979), ('아픔', 0.7430999279022217), ('비탄', 0.7297681570053101), ('고독', 0.725147545337677), ('사랑', 0.7216662168502808), ('외로움', 0.7195188999176025), ('추억', 0.6951202750205994), ('이별', 0.6873862743377686), ('괴로움', 0.6854110956192017)]\n"
     ]
    }
   ],
   "source": [
    "print(ko_emb_model.wv.similarity('아주','긍정'))\n",
    "print(ko_emb_model.wv.similarity('아주','부정'))\n",
    "print(ko_emb_model.wv.similarity('너무','긍정'))\n",
    "print(ko_emb_model.wv.similarity('너무','부정'))\n",
    "print(ko_emb_model.wv.most_similar('기쁨'))\n",
    "print(ko_emb_model.wv.most_similar('슬픔'))"
   ]
  },
  {
   "cell_type": "code",
   "execution_count": null,
   "metadata": {},
   "outputs": [],
   "source": [
    "아주와 너무에 대해서는 아주아주 근소한 차이로 긍정으로 여기는 면이 있다. 그리고 기쁨과 슬픔에 대해서는 서로 연관성이 깊다고 나와있다. 아무래도 정 반대 단어를 골라서 그렇게 나온 것 같다. "
   ]
  },
  {
   "cell_type": "code",
   "execution_count": 21,
   "metadata": {
    "scrolled": true
   },
   "outputs": [
    {
     "name": "stdout",
     "output_type": "stream",
     "text": [
      "Model: \"sequential_3\"\n",
      "_________________________________________________________________\n",
      "Layer (type)                 Output Shape              Param #   \n",
      "=================================================================\n",
      "embedding_3 (Embedding)      (None, 41, 200)           4000000   \n",
      "_________________________________________________________________\n",
      "global_max_pooling1d_2 (Glob (None, 200)               0         \n",
      "_________________________________________________________________\n",
      "dense_6 (Dense)              (None, 8)                 1608      \n",
      "_________________________________________________________________\n",
      "dense_7 (Dense)              (None, 1)                 9         \n",
      "=================================================================\n",
      "Total params: 4,001,617\n",
      "Trainable params: 4,001,617\n",
      "Non-trainable params: 0\n",
      "_________________________________________________________________\n"
     ]
    }
   ],
   "source": [
    "from tensorflow.keras.initializers import Constant\n",
    "vocab_size = 20000   \n",
    "word_vector_dim = 200 \n",
    "ko_model = keras.Sequential()\n",
    "ko_model.add(keras.layers.Embedding(vocab_size, \n",
    "                                 word_vector_dim, \n",
    "                                 embeddings_initializer=Constant(embedding_matrix),  # 카피한 임베딩을 여기서 활용\n",
    "                                 input_length=maxlen, \n",
    "                                 trainable=True))   # trainable을 True로 주면 Fine-tuning\n",
    "ko_model.add(keras.layers.GlobalMaxPooling1D())\n",
    "ko_model.add(keras.layers.Dense(8, activation='relu'))\n",
    "ko_model.add(keras.layers.Dense(1, activation='sigmoid'))  # 최종 출력은 긍정/부정을 나타내는 1dim 입니다.\n",
    "\n",
    "ko_model.summary()"
   ]
  },
  {
   "cell_type": "code",
   "execution_count": 22,
   "metadata": {
    "scrolled": false
   },
   "outputs": [
    {
     "name": "stdout",
     "output_type": "stream",
     "text": [
      "Epoch 1/20\n",
      "143/143 [==============================] - 5s 33ms/step - loss: 0.6824 - accuracy: 0.5588 - val_loss: 0.6499 - val_accuracy: 0.6272\n",
      "Epoch 2/20\n",
      "143/143 [==============================] - 4s 31ms/step - loss: 0.5988 - accuracy: 0.6781 - val_loss: 0.5703 - val_accuracy: 0.7039\n",
      "Epoch 3/20\n",
      "143/143 [==============================] - 4s 31ms/step - loss: 0.5313 - accuracy: 0.7361 - val_loss: 0.5228 - val_accuracy: 0.7393\n",
      "Epoch 4/20\n",
      "143/143 [==============================] - 4s 31ms/step - loss: 0.4855 - accuracy: 0.7672 - val_loss: 0.4996 - val_accuracy: 0.7551\n",
      "Epoch 5/20\n",
      "143/143 [==============================] - 5s 32ms/step - loss: 0.4511 - accuracy: 0.7892 - val_loss: 0.4737 - val_accuracy: 0.7732\n",
      "Epoch 6/20\n",
      "143/143 [==============================] - 4s 31ms/step - loss: 0.4220 - accuracy: 0.8064 - val_loss: 0.4735 - val_accuracy: 0.7708\n",
      "Epoch 7/20\n",
      "143/143 [==============================] - 4s 30ms/step - loss: 0.3974 - accuracy: 0.8220 - val_loss: 0.4494 - val_accuracy: 0.7889\n",
      "Epoch 8/20\n",
      "143/143 [==============================] - 4s 31ms/step - loss: 0.3761 - accuracy: 0.8339 - val_loss: 0.4415 - val_accuracy: 0.7943\n",
      "Epoch 9/20\n",
      "143/143 [==============================] - 4s 30ms/step - loss: 0.3571 - accuracy: 0.8449 - val_loss: 0.4460 - val_accuracy: 0.7941\n",
      "Epoch 10/20\n",
      "143/143 [==============================] - 4s 31ms/step - loss: 0.3398 - accuracy: 0.8554 - val_loss: 0.4320 - val_accuracy: 0.8025\n",
      "Epoch 11/20\n",
      "143/143 [==============================] - 4s 30ms/step - loss: 0.3218 - accuracy: 0.8637 - val_loss: 0.4331 - val_accuracy: 0.8042\n",
      "Epoch 12/20\n",
      "143/143 [==============================] - 4s 31ms/step - loss: 0.3074 - accuracy: 0.8720 - val_loss: 0.4285 - val_accuracy: 0.8067\n",
      "Epoch 13/20\n",
      "143/143 [==============================] - 4s 31ms/step - loss: 0.2930 - accuracy: 0.8792 - val_loss: 0.4281 - val_accuracy: 0.8088\n",
      "Epoch 14/20\n",
      "143/143 [==============================] - 4s 31ms/step - loss: 0.2791 - accuracy: 0.8873 - val_loss: 0.4373 - val_accuracy: 0.8071\n",
      "Epoch 15/20\n",
      "143/143 [==============================] - 4s 30ms/step - loss: 0.2670 - accuracy: 0.8925 - val_loss: 0.4331 - val_accuracy: 0.8101\n",
      "Epoch 16/20\n",
      "143/143 [==============================] - 4s 31ms/step - loss: 0.2544 - accuracy: 0.8993 - val_loss: 0.4331 - val_accuracy: 0.8112\n",
      "Epoch 17/20\n",
      "143/143 [==============================] - 4s 30ms/step - loss: 0.2419 - accuracy: 0.9055 - val_loss: 0.4357 - val_accuracy: 0.8119\n",
      "Epoch 18/20\n",
      "143/143 [==============================] - 4s 31ms/step - loss: 0.2309 - accuracy: 0.9101 - val_loss: 0.4397 - val_accuracy: 0.8125\n",
      "Epoch 19/20\n",
      "143/143 [==============================] - 4s 30ms/step - loss: 0.2202 - accuracy: 0.9158 - val_loss: 0.4479 - val_accuracy: 0.8113\n",
      "Epoch 20/20\n",
      "143/143 [==============================] - 4s 31ms/step - loss: 0.2101 - accuracy: 0.9207 - val_loss: 0.4521 - val_accuracy: 0.8116\n",
      "1537/1537 - 2s - loss: 0.4465 - accuracy: 0.8121\n",
      "[0.446537047624588, 0.8120715022087097]\n"
     ]
    },
    {
     "data": {
      "image/png": "[encoded data removed]",
      "text/plain": [
       "<Figure size 432x288 with 1 Axes>"
      ]
     },
     "metadata": {
      "needs_background": "light"
     },
     "output_type": "display_data"
    },
    {
     "data": {
      "image/png": "[encoded data removed]",
      "text/plain": [
       "<Figure size 432x288 with 1 Axes>"
      ]
     },
     "metadata": {
      "needs_background": "light"
     },
     "output_type": "display_data"
    }
   ],
   "source": [
    "ko_model.compile(optimizer='adam',\n",
    "              loss='binary_crossentropy',\n",
    "              metrics=['accuracy'])\n",
    "              \n",
    "epochs=20  # 몇 epoch를 훈련하면 좋을지 결과를 보면서 바꾸어 봅시다. \n",
    "\n",
    "ko_history = ko_model.fit(partial_x_train,\n",
    "                    partial_y_train,\n",
    "                    epochs=epochs,\n",
    "                    batch_size=512,\n",
    "                    validation_data=(x_val, y_val),\n",
    "                    verbose=1)\n",
    "results = ko_model.evaluate(x_test,  y_test, verbose=2)\n",
    "\n",
    "print(results)\n",
    "\n",
    "history_dict = ko_history.history\n",
    "\n",
    "draw_chart(history_dict)"
   ]
  },
  {
   "cell_type": "markdown",
   "metadata": {},
   "source": [
    "학습은 모델 3을 가지고 진행했다. 15회 학습 전후에서 validation의 loss값이 증가하는 것을 볼 수 있다. 정확도는 0.81"
   ]
  },
  {
   "cell_type": "code",
   "execution_count": 23,
   "metadata": {},
   "outputs": [
    {
     "name": "stdout",
     "output_type": "stream",
     "text": [
      "Word2Vec(vocab=358043, size=100, alpha=0.025)\n"
     ]
    }
   ],
   "source": [
    "ko_emb_model2 = gensim.models.Word2Vec.load('/home/aiffel/Downloads/word-embeddings/word2vec/word2vec')\n",
    "print(ko_emb_model2)"
   ]
  },
  {
   "cell_type": "markdown",
   "metadata": {},
   "source": [
    "해당 임베딩은 `https://ratsgo.github.io/embedding/` 에서 가져온 것이다. 미리 형태소 분석에 학습까지 마친 데이터이다. 담고 있는 데이터는 한국어 위키백과 + 한국어 위키백과를 바탕으로 질의문답을 던진 그 결과이다.(출처 : `https://www.slideshare.net/LGCNSairesearch/korquad-v20?ref=https://www.slideshare.net/LGCNSairesearch/slideshelf`) 크기가 35만에 달한다. 차원수는 100. "
   ]
  },
  {
   "cell_type": "code",
   "execution_count": 63,
   "metadata": {},
   "outputs": [
    {
     "name": "stdout",
     "output_type": "stream",
     "text": [
      "0.42152\n",
      "[('것', 0.7147731781005859), ('년놈', 0.6873180866241455), ('자', 0.6854001879692078), ('인물', 0.6784037351608276), ('놈', 0.6638504266738892), ('볼까봐', 0.6515195369720459), ('추율', 0.6507209539413452), ('건', 0.6464706659317017), ('모리배', 0.6451746225357056), ('해줘도', 0.6447634696960449)]\n",
      "[('곤충', 0.7645733952522278), ('애완', 0.7520819902420044), ('침팬지', 0.7501280307769775), ('애완곤충', 0.7449706792831421), ('고양이', 0.7405434250831604), ('유선형동물', 0.7384648323059082), ('야생', 0.7299400568008423), ('무척추', 0.7217742204666138), ('생물', 0.7212396860122681), ('고양잇과', 0.7208222150802612)]\n"
     ]
    }
   ],
   "source": [
    "print(ko_emb_model2.wv.similarity('사람','동물'))\n",
    "print(ko_emb_model2.wv.most_similar('사람'))\n",
    "print(ko_emb_model2.wv.most_similar('동물'))"
   ]
  },
  {
   "cell_type": "markdown",
   "metadata": {},
   "source": [
    "위의 임베딩을 테스트하려고 똑같은 단어를 넣었더니 아주 다른 결과가 나왔다. 해당 임베딩의 출처로 미뤄보아 질의응답의 결과에 따라 임베딩의 결과가 많이 영향을 받았음을 알 수 있다. "
   ]
  },
  {
   "cell_type": "code",
   "execution_count": 67,
   "metadata": {},
   "outputs": [
    {
     "name": "stdout",
     "output_type": "stream",
     "text": [
      "0.39502907\n",
      "0.33241543\n",
      "0.5081686\n",
      "0.3687183\n",
      "[('즐거움', 0.8311127424240112), ('희열', 0.7585986852645874), ('슬픔', 0.7448212504386902), ('행복', 0.7309410572052002), ('소망', 0.7156158685684204), ('마음', 0.713006854057312), ('삶', 0.7120159864425659), ('희노애락', 0.7119839191436768), ('아픔', 0.7082540988922119), ('해방감', 0.7070746421813965)]\n",
      "[('외로움', 0.8247721195220947), ('아픔', 0.806294322013855), ('슬픈', 0.80266273021698), ('그리움', 0.7921730279922485), ('마음', 0.778411865234375), ('서글픈', 0.7769325971603394), ('쓸쓸', 0.762446939945221), ('상실감', 0.7595953345298767), ('눈물', 0.7561120986938477), ('절망감', 0.7485480904579163)]\n"
     ]
    }
   ],
   "source": [
    "print(ko_emb_model2.wv.similarity('아주','긍정'))\n",
    "print(ko_emb_model2.wv.similarity('아주','부정'))\n",
    "print(ko_emb_model2.wv.similarity('너무','긍정'))\n",
    "print(ko_emb_model2.wv.similarity('너무','부정'))\n",
    "print(ko_emb_model2.wv.most_similar('기쁨'))\n",
    "print(ko_emb_model2.wv.most_similar('슬픔'))"
   ]
  },
  {
   "cell_type": "markdown",
   "metadata": {},
   "source": [
    "이번에는 감정에 대해서 테스트해봤다. 앞에 붙는 부사로 테스트해보았는데, 아주와 너무를 둘다 긍정으로 판단하는 경향이 있다. \n",
    "그리고 기쁨과 그 반대인 슬픔을 테스트해 봤는데, 기쁨에 슬픔이 0.74로 매우 가깝게 나와서 의외이다. 혹시 학습한 데이터가 한국인의 한에 대한 문서인가. "
   ]
  },
  {
   "cell_type": "code",
   "execution_count": 24,
   "metadata": {},
   "outputs": [
    {
     "name": "stderr",
     "output_type": "stream",
     "text": [
      "/home/aiffel/anaconda3/envs/aiffel/lib/python3.7/site-packages/ipykernel_launcher.py:8: DeprecationWarning: Call to deprecated `__contains__` (Method will be removed in 4.0.0, use self.wv.__contains__() instead).\n",
      "  \n",
      "/home/aiffel/anaconda3/envs/aiffel/lib/python3.7/site-packages/ipykernel_launcher.py:9: DeprecationWarning: Call to deprecated `__getitem__` (Method will be removed in 4.0.0, use self.wv.__getitem__() instead).\n",
      "  if __name__ == '__main__':\n"
     ]
    }
   ],
   "source": [
    "vocab_size = 20000    # 어휘 사전의 크기입니다(10,000개의 단어)\n",
    "word_vector_dim = 100  # 워드 벡터의 차원수 => 깃허브에는 차원이 200이라고 나와있음\n",
    "\n",
    "embedding_matrix = np.random.rand(vocab_size, word_vector_dim)\n",
    "\n",
    "# embedding_matrix에 Word2Vec 워드벡터를 단어 하나씩마다 차례차례 카피한다.\n",
    "for i in range(4,vocab_size):\n",
    "    if index_to_word[i] in ko_emb_model2:\n",
    "        embedding_matrix[i] = ko_emb_model2[index_to_word[i]]"
   ]
  },
  {
   "cell_type": "code",
   "execution_count": 25,
   "metadata": {},
   "outputs": [
    {
     "name": "stdout",
     "output_type": "stream",
     "text": [
      "Model: \"sequential_4\"\n",
      "_________________________________________________________________\n",
      "Layer (type)                 Output Shape              Param #   \n",
      "=================================================================\n",
      "embedding_4 (Embedding)      (None, 41, 100)           2000000   \n",
      "_________________________________________________________________\n",
      "global_max_pooling1d_3 (Glob (None, 100)               0         \n",
      "_________________________________________________________________\n",
      "dense_8 (Dense)              (None, 8)                 808       \n",
      "_________________________________________________________________\n",
      "dense_9 (Dense)              (None, 1)                 9         \n",
      "=================================================================\n",
      "Total params: 2,000,817\n",
      "Trainable params: 2,000,817\n",
      "Non-trainable params: 0\n",
      "_________________________________________________________________\n",
      "Epoch 1/20\n",
      "143/143 [==============================] - 2s 16ms/step - loss: 0.6644 - accuracy: 0.6219 - val_loss: 0.6115 - val_accuracy: 0.7287\n",
      "Epoch 2/20\n",
      "143/143 [==============================] - 2s 16ms/step - loss: 0.5269 - accuracy: 0.7732 - val_loss: 0.4664 - val_accuracy: 0.7914\n",
      "Epoch 3/20\n",
      "143/143 [==============================] - 2s 17ms/step - loss: 0.4096 - accuracy: 0.8222 - val_loss: 0.4139 - val_accuracy: 0.8101\n",
      "Epoch 4/20\n",
      "143/143 [==============================] - 2s 16ms/step - loss: 0.3570 - accuracy: 0.8463 - val_loss: 0.3893 - val_accuracy: 0.8251\n",
      "Epoch 5/20\n",
      "143/143 [==============================] - 2s 16ms/step - loss: 0.3252 - accuracy: 0.8634 - val_loss: 0.3805 - val_accuracy: 0.8303\n",
      "Epoch 6/20\n",
      "143/143 [==============================] - 2s 16ms/step - loss: 0.3018 - accuracy: 0.8755 - val_loss: 0.3774 - val_accuracy: 0.8314\n",
      "Epoch 7/20\n",
      "143/143 [==============================] - 2s 16ms/step - loss: 0.2804 - accuracy: 0.8859 - val_loss: 0.3743 - val_accuracy: 0.8350\n",
      "Epoch 8/20\n",
      "143/143 [==============================] - 2s 16ms/step - loss: 0.2618 - accuracy: 0.8965 - val_loss: 0.3748 - val_accuracy: 0.8372\n",
      "Epoch 9/20\n",
      "143/143 [==============================] - 2s 16ms/step - loss: 0.2447 - accuracy: 0.9042 - val_loss: 0.3779 - val_accuracy: 0.8368\n",
      "Epoch 10/20\n",
      "143/143 [==============================] - 2s 16ms/step - loss: 0.2286 - accuracy: 0.9118 - val_loss: 0.3821 - val_accuracy: 0.8371\n",
      "Epoch 11/20\n",
      "143/143 [==============================] - 2s 16ms/step - loss: 0.2139 - accuracy: 0.9191 - val_loss: 0.3908 - val_accuracy: 0.8353\n",
      "Epoch 12/20\n",
      "143/143 [==============================] - 2s 16ms/step - loss: 0.2001 - accuracy: 0.9259 - val_loss: 0.3959 - val_accuracy: 0.8357\n",
      "Epoch 13/20\n",
      "143/143 [==============================] - 2s 16ms/step - loss: 0.1863 - accuracy: 0.9327 - val_loss: 0.4045 - val_accuracy: 0.8353\n",
      "Epoch 14/20\n",
      "143/143 [==============================] - 2s 16ms/step - loss: 0.1737 - accuracy: 0.9382 - val_loss: 0.4139 - val_accuracy: 0.8342\n",
      "Epoch 15/20\n",
      "143/143 [==============================] - 2s 16ms/step - loss: 0.1616 - accuracy: 0.9433 - val_loss: 0.4274 - val_accuracy: 0.8327\n",
      "Epoch 16/20\n",
      "143/143 [==============================] - 3s 18ms/step - loss: 0.1509 - accuracy: 0.9480 - val_loss: 0.4360 - val_accuracy: 0.8313\n",
      "Epoch 17/20\n",
      "143/143 [==============================] - 2s 17ms/step - loss: 0.1402 - accuracy: 0.9526 - val_loss: 0.4515 - val_accuracy: 0.8302\n",
      "Epoch 18/20\n",
      "143/143 [==============================] - 2s 16ms/step - loss: 0.1307 - accuracy: 0.9568 - val_loss: 0.4614 - val_accuracy: 0.8293\n",
      "Epoch 19/20\n",
      "143/143 [==============================] - 2s 16ms/step - loss: 0.1214 - accuracy: 0.9613 - val_loss: 0.4785 - val_accuracy: 0.8281\n",
      "Epoch 20/20\n",
      "143/143 [==============================] - 2s 16ms/step - loss: 0.1132 - accuracy: 0.9639 - val_loss: 0.4914 - val_accuracy: 0.8250\n",
      "1537/1537 - 1s - loss: 0.4783 - accuracy: 0.8281\n",
      "[0.4782693684101105, 0.8281018137931824]\n"
     ]
    },
    {
     "data": {
      "image/png": "[encoded data removed]",
      "text/plain": [
       "<Figure size 432x288 with 1 Axes>"
      ]
     },
     "metadata": {
      "needs_background": "light"
     },
     "output_type": "display_data"
    },
    {
     "data": {
      "image/png": "[encoded data removed]",
      "text/plain": [
       "<Figure size 432x288 with 1 Axes>"
      ]
     },
     "metadata": {
      "needs_background": "light"
     },
     "output_type": "display_data"
    }
   ],
   "source": [
    "vocab_size = 20000    # 어휘 사전의 크기입니다(10,000개의 단어)\n",
    "word_vector_dim = 100  # 워드 벡터의 차원수\n",
    "ko_model2 = keras.Sequential()\n",
    "ko_model2.add(keras.layers.Embedding(vocab_size, \n",
    "                                 word_vector_dim, \n",
    "                                 embeddings_initializer=Constant(embedding_matrix),  # 카피한 임베딩을 여기서 활용\n",
    "                                 input_length=maxlen, \n",
    "                                 trainable=True))   # trainable을 True로 주면 Fine-tuning\n",
    "ko_model2.add(keras.layers.GlobalMaxPooling1D())\n",
    "ko_model2.add(keras.layers.Dense(8, activation='relu'))\n",
    "ko_model2.add(keras.layers.Dense(1, activation='sigmoid'))  # 최종 출력은 긍정/부정을 나타내는 1dim 입니다.\n",
    "\n",
    "ko_model2.summary()\n",
    "\n",
    "ko_model2.compile(optimizer='adam',\n",
    "              loss='binary_crossentropy',\n",
    "              metrics=['accuracy'])\n",
    "              \n",
    "epochs=20  # 몇 epoch를 훈련하면 좋을지 결과를 보면서 바꾸어 봅시다. \n",
    "\n",
    "ko_history = ko_model2.fit(partial_x_train,\n",
    "                    partial_y_train,\n",
    "                    epochs=epochs,\n",
    "                    batch_size=512,\n",
    "                    validation_data=(x_val, y_val),\n",
    "                    verbose=1)\n",
    "results = ko_model2.evaluate(x_test,  y_test, verbose=2)\n",
    "\n",
    "print(results)\n",
    "\n",
    "history_dict = ko_history.history\n",
    "\n",
    "draw_chart(history_dict)"
   ]
  },
  {
   "cell_type": "markdown",
   "metadata": {},
   "source": [
    "모델 3번을 가지고 다시 실험했다. 정확도는 0.82"
   ]
  },
  {
   "cell_type": "markdown",
   "metadata": {},
   "source": [
    "이번에는 모델 1번을 가지고 학습했다. "
   ]
  },
  {
   "cell_type": "code",
   "execution_count": 27,
   "metadata": {
    "scrolled": true
   },
   "outputs": [
    {
     "name": "stdout",
     "output_type": "stream",
     "text": [
      "Model: \"sequential_6\"\n",
      "_________________________________________________________________\n",
      "Layer (type)                 Output Shape              Param #   \n",
      "=================================================================\n",
      "embedding_6 (Embedding)      (None, 41, 100)           2000000   \n",
      "_________________________________________________________________\n",
      "lstm_2 (LSTM)                (None, 8)                 3488      \n",
      "_________________________________________________________________\n",
      "dense_12 (Dense)             (None, 8)                 72        \n",
      "_________________________________________________________________\n",
      "dense_13 (Dense)             (None, 1)                 9         \n",
      "=================================================================\n",
      "Total params: 2,003,569\n",
      "Trainable params: 2,003,569\n",
      "Non-trainable params: 0\n",
      "_________________________________________________________________\n",
      "Epoch 1/5\n",
      "143/143 [==============================] - 3s 19ms/step - loss: 0.5276 - accuracy: 0.7423 - val_loss: 0.4086 - val_accuracy: 0.8183\n",
      "Epoch 2/5\n",
      "143/143 [==============================] - 3s 18ms/step - loss: 0.3562 - accuracy: 0.8490 - val_loss: 0.3668 - val_accuracy: 0.8386\n",
      "Epoch 3/5\n",
      "143/143 [==============================] - 3s 18ms/step - loss: 0.3041 - accuracy: 0.8762 - val_loss: 0.3650 - val_accuracy: 0.8408\n",
      "Epoch 4/5\n",
      "143/143 [==============================] - 3s 18ms/step - loss: 0.2710 - accuracy: 0.8918 - val_loss: 0.3722 - val_accuracy: 0.8412\n",
      "Epoch 5/5\n",
      "143/143 [==============================] - 3s 18ms/step - loss: 0.2471 - accuracy: 0.9035 - val_loss: 0.3950 - val_accuracy: 0.8377\n",
      "1537/1537 - 2s - loss: 0.3943 - accuracy: 0.8393\n",
      "[0.3943155109882355, 0.83929044008255]\n"
     ]
    },
    {
     "data": {
      "image/png": "[encoded data removed]",
      "text/plain": [
       "<Figure size 432x288 with 1 Axes>"
      ]
     },
     "metadata": {
      "needs_background": "light"
     },
     "output_type": "display_data"
    },
    {
     "data": {
      "image/png": "[encoded data removed]",
      "text/plain": [
       "<Figure size 432x288 with 1 Axes>"
      ]
     },
     "metadata": {
      "needs_background": "light"
     },
     "output_type": "display_data"
    }
   ],
   "source": [
    "vocab_size = 20000    # 어휘 사전의 크기입니다(10,000개의 단어)\n",
    "word_vector_dim = 100  # 워드 벡터의 차원수 (변경가능한 하이퍼파라미터)\n",
    "\n",
    "# model 설계 - 딥러닝 모델 코드를 직접 작성해 주세요.\n",
    "ko_model3 = keras.Sequential()\n",
    "\n",
    "ko_model3.add(keras.layers.Embedding(vocab_size, \n",
    "                                 word_vector_dim, \n",
    "                                 embeddings_initializer=Constant(embedding_matrix),  # 카피한 임베딩을 여기서 활용\n",
    "                                 input_length=maxlen, \n",
    "                                 trainable=True)) \n",
    "ko_model3.add(keras.layers.LSTM(8))   # 가장 널리 쓰이는 RNN인 LSTM 레이어를 사용하였습니다. 이때 LSTM state 벡터의 차원수는 8로 하였습니다. (변경가능)\n",
    "ko_model3.add(keras.layers.Dense(8, activation='relu'))\n",
    "ko_model3.add(keras.layers.Dense(1, activation='sigmoid'))  # 최종 출력은 긍정/부정을 나타내는 1dim 입니다.\n",
    "\n",
    "ko_model3.summary()\n",
    "\n",
    "ko_model3.compile(optimizer='adam',\n",
    "              loss='binary_crossentropy',\n",
    "              metrics=['accuracy'])\n",
    "              \n",
    "epochs=5  # 몇 epoch를 훈련하면 좋을지 결과를 보면서 바꾸어 봅시다. \n",
    "\n",
    "ko_history = ko_model3.fit(partial_x_train,\n",
    "                    partial_y_train,\n",
    "                    epochs=epochs,\n",
    "                    batch_size=512,\n",
    "                    validation_data=(x_val, y_val),\n",
    "                    verbose=1)\n",
    "results = ko_model3.evaluate(x_test,  y_test, verbose=2)\n",
    "\n",
    "print(results)\n",
    "\n",
    "history_dict = ko_history.history\n",
    "\n",
    "draw_chart(history_dict)"
   ]
  },
  {
   "cell_type": "markdown",
   "metadata": {},
   "source": [
    "모델 1번은 정확도 0.83을 보여주었다. 그런데 초반에 validation에서 정확도가 가파르게 오르다가 어느 시점에서 정확도가 낮아지는 것을 볼 수 있다. 그렇다면 gradient descent가 너무 급격하게 이루어 진 것은 아닐까? 그래서 optimization을 바꿔보았다. adam은 adam인데 제일 최근에 구현된 Nadam을 골라보았고(출처 : `http://blog.naver.com/PostView.nhn?blogId=dnjswns2280&logNo=221904217282&parentCategoryNo=&categoryNo=7&viewDate=&isShowPopularPosts=true&from=search`), 그리고 callback함수를 통해서 best 모델을 잡아낼 수 있게 만들었다. 3회정도 loss에 변화가 일어날 때 학습을 중단하도록 만들었다."
   ]
  },
  {
   "cell_type": "code",
   "execution_count": 37,
   "metadata": {
    "scrolled": true
   },
   "outputs": [
    {
     "name": "stdout",
     "output_type": "stream",
     "text": [
      "Model: \"sequential_16\"\n",
      "_________________________________________________________________\n",
      "Layer (type)                 Output Shape              Param #   \n",
      "=================================================================\n",
      "embedding_16 (Embedding)     (None, 41, 100)           2000000   \n",
      "_________________________________________________________________\n",
      "lstm_9 (LSTM)                (None, 8)                 3488      \n",
      "_________________________________________________________________\n",
      "dense_32 (Dense)             (None, 8)                 72        \n",
      "_________________________________________________________________\n",
      "dense_33 (Dense)             (None, 1)                 9         \n",
      "=================================================================\n",
      "Total params: 2,003,569\n",
      "Trainable params: 2,003,569\n",
      "Non-trainable params: 0\n",
      "_________________________________________________________________\n",
      "Epoch 1/10\n",
      "143/143 [==============================] - ETA: 0s - loss: 0.5219 - accuracy: 0.7379WARNING:tensorflow:Can save best model only with val_acc available, skipping.\n",
      "143/143 [==============================] - 2s 16ms/step - loss: 0.5219 - accuracy: 0.7379 - val_loss: 0.4054 - val_accuracy: 0.8221\n",
      "Epoch 2/10\n",
      "140/143 [============================>.] - ETA: 0s - loss: 0.3650 - accuracy: 0.8443WARNING:tensorflow:Can save best model only with val_acc available, skipping.\n",
      "143/143 [==============================] - 2s 15ms/step - loss: 0.3646 - accuracy: 0.8445 - val_loss: 0.3780 - val_accuracy: 0.8357\n",
      "Epoch 3/10\n",
      "142/143 [============================>.] - ETA: 0s - loss: 0.3213 - accuracy: 0.8669WARNING:tensorflow:Can save best model only with val_acc available, skipping.\n",
      "143/143 [==============================] - 2s 15ms/step - loss: 0.3211 - accuracy: 0.8670 - val_loss: 0.3618 - val_accuracy: 0.8433\n",
      "Epoch 4/10\n",
      "142/143 [============================>.] - ETA: 0s - loss: 0.2937 - accuracy: 0.8806WARNING:tensorflow:Can save best model only with val_acc available, skipping.\n",
      "143/143 [==============================] - 2s 15ms/step - loss: 0.2934 - accuracy: 0.8807 - val_loss: 0.3618 - val_accuracy: 0.8431\n",
      "Epoch 5/10\n",
      "142/143 [============================>.] - ETA: 0s - loss: 0.2691 - accuracy: 0.8936WARNING:tensorflow:Can save best model only with val_acc available, skipping.\n",
      "143/143 [==============================] - 2s 15ms/step - loss: 0.2692 - accuracy: 0.8935 - val_loss: 0.3717 - val_accuracy: 0.8436\n",
      "Epoch 6/10\n",
      "141/143 [============================>.] - ETA: 0s - loss: 0.2459 - accuracy: 0.9041WARNING:tensorflow:Can save best model only with val_acc available, skipping.\n",
      "143/143 [==============================] - 2s 15ms/step - loss: 0.2461 - accuracy: 0.9040 - val_loss: 0.3747 - val_accuracy: 0.8429\n",
      "Epoch 00006: early stopping\n",
      "1537/1537 - 2s - loss: 0.3752 - accuracy: 0.8438\n",
      "[0.37522998452186584, 0.8438472747802734]\n"
     ]
    },
    {
     "data": {
      "image/png": "[encoded data removed]",
      "text/plain": [
       "<Figure size 432x288 with 1 Axes>"
      ]
     },
     "metadata": {
      "needs_background": "light"
     },
     "output_type": "display_data"
    },
    {
     "data": {
      "image/png": "[encoded data removed]",
      "text/plain": [
       "<Figure size 432x288 with 1 Axes>"
      ]
     },
     "metadata": {
      "needs_background": "light"
     },
     "output_type": "display_data"
    }
   ],
   "source": [
    "vocab_size = 20000    # 어휘 사전의 크기입니다(10,000개의 단어)\n",
    "word_vector_dim = 100  # 워드 벡터의 차원수 (변경가능한 하이퍼파라미터)\n",
    "from tensorflow.keras.callbacks import EarlyStopping, ModelCheckpoint\n",
    "# model 설계 - 딥러닝 모델 코드를 직접 작성해 주세요.\n",
    "ko_model4 = keras.Sequential()\n",
    "\n",
    "ko_model4.add(keras.layers.Embedding(vocab_size, \n",
    "                                 word_vector_dim, \n",
    "                                 embeddings_initializer=Constant(embedding_matrix),  # 카피한 임베딩을 여기서 활용\n",
    "                                 input_length=maxlen, \n",
    "                                 trainable=True)) \n",
    "ko_model4.add(keras.layers.LSTM(8))   # 가장 널리 쓰이는 RNN인 LSTM 레이어를 사용하였습니다. 이때 LSTM state 벡터의 차원수는 8로 하였습니다. (변경가능)\n",
    "ko_model4.add(keras.layers.Dense(8, activation='relu'))\n",
    "ko_model4.add(keras.layers.Dense(1, activation='sigmoid'))  # 최종 출력은 긍정/부정을 나타내는 1dim 입니다.\n",
    "\n",
    "ko_model4.summary()\n",
    "\n",
    "es = EarlyStopping(monitor='val_loss', mode='min', verbose=1, patience=3)\n",
    "mc = ModelCheckpoint('best_model.h5', monitor='val_acc', mode='max', verbose=1, save_best_only=True)\n",
    "\n",
    "ko_model4.compile(optimizer='Nadam',\n",
    "              loss='binary_crossentropy',\n",
    "              metrics=['accuracy'])\n",
    "              \n",
    "epochs=10  # 몇 epoch를 훈련하면 좋을지 결과를 보면서 바꾸어 봅시다. \n",
    "\n",
    "ko_history = ko_model4.fit(partial_x_train,\n",
    "                    partial_y_train,\n",
    "                    epochs=epochs,\n",
    "                    batch_size=512,\n",
    "                    validation_data=(x_val, y_val),\n",
    "                    verbose=1,\n",
    "                    callbacks=[es, mc])\n",
    "results = ko_model4.evaluate(x_test,  y_test, verbose=2)\n",
    "\n",
    "print(results)\n",
    "\n",
    "history_dict = ko_history.history\n",
    "\n",
    "draw_chart(history_dict)"
   ]
  },
  {
   "cell_type": "markdown",
   "metadata": {},
   "source": [
    "결과는 0.84로 더 올랐다. 그렇다면 RNN의 vector 차원을 늘려볼까. 시험삼아서 2배씩 늘려보았다."
   ]
  },
  {
   "cell_type": "code",
   "execution_count": 42,
   "metadata": {
    "scrolled": true
   },
   "outputs": [
    {
     "name": "stdout",
     "output_type": "stream",
     "text": [
      "Model: \"sequential_21\"\n",
      "_________________________________________________________________\n",
      "Layer (type)                 Output Shape              Param #   \n",
      "=================================================================\n",
      "embedding_21 (Embedding)     (None, 41, 100)           2000000   \n",
      "_________________________________________________________________\n",
      "lstm_14 (LSTM)               (None, 256)               365568    \n",
      "_________________________________________________________________\n",
      "dense_42 (Dense)             (None, 8)                 2056      \n",
      "_________________________________________________________________\n",
      "dense_43 (Dense)             (None, 1)                 9         \n",
      "=================================================================\n",
      "Total params: 2,367,633\n",
      "Trainable params: 2,367,633\n",
      "Non-trainable params: 0\n",
      "_________________________________________________________________\n",
      "Epoch 1/10\n",
      "141/143 [============================>.] - ETA: 0s - loss: 0.5070 - accuracy: 0.7520WARNING:tensorflow:Can save best model only with val_acc available, skipping.\n",
      "143/143 [==============================] - 4s 30ms/step - loss: 0.5055 - accuracy: 0.7529 - val_loss: 0.3948 - val_accuracy: 0.8253\n",
      "Epoch 2/10\n",
      "142/143 [============================>.] - ETA: 0s - loss: 0.3635 - accuracy: 0.8422WARNING:tensorflow:Can save best model only with val_acc available, skipping.\n",
      "143/143 [==============================] - 4s 28ms/step - loss: 0.3634 - accuracy: 0.8422 - val_loss: 0.3642 - val_accuracy: 0.8399\n",
      "Epoch 3/10\n",
      "142/143 [============================>.] - ETA: 0s - loss: 0.3198 - accuracy: 0.8651WARNING:tensorflow:Can save best model only with val_acc available, skipping.\n",
      "143/143 [==============================] - 4s 29ms/step - loss: 0.3201 - accuracy: 0.8649 - val_loss: 0.3455 - val_accuracy: 0.8478\n",
      "Epoch 4/10\n",
      "141/143 [============================>.] - ETA: 0s - loss: 0.2928 - accuracy: 0.8783WARNING:tensorflow:Can save best model only with val_acc available, skipping.\n",
      "143/143 [==============================] - 4s 29ms/step - loss: 0.2925 - accuracy: 0.8784 - val_loss: 0.3404 - val_accuracy: 0.8525\n",
      "Epoch 5/10\n",
      "142/143 [============================>.] - ETA: 0s - loss: 0.2665 - accuracy: 0.8915WARNING:tensorflow:Can save best model only with val_acc available, skipping.\n",
      "143/143 [==============================] - 4s 29ms/step - loss: 0.2664 - accuracy: 0.8915 - val_loss: 0.3317 - val_accuracy: 0.8562\n",
      "Epoch 6/10\n",
      "142/143 [============================>.] - ETA: 0s - loss: 0.2410 - accuracy: 0.9029WARNING:tensorflow:Can save best model only with val_acc available, skipping.\n",
      "143/143 [==============================] - 4s 29ms/step - loss: 0.2409 - accuracy: 0.9029 - val_loss: 0.3392 - val_accuracy: 0.8563\n",
      "Epoch 7/10\n",
      "142/143 [============================>.] - ETA: 0s - loss: 0.2191 - accuracy: 0.9136WARNING:tensorflow:Can save best model only with val_acc available, skipping.\n",
      "143/143 [==============================] - 4s 28ms/step - loss: 0.2194 - accuracy: 0.9135 - val_loss: 0.3414 - val_accuracy: 0.8542\n",
      "Epoch 8/10\n",
      "143/143 [==============================] - ETA: 0s - loss: 0.1975 - accuracy: 0.9237WARNING:tensorflow:Can save best model only with val_acc available, skipping.\n",
      "143/143 [==============================] - 4s 28ms/step - loss: 0.1975 - accuracy: 0.9237 - val_loss: 0.3802 - val_accuracy: 0.8545\n",
      "Epoch 00008: early stopping\n",
      "1537/1537 - 3s - loss: 0.3851 - accuracy: 0.8526\n",
      "[0.3851078450679779, 0.8526354432106018]\n"
     ]
    },
    {
     "data": {
      "image/png": "[encoded data removed]",
      "text/plain": [
       "<Figure size 432x288 with 1 Axes>"
      ]
     },
     "metadata": {
      "needs_background": "light"
     },
     "output_type": "display_data"
    },
    {
     "data": {
      "image/png": "[encoded data removed]",
      "text/plain": [
       "<Figure size 432x288 with 1 Axes>"
      ]
     },
     "metadata": {
      "needs_background": "light"
     },
     "output_type": "display_data"
    }
   ],
   "source": [
    "vocab_size = 20000    # 어휘 사전의 크기입니다(10,000개의 단어)\n",
    "word_vector_dim = 100  # 워드 벡터의 차원수 (변경가능한 하이퍼파라미터)\n",
    "from tensorflow.keras.callbacks import EarlyStopping, ModelCheckpoint\n",
    "# model 설계 - 딥러닝 모델 코드를 직접 작성해 주세요.\n",
    "ko_model5 = keras.Sequential()\n",
    "\n",
    "ko_model5.add(keras.layers.Embedding(vocab_size, \n",
    "                                 word_vector_dim, \n",
    "                                 embeddings_initializer=Constant(embedding_matrix),  # 카피한 임베딩을 여기서 활용\n",
    "                                 input_length=maxlen, \n",
    "                                 trainable=True)) \n",
    "ko_model5.add(keras.layers.LSTM(256))   # 가장 널리 쓰이는 RNN인 LSTM 레이어를 사용하였습니다. 이때 LSTM state 벡터의 차원수는 8로 하였습니다. (변경가능)\n",
    "ko_model5.add(keras.layers.Dense(8, activation='relu'))\n",
    "ko_model5.add(keras.layers.Dense(1, activation='sigmoid'))  # 최종 출력은 긍정/부정을 나타내는 1dim 입니다.\n",
    "\n",
    "ko_model5.summary()\n",
    "\n",
    "es = EarlyStopping(monitor='val_loss', mode='min', verbose=1, patience=3)\n",
    "mc = ModelCheckpoint('best_model.h5', monitor='val_acc', mode='max', verbose=1, save_best_only=True)\n",
    "\n",
    "ko_model5.compile(optimizer='Nadam',\n",
    "              loss='binary_crossentropy',\n",
    "              metrics=['accuracy'])\n",
    "              \n",
    "epochs=10  # 몇 epoch를 훈련하면 좋을지 결과를 보면서 바꾸어 봅시다. \n",
    "\n",
    "ko_history = ko_model5.fit(partial_x_train,\n",
    "                    partial_y_train,\n",
    "                    epochs=epochs,\n",
    "                    batch_size=512,\n",
    "                    validation_data=(x_val, y_val),\n",
    "                    verbose=1,\n",
    "                    callbacks=[es, mc])\n",
    "results = ko_model5.evaluate(x_test,  y_test, verbose=2)\n",
    "\n",
    "print(results)\n",
    "\n",
    "history_dict = ko_history.history\n",
    "\n",
    "draw_chart(history_dict)"
   ]
  },
  {
   "cell_type": "code",
   "execution_count": 48,
   "metadata": {
    "scrolled": true
   },
   "outputs": [
    {
     "name": "stdout",
     "output_type": "stream",
     "text": [
      "Model: \"sequential_27\"\n",
      "_________________________________________________________________\n",
      "Layer (type)                 Output Shape              Param #   \n",
      "=================================================================\n",
      "embedding_27 (Embedding)     (None, 41, 100)           2000000   \n",
      "_________________________________________________________________\n",
      "gru_5 (GRU)                  (None, 256)               274944    \n",
      "_________________________________________________________________\n",
      "dense_54 (Dense)             (None, 8)                 2056      \n",
      "_________________________________________________________________\n",
      "dense_55 (Dense)             (None, 1)                 9         \n",
      "=================================================================\n",
      "Total params: 2,277,009\n",
      "Trainable params: 2,277,009\n",
      "Non-trainable params: 0\n",
      "_________________________________________________________________\n",
      "Epoch 1/10\n",
      "142/143 [============================>.] - ETA: 0s - loss: 0.4801 - accuracy: 0.7639WARNING:tensorflow:Can save best model only with val_acc available, skipping.\n",
      "143/143 [==============================] - 4s 27ms/step - loss: 0.4796 - accuracy: 0.7642 - val_loss: 0.3852 - val_accuracy: 0.8255\n",
      "Epoch 2/10\n",
      "142/143 [============================>.] - ETA: 0s - loss: 0.3491 - accuracy: 0.8474WARNING:tensorflow:Can save best model only with val_acc available, skipping.\n",
      "143/143 [==============================] - 4s 25ms/step - loss: 0.3490 - accuracy: 0.8474 - val_loss: 0.3507 - val_accuracy: 0.8450\n",
      "Epoch 3/10\n",
      "141/143 [============================>.] - ETA: 0s - loss: 0.3053 - accuracy: 0.8715WARNING:tensorflow:Can save best model only with val_acc available, skipping.\n",
      "143/143 [==============================] - 4s 25ms/step - loss: 0.3055 - accuracy: 0.8715 - val_loss: 0.3324 - val_accuracy: 0.8560\n",
      "Epoch 4/10\n",
      "142/143 [============================>.] - ETA: 0s - loss: 0.2731 - accuracy: 0.8873WARNING:tensorflow:Can save best model only with val_acc available, skipping.\n",
      "143/143 [==============================] - 3s 24ms/step - loss: 0.2730 - accuracy: 0.8874 - val_loss: 0.3278 - val_accuracy: 0.8607\n",
      "Epoch 5/10\n",
      "142/143 [============================>.] - ETA: 0s - loss: 0.2449 - accuracy: 0.9013WARNING:tensorflow:Can save best model only with val_acc available, skipping.\n",
      "143/143 [==============================] - 4s 25ms/step - loss: 0.2448 - accuracy: 0.9013 - val_loss: 0.3483 - val_accuracy: 0.8549\n",
      "Epoch 6/10\n",
      "142/143 [============================>.] - ETA: 0s - loss: 0.2172 - accuracy: 0.9145WARNING:tensorflow:Can save best model only with val_acc available, skipping.\n",
      "143/143 [==============================] - 4s 25ms/step - loss: 0.2175 - accuracy: 0.9144 - val_loss: 0.3478 - val_accuracy: 0.8543\n",
      "Epoch 7/10\n",
      "142/143 [============================>.] - ETA: 0s - loss: 0.1938 - accuracy: 0.9252WARNING:tensorflow:Can save best model only with val_acc available, skipping.\n",
      "143/143 [==============================] - 4s 25ms/step - loss: 0.1937 - accuracy: 0.9252 - val_loss: 0.3663 - val_accuracy: 0.8571\n",
      "Epoch 00007: early stopping\n",
      "1537/1537 - 2s - loss: 0.3692 - accuracy: 0.8538\n",
      "[0.3691837787628174, 0.8537746667861938]\n"
     ]
    },
    {
     "data": {
      "image/png": "[encoded data removed]",
      "text/plain": [
       "<Figure size 432x288 with 1 Axes>"
      ]
     },
     "metadata": {
      "needs_background": "light"
     },
     "output_type": "display_data"
    },
    {
     "data": {
      "image/png": "[encoded data removed]",
      "text/plain": [
       "<Figure size 432x288 with 1 Axes>"
      ]
     },
     "metadata": {
      "needs_background": "light"
     },
     "output_type": "display_data"
    }
   ],
   "source": [
    "vocab_size = 20000    # 어휘 사전의 크기입니다(10,000개의 단어)\n",
    "word_vector_dim = 100  # 워드 벡터의 차원수 (변경가능한 하이퍼파라미터)\n",
    "from tensorflow.keras.callbacks import EarlyStopping, ModelCheckpoint\n",
    "# model 설계 - 딥러닝 모델 코드를 직접 작성해 주세요.\n",
    "ko_model6 = keras.Sequential()\n",
    "\n",
    "ko_model6.add(keras.layers.Embedding(vocab_size, \n",
    "                                 word_vector_dim, \n",
    "                                 embeddings_initializer=Constant(embedding_matrix),  # 카피한 임베딩을 여기서 활용\n",
    "                                 input_length=maxlen, \n",
    "                                 trainable=True)) \n",
    "ko_model6.add(keras.layers.GRU(256))   # 찾아보니 GRU라는 것도 있다고 해서 한번 써봤다. \n",
    "ko_model6.add(keras.layers.Dense(8, activation='relu'))\n",
    "ko_model6.add(keras.layers.Dense(1, activation='sigmoid'))  # 최종 출력은 긍정/부정을 나타내는 1dim 입니다.\n",
    "\n",
    "ko_model6.summary()\n",
    "\n",
    "es = EarlyStopping(monitor='val_loss', mode='min', verbose=1, patience=3)\n",
    "mc = ModelCheckpoint('best_model.h5', monitor='val_acc', mode='max', verbose=1, save_best_only=True)\n",
    "\n",
    "ko_model6.compile(optimizer='Nadam',\n",
    "              loss='binary_crossentropy',\n",
    "              metrics=['accuracy'])\n",
    "              \n",
    "epochs=10  # 몇 epoch를 훈련하면 좋을지 결과를 보면서 바꾸어 봅시다. \n",
    "\n",
    "ko_history = ko_model6.fit(partial_x_train,\n",
    "                    partial_y_train,\n",
    "                    epochs=epochs,\n",
    "                    batch_size=512,\n",
    "                    validation_data=(x_val, y_val),\n",
    "                    verbose=1,\n",
    "                    callbacks=[es, mc])\n",
    "results = ko_model6.evaluate(x_test,  y_test, verbose=2)\n",
    "\n",
    "print(results)\n",
    "\n",
    "history_dict = ko_history.history\n",
    "\n",
    "draw_chart(history_dict)"
   ]
  },
  {
   "cell_type": "markdown",
   "metadata": {},
   "source": [
    "RNN의 cell수를 늘리는 것이 vector size와 연관있다고 찾았다. (출처 : `https://davinci-ai.tistory.com/30`) 여기서 RNN의 단점을 극복할 방법 2가지를 제안했는데, 하나는 LSTM이고 나머지는 GRU였다. 그래서 GRU도 궁금해서 써봤다. 벡터값은 8로 시작해서 256까지 늘려보았다. 최종 결과값은 0.8537로 정확도가 소폭 증가했다. "
   ]
  },
  {
   "cell_type": "markdown",
   "metadata": {},
   "source": [
    "#### 회고\n",
    "\n",
    "이번 노드의 핵심은 hyperparameter의 조절이 아닐까. 그리고 단어장에 단어수가 많다고 해서 좋은 건 아니다. 단어장을 3만개로 만들었을때 정확도에는 거의 변화가 없었고 중간에 메모리가 부족해서 나가떨어졌기 때문이다. 그리고 RNN을 쓸 때는 gradient descent 방식을 잘 선택해야 오버피팅이 되는 것을 막을 수 있을 것이다. "
   ]
  }
 ],
 "metadata": {
  "kernelspec": {
   "display_name": "aiffel",
   "language": "python",
   "name": "aiffel"
  },
  "language_info": {
   "codemirror_mode": {
    "name": "ipython",
    "version": 3
   },
   "file_extension": ".py",
   "mimetype": "text/x-python",
   "name": "python",
   "nbconvert_exporter": "python",
   "pygments_lexer": "ipython3",
   "version": "3.7.9"
  }
 },
 "nbformat": 4,
 "nbformat_minor": 4
}
