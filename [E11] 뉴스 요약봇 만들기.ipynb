{
 "cells": [
  {
   "cell_type": "markdown",
   "id": "therapeutic-organizer",
   "metadata": {},
   "source": [
    "# 데이터 수집하기"
   ]
  },
  {
   "cell_type": "code",
   "execution_count": 13,
   "id": "ongoing-honey",
   "metadata": {},
   "outputs": [
    {
     "name": "stderr",
     "output_type": "stream",
     "text": [
      "[nltk_data] Downloading package stopwords to /home/aiffel-\n",
      "[nltk_data]     dj15/nltk_data...\n",
      "[nltk_data]   Package stopwords is already up-to-date!\n"
     ]
    }
   ],
   "source": [
    "import urllib.request\n",
    "import pandas as pd\n",
    "import nltk\n",
    "nltk.download('stopwords')\n",
    "\n",
    "import numpy as np\n",
    "import pandas as pd\n",
    "import os\n",
    "import re\n",
    "import matplotlib.pyplot as plt\n",
    "from nltk.corpus import stopwords\n",
    "from bs4 import BeautifulSoup \n",
    "from tensorflow.keras.preprocessing.text import Tokenizer \n",
    "from tensorflow.keras.preprocessing.sequence import pad_sequences\n",
    "import urllib.request\n",
    "urllib.request.urlretrieve(\"https://raw.githubusercontent.com/sunnysai12345/News_Summary/master/news_summary_more.csv\", filename=\"news_summary_more.csv\")\n",
    "data = pd.read_csv('news_summary_more.csv', encoding='iso-8859-1')"
   ]
  },
  {
   "cell_type": "code",
   "execution_count": 14,
   "id": "three-grace",
   "metadata": {},
   "outputs": [
    {
     "data": {
      "text/html": [
       "<div>\n",
       "<style scoped>\n",
       "    .dataframe tbody tr th:only-of-type {\n",
       "        vertical-align: middle;\n",
       "    }\n",
       "\n",
       "    .dataframe tbody tr th {\n",
       "        vertical-align: top;\n",
       "    }\n",
       "\n",
       "    .dataframe thead th {\n",
       "        text-align: right;\n",
       "    }\n",
       "</style>\n",
       "<table border=\"1\" class=\"dataframe\">\n",
       "  <thead>\n",
       "    <tr style=\"text-align: right;\">\n",
       "      <th></th>\n",
       "      <th>headlines</th>\n",
       "      <th>text</th>\n",
       "    </tr>\n",
       "  </thead>\n",
       "  <tbody>\n",
       "    <tr>\n",
       "      <th>73101</th>\n",
       "      <td>Jailed AIADMK chief Sasikala expelled from party</td>\n",
       "      <td>The AIADMK in a meeting on Monday passed a res...</td>\n",
       "    </tr>\n",
       "    <tr>\n",
       "      <th>52228</th>\n",
       "      <td>Crisis in SC sorted out: Attorney General Venu...</td>\n",
       "      <td>Amid the controversy involving four senior-mos...</td>\n",
       "    </tr>\n",
       "    <tr>\n",
       "      <th>7298</th>\n",
       "      <td>Gujarat doctor performs heart surgery from 32 ...</td>\n",
       "      <td>Gujarat-based cardiologist Tejas Patel on Wedn...</td>\n",
       "    </tr>\n",
       "    <tr>\n",
       "      <th>81097</th>\n",
       "      <td>Telangana issues ordinance to curb online rummy</td>\n",
       "      <td>The Telangana government has issued an ordinan...</td>\n",
       "    </tr>\n",
       "    <tr>\n",
       "      <th>39680</th>\n",
       "      <td>Shashi Tharoor calls for legalising cannabis i...</td>\n",
       "      <td>Asserting that cannabis is indigenous to India...</td>\n",
       "    </tr>\n",
       "    <tr>\n",
       "      <th>92975</th>\n",
       "      <td>Alia Bhatt stranded with drunk bodyguard at 3 ...</td>\n",
       "      <td>According to reports, actress Alia Bhatt was s...</td>\n",
       "    </tr>\n",
       "    <tr>\n",
       "      <th>35724</th>\n",
       "      <td>Road that charges moving cars opens to public ...</td>\n",
       "      <td>A 2-kilometre road that charges vehicles while...</td>\n",
       "    </tr>\n",
       "    <tr>\n",
       "      <th>78973</th>\n",
       "      <td>Mithali Raj named captain of ICC Women's World...</td>\n",
       "      <td>Mithali Raj, who led India to their second Wom...</td>\n",
       "    </tr>\n",
       "    <tr>\n",
       "      <th>8030</th>\n",
       "      <td>Government body holds workshop on developing '...</td>\n",
       "      <td>The National Mission for Clean Ganga organised...</td>\n",
       "    </tr>\n",
       "    <tr>\n",
       "      <th>13500</th>\n",
       "      <td>Putin 'probably' involved in assassinations, p...</td>\n",
       "      <td>US President Donald Trump has said during an i...</td>\n",
       "    </tr>\n",
       "  </tbody>\n",
       "</table>\n",
       "</div>"
      ],
      "text/plain": [
       "                                               headlines  \\\n",
       "73101   Jailed AIADMK chief Sasikala expelled from party   \n",
       "52228  Crisis in SC sorted out: Attorney General Venu...   \n",
       "7298   Gujarat doctor performs heart surgery from 32 ...   \n",
       "81097    Telangana issues ordinance to curb online rummy   \n",
       "39680  Shashi Tharoor calls for legalising cannabis i...   \n",
       "92975  Alia Bhatt stranded with drunk bodyguard at 3 ...   \n",
       "35724  Road that charges moving cars opens to public ...   \n",
       "78973  Mithali Raj named captain of ICC Women's World...   \n",
       "8030   Government body holds workshop on developing '...   \n",
       "13500  Putin 'probably' involved in assassinations, p...   \n",
       "\n",
       "                                                    text  \n",
       "73101  The AIADMK in a meeting on Monday passed a res...  \n",
       "52228  Amid the controversy involving four senior-mos...  \n",
       "7298   Gujarat-based cardiologist Tejas Patel on Wedn...  \n",
       "81097  The Telangana government has issued an ordinan...  \n",
       "39680  Asserting that cannabis is indigenous to India...  \n",
       "92975  According to reports, actress Alia Bhatt was s...  \n",
       "35724  A 2-kilometre road that charges vehicles while...  \n",
       "78973  Mithali Raj, who led India to their second Wom...  \n",
       "8030   The National Mission for Clean Ganga organised...  \n",
       "13500  US President Donald Trump has said during an i...  "
      ]
     },
     "execution_count": 14,
     "metadata": {},
     "output_type": "execute_result"
    }
   ],
   "source": [
    "data.sample(10)"
   ]
  },
  {
   "cell_type": "markdown",
   "id": "excessive-encyclopedia",
   "metadata": {},
   "source": [
    "# 데이터 전처리하기 (추상적 요약)"
   ]
  },
  {
   "cell_type": "code",
   "execution_count": 15,
   "id": "private-crawford",
   "metadata": {},
   "outputs": [
    {
     "name": "stdout",
     "output_type": "stream",
     "text": [
      "98280\n",
      "98360\n"
     ]
    }
   ],
   "source": [
    "print(data['headlines'].nunique())\n",
    "print(data['text'].nunique())"
   ]
  },
  {
   "cell_type": "code",
   "execution_count": 16,
   "id": "special-tiger",
   "metadata": {},
   "outputs": [
    {
     "data": {
      "text/plain": [
       "98360"
      ]
     },
     "execution_count": 16,
     "metadata": {},
     "output_type": "execute_result"
    }
   ],
   "source": [
    "data.drop_duplicates(subset = ['text'], inplace = True)\n",
    "len(data)"
   ]
  },
  {
   "cell_type": "code",
   "execution_count": 17,
   "id": "cultural-radiation",
   "metadata": {},
   "outputs": [
    {
     "name": "stdout",
     "output_type": "stream",
     "text": [
      "headlines    0\n",
      "text         0\n",
      "dtype: int64\n"
     ]
    }
   ],
   "source": [
    "print(data.isnull().sum())"
   ]
  },
  {
   "cell_type": "code",
   "execution_count": 18,
   "id": "expected-planning",
   "metadata": {},
   "outputs": [
    {
     "name": "stdout",
     "output_type": "stream",
     "text": [
      "정규화 사전의 수:  120\n"
     ]
    }
   ],
   "source": [
    "contractions = {\"ain't\": \"is not\", \"aren't\": \"are not\",\"can't\": \"cannot\", \"'cause\": \"because\", \"could've\": \"could have\", \"couldn't\": \"could not\",\n",
    "                           \"didn't\": \"did not\",  \"doesn't\": \"does not\", \"don't\": \"do not\", \"hadn't\": \"had not\", \"hasn't\": \"has not\", \"haven't\": \"have not\",\n",
    "                           \"he'd\": \"he would\",\"he'll\": \"he will\", \"he's\": \"he is\", \"how'd\": \"how did\", \"how'd'y\": \"how do you\", \"how'll\": \"how will\", \"how's\": \"how is\",\n",
    "                           \"I'd\": \"I would\", \"I'd've\": \"I would have\", \"I'll\": \"I will\", \"I'll've\": \"I will have\",\"I'm\": \"I am\", \"I've\": \"I have\", \"i'd\": \"i would\",\n",
    "                           \"i'd've\": \"i would have\", \"i'll\": \"i will\",  \"i'll've\": \"i will have\",\"i'm\": \"i am\", \"i've\": \"i have\", \"isn't\": \"is not\", \"it'd\": \"it would\",\n",
    "                           \"it'd've\": \"it would have\", \"it'll\": \"it will\", \"it'll've\": \"it will have\",\"it's\": \"it is\", \"let's\": \"let us\", \"ma'am\": \"madam\",\n",
    "                           \"mayn't\": \"may not\", \"might've\": \"might have\",\"mightn't\": \"might not\",\"mightn't've\": \"might not have\", \"must've\": \"must have\",\n",
    "                           \"mustn't\": \"must not\", \"mustn't've\": \"must not have\", \"needn't\": \"need not\", \"needn't've\": \"need not have\",\"o'clock\": \"of the clock\",\n",
    "                           \"oughtn't\": \"ought not\", \"oughtn't've\": \"ought not have\", \"shan't\": \"shall not\", \"sha'n't\": \"shall not\", \"shan't've\": \"shall not have\",\n",
    "                           \"she'd\": \"she would\", \"she'd've\": \"she would have\", \"she'll\": \"she will\", \"she'll've\": \"she will have\", \"she's\": \"she is\",\n",
    "                           \"should've\": \"should have\", \"shouldn't\": \"should not\", \"shouldn't've\": \"should not have\", \"so've\": \"so have\",\"so's\": \"so as\",\n",
    "                           \"this's\": \"this is\",\"that'd\": \"that would\", \"that'd've\": \"that would have\", \"that's\": \"that is\", \"there'd\": \"there would\",\n",
    "                           \"there'd've\": \"there would have\", \"there's\": \"there is\", \"here's\": \"here is\",\"they'd\": \"they would\", \"they'd've\": \"they would have\",\n",
    "                           \"they'll\": \"they will\", \"they'll've\": \"they will have\", \"they're\": \"they are\", \"they've\": \"they have\", \"to've\": \"to have\",\n",
    "                           \"wasn't\": \"was not\", \"we'd\": \"we would\", \"we'd've\": \"we would have\", \"we'll\": \"we will\", \"we'll've\": \"we will have\", \"we're\": \"we are\",\n",
    "                           \"we've\": \"we have\", \"weren't\": \"were not\", \"what'll\": \"what will\", \"what'll've\": \"what will have\", \"what're\": \"what are\",\n",
    "                           \"what's\": \"what is\", \"what've\": \"what have\", \"when's\": \"when is\", \"when've\": \"when have\", \"where'd\": \"where did\", \"where's\": \"where is\",\n",
    "                           \"where've\": \"where have\", \"who'll\": \"who will\", \"who'll've\": \"who will have\", \"who's\": \"who is\", \"who've\": \"who have\",\n",
    "                           \"why's\": \"why is\", \"why've\": \"why have\", \"will've\": \"will have\", \"won't\": \"will not\", \"won't've\": \"will not have\",\n",
    "                           \"would've\": \"would have\", \"wouldn't\": \"would not\", \"wouldn't've\": \"would not have\", \"y'all\": \"you all\",\n",
    "                           \"y'all'd\": \"you all would\",\"y'all'd've\": \"you all would have\",\"y'all're\": \"you all are\",\"y'all've\": \"you all have\",\n",
    "                           \"you'd\": \"you would\", \"you'd've\": \"you would have\", \"you'll\": \"you will\", \"you'll've\": \"you will have\",\n",
    "                           \"you're\": \"you are\", \"you've\": \"you have\"}\n",
    "\n",
    "print(\"정규화 사전의 수: \",len(contractions))"
   ]
  },
  {
   "cell_type": "code",
   "execution_count": 19,
   "id": "renewable-means",
   "metadata": {},
   "outputs": [
    {
     "name": "stdout",
     "output_type": "stream",
     "text": [
      "불용어 개수 : 179\n",
      "['i', 'me', 'my', 'myself', 'we', 'our', 'ours', 'ourselves', 'you', \"you're\", \"you've\", \"you'll\", \"you'd\", 'your', 'yours', 'yourself', 'yourselves', 'he', 'him', 'his', 'himself', 'she', \"she's\", 'her', 'hers', 'herself', 'it', \"it's\", 'its', 'itself', 'they', 'them', 'their', 'theirs', 'themselves', 'what', 'which', 'who', 'whom', 'this', 'that', \"that'll\", 'these', 'those', 'am', 'is', 'are', 'was', 'were', 'be', 'been', 'being', 'have', 'has', 'had', 'having', 'do', 'does', 'did', 'doing', 'a', 'an', 'the', 'and', 'but', 'if', 'or', 'because', 'as', 'until', 'while', 'of', 'at', 'by', 'for', 'with', 'about', 'against', 'between', 'into', 'through', 'during', 'before', 'after', 'above', 'below', 'to', 'from', 'up', 'down', 'in', 'out', 'on', 'off', 'over', 'under', 'again', 'further', 'then', 'once', 'here', 'there', 'when', 'where', 'why', 'how', 'all', 'any', 'both', 'each', 'few', 'more', 'most', 'other', 'some', 'such', 'no', 'nor', 'not', 'only', 'own', 'same', 'so', 'than', 'too', 'very', 's', 't', 'can', 'will', 'just', 'don', \"don't\", 'should', \"should've\", 'now', 'd', 'll', 'm', 'o', 're', 've', 'y', 'ain', 'aren', \"aren't\", 'couldn', \"couldn't\", 'didn', \"didn't\", 'doesn', \"doesn't\", 'hadn', \"hadn't\", 'hasn', \"hasn't\", 'haven', \"haven't\", 'isn', \"isn't\", 'ma', 'mightn', \"mightn't\", 'mustn', \"mustn't\", 'needn', \"needn't\", 'shan', \"shan't\", 'shouldn', \"shouldn't\", 'wasn', \"wasn't\", 'weren', \"weren't\", 'won', \"won't\", 'wouldn', \"wouldn't\"]\n"
     ]
    }
   ],
   "source": [
    "print('불용어 개수 :', len(stopwords.words('english') ))\n",
    "print(stopwords.words('english'))"
   ]
  },
  {
   "cell_type": "code",
   "execution_count": 20,
   "id": "fallen-handbook",
   "metadata": {},
   "outputs": [],
   "source": [
    "#데이터 전처리 함수\n",
    "def preprocess_sentence(sentence, remove_stopwords=True):\n",
    "    sentence = sentence.lower() # 텍스트 소문자화\n",
    "    sentence = BeautifulSoup(sentence, \"lxml\").text # <br />, <a href = ...> 등의 html 태그 제거\n",
    "    sentence = re.sub(r'\\([^)]*\\)', '', sentence) # 괄호로 닫힌 문자열 (...) 제거 Ex) my husband (and myself!) for => my husband for\n",
    "    sentence = re.sub('\"','', sentence) # 쌍따옴표 \" 제거\n",
    "    sentence = ' '.join([contractions[t] if t in contractions else t for t in sentence.split(\" \")]) # 약어 정규화\n",
    "    sentence = re.sub(r\"'s\\b\",\"\",sentence) # 소유격 제거. Ex) roland's -> roland\n",
    "    sentence = re.sub(\"[^a-zA-Z]\", \" \", sentence) # 영어 외 문자(숫자, 특수문자 등) 공백으로 변환\n",
    "    sentence = re.sub('[m]{2,}', 'mm', sentence) # m이 3개 이상이면 2개로 변경. Ex) ummmmmmm yeah -> umm yeah\n",
    "    \n",
    "    # 불용어 제거 (Text)\n",
    "    if remove_stopwords:\n",
    "        tokens = ' '.join(word for word in sentence.split() if not word in stopwords.words('english') if len(word) > 1)\n",
    "    # 불용어 미제거 (Summary)\n",
    "    else:\n",
    "        tokens = ' '.join(word for word in sentence.split() if len(word) > 1)\n",
    "    return tokens"
   ]
  },
  {
   "cell_type": "code",
   "execution_count": 21,
   "id": "weird-electron",
   "metadata": {},
   "outputs": [
    {
     "data": {
      "text/plain": [
       "['saurav kant alumnus upgrad iiit pg program machine learning artificial intelligence sr systems engineer infosys almost years work experience program upgrad degree career support helped transition data scientist tech mahindra salary hike upgrad online power learning powered lakh careers',\n",
       " 'kunal shah credit card bill payment platform cred gave users chance win free food swiggy one year pranav kaushik delhi techie bagged reward spending cred coins users get one cred coin per rupee bill paid used avail rewards brands like ixigo bookmyshow ubereats cult fit',\n",
       " 'new zealand defeated india wickets fourth odi hamilton thursday win first match five match odi series india lost international match rohit sharma captaincy consecutive victories dating back march match witnessed india getting seventh lowest total odi cricket history',\n",
       " 'aegon life iterm insurance plan customers enjoy tax benefits premiums paid save taxes plan provides life cover age years also customers options insure critical illnesses disability accidental death benefit rider life cover age years',\n",
       " 'speaking sexual harassment allegations rajkumar hirani sonam kapoor said known hirani many years true metoo movement get derailed metoo movement always believe woman case need reserve judgment added hirani accused assistant worked sanju']"
      ]
     },
     "execution_count": 21,
     "metadata": {},
     "output_type": "execute_result"
    }
   ],
   "source": [
    "clean_text = []\n",
    "\n",
    "# 전체 Text 데이터에 대한 전처리 : 10분 이상 시간이 걸릴 수 있습니다. \n",
    "for s in data['text']:\n",
    "    clean_text.append(preprocess_sentence(s))\n",
    "\n",
    "# 전처리 후 출력\n",
    "clean_text[:5]"
   ]
  },
  {
   "cell_type": "code",
   "execution_count": 23,
   "id": "robust-server",
   "metadata": {},
   "outputs": [
    {
     "name": "stdout",
     "output_type": "stream",
     "text": [
      "ERROR! Session/line number was not unique in database. History logging moved to new session 200\n",
      "텍스트의 최소 길이 : 1\n",
      "텍스트의 최대 길이 : 91\n",
      "텍스트의 평균 길이 : 58.23813542090281\n",
      "요약의 최소 길이 : 1\n",
      "요약의 최대 길이 : 18\n",
      "요약의 평균 길이 : 9.553660024400163\n"
     ]
    },
    {
     "data": {
      "image/png": "[encoded data removed]",
      "text/plain": [
       "<Figure size 432x288 with 2 Axes>"
      ]
     },
     "metadata": {
      "needs_background": "light"
     },
     "output_type": "display_data"
    },
    {
     "data": {
      "image/png": "[encoded data removed]",
      "text/plain": [
       "<Figure size 432x288 with 1 Axes>"
      ]
     },
     "metadata": {
      "needs_background": "light"
     },
     "output_type": "display_data"
    },
    {
     "data": {
      "image/png": "[encoded data removed]",
      "text/plain": [
       "<Figure size 432x288 with 1 Axes>"
      ]
     },
     "metadata": {
      "needs_background": "light"
     },
     "output_type": "display_data"
    }
   ],
   "source": [
    "# 길이 분포 출력\n",
    "import matplotlib.pyplot as plt\n",
    "\n",
    "text_len = [len(s.split()) for s in data['text']]\n",
    "headlines_len = [len(s.split()) for s in data['headlines']]\n",
    "\n",
    "print('텍스트의 최소 길이 : {}'.format(np.min(text_len)))\n",
    "print('텍스트의 최대 길이 : {}'.format(np.max(text_len)))\n",
    "print('텍스트의 평균 길이 : {}'.format(np.mean(text_len)))\n",
    "print('요약의 최소 길이 : {}'.format(np.min(summary_len)))\n",
    "print('요약의 최대 길이 : {}'.format(np.max(summary_len)))\n",
    "print('요약의 평균 길이 : {}'.format(np.mean(summary_len)))\n",
    "\n",
    "plt.subplot(1,2,1)\n",
    "plt.boxplot(headlines_len)\n",
    "plt.title('Headline')\n",
    "plt.subplot(1,2,2)\n",
    "plt.boxplot(text_len)\n",
    "plt.title('Text')\n",
    "plt.tight_layout()\n",
    "plt.show()\n",
    "\n",
    "plt.title('Headline')\n",
    "plt.hist(headlines_len, bins = 40)\n",
    "plt.xlabel('length of samples')\n",
    "plt.ylabel('number of samples')\n",
    "plt.show()\n",
    "\n",
    "plt.title('Text')\n",
    "plt.hist(text_len, bins = 40)\n",
    "plt.xlabel('length of samples')\n",
    "plt.ylabel('number of samples')\n",
    "plt.show()"
   ]
  },
  {
   "cell_type": "markdown",
   "id": "mediterranean-sixth",
   "metadata": {},
   "source": [
    "text의 최대 길이가 60근처에 몰려있고, headline의 경우는 10~11부근에서 몰려있어서 최대 길이를 11로 줬다. "
   ]
  },
  {
   "cell_type": "code",
   "execution_count": 24,
   "id": "dramatic-switch",
   "metadata": {},
   "outputs": [],
   "source": [
    "text_max_len = 60\n",
    "headline_max_len = 11"
   ]
  },
  {
   "cell_type": "code",
   "execution_count": 25,
   "id": "american-benefit",
   "metadata": {},
   "outputs": [],
   "source": [
    "def below_threshold_len(max_len, nested_list):\n",
    "  cnt = 0\n",
    "  for s in nested_list:\n",
    "    if(len(s.split()) <= max_len):\n",
    "        cnt = cnt + 1\n",
    "  print('전체 샘플 중 길이가 %s 이하인 샘플의 비율: %s'%(max_len, (cnt / len(nested_list))))"
   ]
  },
  {
   "cell_type": "code",
   "execution_count": 26,
   "id": "median-position",
   "metadata": {},
   "outputs": [
    {
     "name": "stdout",
     "output_type": "stream",
     "text": [
      "전체 샘플 중 길이가 60 이하인 샘플의 비율: 0.997448149654331\n",
      "전체 샘플 중 길이가 11 이하인 샘플의 비율: 0.9121492476616511\n"
     ]
    }
   ],
   "source": [
    "below_threshold_len(text_max_len, data['text'])\n",
    "below_threshold_len(headline_max_len,  data['headlines'])"
   ]
  },
  {
   "cell_type": "code",
   "execution_count": 27,
   "id": "significant-cookie",
   "metadata": {},
   "outputs": [
    {
     "name": "stdout",
     "output_type": "stream",
     "text": [
      "전체 샘플수 : 89498\n"
     ]
    }
   ],
   "source": [
    "data = data[data['text'].apply(lambda x: len(x.split()) <= text_max_len)]\n",
    "data = data[data['headlines'].apply(lambda x: len(x.split()) <= headline_max_len)]\n",
    "print('전체 샘플수 :',(len(data)))"
   ]
  },
  {
   "cell_type": "code",
   "execution_count": 28,
   "id": "familiar-shade",
   "metadata": {},
   "outputs": [
    {
     "data": {
      "text/html": [
       "<div>\n",
       "<style scoped>\n",
       "    .dataframe tbody tr th:only-of-type {\n",
       "        vertical-align: middle;\n",
       "    }\n",
       "\n",
       "    .dataframe tbody tr th {\n",
       "        vertical-align: top;\n",
       "    }\n",
       "\n",
       "    .dataframe thead th {\n",
       "        text-align: right;\n",
       "    }\n",
       "</style>\n",
       "<table border=\"1\" class=\"dataframe\">\n",
       "  <thead>\n",
       "    <tr style=\"text-align: right;\">\n",
       "      <th></th>\n",
       "      <th>headlines</th>\n",
       "      <th>text</th>\n",
       "      <th>decoder_input</th>\n",
       "      <th>decoder_target</th>\n",
       "    </tr>\n",
       "  </thead>\n",
       "  <tbody>\n",
       "    <tr>\n",
       "      <th>2</th>\n",
       "      <td>New Zealand end Rohit Sharma-led India's 12-ma...</td>\n",
       "      <td>New Zealand defeated India by 8 wickets in the...</td>\n",
       "      <td>sostoken New Zealand end Rohit Sharma-led Indi...</td>\n",
       "      <td>New Zealand end Rohit Sharma-led India's 12-ma...</td>\n",
       "    </tr>\n",
       "    <tr>\n",
       "      <th>3</th>\n",
       "      <td>Aegon life iTerm insurance plan helps customer...</td>\n",
       "      <td>With Aegon Life iTerm Insurance plan, customer...</td>\n",
       "      <td>sostoken Aegon life iTerm insurance plan helps...</td>\n",
       "      <td>Aegon life iTerm insurance plan helps customer...</td>\n",
       "    </tr>\n",
       "    <tr>\n",
       "      <th>5</th>\n",
       "      <td>Rahat Fateh Ali Khan denies getting notice for...</td>\n",
       "      <td>Pakistani singer Rahat Fateh Ali Khan has deni...</td>\n",
       "      <td>sostoken Rahat Fateh Ali Khan denies getting n...</td>\n",
       "      <td>Rahat Fateh Ali Khan denies getting notice for...</td>\n",
       "    </tr>\n",
       "    <tr>\n",
       "      <th>9</th>\n",
       "      <td>Cong wins Ramgarh bypoll in Rajasthan, takes t...</td>\n",
       "      <td>Congress candidate Shafia Zubair won the Ramga...</td>\n",
       "      <td>sostoken Cong wins Ramgarh bypoll in Rajasthan...</td>\n",
       "      <td>Cong wins Ramgarh bypoll in Rajasthan, takes t...</td>\n",
       "    </tr>\n",
       "    <tr>\n",
       "      <th>10</th>\n",
       "      <td>UP cousins fed human excreta for friendship wi...</td>\n",
       "      <td>Two minor cousins in Uttar Pradesh's Gorakhpur...</td>\n",
       "      <td>sostoken UP cousins fed human excreta for frie...</td>\n",
       "      <td>UP cousins fed human excreta for friendship wi...</td>\n",
       "    </tr>\n",
       "  </tbody>\n",
       "</table>\n",
       "</div>"
      ],
      "text/plain": [
       "                                            headlines  \\\n",
       "2   New Zealand end Rohit Sharma-led India's 12-ma...   \n",
       "3   Aegon life iTerm insurance plan helps customer...   \n",
       "5   Rahat Fateh Ali Khan denies getting notice for...   \n",
       "9   Cong wins Ramgarh bypoll in Rajasthan, takes t...   \n",
       "10  UP cousins fed human excreta for friendship wi...   \n",
       "\n",
       "                                                 text  \\\n",
       "2   New Zealand defeated India by 8 wickets in the...   \n",
       "3   With Aegon Life iTerm Insurance plan, customer...   \n",
       "5   Pakistani singer Rahat Fateh Ali Khan has deni...   \n",
       "9   Congress candidate Shafia Zubair won the Ramga...   \n",
       "10  Two minor cousins in Uttar Pradesh's Gorakhpur...   \n",
       "\n",
       "                                        decoder_input  \\\n",
       "2   sostoken New Zealand end Rohit Sharma-led Indi...   \n",
       "3   sostoken Aegon life iTerm insurance plan helps...   \n",
       "5   sostoken Rahat Fateh Ali Khan denies getting n...   \n",
       "9   sostoken Cong wins Ramgarh bypoll in Rajasthan...   \n",
       "10  sostoken UP cousins fed human excreta for frie...   \n",
       "\n",
       "                                       decoder_target  \n",
       "2   New Zealand end Rohit Sharma-led India's 12-ma...  \n",
       "3   Aegon life iTerm insurance plan helps customer...  \n",
       "5   Rahat Fateh Ali Khan denies getting notice for...  \n",
       "9   Cong wins Ramgarh bypoll in Rajasthan, takes t...  \n",
       "10  UP cousins fed human excreta for friendship wi...  "
      ]
     },
     "execution_count": 28,
     "metadata": {},
     "output_type": "execute_result"
    }
   ],
   "source": [
    "#요약 데이터에는 시작 토큰과 종료 토큰을 추가한다.\n",
    "data['decoder_input'] = data['headlines'].apply(lambda x : 'sostoken '+ x)\n",
    "data['decoder_target'] = data['headlines'].apply(lambda x : x + ' eostoken')\n",
    "data.head()"
   ]
  },
  {
   "cell_type": "code",
   "execution_count": 29,
   "id": "selected-graduation",
   "metadata": {},
   "outputs": [],
   "source": [
    "encoder_input = np.array(data['text']) # 인코더의 입력\n",
    "decoder_input = np.array(data['decoder_input']) # 디코더의 입력\n",
    "decoder_target = np.array(data['decoder_target']) # 디코더의 레이블"
   ]
  },
  {
   "cell_type": "code",
   "execution_count": 30,
   "id": "generic-assessment",
   "metadata": {},
   "outputs": [
    {
     "name": "stdout",
     "output_type": "stream",
     "text": [
      "[ 9691 86652 62065 ... 33202 35381 73725]\n"
     ]
    }
   ],
   "source": [
    "indices = np.arange(encoder_input.shape[0])\n",
    "np.random.shuffle(indices)\n",
    "print(indices)"
   ]
  },
  {
   "cell_type": "code",
   "execution_count": 31,
   "id": "radio-kentucky",
   "metadata": {},
   "outputs": [],
   "source": [
    "encoder_input = encoder_input[indices]\n",
    "decoder_input = decoder_input[indices]\n",
    "decoder_target = decoder_target[indices]"
   ]
  },
  {
   "cell_type": "code",
   "execution_count": 32,
   "id": "convinced-sport",
   "metadata": {},
   "outputs": [
    {
     "name": "stdout",
     "output_type": "stream",
     "text": [
      "테스트 데이터의 수 : 17899\n"
     ]
    }
   ],
   "source": [
    "n_of_val = int(len(encoder_input)*0.2)\n",
    "print('테스트 데이터의 수 :',n_of_val)"
   ]
  },
  {
   "cell_type": "code",
   "execution_count": 33,
   "id": "general-germany",
   "metadata": {},
   "outputs": [
    {
     "name": "stdout",
     "output_type": "stream",
     "text": [
      "훈련 데이터의 개수 : 71599\n",
      "훈련 레이블의 개수 : 71599\n",
      "테스트 데이터의 개수 : 17899\n",
      "테스트 레이블의 개수 : 17899\n"
     ]
    }
   ],
   "source": [
    "encoder_input_train = encoder_input[:-n_of_val]\n",
    "decoder_input_train = decoder_input[:-n_of_val]\n",
    "decoder_target_train = decoder_target[:-n_of_val]\n",
    "\n",
    "encoder_input_test = encoder_input[-n_of_val:]\n",
    "decoder_input_test = decoder_input[-n_of_val:]\n",
    "decoder_target_test = decoder_target[-n_of_val:]\n",
    "\n",
    "print('훈련 데이터의 개수 :', len(encoder_input_train))\n",
    "print('훈련 레이블의 개수 :',len(decoder_input_train))\n",
    "print('테스트 데이터의 개수 :',len(encoder_input_test))\n",
    "print('테스트 레이블의 개수 :',len(decoder_input_test))"
   ]
  },
  {
   "cell_type": "markdown",
   "id": "respiratory-premium",
   "metadata": {},
   "source": [
    "## 단어 집합 생성하기"
   ]
  },
  {
   "cell_type": "code",
   "execution_count": 34,
   "id": "trained-disease",
   "metadata": {},
   "outputs": [],
   "source": [
    "src_tokenizer = Tokenizer() # 토크나이저 정의\n",
    "src_tokenizer.fit_on_texts(encoder_input_train) # 입력된 데이터로부터 단어 집합 생성"
   ]
  },
  {
   "cell_type": "markdown",
   "id": "lyric-stations",
   "metadata": {},
   "source": [
    "단어의 등장 분포를 보고 몇회 이하의 분포를 잘라낼지 결정하기 위해서 빈도에 대한 분포도를 그려봤다. "
   ]
  },
  {
   "cell_type": "code",
   "execution_count": 38,
   "id": "acoustic-garbage",
   "metadata": {},
   "outputs": [
    {
     "name": "stdout",
     "output_type": "stream",
     "text": [
      "단어의 최소 빈도 : 1\n",
      "단어의 최대 빈도 : 247850\n",
      "단어의 평균 빈도 : 48.359860217615754\n"
     ]
    },
    {
     "data": {
      "image/png": "[encoded data removed]",
      "text/plain": [
       "<Figure size 432x288 with 1 Axes>"
      ]
     },
     "metadata": {
      "needs_background": "light"
     },
     "output_type": "display_data"
    }
   ],
   "source": [
    "total_frequency = list(src_tokenizer.word_counts.values())\n",
    "print('단어의 최소 빈도 : {}'.format(np.min(total_frequency)))\n",
    "print('단어의 최대 빈도 : {}'.format(np.max(total_frequency)))\n",
    "print('단어의 평균 빈도 : {}'.format(np.mean(total_frequency)))\n",
    "plt.boxplot(total_frequency)\n",
    "plt.show()"
   ]
  },
  {
   "cell_type": "markdown",
   "id": "conditional-affiliate",
   "metadata": {},
   "source": [
    "극단적으로 많이 나오는 단어가 있어, 이 단어가 어떤 단어인지 등장횟수가 20만이 넘는 단어들을 조사해 볼 것이다. "
   ]
  },
  {
   "cell_type": "code",
   "execution_count": 39,
   "id": "suited-luxury",
   "metadata": {},
   "outputs": [
    {
     "name": "stdout",
     "output_type": "stream",
     "text": [
      "the 247850\n"
     ]
    }
   ],
   "source": [
    "for key, value in src_tokenizer.word_counts.items():\n",
    "    if value >= 200000 :\n",
    "        print(key, value)"
   ]
  },
  {
   "cell_type": "markdown",
   "id": "biblical-glance",
   "metadata": {},
   "source": [
    "the를 빼고 단어 분포가 어떻게 이루어지는지 알아보자. "
   ]
  },
  {
   "cell_type": "code",
   "execution_count": 41,
   "id": "capital-buyer",
   "metadata": {},
   "outputs": [
    {
     "name": "stdout",
     "output_type": "stream",
     "text": [
      "단어의 최소 빈도 : 1\n",
      "단어의 최대 빈도 : 105755\n",
      "단어의 평균 빈도 : 45.54827766179541\n"
     ]
    },
    {
     "data": {
      "image/png": "[encoded data removed]",
      "text/plain": [
       "<Figure size 432x288 with 1 Axes>"
      ]
     },
     "metadata": {
      "needs_background": "light"
     },
     "output_type": "display_data"
    }
   ],
   "source": [
    "# python에서는 dictionary가 set에 해당되어 빼기 연산이 가능하다. \n",
    "tokenizer_exp_the = {k: src_tokenizer.word_counts[k] for k in src_tokenizer.word_counts.keys() - {'the'}}\n",
    "total_frequency_test = list(tokenizer_exp_the.values())\n",
    "print('단어의 최소 빈도 : {}'.format(np.min(total_frequency_test)))\n",
    "print('단어의 최대 빈도 : {}'.format(np.max(total_frequency_test)))\n",
    "print('단어의 평균 빈도 : {}'.format(np.mean(total_frequency_test)))\n",
    "plt.boxplot(total_frequency_test)\n",
    "plt.show()"
   ]
  },
  {
   "cell_type": "code",
   "execution_count": 44,
   "id": "important-chambers",
   "metadata": {},
   "outputs": [
    {
     "name": "stdout",
     "output_type": "stream",
     "text": [
      "ERROR! Session/line number was not unique in database. History logging moved to new session 205\n"
     ]
    },
    {
     "data": {
      "text/html": [
       "<div>\n",
       "<style scoped>\n",
       "    .dataframe tbody tr th:only-of-type {\n",
       "        vertical-align: middle;\n",
       "    }\n",
       "\n",
       "    .dataframe tbody tr th {\n",
       "        vertical-align: top;\n",
       "    }\n",
       "\n",
       "    .dataframe thead th {\n",
       "        text-align: right;\n",
       "    }\n",
       "</style>\n",
       "<table border=\"1\" class=\"dataframe\">\n",
       "  <thead>\n",
       "    <tr style=\"text-align: right;\">\n",
       "      <th></th>\n",
       "      <th>0</th>\n",
       "    </tr>\n",
       "  </thead>\n",
       "  <tbody>\n",
       "    <tr>\n",
       "      <th>count</th>\n",
       "      <td>88136.000000</td>\n",
       "    </tr>\n",
       "    <tr>\n",
       "      <th>mean</th>\n",
       "      <td>45.548278</td>\n",
       "    </tr>\n",
       "    <tr>\n",
       "      <th>std</th>\n",
       "      <td>874.252942</td>\n",
       "    </tr>\n",
       "    <tr>\n",
       "      <th>min</th>\n",
       "      <td>1.000000</td>\n",
       "    </tr>\n",
       "    <tr>\n",
       "      <th>25%</th>\n",
       "      <td>1.000000</td>\n",
       "    </tr>\n",
       "    <tr>\n",
       "      <th>50%</th>\n",
       "      <td>2.000000</td>\n",
       "    </tr>\n",
       "    <tr>\n",
       "      <th>75%</th>\n",
       "      <td>8.000000</td>\n",
       "    </tr>\n",
       "    <tr>\n",
       "      <th>max</th>\n",
       "      <td>105755.000000</td>\n",
       "    </tr>\n",
       "  </tbody>\n",
       "</table>\n",
       "</div>"
      ],
      "text/plain": [
       "                   0\n",
       "count   88136.000000\n",
       "mean       45.548278\n",
       "std       874.252942\n",
       "min         1.000000\n",
       "25%         1.000000\n",
       "50%         2.000000\n",
       "75%         8.000000\n",
       "max    105755.000000"
      ]
     },
     "execution_count": 44,
     "metadata": {},
     "output_type": "execute_result"
    }
   ],
   "source": [
    "pd.DataFrame(total_frequency_test).describe()"
   ]
  },
  {
   "cell_type": "markdown",
   "id": "ancient-messenger",
   "metadata": {},
   "source": [
    "빈도수가 2 이하라면 사용하지 않는 걸로 정한다. "
   ]
  },
  {
   "cell_type": "code",
   "execution_count": 46,
   "id": "several-compact",
   "metadata": {},
   "outputs": [
    {
     "name": "stdout",
     "output_type": "stream",
     "text": [
      "단어 집합(vocabulary)의 크기 : 88137\n",
      "등장 빈도가 2번 이하인 희귀 단어의 수: 49060\n",
      "단어 집합에서 희귀 단어를 제외시킬 경우의 단어 집합의 크기 39077\n",
      "단어 집합에서 희귀 단어의 비율: 55.663342296651805\n",
      "전체 등장 빈도에서 희귀 단어 등장 빈도 비율: 1.450862247151944\n"
     ]
    }
   ],
   "source": [
    "threshold = 3\n",
    "total_cnt = len(src_tokenizer.word_index) # 단어의 수\n",
    "rare_cnt = 0 # 등장 빈도수가 threshold보다 작은 단어의 개수를 카운트\n",
    "total_freq = 0 # 훈련 데이터의 전체 단어 빈도수 총 합\n",
    "rare_freq = 0 # 등장 빈도수가 threshold보다 작은 단어의 등장 빈도수의 총 합\n",
    "\n",
    "# 단어와 빈도수의 쌍(pair)을 key와 value로 받는다.\n",
    "for key, value in src_tokenizer.word_counts.items():\n",
    "    total_freq = total_freq + value\n",
    "\n",
    "    # 단어의 등장 빈도수가 threshold보다 작으면\n",
    "    if(value < threshold):\n",
    "        rare_cnt = rare_cnt + 1\n",
    "        rare_freq = rare_freq + value\n",
    "\n",
    "print('단어 집합(vocabulary)의 크기 :',total_cnt)\n",
    "print('등장 빈도가 %s번 이하인 희귀 단어의 수: %s'%(threshold - 1, rare_cnt))\n",
    "print('단어 집합에서 희귀 단어를 제외시킬 경우의 단어 집합의 크기 %s'%(total_cnt - rare_cnt))\n",
    "print(\"단어 집합에서 희귀 단어의 비율:\", (rare_cnt / total_cnt)*100)\n",
    "print(\"전체 등장 빈도에서 희귀 단어 등장 빈도 비율:\", (rare_freq / total_freq)*100)"
   ]
  },
  {
   "cell_type": "markdown",
   "id": "social-burst",
   "metadata": {},
   "source": [
    "대략 40000개의 단어 집합을 사용한다고 하고 진행한다. "
   ]
  },
  {
   "cell_type": "code",
   "execution_count": 47,
   "id": "eligible-director",
   "metadata": {},
   "outputs": [],
   "source": [
    "src_vocab = 40000\n",
    "src_tokenizer = Tokenizer(num_words = src_vocab) # 단어 집합의 크기를 8,000으로 제한\n",
    "src_tokenizer.fit_on_texts(encoder_input_train) # 단어 집합 재생성."
   ]
  },
  {
   "cell_type": "code",
   "execution_count": 48,
   "id": "threaded-tribe",
   "metadata": {},
   "outputs": [],
   "source": [
    "encoder_input_train = src_tokenizer.texts_to_sequences(encoder_input_train) \n",
    "encoder_input_test = src_tokenizer.texts_to_sequences(encoder_input_test)"
   ]
  },
  {
   "cell_type": "code",
   "execution_count": 49,
   "id": "wrapped-fleet",
   "metadata": {},
   "outputs": [],
   "source": [
    "tar_tokenizer = Tokenizer()\n",
    "tar_tokenizer.fit_on_texts(decoder_input_train)"
   ]
  },
  {
   "cell_type": "code",
   "execution_count": 50,
   "id": "right-uniform",
   "metadata": {},
   "outputs": [
    {
     "name": "stdout",
     "output_type": "stream",
     "text": [
      "단어 집합(vocabulary)의 크기 : 39625\n",
      "등장 빈도가 2번 이하인 희귀 단어의 수: 22653\n",
      "단어 집합에서 희귀 단어를 제외시킬 경우의 단어 집합의 크기 16972\n",
      "단어 집합에서 희귀 단어의 비율: 57.168454258675084\n",
      "전체 등장 빈도에서 희귀 단어 등장 빈도 비율: 3.7141628914387748\n"
     ]
    }
   ],
   "source": [
    "threshold = 3\n",
    "total_cnt = len(tar_tokenizer.word_index) # 단어의 수\n",
    "rare_cnt = 0 # 등장 빈도수가 threshold보다 작은 단어의 개수를 카운트\n",
    "total_freq = 0 # 훈련 데이터의 전체 단어 빈도수 총 합\n",
    "rare_freq = 0 # 등장 빈도수가 threshold보다 작은 단어의 등장 빈도수의 총 합\n",
    "\n",
    "# 단어와 빈도수의 쌍(pair)을 key와 value로 받는다.\n",
    "for key, value in tar_tokenizer.word_counts.items():\n",
    "    total_freq = total_freq + value\n",
    "\n",
    "    # 단어의 등장 빈도수가 threshold보다 작으면\n",
    "    if(value < threshold):\n",
    "        rare_cnt = rare_cnt + 1\n",
    "        rare_freq = rare_freq + value\n",
    "\n",
    "print('단어 집합(vocabulary)의 크기 :',total_cnt)\n",
    "print('등장 빈도가 %s번 이하인 희귀 단어의 수: %s'%(threshold - 1, rare_cnt))\n",
    "print('단어 집합에서 희귀 단어를 제외시킬 경우의 단어 집합의 크기 %s'%(total_cnt - rare_cnt))\n",
    "print(\"단어 집합에서 희귀 단어의 비율:\", (rare_cnt / total_cnt)*100)\n",
    "print(\"전체 등장 빈도에서 희귀 단어 등장 빈도 비율:\", (rare_freq / total_freq)*100)"
   ]
  },
  {
   "cell_type": "code",
   "execution_count": 51,
   "id": "posted-denmark",
   "metadata": {},
   "outputs": [
    {
     "name": "stdout",
     "output_type": "stream",
     "text": [
      "input\n",
      "input  [[1, 32, 103, 2206, 7752, 3, 80, 66, 108, 2828, 7, 16974], [1, 1323, 3216, 623, 92, 174, 258, 569, 3, 4176, 241, 9026], [1, 213, 12145, 8353, 2164, 4, 55, 68, 1306, 4, 6507], [1, 170, 5392, 6170, 453, 9863, 17, 166, 19, 3, 6171, 2671], [1, 735, 768, 19, 15, 141, 558, 9, 1495, 44, 1832, 1718]]\n",
      "target\n",
      "decoder  [[32, 103, 2206, 7752, 3, 80, 66, 108, 2828, 7, 16974, 2], [1323, 3216, 623, 92, 174, 258, 569, 3, 4176, 241, 9026, 2], [213, 12145, 8353, 2164, 4, 55, 68, 1306, 4, 6507, 2], [170, 5392, 6170, 453, 9863, 17, 166, 19, 3, 6171, 2671, 2], [735, 768, 19, 15, 141, 558, 9, 1495, 44, 1832, 1718, 2]]\n"
     ]
    }
   ],
   "source": [
    "tar_vocab = 17000\n",
    "tar_tokenizer = Tokenizer(num_words = tar_vocab) \n",
    "tar_tokenizer.fit_on_texts(decoder_input_train)\n",
    "tar_tokenizer.fit_on_texts(decoder_target_train)\n",
    "\n",
    "# 텍스트 시퀀스를 정수 시퀀스로 변환\n",
    "decoder_input_train = tar_tokenizer.texts_to_sequences(decoder_input_train) \n",
    "decoder_target_train = tar_tokenizer.texts_to_sequences(decoder_target_train)\n",
    "decoder_input_test = tar_tokenizer.texts_to_sequences(decoder_input_test)\n",
    "decoder_target_test = tar_tokenizer.texts_to_sequences(decoder_target_test)\n",
    "\n",
    "#잘 변환되었는지 확인\n",
    "print('input')\n",
    "print('input ',decoder_input_train[:5])\n",
    "print('target')\n",
    "print('decoder ',decoder_target_train[:5])"
   ]
  },
  {
   "cell_type": "code",
   "execution_count": 52,
   "id": "soviet-lightning",
   "metadata": {},
   "outputs": [
    {
     "name": "stdout",
     "output_type": "stream",
     "text": [
      "삭제할 훈련 데이터의 개수 : 0\n",
      "삭제할 테스트 데이터의 개수 : 0\n",
      "훈련 데이터의 개수 : 71599\n",
      "훈련 레이블의 개수 : 71599\n",
      "테스트 데이터의 개수 : 17899\n",
      "테스트 레이블의 개수 : 17899\n"
     ]
    }
   ],
   "source": [
    "drop_train = [index for index, sentence in enumerate(decoder_input_train) if len(sentence) == 1]\n",
    "drop_test = [index for index, sentence in enumerate(decoder_input_test) if len(sentence) == 1]\n",
    "\n",
    "print('삭제할 훈련 데이터의 개수 :',len(drop_train))\n",
    "print('삭제할 테스트 데이터의 개수 :',len(drop_test))\n",
    "\n",
    "encoder_input_train = np.delete(encoder_input_train, drop_train, axis=0)\n",
    "decoder_input_train = np.delete(decoder_input_train, drop_train, axis=0)\n",
    "decoder_target_train = np.delete(decoder_target_train, drop_train, axis=0)\n",
    "\n",
    "encoder_input_test = np.delete(encoder_input_test, drop_test, axis=0)\n",
    "decoder_input_test = np.delete(decoder_input_test, drop_test, axis=0)\n",
    "decoder_target_test = np.delete(decoder_target_test, drop_test, axis=0)\n",
    "\n",
    "print('훈련 데이터의 개수 :', len(encoder_input_train))\n",
    "print('훈련 레이블의 개수 :',len(decoder_input_train))\n",
    "print('테스트 데이터의 개수 :',len(encoder_input_test))\n",
    "print('테스트 레이블의 개수 :',len(decoder_input_test))"
   ]
  },
  {
   "cell_type": "code",
   "execution_count": 53,
   "id": "pharmaceutical-oklahoma",
   "metadata": {},
   "outputs": [],
   "source": [
    "encoder_input_train = pad_sequences(encoder_input_train, maxlen = text_max_len, padding='post')\n",
    "encoder_input_test = pad_sequences(encoder_input_test, maxlen = text_max_len, padding='post')\n",
    "decoder_input_train = pad_sequences(decoder_input_train, maxlen = headline_max_len, padding='post')\n",
    "decoder_target_train = pad_sequences(decoder_target_train, maxlen = headline_max_len, padding='post')\n",
    "decoder_input_test = pad_sequences(decoder_input_test, maxlen = headline_max_len, padding='post')\n",
    "decoder_target_test = pad_sequences(decoder_target_test, maxlen = headline_max_len, padding='post')"
   ]
  },
  {
   "cell_type": "markdown",
   "id": "invalid-metro",
   "metadata": {},
   "source": [
    "# 모델 설계하기"
   ]
  },
  {
   "cell_type": "code",
   "execution_count": 54,
   "id": "attended-municipality",
   "metadata": {},
   "outputs": [],
   "source": [
    "from tensorflow.keras.layers import Input, LSTM, Embedding, Dense, Concatenate\n",
    "from tensorflow.keras.models import Model\n",
    "from tensorflow.keras.callbacks import EarlyStopping, ModelCheckpoint\n",
    "\n",
    "\n",
    "# 인코더 설계 시작\n",
    "embedding_dim = 128\n",
    "hidden_size = 256\n",
    "\n",
    "# 인코더\n",
    "encoder_inputs = Input(shape=(text_max_len,))\n",
    "\n",
    "# 인코더의 임베딩 층\n",
    "enc_emb = Embedding(src_vocab, embedding_dim)(encoder_inputs)\n",
    "\n",
    "# 인코더의 LSTM 1\n",
    "encoder_lstm1 = LSTM(hidden_size, return_sequences=True, return_state=True ,dropout = 0.4, recurrent_dropout = 0.4)\n",
    "encoder_output1, state_h1, state_c1 = encoder_lstm1(enc_emb)\n",
    "\n",
    "# 인코더의 LSTM 2\n",
    "encoder_lstm2 = LSTM(hidden_size, return_sequences=True, return_state=True, dropout=0.4, recurrent_dropout=0.4)\n",
    "encoder_output2, state_h2, state_c2 = encoder_lstm2(encoder_output1)\n",
    "\n",
    "# 인코더의 LSTM 3\n",
    "encoder_lstm3 = LSTM(hidden_size, return_state=True, return_sequences=True, dropout=0.4, recurrent_dropout=0.4)\n",
    "encoder_outputs, state_h, state_c= encoder_lstm3(encoder_output2)"
   ]
  },
  {
   "cell_type": "code",
   "execution_count": 55,
   "id": "artificial-sitting",
   "metadata": {},
   "outputs": [],
   "source": [
    "# 디코더 설계\n",
    "\n",
    "decoder_inputs = Input(shape=(None,))\n",
    "\n",
    "# 디코더의 임베딩 층\n",
    "dec_emb_layer = Embedding(tar_vocab, embedding_dim)\n",
    "dec_emb = dec_emb_layer(decoder_inputs)\n",
    "\n",
    "# 디코더의 LSTM\n",
    "decoder_lstm = LSTM(hidden_size, return_sequences = True, return_state = True, dropout = 0.4, recurrent_dropout=0.2)\n",
    "decoder_outputs, _, _ = decoder_lstm(dec_emb, initial_state = [state_h, state_c])"
   ]
  },
  {
   "cell_type": "code",
   "execution_count": 56,
   "id": "concrete-playlist",
   "metadata": {},
   "outputs": [],
   "source": [
    "urllib.request.urlretrieve(\"https://raw.githubusercontent.com/thushv89/attention_keras/master/src/layers/attention.py\", filename=\"attention.py\")\n",
    "from attention import AttentionLayer"
   ]
  },
  {
   "cell_type": "code",
   "execution_count": 57,
   "id": "settled-market",
   "metadata": {},
   "outputs": [
    {
     "name": "stdout",
     "output_type": "stream",
     "text": [
      "WARNING:tensorflow:AutoGraph could not transform <bound method AttentionLayer.call of <attention.AttentionLayer object at 0x7f139bd4bdd0>> and will run it as-is.\n",
      "Please report this to the TensorFlow team. When filing the bug, set the verbosity to 10 (on Linux, `export AUTOGRAPH_VERBOSITY=10`) and attach the full output.\n",
      "Cause: No module named 'tensorflow_core.estimator'\n"
     ]
    },
    {
     "name": "stderr",
     "output_type": "stream",
     "text": [
      "WARNING:tensorflow:AutoGraph could not transform <bound method AttentionLayer.call of <attention.AttentionLayer object at 0x7f139bd4bdd0>> and will run it as-is.\n",
      "Please report this to the TensorFlow team. When filing the bug, set the verbosity to 10 (on Linux, `export AUTOGRAPH_VERBOSITY=10`) and attach the full output.\n",
      "Cause: No module named 'tensorflow_core.estimator'\n"
     ]
    },
    {
     "name": "stdout",
     "output_type": "stream",
     "text": [
      "WARNING: AutoGraph could not transform <bound method AttentionLayer.call of <attention.AttentionLayer object at 0x7f139bd4bdd0>> and will run it as-is.\n",
      "Please report this to the TensorFlow team. When filing the bug, set the verbosity to 10 (on Linux, `export AUTOGRAPH_VERBOSITY=10`) and attach the full output.\n",
      "Cause: No module named 'tensorflow_core.estimator'\n",
      "Model: \"model\"\n",
      "__________________________________________________________________________________________________\n",
      "Layer (type)                    Output Shape         Param #     Connected to                     \n",
      "==================================================================================================\n",
      "input_1 (InputLayer)            [(None, 60)]         0                                            \n",
      "__________________________________________________________________________________________________\n",
      "embedding (Embedding)           (None, 60, 128)      5120000     input_1[0][0]                    \n",
      "__________________________________________________________________________________________________\n",
      "lstm (LSTM)                     [(None, 60, 256), (N 394240      embedding[0][0]                  \n",
      "__________________________________________________________________________________________________\n",
      "input_2 (InputLayer)            [(None, None)]       0                                            \n",
      "__________________________________________________________________________________________________\n",
      "lstm_1 (LSTM)                   [(None, 60, 256), (N 525312      lstm[0][0]                       \n",
      "__________________________________________________________________________________________________\n",
      "embedding_1 (Embedding)         (None, None, 128)    2176000     input_2[0][0]                    \n",
      "__________________________________________________________________________________________________\n",
      "lstm_2 (LSTM)                   [(None, 60, 256), (N 525312      lstm_1[0][0]                     \n",
      "__________________________________________________________________________________________________\n",
      "lstm_3 (LSTM)                   [(None, None, 256),  394240      embedding_1[0][0]                \n",
      "                                                                 lstm_2[0][1]                     \n",
      "                                                                 lstm_2[0][2]                     \n",
      "__________________________________________________________________________________________________\n",
      "attention_layer (AttentionLayer ((None, None, 256),  131328      lstm_2[0][0]                     \n",
      "                                                                 lstm_3[0][0]                     \n",
      "__________________________________________________________________________________________________\n",
      "concat_layer (Concatenate)      (None, None, 512)    0           lstm_3[0][0]                     \n",
      "                                                                 attention_layer[0][0]            \n",
      "__________________________________________________________________________________________________\n",
      "dense (Dense)                   (None, None, 17000)  8721000     concat_layer[0][0]               \n",
      "==================================================================================================\n",
      "Total params: 17,987,432\n",
      "Trainable params: 17,987,432\n",
      "Non-trainable params: 0\n",
      "__________________________________________________________________________________________________\n"
     ]
    }
   ],
   "source": [
    "# 어텐션 층(어텐션 함수)\n",
    "attn_layer = AttentionLayer(name='attention_layer')\n",
    "# 인코더와 디코더의 모든 time step의 hidden state를 어텐션 층에 전달하고 결과를 리턴\n",
    "attn_out, attn_states = attn_layer([encoder_outputs, decoder_outputs])\n",
    "\n",
    "# 어텐션의 결과와 디코더의 hidden state들을 연결\n",
    "decoder_concat_input = Concatenate(axis = -1, name='concat_layer')([decoder_outputs, attn_out])\n",
    "\n",
    "# 디코더의 출력층\n",
    "decoder_softmax_layer = Dense(tar_vocab, activation='softmax')\n",
    "decoder_softmax_outputs = decoder_softmax_layer(decoder_concat_input)\n",
    "\n",
    "# 모델 정의\n",
    "model = Model([encoder_inputs, decoder_inputs], decoder_softmax_outputs)\n",
    "model.summary()"
   ]
  },
  {
   "cell_type": "code",
   "execution_count": 58,
   "id": "unauthorized-laser",
   "metadata": {},
   "outputs": [
    {
     "name": "stdout",
     "output_type": "stream",
     "text": [
      "Train on 71599 samples, validate on 17899 samples\n",
      "Epoch 1/50\n",
      "71599/71599 [==============================] - 106s 1ms/sample - loss: 6.5835 - val_loss: 6.1275\n",
      "Epoch 2/50\n",
      "71599/71599 [==============================] - 98s 1ms/sample - loss: 6.0581 - val_loss: 5.8059\n",
      "Epoch 3/50\n",
      "71599/71599 [==============================] - 100s 1ms/sample - loss: 5.7460 - val_loss: 5.5218\n",
      "Epoch 4/50\n",
      "71599/71599 [==============================] - 99s 1ms/sample - loss: 5.4774 - val_loss: 5.3004\n",
      "Epoch 5/50\n",
      "71599/71599 [==============================] - 100s 1ms/sample - loss: 5.2666 - val_loss: 5.1441\n",
      "Epoch 6/50\n",
      "71599/71599 [==============================] - 100s 1ms/sample - loss: 5.0867 - val_loss: 5.0173\n",
      "Epoch 7/50\n",
      "71599/71599 [==============================] - 98s 1ms/sample - loss: 4.9328 - val_loss: 4.9024\n",
      "Epoch 8/50\n",
      "71599/71599 [==============================] - 97s 1ms/sample - loss: 4.7943 - val_loss: 4.8031\n",
      "Epoch 9/50\n",
      "71599/71599 [==============================] - 97s 1ms/sample - loss: 4.6673 - val_loss: 4.7209\n",
      "Epoch 10/50\n",
      "71599/71599 [==============================] - 93s 1ms/sample - loss: 4.5580 - val_loss: 4.6543\n",
      "Epoch 11/50\n",
      "71599/71599 [==============================] - 92s 1ms/sample - loss: 4.4555 - val_loss: 4.5965\n",
      "Epoch 12/50\n",
      "71599/71599 [==============================] - 91s 1ms/sample - loss: 4.3623 - val_loss: 4.5514\n",
      "Epoch 13/50\n",
      "71599/71599 [==============================] - 92s 1ms/sample - loss: 4.2779 - val_loss: 4.5015\n",
      "Epoch 14/50\n",
      "71599/71599 [==============================] - 92s 1ms/sample - loss: 4.2001 - val_loss: 4.4531\n",
      "Epoch 15/50\n",
      "71599/71599 [==============================] - 94s 1ms/sample - loss: 4.1297 - val_loss: 4.4225\n",
      "Epoch 16/50\n",
      "71599/71599 [==============================] - 93s 1ms/sample - loss: 4.0617 - val_loss: 4.3914\n",
      "Epoch 17/50\n",
      "71599/71599 [==============================] - 93s 1ms/sample - loss: 3.9965 - val_loss: 4.3602\n",
      "Epoch 18/50\n",
      "71599/71599 [==============================] - 94s 1ms/sample - loss: 3.9393 - val_loss: 4.3288\n",
      "Epoch 19/50\n",
      "71599/71599 [==============================] - 93s 1ms/sample - loss: 3.8818 - val_loss: 4.3014\n",
      "Epoch 20/50\n",
      "71599/71599 [==============================] - 93s 1ms/sample - loss: 3.8319 - val_loss: 4.2781\n",
      "Epoch 21/50\n",
      "71599/71599 [==============================] - 93s 1ms/sample - loss: 3.7798 - val_loss: 4.2575\n",
      "Epoch 22/50\n",
      "71599/71599 [==============================] - 93s 1ms/sample - loss: 3.7294 - val_loss: 4.2320\n",
      "Epoch 23/50\n",
      "71599/71599 [==============================] - 92s 1ms/sample - loss: 3.6821 - val_loss: 4.2315\n",
      "Epoch 24/50\n",
      "71599/71599 [==============================] - 92s 1ms/sample - loss: 3.6380 - val_loss: 4.1983\n",
      "Epoch 25/50\n",
      "71599/71599 [==============================] - 92s 1ms/sample - loss: 3.5952 - val_loss: 4.1807\n",
      "Epoch 26/50\n",
      "71599/71599 [==============================] - 92s 1ms/sample - loss: 3.5557 - val_loss: 4.1739\n",
      "Epoch 27/50\n",
      "71599/71599 [==============================] - 93s 1ms/sample - loss: 3.5189 - val_loss: 4.1541\n",
      "Epoch 28/50\n",
      "71599/71599 [==============================] - 93s 1ms/sample - loss: 3.4815 - val_loss: 4.1482\n",
      "Epoch 29/50\n",
      "71599/71599 [==============================] - 95s 1ms/sample - loss: 3.4453 - val_loss: 4.1243\n",
      "Epoch 30/50\n",
      "71599/71599 [==============================] - 98s 1ms/sample - loss: 3.4056 - val_loss: 4.1224\n",
      "Epoch 31/50\n",
      "71599/71599 [==============================] - 95s 1ms/sample - loss: 3.3678 - val_loss: 4.1175\n",
      "Epoch 32/50\n",
      "71599/71599 [==============================] - 94s 1ms/sample - loss: 3.3384 - val_loss: 4.0993\n",
      "Epoch 33/50\n",
      "71599/71599 [==============================] - 94s 1ms/sample - loss: 3.3089 - val_loss: 4.0904\n",
      "Epoch 34/50\n",
      "71599/71599 [==============================] - 94s 1ms/sample - loss: 3.2775 - val_loss: 4.0817\n",
      "Epoch 35/50\n",
      "71599/71599 [==============================] - 94s 1ms/sample - loss: 3.2451 - val_loss: 4.0677\n",
      "Epoch 36/50\n",
      "71599/71599 [==============================] - 94s 1ms/sample - loss: 3.2154 - val_loss: 4.0572\n",
      "Epoch 37/50\n",
      "71599/71599 [==============================] - 94s 1ms/sample - loss: 3.1840 - val_loss: 4.0435\n",
      "Epoch 38/50\n",
      "71599/71599 [==============================] - 93s 1ms/sample - loss: 3.1586 - val_loss: 4.0385\n",
      "Epoch 39/50\n",
      "71599/71599 [==============================] - 93s 1ms/sample - loss: 3.1316 - val_loss: 4.0346\n",
      "Epoch 40/50\n",
      "71599/71599 [==============================] - 94s 1ms/sample - loss: 3.1113 - val_loss: 4.0305\n",
      "Epoch 41/50\n",
      "71599/71599 [==============================] - 94s 1ms/sample - loss: 3.0853 - val_loss: 4.0202\n",
      "Epoch 42/50\n",
      "71599/71599 [==============================] - 94s 1ms/sample - loss: 3.0625 - val_loss: 4.0125\n",
      "Epoch 43/50\n",
      "71599/71599 [==============================] - 97s 1ms/sample - loss: 3.0339 - val_loss: 4.0148\n",
      "Epoch 44/50\n",
      "71599/71599 [==============================] - 100s 1ms/sample - loss: 3.0095 - val_loss: 3.9960\n",
      "Epoch 45/50\n",
      "71599/71599 [==============================] - 98s 1ms/sample - loss: 2.9864 - val_loss: 3.9901\n",
      "Epoch 46/50\n",
      "71599/71599 [==============================] - 98s 1ms/sample - loss: 2.9671 - val_loss: 3.9816\n",
      "Epoch 47/50\n",
      "71599/71599 [==============================] - 94s 1ms/sample - loss: 2.9443 - val_loss: 3.9820\n",
      "Epoch 48/50\n",
      "71599/71599 [==============================] - 93s 1ms/sample - loss: 2.9227 - val_loss: 3.9770\n",
      "Epoch 49/50\n",
      "71599/71599 [==============================] - 93s 1ms/sample - loss: 2.8990 - val_loss: 3.9724\n",
      "Epoch 50/50\n",
      "71599/71599 [==============================] - 93s 1ms/sample - loss: 2.8792 - val_loss: 3.9629\n"
     ]
    }
   ],
   "source": [
    "model.compile(optimizer='rmsprop', loss='sparse_categorical_crossentropy')\n",
    "es = EarlyStopping(monitor='val_loss', mode='min', verbose=1, patience = 2)\n",
    "history = model.fit(x = [encoder_input_train, decoder_input_train], y = decoder_target_train, \\\n",
    "          validation_data = ([encoder_input_test, decoder_input_test], decoder_target_test),\n",
    "          batch_size = 256, callbacks=[es], epochs = 50)"
   ]
  },
  {
   "cell_type": "code",
   "execution_count": 59,
   "id": "sudden-level",
   "metadata": {},
   "outputs": [
    {
     "data": {
      "image/png": "[encoded data removed]",
      "text/plain": [
       "<Figure size 432x288 with 1 Axes>"
      ]
     },
     "metadata": {
      "needs_background": "light"
     },
     "output_type": "display_data"
    }
   ],
   "source": [
    "plt.plot(history.history['loss'], label='train')\n",
    "plt.plot(history.history['val_loss'], label='test')\n",
    "plt.legend()\n",
    "plt.show()"
   ]
  },
  {
   "cell_type": "markdown",
   "id": "worth-vehicle",
   "metadata": {},
   "source": [
    "# 인퍼런스 모델 구현하기"
   ]
  },
  {
   "cell_type": "code",
   "execution_count": 60,
   "id": "measured-acting",
   "metadata": {},
   "outputs": [],
   "source": [
    "src_index_to_word = src_tokenizer.index_word # 원문 단어 집합에서 정수 -> 단어를 얻음\n",
    "tar_word_to_index = tar_tokenizer.word_index # 요약 단어 집합에서 단어 -> 정수를 얻음\n",
    "tar_index_to_word = tar_tokenizer.index_word # 요약 단어 집합에서 정수 -> 단어를 얻음"
   ]
  },
  {
   "cell_type": "code",
   "execution_count": 61,
   "id": "complicated-alliance",
   "metadata": {},
   "outputs": [],
   "source": [
    "# 인코더 설계\n",
    "encoder_model = Model(inputs=encoder_inputs, outputs=[encoder_outputs, state_h, state_c])\n",
    "\n",
    "# 이전 시점의 상태들을 저장하는 텐서\n",
    "decoder_state_input_h = Input(shape=(hidden_size,))\n",
    "decoder_state_input_c = Input(shape=(hidden_size,))\n",
    "\n",
    "dec_emb2 = dec_emb_layer(decoder_inputs)\n",
    "# 문장의 다음 단어를 예측하기 위해서 초기 상태(initial_state)를 이전 시점의 상태로 사용. 이는 뒤의 함수 decode_sequence()에 구현\n",
    "# 훈련 과정에서와 달리 LSTM의 리턴하는 은닉 상태와 셀 상태인 state_h와 state_c를 버리지 않음.\n",
    "decoder_outputs2, state_h2, state_c2 = decoder_lstm(dec_emb2, initial_state=[decoder_state_input_h, decoder_state_input_c])"
   ]
  },
  {
   "cell_type": "code",
   "execution_count": 62,
   "id": "congressional-norway",
   "metadata": {},
   "outputs": [
    {
     "name": "stdout",
     "output_type": "stream",
     "text": [
      "WARNING:tensorflow:AutoGraph could not transform <bound method AttentionLayer.call of <attention.AttentionLayer object at 0x7f139bd4bdd0>> and will run it as-is.\n",
      "Please report this to the TensorFlow team. When filing the bug, set the verbosity to 10 (on Linux, `export AUTOGRAPH_VERBOSITY=10`) and attach the full output.\n",
      "Cause: No module named 'tensorflow_core.estimator'\n"
     ]
    },
    {
     "name": "stderr",
     "output_type": "stream",
     "text": [
      "WARNING:tensorflow:AutoGraph could not transform <bound method AttentionLayer.call of <attention.AttentionLayer object at 0x7f139bd4bdd0>> and will run it as-is.\n",
      "Please report this to the TensorFlow team. When filing the bug, set the verbosity to 10 (on Linux, `export AUTOGRAPH_VERBOSITY=10`) and attach the full output.\n",
      "Cause: No module named 'tensorflow_core.estimator'\n"
     ]
    },
    {
     "name": "stdout",
     "output_type": "stream",
     "text": [
      "WARNING: AutoGraph could not transform <bound method AttentionLayer.call of <attention.AttentionLayer object at 0x7f139bd4bdd0>> and will run it as-is.\n",
      "Please report this to the TensorFlow team. When filing the bug, set the verbosity to 10 (on Linux, `export AUTOGRAPH_VERBOSITY=10`) and attach the full output.\n",
      "Cause: No module named 'tensorflow_core.estimator'\n"
     ]
    }
   ],
   "source": [
    "# 어텐션 함수\n",
    "decoder_hidden_state_input = Input(shape=(text_max_len, hidden_size))\n",
    "attn_out_inf, attn_states_inf = attn_layer([decoder_hidden_state_input, decoder_outputs2])\n",
    "decoder_inf_concat = Concatenate(axis=-1, name='concat')([decoder_outputs2, attn_out_inf])\n",
    "\n",
    "# 디코더의 출력층\n",
    "decoder_outputs2 = decoder_softmax_layer(decoder_inf_concat) \n",
    "\n",
    "# 최종 디코더 모델\n",
    "decoder_model = Model(\n",
    "    [decoder_inputs] + [decoder_hidden_state_input,decoder_state_input_h, decoder_state_input_c],\n",
    "    [decoder_outputs2] + [state_h2, state_c2])"
   ]
  },
  {
   "cell_type": "code",
   "execution_count": 65,
   "id": "spoken-channel",
   "metadata": {},
   "outputs": [
    {
     "name": "stdout",
     "output_type": "stream",
     "text": [
      "ERROR! Session/line number was not unique in database. History logging moved to new session 206\n"
     ]
    }
   ],
   "source": [
    "def decode_sequence(input_seq):\n",
    "    # 입력으로부터 인코더의 상태를 얻음\n",
    "    e_out, e_h, e_c = encoder_model.predict(input_seq)\n",
    "\n",
    "     # <SOS>에 해당하는 토큰 생성\n",
    "    target_seq = np.zeros((1,1))\n",
    "    target_seq[0, 0] = tar_word_to_index['sostoken']\n",
    "\n",
    "    stop_condition = False\n",
    "    decoded_sentence = ''\n",
    "    while not stop_condition: # stop_condition이 True가 될 때까지 루프 반복\n",
    "\n",
    "        output_tokens, h, c = decoder_model.predict([target_seq] + [e_out, e_h, e_c])\n",
    "        sampled_token_index = np.argmax(output_tokens[0, -1, :])\n",
    "        sampled_token = tar_index_to_word[sampled_token_index]\n",
    "\n",
    "        if(sampled_token!='eostoken'):\n",
    "            decoded_sentence += ' '+sampled_token\n",
    "\n",
    "        #  <eos>에 도달하거나 최대 길이를 넘으면 중단.\n",
    "        if (sampled_token == 'eostoken'  or len(decoded_sentence.split()) >= (headline_max_len-1)):\n",
    "            stop_condition = True\n",
    "\n",
    "        # 길이가 1인 타겟 시퀀스를 업데이트\n",
    "        target_seq = np.zeros((1,1))\n",
    "        target_seq[0, 0] = sampled_token_index\n",
    "\n",
    "        # 상태를 업데이트 합니다.\n",
    "        e_h, e_c = h, c\n",
    "\n",
    "    return decoded_sentence"
   ]
  },
  {
   "cell_type": "code",
   "execution_count": 64,
   "id": "neural-arbitration",
   "metadata": {},
   "outputs": [],
   "source": [
    "# 원문의 정수 시퀀스를 텍스트 시퀀스로 변환\n",
    "def seq2text(input_seq):\n",
    "    temp=''\n",
    "    for i in input_seq:\n",
    "        if(i!=0):\n",
    "            temp = temp + src_index_to_word[i]+' '\n",
    "    return temp\n",
    "\n",
    "# 요약문의 정수 시퀀스를 텍스트 시퀀스로 변환\n",
    "def seq2summary(input_seq):\n",
    "    temp=''\n",
    "    for i in input_seq:\n",
    "        if((i!=0 and i!=tar_word_to_index['sostoken']) and i!=tar_word_to_index['eostoken']):\n",
    "            temp = temp + tar_index_to_word[i] + ' '\n",
    "    return temp"
   ]
  },
  {
   "cell_type": "code",
   "execution_count": 66,
   "id": "working-sacramento",
   "metadata": {},
   "outputs": [
    {
     "name": "stdout",
     "output_type": "stream",
     "text": [
      "원문 : after the us food and drug administration approved the cancer treatment that uses patient's own immune cells hailing it as breakthrough therapy the organisation has put additional trials on hold after a 78 year old's death the patient reportedly died eight days after the immune cells were modified and re introduced back into the body which caused a lethal reaction \n",
      "실제 요약 : cancer drug trials on hold after patient dies \n",
      "예측 요약 :  cancer patient sues cancer for cancer patient\n",
      "\n",
      "\n",
      "원문 : referring to former president pranab mukherjee's speech at an rss event in nagpur congress spokesperson randeep surjewala on thursday said today pranab mukherjee has shown the mirror of truth to rss at their headquarters he added shri pranab mukherjee has reminded the rss of the history of india he taught the rss that india's beauty lies in its tolerance \n",
      "실제 요약 : ex prez mukherjee showed rss mirror of truth congress \n",
      "예측 요약 :  rss rss president rss president gandhi\n",
      "\n",
      "\n",
      "원문 : after the supreme court upheld death penalty to four convicts in the 2012 nirbhaya gangrape case the convicts' lawyer said we will file review petition after reading the order alleging that the human rights of the convicts have been neglected he added justice is not done you cannot give a death sentence to anyone for a message to the nation \n",
      "실제 요약 : nirbhaya gangrape convicts to file review petition in sc \n",
      "예측 요약 :  nirbhaya rape case not compulsory for sc\n",
      "\n",
      "\n",
      "원문 : the west bengal assembly has passed the resolution to change the state's name to the proposal will now go to the home ministry for approval and the name of the state will be changed only if the ministry gives the green signal the centre earlier rejected the proposal of name change to in english and in bengali \n",
      "실제 요약 : west bengal passes resolution to change name of state to \n",
      "예측 요약 :  chhattisgarh government to use name to name\n",
      "\n",
      "\n",
      "원문 : referring to australia's batting in the first innings of the first india test on friday sachin tendulkar tweeted the defensive mindset by the australian batsmen at home is something i've not seen before in my experience india should make the most of this situation and not lose their grip he added notably australia have scored 191 7 in 88 overs \n",
      "실제 요약 : never seen such batting by australia at home sachin \n",
      "예측 요약 :  sachin should not be called by team sachin\n",
      "\n",
      "\n",
      "원문 : between rohit sharma and virat kohli resulted in the captain's run out on tuesday a user tweeted selfless cricketer kohli got run out for rohit's double century other tweets read rohit kohli run out is better love story than twilight and kohli turns 1s into pandya black hair into red yellow green etc and rohit turns run outs into centuries \n",
      "실제 요약 : kohli got run out for rohit's double century tweets user \n",
      "예측 요약 :  kohli run out run run for not kohli tweets user\n",
      "\n",
      "\n",
      "원문 : rb german striker werner was substituted after complaining of dizziness during the club's champions league match against besiktas due to noise inside home stadium the 21 year old who earlier asked for to cope with the noise made by home supporters was substituted after 32 minutes leipzig lost the match 0 2 to the bottom in their group \n",
      "실제 요약 : german striker due to crowd noise \n",
      "예측 요약 :  player accused of attacking players from football team\n",
      "\n",
      "\n",
      "원문 : government provides paid z security to the gupta brothers who are linked to the corruption scandal involving former south african president jacob zuma government officials said on saturday authorities said the south africa based gupta brothers were provided the security as per well laid out norms the brothers are accused of using their ties to zuma to influence state contracts \n",
      "실제 요약 : u'khand gives z security to brothers linked to sa graft case \n",
      "예측 요약 :  anti corruption in venezuela to pay corruption ex prez\n",
      "\n",
      "\n",
      "원문 : celebrities attending this year's golden globe awards were seen wearing black as a sign of solidarity with victims of sexual assault and harassment following the of allegations against top hollywood actors and filmmakers celebrities were also seen sporting lapel pins and badges for campaigns like time's up which aim to fight harassment and gender inequality in the entertainment industry \n",
      "실제 요약 : golden globe attendees dress in black after sexual abuse row \n",
      "예측 요약 :  prince charles to replace black sex at sexual harassment\n",
      "\n",
      "\n",
      "원문 : west bengal fisheries minister cn sinha has announced that a government initiative to provide fish meals for ã¢ââ¹21 across the state will be launched in may the meals will be sold from battery operated cars located near district magistrate offices the annapurna initiative was launched in kolkata on an experimental basis and proved to be a great success sinha added \n",
      "실제 요약 : bengal to offer fish meals for ã¢ââ¹21 on battery run cars \n",
      "예측 요약 :  govt to impose medical treatment for electric vehicles\n",
      "\n",
      "\n",
      "원문 : four airlines including indigo air india spicejet and vistara on wednesday lifted their ban on telugu desam party mp diwakar reddy the parliamentarian was banned by seven airlines after he allegedly manhandled indigo staff last month when they did not let him board an aircraft reportedly reddy has also agreed to withdraw the case he had filed against the airlines \n",
      "실제 요약 : airlines lift ban on mp who manhandled airline staff \n",
      "예측 요약 :  airline bans airlines from airlines to ban jet airways\n",
      "\n",
      "\n",
      "원문 : which had been declared out of control by china in 2016 could reportedly re enter the earth's atmosphere around march while most of the 8 5 tonne station is expected to burn during re entry experts fear humans could come in contact with remnants of toxic rocket fuel launched in 2011 tiangong 1 has hosted several unmanned and manned missions \n",
      "실제 요약 : 8 5 tonne space lab could fall to earth by march \n",
      "예측 요약 :  china loses control of 8 islands in china\n",
      "\n",
      "\n",
      "원문 : the indian army will soon deploy indigenously built robots capable of delivering ammunition at intended locations to fight terrorism in jammu and kashmir the army's proposal projecting a requirement of 544 robots has been approved by the centre the lightweight robots will consist of several such as surveillance cameras and transmission systems with a range of 200 metres \n",
      "실제 요약 : army to deploy robots to fight terror in jammu and kashmir \n",
      "예측 요약 :  indian army to build robots to counter indian army\n",
      "\n",
      "\n",
      "원문 : a doctor at a government hospital in delhi mistakenly performed leg surgery on a patient admitted with a head injury the doctor who has now been barred from conducting surgeries without supervision had reportedly confused two patients he had drilled a hole into the patient's leg after which the son noticed the error and alerted the hospital \n",
      "실제 요약 : delhi doc performs leg surgery on patient with head injury \n",
      "예측 요약 :  doctor performs surgery to doctor who gets pregnant surgery\n",
      "\n",
      "\n",
      "원문 : haryana's village panchayat has passed a 'no toilet no resolution becoming the first panchayat in the country to do so according to the resolution girls from will not be married off in houses without a toilet if girls have to go out of their homes to relieve themselves they will not be safe the village sarpanch said \n",
      "실제 요약 : haryana village 1st to pass 'no toilet no resolution \n",
      "예측 요약 :  haryana cm stops contest from h'yana for 1st time\n",
      "\n",
      "\n",
      "원문 : the first look of rishi kapoor and taapsee pannu from the film 'mulk' has been revealed sharing the picture and talking about the film taapsee tweeted perhaps the most relevant topic of current time taapsee will be seen portraying a lawyer in the courtroom drama which also stars prateik babbar rajat kapoor ashutosh rana manoj pahwa and neena gupta \n",
      "실제 요약 : first look of rishi kapoor taapsee pannu from 'mulk' out \n",
      "예측 요약 :  first look of rishi taapsee starrer 'tiger zinda hai' out\n",
      "\n",
      "\n",
      "원문 : pm narendra modi gifted a marble of mahatma gandhi's three wise monkeys to his japanese counterpart shinzo abe in ahmedabad the monkeys are a symbol of the proverb 'see no evil hear no evil speak no believed to have its origin in japan notably the duo laid the foundation stone of the bullet train project on thursday \n",
      "실제 요약 : pm modi gifts 'three wise to japan pm \n",
      "예측 요약 :  pm modi gifts his first ever to japan\n",
      "\n",
      "\n",
      "원문 : novak djokovic defeated world number two rafael nadal in straight sets in the men's singles final on sunday to win australian open for a record seventh time this is the third time that the 31 year old serbian has won three consecutive grand slams titles djokovic has now won 15 grand slam titles third most by a male tennis player \n",
      "실제 요약 : djokovic beats nadal to win his record 7th australian open title \n"
     ]
    },
    {
     "name": "stdout",
     "output_type": "stream",
     "text": [
      "예측 요약 :  nadal nadal reaches record for most nadal in world\n",
      "\n",
      "\n",
      "원문 : bluetooth enabled fidget spinners exploded in the us states of michigan and alabama this week the fidget spinners both of which used bluetooth to connect to phones to play music through built in speakers exploded while charging for less than 30 and 45 minutes one of the spinner's box did not have any instructions but only read made in china \n",
      "실제 요약 : bluetooth enabled fidget spinners explode while charging \n",
      "예측 요약 :  video game rolls out of baseball game in us\n",
      "\n",
      "\n",
      "원문 : the association for democratic analysis of 193 out of 196 candidates for the 27 february nagaland assembly elections has revealed that 59 of the candidates are crorepatis jd u nominee is the richest candidate with a total wealth of ã¢ââ¹38 92 crore aap candidate n in his affidavit has shown nil movable and immovable assets it revealed \n",
      "실제 요약 : 59 candidates in nagaland elections are crorepatis \n",
      "예측 요약 :  telangana cm candidate results to be candidate in rajasthan\n",
      "\n",
      "\n",
      "원문 : as per reports actress rakul preet singh will star opposite actor ajay devgn in an upcoming film the film which also stars tabu marks the directorial debut of ali the film is said to be a unique romantic comedy and not a love triangle as ajay and tabu will not star opposite each other \n",
      "실제 요약 : rakul preet to star opposite devgn in upcoming film report \n",
      "예측 요약 :  to star opposite irrfan in film report\n",
      "\n",
      "\n",
      "원문 : old man who underwent a heart transplant in 1986 was diagnosed with a fungal infection after 30 years us based doctors have reported symptoms of also known as cave disease usually appear between 3 17 days of inhaling the fungi doctors concluded the patient was susceptible to it as he was on long term so that the heart wasn't rejected \n",
      "실제 요약 : found in heart transplant patient after 30 years \n",
      "예측 요약 :  man who lost heart surgery to save patient in us\n",
      "\n",
      "\n",
      "원문 : england's alastair cook equalled sachin tendulkar and jack record of having suffered the most number of losses in an away country in test cricket following england's loss in the third ashes test against australia cook registered his 14th test loss in australia in 18 test matches sachin lost 14 tests in australia out of 20 tests he played there \n",
      "실제 요약 : cook equals sachin's record of most test losses in a country \n",
      "예측 요약 :  sachin equals world record of most sixes in test\n",
      "\n",
      "\n",
      "원문 : convicts serving life terms in tamil nadu's central prison have been converting demonetised notes into customised stationery for use in government offices the scrapped notes are first made into pulp then solidified in a die mould and eventually turned into hard file pads the convicts are paid between ã¢ââ¹160 and ã¢ââ¹200 for working eight hours a day \n",
      "실제 요약 : demonetised notes converted into by tn prisoners \n",
      "예측 요약 :  jail term notes using notes to avoid tax\n",
      "\n",
      "\n",
      "원문 : cristiano ronaldo ended his goalless spell of four la liga matches to score off a rebound following a penalty miss in real madrid's 3 2 win against malaga with the win real are provisionally seven points behind league leaders barcelona the league leaders are set to face second placed valencia who are four points behind in the league table \n",
      "실제 요약 : ronaldo ends goal drought as real edge past \n",
      "예측 요약 :  ronaldo scores his own hat trick in debut\n",
      "\n",
      "\n",
      "원문 : maharashtra government will increase the height of the chhatrapati shivaji maharaj memorial by two metres making it the tallest statue in the world the shivaji memorial will now be 212 metres tall although it was earlier supposed to be 210 metres tall the decision was made after china decided to add two floors to its 208 metre high buddha statue \n",
      "실제 요약 : shivaji statue height increased to compete with china statue \n",
      "예측 요약 :  maharashtra to get tallest beach in 2018\n",
      "\n",
      "\n",
      "원문 : paul the regional commissioner of tanzania's dar salaam city has asked the public to report the name of any person suspected of being gay he also announced the creation of a special team that will identify on social media and arrest them homosexuality is illegal in tanzania carrying a minimum jail term of 30 years \n",
      "실제 요약 : city asks public to report gay people \n",
      "예측 요약 :  why is the tradition of the queen of 2017\n",
      "\n",
      "\n",
      "원문 : trolling model and reality tv star kendall jenner for attending golden globes 2018 a user tweeted why is kendall jenner at golden globes did she get nominated for her pepsi ad another user wrote she was there to hand out pepsi to the women wearing black kendall jenner forgot to bring her pepsi can with her read a tweet \n",
      "실제 요약 : twitter users troll kendall for attending golden globes \n",
      "예측 요약 :  twitter reacts to kendall kylie jenner in the ad\n",
      "\n",
      "\n",
      "원문 : cbfc chief pahlaj nihalani has said that he believes filmmaker anurag kashyap has been singing songs after his exit as censor board chief he has been openly campaigning against my tenure there is no hidden agenda in his malice it's all out in the open added nihalani he further said that he is glad to bring happiness in anurag's life \n",
      "실제 요약 : i believe anurag has been singing songs pahlaj on cbfc exit \n",
      "예측 요약 :  anurag kashyap has no longer cbfc chief pahlaj\n",
      "\n",
      "\n",
      "원문 : as per reports actor charlie girlfriend julia has revealed that she is not scared of her boyfriend being hiv positive julia is also said to have called those warning her to stay away from sheen because of his illness she is reportedly keen on letting people know that being hiv positive is not a relationship \n",
      "실제 요약 : partner not scared of him being hiv positive report \n",
      "예측 요약 :  don't want to blood to face blood to blood prince\n",
      "\n",
      "\n",
      "원문 : a myanmar court has rejected the appeal of two reuters reporters sentenced to seven years in jail on charges of breaking the official secrets act the court said the defence had not provided sufficient evidence to show they were innocent before their arrest the reporters had been working on a reuters investigation into the killing of 10 rohingyas in myanmar \n",
      "실제 요약 : myanmar court rejects appeal by reuters journos jailed for 7 years \n",
      "예측 요약 :  myanmar rejects 7 year jail for 7 yrs over 7\n",
      "\n",
      "\n",
      "원문 : based dog sitting app wag has been slammed for allegedly losing its customers' pets under the startup's care the app has also been accused by a woman of misrepresenting its rescue efforts after wag lost her pet dog it is also facing allegations for fighting with users after a company executive demanded apology from one user for defaming the platform \n",
      "실제 요약 : dog sitting app wag slammed for losing dogs \n",
      "예측 요약 :  app slammed for tinder rival for tracking users\n",
      "\n",
      "\n",
      "원문 : posting a video with their own version of bollywood song 'yeh dosti hum nahi the official twitter handle of us embassy in india on friday wished the people of india a fantastic new year the tweet further read 2017 was a successful year for the india us relationship notably the embassy in september tweeted a video recreating famous bollywood dialogues \n",
      "실제 요약 : us embassy wishes india happy new year with hindi song \n",
      "예측 요약 :  video shows dancing on video of bieber dancing in us\n",
      "\n",
      "\n",
      "원문 : celebrities including amitabh bachchan anil kapoor anupam kher and diana penty congratulated the indian women's cricket team on winning against pakistan in a match in the icc women's world cup bachchan tweeted congratulations for your most convincing win may you continue to prosper and bring greater glory anupam tweeted superb win in icc women's world cup you are the \n",
      "실제 요약 : big b anil congratulate indian women's cricket team on win \n",
      "예측 요약 :  amitabh bachchan is the best player of india amitabh\n",
      "\n",
      "\n",
      "원문 : the united kingdom has selected 'my pure land' directed by british pakistani filmmaker as its official entry to oscars 2018 making it britain's first urdu language film to for the oscars it's based on a true story in rural pakistan and revolves around a mother and her daughters fighting for their land against an army of 200 \n",
      "실제 요약 : uk selects pak director's urdu language film as oscars entry \n",
      "예측 요약 :  uk city to get wax entry into uk\n",
      "\n",
      "\n",
      "원문 : policemen in haryana's rohtak district will now work with cameras fitted on their bodies that will record their activities of the entire day the pilot initiative has been taken to increase the city's surveillance and help police in monitoring accidents and incidents of crime the cameras record hd videos track location and also have night vision capabilities and laser \n",
      "실제 요약 : rohtak policemen to work with body cameras on duty \n"
     ]
    },
    {
     "name": "stdout",
     "output_type": "stream",
     "text": [
      "예측 요약 :  haryana police to get its own line in ayodhya\n",
      "\n",
      "\n",
      "원문 : saudi arabia has been appointed to the un commission on the status of women an agency which promotes gender equality and women empowerment this is despite the poor women's rights record and widespread gender inequality in the kingdom recently saudi was also elected by secret ballot to the un's economic and social council \n",
      "실제 요약 : saudi arabia elected to un women's rights commission \n",
      "예측 요약 :  saudi arabia to un women women to women\n",
      "\n",
      "\n",
      "원문 : former wwe world champion john cena addressed rumours that suggested he would be cast as the next captain america in marvel's 'the avengers' series if the captain america people are listening and you're watching right now i'd totally do it he said reports had claimed cena would replace chris evans as captain america after the upcoming film 'avengers endgame' \n",
      "실제 요약 : i'd totally do it john cena on playing captain america \n",
      "예측 요약 :  will be called a great star in next film john\n",
      "\n",
      "\n",
      "원문 : london based researchers have provided geological evidence of britain's separation from mainland europe during the ice age the strait would have been a rock ridge joining britain to france in the english channel the strait between in the uk and in france opened up in two episodes where an initial lake spill was followed by catastrophic flooding \n",
      "실제 요약 : scientists find evidence of britain's separation from europe \n",
      "예측 요약 :  scientists claim to find climate change in uk\n",
      "\n",
      "\n",
      "원문 : cbi has arrested four deputy commissioners of the customs department in mumbai for allegedly demanding ã¢ââ¹50 lakh from an importer to clear his consignment one of the four deputy commissioners and a private person were arrested red handed while allegedly receiving ã¢ââ¹5 lakh as the first installment of the bribe searches were conducted at offices and residential premises of accused \n",
      "실제 요약 : cbi arrests 4 customs officials for demanding ã¢ââ¹50 lakh bribe \n",
      "예측 요약 :  cbi arrests mumbai official for ã¢ââ¹50 lakh for second time\n",
      "\n",
      "\n",
      "원문 : year old player's football match was attended by her parents and her step parents because of us i will never believe co parenting can't work choose to do what's best for your child and everything will just fall into place wrote step mother on facebook mother said they put all their differences aside and do things together for their child \n",
      "실제 요약 : parents and step parents attend football match \n",
      "예측 요약 :  i will never be good for parents in us\n",
      "\n",
      "\n",
      "원문 : emirates etihad air arabia and have suspended flights to qatar starting tuesday after the uae saudi arabia bahrain egypt libya and yemen broke off all diplomatic ties with the fellow gulf arab state the countries accused qatar of supporting terrorism and extremism in the gulf arab region's worst rift in years meanwhile qatar airways suspended all flights to saudi n \n",
      "실제 요약 : emirates etihad suspend qatar flights amid diplomatic row \n",
      "예측 요약 :  saudi arabia suspends uae flights amid diplomatic row\n",
      "\n",
      "\n",
      "원문 : the supreme court on monday ordered the medical examination of calcutta high court judge cs karnan and declared that all orders passed by him are invalid and no court or tribunal shall take cognisance of his directions karnan is facing contempt proceedings after he accused a number of supreme court judges including the chief justice of corruption \n",
      "실제 요약 : orders passed by calcutta hc judge karnan are invalid sc \n",
      "예측 요약 :  sc orders judge of justice karnan in supreme court\n",
      "\n",
      "\n",
      "원문 : while presenting the union budget 2018 on thursday finance minister arun jaitley said that the government will encourage organic farming by farmer in large clusters women self help groups shgs will be encouraged to undertake organic agriculture in clusters under the national rural livelihood programme he added the minimum support price for farmers has been increased by 1 5 times \n",
      "실제 요약 : govt will promote organic farming in arun jaitley \n",
      "예측 요약 :  govt to discuss triple talaq in schools jaitley\n",
      "\n",
      "\n",
      "원문 : netherlands' robin van nicknamed 'flying by arsenal supporters scored a diving header against spain in the world cup on june 13 2014 netherlands who went on to win the match 5 1 were trailing 0 1 when van guided a blind cross into the net in the 44th minute the goal was nominated for the 2014 award \n",
      "실제 요약 : player named flying scored flying in 2014 wc \n",
      "예측 요약 :  arsenal player wins goal with 0 in football\n",
      "\n",
      "\n",
      "원문 : during a recent interview congress mp shashi tharoor was asked whose social media account he would like to hack if given a chance to which he answered pm narendra modi he said imagine if i got on to hacking pm narendra modi's account and managed to tell the truth about all the reality behind the rhetoric \n",
      "실제 요약 : imagine if i hacked pm modi's social media account tharoor \n",
      "예측 요약 :  website hacked to pm modi's speech\n",
      "\n",
      "\n",
      "원문 : girl was arrested in punjab's ludhiana for allegedly killing her four year old brother whose body was found in a sack a few days ago during an interrogation the girl revealed that she was unhappy with her brother for telling their parents about her boyfriend and planned the murder 15 days before she strangled him to death on october 6 \n",
      "실제 요약 : kills 4 yr old brother for telling parents about her lover \n",
      "예측 요약 :  punjab girl kills self after being probed for her\n",
      "\n",
      "\n",
      "원문 : indian middle order batsman yuvraj singh bid farewell to pakistani cricketers misbah ul haq and younis khan on twitter good bye two greats of pakistan cricket and younis khan your contribution towards the game was inspiring to all of us read yuvraj's tweet the duo had announced that they would be retiring after pakistan's series against west indies \n",
      "실제 요약 : good to two of pakistan cricket yuvraj \n",
      "예측 요약 :  yuvraj singh yuvraj singh sings for pakistan\n",
      "\n",
      "\n",
      "원문 : actor amitabh bachchan shared a picture of himself with his wife actress jaya bachchan on twitter which was prior to their marriage when they were shooting together for the 1973 film amitabh who is seen being fed by jaya wrote alongside the picture the instincts leap up the way to a man's heart is via his stomach \n",
      "실제 요약 : big b shares pic with jaya at shoot before marriage \n",
      "예측 요약 :  amitabh bachchan shares pic of abhishek abhishek\n",
      "\n",
      "\n",
      "원문 : the bjp has slammed delhi cm arvind kejriwal for visiting dubai at a time when the capital's air quality hit 'very poor' category alleging that there was a hidden agenda the silence of aap about his trip proves there is something wrong leader of opposition vijender gupta said aap clarified kejriwal had gone to attend a function of his iit \n",
      "실제 요약 : bjp slams kejriwal for dubai visit amid pollution crisis \n",
      "예측 요약 :  bjp slams kejriwal for air cm in air strike\n",
      "\n",
      "\n"
     ]
    }
   ],
   "source": [
    "for i in range(50, 100):\n",
    "    print(\"원문 :\", seq2text(encoder_input_test[i]))\n",
    "    print(\"실제 요약 :\", seq2summary(decoder_input_test[i]))\n",
    "    print(\"예측 요약 :\", decode_sequence(encoder_input_test[i].reshape(1, text_max_len)))\n",
    "    print(\"\\n\")"
   ]
  },
  {
   "cell_type": "markdown",
   "id": "sharing-berlin",
   "metadata": {},
   "source": [
    "# 추출적 요약 해보기\n",
    "data의 text부분을 요약하는데, 최대 단어 길이는 60개로 제한하고 실시해본다. 물론 전처리를 하지 않아서 똑같은 문장 길이를 주는 것이 비교에 적합하지는 않지만, 일단은 그대로 준다. "
   ]
  },
  {
   "cell_type": "code",
   "execution_count": 71,
   "id": "lesser-processing",
   "metadata": {},
   "outputs": [
    {
     "name": "stdout",
     "output_type": "stream",
     "text": [
      "Summary:\n",
      "ERROR! Session/line number was not unique in database. History logging moved to new session 211\n",
      "['New Zealand defeated India by 8 wickets in the fourth ODI at Hamilton on Thursday to win their first match of the five-match ODI series.', \"India lost an international match under Rohit Sharma's captaincy after 12 consecutive victories dating back to March 2018.\", 'The match witnessed India getting all out for 92, their seventh lowest total in ODI cricket history.']\n",
      "['With Aegon Life iTerm Insurance plan, customers can enjoy tax benefits on your premiums paid and save up to Ã¢Â\\x82Â¹46,800^ on taxes.', 'The plan provides life cover up to the age of 100 years.', 'Also, customers have options to insure against Critical Illnesses, Disability and Accidental Death Benefit Rider with a life cover up to the age of 80 years.']\n",
      "['Pakistani singer Rahat Fateh Ali Khan has denied receiving any notice from the Enforcement Directorate over allegedly smuggling foreign currency out of India.', '\"It would have been better if the authorities would have served the notice first if any and then publicised this,\" reads a press release issued on behalf of Rahat.', 'The statement further called the allegation \"bizarre\".']\n",
      "[\"Congress candidate Shafia Zubair won the Ramgarh Assembly seat in Rajasthan, by defeating BJP's Sukhwant Singh with a margin of 12,228 votes in the bypoll.\", 'With this victory, Congress has taken its total to 100 seats in the 200-member assembly.', 'The election to the Ramgarh seat was delayed due to the death of sitting MLA and BSP candidate Laxman Singh.']\n",
      "[\"Two minor cousins in Uttar Pradesh's Gorakhpur were allegedly repeatedly burnt with tongs and forced to eat human excreta by their family for being friends with two boys from the same school.\", 'The cousins revealed their ordeal to the police and Child Welfare Committee after being brought back to Gorakhpur from Nepal, where they had fled to escape the torture.']\n",
      "['Isha Ghosh, an 81-year-old member of Bharat Scouts and Guides (BSG), has been imparting physical and mental training to schoolchildren in Jharkhand for several decades.', 'Chaibasa-based Ghosh reportedly walks seven kilometres daily and spends eight hours conducting physical training, apart from climbing and yoga sessions.', 'She says, \"One should do something for society till one\\'s last breath.\"']\n",
      "['Filmmaker Karan Johar and actress Tabu turned showstoppers for Gaurav Gupta on the opening night of LakmÃ\\x83Â© Fashion Week Summer/ Resort 2019.', 'While Johar wore a red sequinned jacket with black pants, Tabu walked the ramp in a grey embellished gown.', 'The fashion show, which began on January 29, will continue till February 3.']\n",
      "[]\n",
      "['Union Minister Dharmendra Pradhan on Wednesday claimed the illegal mining mafia in Odisha operates under the control of CM Naveen Patnaik and state Congress chief Niranjan Patnaik.', 'He added, \"The time has come for the people of Odisha to put a full stop to their activities...The time has come for us to ask for an explanation from this corrupt government.\"']\n",
      "[]\n"
     ]
    }
   ],
   "source": [
    "import requests\n",
    "from summa.summarizer import summarize\n",
    "print('Summary:')\n",
    "text = requests.get('http://rare-technologies.com/the_matrix_synopsis.txt').text\n",
    "count = 0\n",
    "for i in data['text'] :\n",
    "    if count == 10 :\n",
    "        break;\n",
    "    print(summarize(i, ratio=0.005, split=True, words=60))\n",
    "    count += 1"
   ]
  },
  {
   "cell_type": "markdown",
   "id": "green-guidance",
   "metadata": {},
   "source": []
  },
  {
   "cell_type": "markdown",
   "id": "planned-european",
   "metadata": {},
   "source": [
    "# 후기\n"
   ]
  }
 ],
 "metadata": {
  "kernelspec": {
   "display_name": "aiffel",
   "language": "python",
   "name": "aiffel"
  },
  "language_info": {
   "codemirror_mode": {
    "name": "ipython",
    "version": 3
   },
   "file_extension": ".py",
   "mimetype": "text/x-python",
   "name": "python",
   "nbconvert_exporter": "python",
   "pygments_lexer": "ipython3",
   "version": "3.7.9"
  }
 },
 "nbformat": 4,
 "nbformat_minor": 5
}
