{
 "cells": [
  {
   "cell_type": "markdown",
   "id": "hourly-chile",
   "metadata": {},
   "source": [
    "# 실험\n",
    "1. 가설\n",
    "- SentencePieces는 konlpy를 이용한 모델보다 '어느 부분'에서 뛰어난 부분이 있을 것이다. \n",
    "- SentencePieces를 이용해서 네이버 영화 리뷰 데이터를 토큰화 시킬 수 있다. \n",
    "2. 실험 과정 \n",
    "- SentencePieces를 활용하는 과정을 알아보자\n",
    "- SentencePieces를 이용해서 네이버 영화 리뷰 데이터를 토큰화 하자\n",
    "- 감정 분석을 해보자\n",
    "- SentencePieces에 변화를 주어 추가 실험을 진행하자\n",
    "- konlpy를 사용한 결과와 비교해보자\n",
    "3. 결론"
   ]
  },
  {
   "cell_type": "markdown",
   "id": "instructional-stanford",
   "metadata": {},
   "source": [
    "## 0. 사전 단계\n",
    "```\n",
    "$ wget https://github.com/jungyeul/korean-parallel-corpora/raw/master/korean-english-news-v1/korean-english-park.train.tar.gz\n",
    "$ mkdir -p ~/aiffel/sp_tokenizer/data\n",
    "$ mv korean-english-park.train.tar.gz ~/aiffel/sp_tokenizer/data\n",
    "$ cd ~/aiffel/sp_tokenizer/data\n",
    "$ tar -xzvf korean-english-park.train.tar.gz\n",
    "```"
   ]
  },
  {
   "cell_type": "markdown",
   "id": "touched-winning",
   "metadata": {},
   "source": [
    "해당 데이터에 대한 설명은 다음과 같다.\n",
    "`내려받은 데이터는 한국어의 형태소 분석과 품사 태깅, 기계 번역 연구를 위해 공개된 데이터입니다. 이번에 사용할 데이터는 한국어-영어 병렬을 이루는 말뭉치 중 한국어 부분으로, 전체 병렬 말뭉치는 후에 번역기를 만들며 사용할 예정입니다.`\n",
    "- 참고할 만한 데이터 : https://github.com/jungyeul/korean-parallel-corpora"
   ]
  },
  {
   "cell_type": "code",
   "execution_count": 6,
   "id": "traditional-shareware",
   "metadata": {},
   "outputs": [
    {
     "name": "stdout",
     "output_type": "stream",
     "text": [
      "Data Size: 94123\n",
      "Example:\n",
      ">> 개인용 컴퓨터 사용의 상당 부분은 \"이것보다 뛰어날 수 있느냐?\"\n",
      ">> 북한의 핵무기 계획을 포기하도록 하려는 압력이 거세지고 있는 가운데, 일본과 북한의 외교관들이 외교 관계를 정상화하려는 회담을 재개했다.\n",
      ">> \"경호 로보트가 침입자나 화재를 탐지하기 위해서 개인적으로, 그리고 전문적으로 사용되고 있습니다.\"\n",
      ">> 수자원부 당국은 논란이 되고 있고, 막대한 비용이 드는 이 사업에 대해 내년에 건설을 시작할 계획이다.\n",
      ">> 또한 근력 운동은 활발하게 걷는 것이나 최소한 20분 동안 뛰는 것과 같은 유산소 활동에서 얻는 운동 효과를 심장과 폐에 주지 않기 때문에, 연구학자들은 근력 운동이 심장에 큰 영향을 미치는지 여부에 대해 논쟁을 해왔다.\n"
     ]
    }
   ],
   "source": [
    "import os\n",
    "import numpy as np\n",
    "import matplotlib.pyplot as plt\n",
    "path_to_file = os.getenv('HOME')+'/aiffel/sp_tokenizer/data/korean-english-park.train.ko'\n",
    "\n",
    "with open(path_to_file, \"r\") as f:\n",
    "    raw = f.read().splitlines()\n",
    "\n",
    "print(\"Data Size:\", len(raw))\n",
    "\n",
    "print(\"Example:\")\n",
    "for sen in raw[0:100][::20]: print(\">>\", sen)"
   ]
  },
  {
   "cell_type": "markdown",
   "id": "parallel-option",
   "metadata": {},
   "source": [
    "문장의 길이 분포에 대해서 알아본다."
   ]
  },
  {
   "cell_type": "code",
   "execution_count": 7,
   "id": "dramatic-admission",
   "metadata": {},
   "outputs": [
    {
     "name": "stdout",
     "output_type": "stream",
     "text": [
      "문장의 최단 길이: 1\n",
      "문장의 최장 길이: 377\n",
      "문장의 평균 길이: 60\n"
     ]
    },
    {
     "data": {
      "image/png": "[encoded data removed]",
      "text/plain": [
       "<Figure size 432x288 with 1 Axes>"
      ]
     },
     "metadata": {
      "needs_background": "light"
     },
     "output_type": "display_data"
    }
   ],
   "source": [
    "min_len = 999\n",
    "max_len = 0\n",
    "sum_len = 0\n",
    "\n",
    "for sen in raw:\n",
    "    length = len(sen)\n",
    "    if min_len > length: min_len = length\n",
    "    if max_len < length: max_len = length\n",
    "    sum_len += length\n",
    "\n",
    "print(\"문장의 최단 길이:\", min_len)\n",
    "print(\"문장의 최장 길이:\", max_len)\n",
    "print(\"문장의 평균 길이:\", sum_len // len(raw))\n",
    "\n",
    "sentence_length = np.zeros((max_len), dtype=np.int)\n",
    "\n",
    "for sen in raw:\n",
    "    sentence_length[len(sen)-1] += 1\n",
    "\n",
    "plt.bar(range(max_len), sentence_length, width=1.0)\n",
    "plt.title(\"Sentence Length Distribution\")\n",
    "plt.show()"
   ]
  },
  {
   "cell_type": "markdown",
   "id": "committed-format",
   "metadata": {},
   "source": [
    "데이터의 특이점은, 앞부분에 이상하게 치솟는 구간이 있다는 것이다. 이 부분은 뭘까?"
   ]
  },
  {
   "cell_type": "code",
   "execution_count": 8,
   "id": "renewable-peninsula",
   "metadata": {},
   "outputs": [
    {
     "name": "stdout",
     "output_type": "stream",
     "text": [
      "['’']\n"
     ]
    }
   ],
   "source": [
    "def check_sentence_with_length(raw, length):\n",
    "    count = 0\n",
    "    target = []\n",
    "    for sen in raw:\n",
    "        if len(sen) == length:\n",
    "            #print(sen)\n",
    "            target.append(sen)\n",
    "            count += 1\n",
    "    return target\n",
    "\n",
    "target = check_sentence_with_length(raw, 1)\n",
    "print(target)"
   ]
  },
  {
   "cell_type": "code",
   "execution_count": 9,
   "id": "specific-happiness",
   "metadata": {},
   "outputs": [
    {
     "name": "stdout",
     "output_type": "stream",
     "text": [
      "Outlier Index: 11\n",
      "Outlier Index: 19\n",
      "Outlier Index: 21\n"
     ]
    },
    {
     "data": {
      "text/plain": [
       "['라고 조던이 말했다.',\n",
       " '- 모르고 있습니다.',\n",
       " '- 네, 보이는군요.',\n",
       " '디즈니사만이 아니다.',\n",
       " '큰 파티는 아니지요.',\n",
       " '의자는 비어 있었다.',\n",
       " '이 일은 계속됩니다.',\n",
       " '나는 크게 실망했다.',\n",
       " '그 이유는 간단하다.',\n",
       " '이력서와 자기 소개서',\n",
       " '시대가 변하고 있다.',\n",
       " '는 돌발질문을 했다.',\n",
       " '9. 몇 분간의 명상',\n",
       " '하와이, 빅 아일랜드',\n",
       " '키스를 잘 하는 방법',\n",
       " '키스를 잘 하는 방법',\n",
       " '스피어스가 뚱뚱한가?',\n",
       " '산 위를 나는 느낌.',\n",
       " '세 시간쯤 걸었을까?',\n",
       " '(아직 읽고있습니까?',\n",
       " '처음에는 장난이었다.',\n",
       " '우리는 운이 좋았다.',\n",
       " '아기가 숨을 멈출 때',\n",
       " '건물 전체 무너져내려',\n",
       " '그녀의 아름다운 눈.',\n",
       " '대답은 다음과 같다.',\n",
       " '\"사과할 것이 없다.',\n",
       " '폭탄테러가 공포 유발',\n",
       " '그는 \"잘 모르겠다.',\n",
       " '그는 \"잘 모르겠다.',\n",
       " '그는 \"잘 모르겠다.',\n",
       " '그는 \"잘 모르겠다.',\n",
       " '그는 \"잘 모르겠다.',\n",
       " '그는 \"잘 모르겠다.',\n",
       " '그는 \"잘 모르겠다.',\n",
       " '그는 \"잘 모르겠다.',\n",
       " '그는 \"잘 모르겠다.',\n",
       " '케냐 야생동물 고아원',\n",
       " '경유 1200원대로…',\n",
       " '더 내려야 하는 이유',\n",
       " '케냐 야생동물 고아원',\n",
       " '경유 1200원대로…',\n",
       " '더 내려야 하는 이유',\n",
       " '케냐 야생동물 고아원',\n",
       " '경유 1200원대로…',\n",
       " '더 내려야 하는 이유',\n",
       " '케냐 야생동물 고아원',\n",
       " '경유 1200원대로…',\n",
       " '더 내려야 하는 이유',\n",
       " '케냐 야생동물 고아원',\n",
       " '경유 1200원대로…',\n",
       " '더 내려야 하는 이유',\n",
       " '케냐 야생동물 고아원',\n",
       " '경유 1200원대로…',\n",
       " '더 내려야 하는 이유',\n",
       " '케냐 야생동물 고아원',\n",
       " '경유 1200원대로…',\n",
       " '더 내려야 하는 이유',\n",
       " '케냐 야생동물 고아원',\n",
       " '경유 1200원대로…',\n",
       " '더 내려야 하는 이유',\n",
       " '케냐 야생동물 고아원',\n",
       " '경유 1200원대로…',\n",
       " '더 내려야 하는 이유',\n",
       " '케냐 야생동물 고아원',\n",
       " '경유 1200원대로…',\n",
       " '더 내려야 하는 이유',\n",
       " '케냐 야생동물 고아원',\n",
       " '경유 1200원대로…',\n",
       " '더 내려야 하는 이유',\n",
       " '케냐 야생동물 고아원',\n",
       " '경유 1200원대로…',\n",
       " '더 내려야 하는 이유',\n",
       " '케냐 야생동물 고아원',\n",
       " '경유 1200원대로…',\n",
       " '더 내려야 하는 이유',\n",
       " '케냐 야생동물 고아원',\n",
       " '경유 1200원대로…',\n",
       " '더 내려야 하는 이유',\n",
       " '케냐 야생동물 고아원',\n",
       " '경유 1200원대로…',\n",
       " '더 내려야 하는 이유',\n",
       " '케냐 야생동물 고아원',\n",
       " '경유 1200원대로…',\n",
       " '더 내려야 하는 이유',\n",
       " '케냐 야생동물 고아원',\n",
       " '경유 1200원대로…',\n",
       " '더 내려야 하는 이유',\n",
       " '케냐 야생동물 고아원',\n",
       " '경유 1200원대로…',\n",
       " '더 내려야 하는 이유',\n",
       " '케냐 야생동물 고아원',\n",
       " '경유 1200원대로…',\n",
       " '더 내려야 하는 이유',\n",
       " '케냐 야생동물 고아원',\n",
       " '경유 1200원대로…',\n",
       " '더 내려야 하는 이유',\n",
       " '조금은 새침한 샬롯？',\n",
       " '조금은 새침한 샬롯？',\n",
       " '케냐 야생동물 고아원',\n",
       " '경유 1200원대로…',\n",
       " '더 내려야 하는 이유',\n",
       " '케냐 야생동물 고아원',\n",
       " '경유 1200원대로…',\n",
       " '더 내려야 하는 이유',\n",
       " '케냐 야생동물 고아원',\n",
       " '경유 1200원대로…',\n",
       " '더 내려야 하는 이유',\n",
       " '케냐 야생동물 고아원',\n",
       " '경유 1200원대로…',\n",
       " '더 내려야 하는 이유',\n",
       " '케냐 야생동물 고아원',\n",
       " '경유 1200원대로…',\n",
       " '더 내려야 하는 이유',\n",
       " '케냐 야생동물 고아원',\n",
       " '경유 1200원대로…',\n",
       " '더 내려야 하는 이유',\n",
       " '케냐 야생동물 고아원',\n",
       " '경유 1200원대로…',\n",
       " '더 내려야 하는 이유',\n",
       " '케냐 야생동물 고아원',\n",
       " '경유 1200원대로…',\n",
       " '더 내려야 하는 이유',\n",
       " '케냐 야생동물 고아원',\n",
       " '경유 1200원대로…',\n",
       " '더 내려야 하는 이유',\n",
       " \"천재 소녀의 '부활'\",\n",
       " '케냐 야생동물 고아원',\n",
       " '경유 1200원대로…',\n",
       " '더 내려야 하는 이유',\n",
       " '케냐 야생동물 고아원',\n",
       " '경유 1200원대로…',\n",
       " '더 내려야 하는 이유',\n",
       " '케냐 야생동물 고아원',\n",
       " '경유 1200원대로…',\n",
       " '더 내려야 하는 이유',\n",
       " '케냐 야생동물 고아원',\n",
       " '경유 1200원대로…',\n",
       " '더 내려야 하는 이유',\n",
       " '케냐 야생동물 고아원',\n",
       " '경유 1200원대로…',\n",
       " '더 내려야 하는 이유',\n",
       " '케냐 야생동물 고아원',\n",
       " '경유 1200원대로…',\n",
       " '더 내려야 하는 이유',\n",
       " '케냐 야생동물 고아원',\n",
       " '경유 1200원대로…',\n",
       " '더 내려야 하는 이유',\n",
       " '케냐 야생동물 고아원',\n",
       " '경유 1200원대로…',\n",
       " '더 내려야 하는 이유',\n",
       " '케냐 야생동물 고아원',\n",
       " '경유 1200원대로…',\n",
       " '더 내려야 하는 이유',\n",
       " '케냐 야생동물 고아원',\n",
       " '경유 1200원대로…',\n",
       " '더 내려야 하는 이유',\n",
       " '케냐 야생동물 고아원',\n",
       " '경유 1200원대로…',\n",
       " '더 내려야 하는 이유',\n",
       " '케냐 야생동물 고아원',\n",
       " '경유 1200원대로…',\n",
       " '더 내려야 하는 이유',\n",
       " '케냐 야생동물 고아원',\n",
       " '경유 1200원대로…',\n",
       " '더 내려야 하는 이유',\n",
       " '케냐 야생동물 고아원',\n",
       " '경유 1200원대로…',\n",
       " '더 내려야 하는 이유',\n",
       " '케냐 야생동물 고아원',\n",
       " '경유 1200원대로…',\n",
       " '더 내려야 하는 이유',\n",
       " '케냐 야생동물 고아원',\n",
       " '경유 1200원대로…',\n",
       " '더 내려야 하는 이유',\n",
       " '케냐 야생동물 고아원',\n",
       " '경유 1200원대로…',\n",
       " '더 내려야 하는 이유',\n",
       " '케냐 야생동물 고아원',\n",
       " '경유 1200원대로…',\n",
       " '더 내려야 하는 이유',\n",
       " '케냐 야생동물 고아원',\n",
       " '경유 1200원대로…',\n",
       " '더 내려야 하는 이유',\n",
       " '케냐 야생동물 고아원',\n",
       " '경유 1200원대로…',\n",
       " '더 내려야 하는 이유',\n",
       " '케냐 야생동물 고아원',\n",
       " '경유 1200원대로…',\n",
       " '더 내려야 하는 이유',\n",
       " '케냐 야생동물 고아원',\n",
       " '경유 1200원대로…',\n",
       " '더 내려야 하는 이유',\n",
       " '케냐 야생동물 고아원',\n",
       " '경유 1200원대로…',\n",
       " '더 내려야 하는 이유',\n",
       " '케냐 야생동물 고아원',\n",
       " '경유 1200원대로…',\n",
       " '더 내려야 하는 이유',\n",
       " '케냐 야생동물 고아원',\n",
       " '경유 1200원대로…',\n",
       " '더 내려야 하는 이유',\n",
       " '케냐 야생동물 고아원',\n",
       " '경유 1200원대로…',\n",
       " '더 내려야 하는 이유',\n",
       " '케냐 야생동물 고아원',\n",
       " '경유 1200원대로…',\n",
       " '더 내려야 하는 이유',\n",
       " '케냐 야생동물 고아원',\n",
       " '경유 1200원대로…',\n",
       " '더 내려야 하는 이유',\n",
       " '케냐 야생동물 고아원',\n",
       " '경유 1200원대로…',\n",
       " '더 내려야 하는 이유',\n",
       " '케냐 야생동물 고아원',\n",
       " '경유 1200원대로…',\n",
       " '더 내려야 하는 이유',\n",
       " '케냐 야생동물 고아원',\n",
       " '경유 1200원대로…',\n",
       " '더 내려야 하는 이유',\n",
       " '케냐 야생동물 고아원',\n",
       " '경유 1200원대로…',\n",
       " '더 내려야 하는 이유',\n",
       " '케냐 야생동물 고아원',\n",
       " '경유 1200원대로…',\n",
       " '더 내려야 하는 이유',\n",
       " '케냐 야생동물 고아원',\n",
       " '경유 1200원대로…',\n",
       " '더 내려야 하는 이유',\n",
       " '케냐 야생동물 고아원',\n",
       " '경유 1200원대로…',\n",
       " '더 내려야 하는 이유',\n",
       " '케냐 야생동물 고아원',\n",
       " '경유 1200원대로…',\n",
       " '더 내려야 하는 이유',\n",
       " '케냐 야생동물 고아원',\n",
       " '경유 1200원대로…',\n",
       " '더 내려야 하는 이유',\n",
       " '케냐 야생동물 고아원',\n",
       " '경유 1200원대로…',\n",
       " '더 내려야 하는 이유',\n",
       " '케냐 야생동물 고아원',\n",
       " '경유 1200원대로…',\n",
       " '더 내려야 하는 이유',\n",
       " '케냐 야생동물 고아원',\n",
       " '경유 1200원대로…',\n",
       " '더 내려야 하는 이유',\n",
       " '케냐 야생동물 고아원',\n",
       " '경유 1200원대로…',\n",
       " '더 내려야 하는 이유',\n",
       " '케냐 야생동물 고아원',\n",
       " '경유 1200원대로…',\n",
       " '더 내려야 하는 이유',\n",
       " '케냐 야생동물 고아원',\n",
       " '경유 1200원대로…',\n",
       " '더 내려야 하는 이유',\n",
       " '케냐 야생동물 고아원',\n",
       " '경유 1200원대로…',\n",
       " '더 내려야 하는 이유',\n",
       " '케냐 야생동물 고아원',\n",
       " '경유 1200원대로…',\n",
       " '더 내려야 하는 이유',\n",
       " '케냐 야생동물 고아원',\n",
       " '경유 1200원대로…',\n",
       " '더 내려야 하는 이유',\n",
       " '케냐 야생동물 고아원',\n",
       " '경유 1200원대로…',\n",
       " '더 내려야 하는 이유',\n",
       " '케냐 야생동물 고아원',\n",
       " '경유 1200원대로…',\n",
       " '더 내려야 하는 이유',\n",
       " '케냐 야생동물 고아원',\n",
       " '경유 1200원대로…',\n",
       " '더 내려야 하는 이유',\n",
       " '케냐 야생동물 고아원',\n",
       " '경유 1200원대로…',\n",
       " '더 내려야 하는 이유',\n",
       " '케냐 야생동물 고아원',\n",
       " '경유 1200원대로…',\n",
       " '더 내려야 하는 이유',\n",
       " '케냐 야생동물 고아원',\n",
       " '경유 1200원대로…',\n",
       " '더 내려야 하는 이유',\n",
       " '케냐 야생동물 고아원',\n",
       " '경유 1200원대로…',\n",
       " '더 내려야 하는 이유',\n",
       " '케냐 야생동물 고아원',\n",
       " '경유 1200원대로…',\n",
       " '더 내려야 하는 이유',\n",
       " '케냐 야생동물 고아원',\n",
       " '경유 1200원대로…',\n",
       " '더 내려야 하는 이유',\n",
       " '케냐 야생동물 고아원',\n",
       " '경유 1200원대로…',\n",
       " '더 내려야 하는 이유',\n",
       " '케냐 야생동물 고아원',\n",
       " '경유 1200원대로…',\n",
       " '더 내려야 하는 이유',\n",
       " '케냐 야생동물 고아원',\n",
       " '경유 1200원대로…',\n",
       " '더 내려야 하는 이유',\n",
       " '케냐 야생동물 고아원',\n",
       " '경유 1200원대로…',\n",
       " '더 내려야 하는 이유',\n",
       " '케냐 야생동물 고아원',\n",
       " '경유 1200원대로…',\n",
       " '더 내려야 하는 이유',\n",
       " '미래의 최첨단 사무실',\n",
       " '케냐 야생동물 고아원',\n",
       " '경유 1200원대로…',\n",
       " '더 내려야 하는 이유',\n",
       " '케냐 야생동물 고아원',\n",
       " '경유 1200원대로…',\n",
       " '더 내려야 하는 이유',\n",
       " '케냐 야생동물 고아원',\n",
       " '경유 1200원대로…',\n",
       " '더 내려야 하는 이유',\n",
       " '케냐 야생동물 고아원',\n",
       " '경유 1200원대로…',\n",
       " '더 내려야 하는 이유',\n",
       " '케냐 야생동물 고아원',\n",
       " '경유 1200원대로…',\n",
       " '더 내려야 하는 이유',\n",
       " '케냐 야생동물 고아원',\n",
       " '경유 1200원대로…',\n",
       " '더 내려야 하는 이유',\n",
       " '케냐 야생동물 고아원',\n",
       " '경유 1200원대로…',\n",
       " '더 내려야 하는 이유',\n",
       " '케냐 야생동물 고아원',\n",
       " '경유 1200원대로…',\n",
       " '더 내려야 하는 이유',\n",
       " '케냐 야생동물 고아원',\n",
       " '경유 1200원대로…',\n",
       " '더 내려야 하는 이유',\n",
       " '케냐 야생동물 고아원',\n",
       " '경유 1200원대로…',\n",
       " '더 내려야 하는 이유',\n",
       " '케냐 야생동물 고아원',\n",
       " '경유 1200원대로…',\n",
       " '더 내려야 하는 이유',\n",
       " '케냐 야생동물 고아원',\n",
       " '경유 1200원대로…',\n",
       " '더 내려야 하는 이유',\n",
       " '케냐 야생동물 고아원',\n",
       " '경유 1200원대로…',\n",
       " '더 내려야 하는 이유',\n",
       " '케냐 야생동물 고아원',\n",
       " '경유 1200원대로…',\n",
       " '더 내려야 하는 이유',\n",
       " '케냐 야생동물 고아원',\n",
       " '경유 1200원대로…',\n",
       " '더 내려야 하는 이유',\n",
       " '케냐 야생동물 고아원',\n",
       " '경유 1200원대로…',\n",
       " '더 내려야 하는 이유',\n",
       " '케냐 야생동물 고아원',\n",
       " '경유 1200원대로…',\n",
       " '더 내려야 하는 이유',\n",
       " '케냐 야생동물 고아원',\n",
       " '경유 1200원대로…',\n",
       " '더 내려야 하는 이유',\n",
       " '케냐 야생동물 고아원',\n",
       " '경유 1200원대로…',\n",
       " '더 내려야 하는 이유',\n",
       " '케냐 야생동물 고아원',\n",
       " '경유 1200원대로…',\n",
       " '더 내려야 하는 이유',\n",
       " '케냐 야생동물 고아원',\n",
       " '경유 1200원대로…',\n",
       " '더 내려야 하는 이유',\n",
       " '케냐 야생동물 고아원',\n",
       " '경유 1200원대로…',\n",
       " '더 내려야 하는 이유',\n",
       " '케냐 야생동물 고아원',\n",
       " '경유 1200원대로…',\n",
       " '더 내려야 하는 이유',\n",
       " \"천재 소녀의 '부활'\",\n",
       " '케냐 야생동물 고아원',\n",
       " '경유 1200원대로…',\n",
       " '더 내려야 하는 이유',\n",
       " '케냐 야생동물 고아원',\n",
       " '경유 1200원대로…',\n",
       " '더 내려야 하는 이유',\n",
       " '케냐 야생동물 고아원',\n",
       " '경유 1200원대로…',\n",
       " '더 내려야 하는 이유',\n",
       " '케냐 야생동물 고아원',\n",
       " '경유 1200원대로…',\n",
       " '더 내려야 하는 이유',\n",
       " '케냐 야생동물 고아원',\n",
       " '경유 1200원대로…',\n",
       " '더 내려야 하는 이유',\n",
       " '케냐 야생동물 고아원',\n",
       " '경유 1200원대로…',\n",
       " '더 내려야 하는 이유',\n",
       " '케냐 야생동물 고아원',\n",
       " '경유 1200원대로…',\n",
       " '더 내려야 하는 이유',\n",
       " '원문기사 원문기사보기',\n",
       " '케냐 야생동물 고아원',\n",
       " '경유 1200원대로…',\n",
       " '더 내려야 하는 이유',\n",
       " '케냐 야생동물 고아원',\n",
       " '경유 1200원대로…',\n",
       " '더 내려야 하는 이유',\n",
       " '케냐 야생동물 고아원',\n",
       " '경유 1200원대로…',\n",
       " '더 내려야 하는 이유',\n",
       " '케냐 야생동물 고아원',\n",
       " '경유 1200원대로…',\n",
       " '더 내려야 하는 이유',\n",
       " '케냐 야생동물 고아원',\n",
       " '경유 1200원대로…',\n",
       " '더 내려야 하는 이유',\n",
       " '케냐 야생동물 고아원',\n",
       " '경유 1200원대로…',\n",
       " '더 내려야 하는 이유',\n",
       " '케냐 야생동물 고아원',\n",
       " '경유 1200원대로…',\n",
       " '더 내려야 하는 이유',\n",
       " '케냐 야생동물 고아원',\n",
       " '경유 1200원대로…',\n",
       " '더 내려야 하는 이유',\n",
       " '케냐 야생동물 고아원',\n",
       " '경유 1200원대로…',\n",
       " '더 내려야 하는 이유',\n",
       " '케냐 야생동물 고아원',\n",
       " '경유 1200원대로…',\n",
       " '더 내려야 하는 이유',\n",
       " '케냐 야생동물 고아원',\n",
       " '경유 1200원대로…',\n",
       " '더 내려야 하는 이유',\n",
       " '케냐 야생동물 고아원',\n",
       " '경유 1200원대로…',\n",
       " '더 내려야 하는 이유',\n",
       " '케냐 야생동물 고아원',\n",
       " '경유 1200원대로…',\n",
       " '더 내려야 하는 이유',\n",
       " '케냐 야생동물 고아원',\n",
       " '경유 1200원대로…',\n",
       " '더 내려야 하는 이유',\n",
       " '케냐 야생동물 고아원',\n",
       " '경유 1200원대로…',\n",
       " '더 내려야 하는 이유',\n",
       " '케냐 야생동물 고아원',\n",
       " '경유 1200원대로…',\n",
       " '더 내려야 하는 이유',\n",
       " '케냐 야생동물 고아원',\n",
       " '경유 1200원대로…',\n",
       " '더 내려야 하는 이유',\n",
       " '케냐 야생동물 고아원',\n",
       " '경유 1200원대로…',\n",
       " '더 내려야 하는 이유',\n",
       " '케냐 야생동물 고아원',\n",
       " '경유 1200원대로…',\n",
       " '더 내려야 하는 이유',\n",
       " '케냐 야생동물 고아원',\n",
       " '경유 1200원대로…',\n",
       " '더 내려야 하는 이유',\n",
       " '케냐 야생동물 고아원',\n",
       " '경유 1200원대로…',\n",
       " '더 내려야 하는 이유',\n",
       " '케냐 야생동물 고아원',\n",
       " '경유 1200원대로…',\n",
       " '더 내려야 하는 이유',\n",
       " '케냐 야생동물 고아원',\n",
       " '경유 1200원대로…',\n",
       " '더 내려야 하는 이유',\n",
       " '케냐 야생동물 고아원',\n",
       " '경유 1200원대로…',\n",
       " '더 내려야 하는 이유',\n",
       " '케냐 야생동물 고아원',\n",
       " '경유 1200원대로…',\n",
       " '더 내려야 하는 이유',\n",
       " '케냐 야생동물 고아원',\n",
       " '경유 1200원대로…',\n",
       " '더 내려야 하는 이유',\n",
       " '케냐 야생동물 고아원',\n",
       " '경유 1200원대로…',\n",
       " '더 내려야 하는 이유',\n",
       " '케냐 야생동물 고아원',\n",
       " '경유 1200원대로…',\n",
       " '더 내려야 하는 이유',\n",
       " '케냐 야생동물 고아원',\n",
       " '경유 1200원대로…',\n",
       " '더 내려야 하는 이유',\n",
       " '케냐 야생동물 고아원',\n",
       " '경유 1200원대로…',\n",
       " '더 내려야 하는 이유',\n",
       " '케냐 야생동물 고아원',\n",
       " '경유 1200원대로…',\n",
       " '더 내려야 하는 이유',\n",
       " '케냐 야생동물 고아원',\n",
       " '경유 1200원대로…',\n",
       " '더 내려야 하는 이유',\n",
       " '케냐 야생동물 고아원',\n",
       " '경유 1200원대로…',\n",
       " '더 내려야 하는 이유',\n",
       " '케냐 야생동물 고아원',\n",
       " '경유 1200원대로…',\n",
       " '더 내려야 하는 이유',\n",
       " '케냐 야생동물 고아원',\n",
       " '경유 1200원대로…',\n",
       " '더 내려야 하는 이유',\n",
       " '케냐 야생동물 고아원',\n",
       " '경유 1200원대로…',\n",
       " '더 내려야 하는 이유',\n",
       " '케냐 야생동물 고아원',\n",
       " '경유 1200원대로…',\n",
       " '더 내려야 하는 이유',\n",
       " '케냐 야생동물 고아원',\n",
       " '경유 1200원대로…',\n",
       " '더 내려야 하는 이유',\n",
       " \"천재 소녀의 '부활'\",\n",
       " '케냐 야생동물 고아원',\n",
       " '경유 1200원대로…',\n",
       " '더 내려야 하는 이유',\n",
       " '케냐 야생동물 고아원',\n",
       " '경유 1200원대로…',\n",
       " '더 내려야 하는 이유',\n",
       " '케냐 야생동물 고아원',\n",
       " '경유 1200원대로…',\n",
       " '더 내려야 하는 이유',\n",
       " '케냐 야생동물 고아원',\n",
       " '경유 1200원대로…',\n",
       " '더 내려야 하는 이유',\n",
       " '케냐 야생동물 고아원',\n",
       " '경유 1200원대로…',\n",
       " '더 내려야 하는 이유',\n",
       " '케냐 야생동물 고아원',\n",
       " '경유 1200원대로…',\n",
       " '더 내려야 하는 이유',\n",
       " '케냐 야생동물 고아원',\n",
       " '경유 1200원대로…',\n",
       " '더 내려야 하는 이유',\n",
       " '케냐 야생동물 고아원',\n",
       " '경유 1200원대로…',\n",
       " '더 내려야 하는 이유',\n",
       " '케냐 야생동물 고아원',\n",
       " '경유 1200원대로…',\n",
       " '더 내려야 하는 이유',\n",
       " '케냐 야생동물 고아원',\n",
       " '경유 1200원대로…',\n",
       " '더 내려야 하는 이유',\n",
       " '케냐 야생동물 고아원',\n",
       " '경유 1200원대로…',\n",
       " '더 내려야 하는 이유',\n",
       " '케냐 야생동물 고아원',\n",
       " '경유 1200원대로…',\n",
       " '더 내려야 하는 이유',\n",
       " '케냐 야생동물 고아원',\n",
       " '경유 1200원대로…',\n",
       " '더 내려야 하는 이유',\n",
       " '케냐 야생동물 고아원',\n",
       " '경유 1200원대로…',\n",
       " '더 내려야 하는 이유',\n",
       " '케냐 야생동물 고아원',\n",
       " '경유 1200원대로…',\n",
       " '더 내려야 하는 이유',\n",
       " '케냐 야생동물 고아원',\n",
       " '경유 1200원대로…',\n",
       " '더 내려야 하는 이유',\n",
       " '케냐 야생동물 고아원',\n",
       " '경유 1200원대로…',\n",
       " '더 내려야 하는 이유',\n",
       " '케냐 야생동물 고아원',\n",
       " '경유 1200원대로…',\n",
       " '더 내려야 하는 이유',\n",
       " '케냐 야생동물 고아원',\n",
       " '경유 1200원대로…',\n",
       " '더 내려야 하는 이유',\n",
       " '케냐 야생동물 고아원',\n",
       " '경유 1200원대로…',\n",
       " '더 내려야 하는 이유',\n",
       " '케냐 야생동물 고아원',\n",
       " '경유 1200원대로…',\n",
       " '더 내려야 하는 이유',\n",
       " '케냐 야생동물 고아원',\n",
       " '경유 1200원대로…',\n",
       " '더 내려야 하는 이유',\n",
       " '케냐 야생동물 고아원',\n",
       " '경유 1200원대로…',\n",
       " '더 내려야 하는 이유',\n",
       " '케냐 야생동물 고아원',\n",
       " '경유 1200원대로…',\n",
       " '더 내려야 하는 이유',\n",
       " '케냐 야생동물 고아원',\n",
       " '경유 1200원대로…',\n",
       " '더 내려야 하는 이유',\n",
       " '케냐 야생동물 고아원',\n",
       " '경유 1200원대로…',\n",
       " '더 내려야 하는 이유',\n",
       " '케냐 야생동물 고아원',\n",
       " '경유 1200원대로…',\n",
       " '더 내려야 하는 이유',\n",
       " '케냐 야생동물 고아원',\n",
       " '경유 1200원대로…',\n",
       " '더 내려야 하는 이유',\n",
       " '를 외치며 기뻐했다.',\n",
       " '를 외치며 기뻐했다.',\n",
       " '케냐 야생동물 고아원',\n",
       " '경유 1200원대로…',\n",
       " '더 내려야 하는 이유',\n",
       " '케냐 야생동물 고아원',\n",
       " '경유 1200원대로…',\n",
       " '더 내려야 하는 이유',\n",
       " '케냐 야생동물 고아원',\n",
       " '경유 1200원대로…',\n",
       " '더 내려야 하는 이유',\n",
       " '케냐 야생동물 고아원',\n",
       " '경유 1200원대로…',\n",
       " '더 내려야 하는 이유',\n",
       " '케냐 야생동물 고아원',\n",
       " '경유 1200원대로…',\n",
       " '더 내려야 하는 이유',\n",
       " '케냐 야생동물 고아원',\n",
       " '경유 1200원대로…',\n",
       " '더 내려야 하는 이유',\n",
       " '케냐 야생동물 고아원',\n",
       " '경유 1200원대로…',\n",
       " '더 내려야 하는 이유',\n",
       " '케냐 야생동물 고아원',\n",
       " '경유 1200원대로…',\n",
       " '더 내려야 하는 이유',\n",
       " '케냐 야생동물 고아원',\n",
       " '경유 1200원대로…',\n",
       " '더 내려야 하는 이유',\n",
       " '케냐 야생동물 고아원',\n",
       " '경유 1200원대로…',\n",
       " '더 내려야 하는 이유',\n",
       " '케냐 야생동물 고아원',\n",
       " '경유 1200원대로…',\n",
       " '더 내려야 하는 이유',\n",
       " '케냐 야생동물 고아원',\n",
       " '경유 1200원대로…',\n",
       " '더 내려야 하는 이유',\n",
       " '케냐 야생동물 고아원',\n",
       " '경유 1200원대로…',\n",
       " '더 내려야 하는 이유',\n",
       " '케냐 야생동물 고아원',\n",
       " '경유 1200원대로…',\n",
       " '더 내려야 하는 이유',\n",
       " '케냐 야생동물 고아원',\n",
       " '경유 1200원대로…',\n",
       " '더 내려야 하는 이유',\n",
       " '케냐 야생동물 고아원',\n",
       " '경유 1200원대로…',\n",
       " '더 내려야 하는 이유',\n",
       " '케냐 야생동물 고아원',\n",
       " '경유 1200원대로…',\n",
       " '더 내려야 하는 이유',\n",
       " '케냐 야생동물 고아원',\n",
       " '경유 1200원대로…',\n",
       " '더 내려야 하는 이유',\n",
       " '케냐 야생동물 고아원',\n",
       " '경유 1200원대로…',\n",
       " '더 내려야 하는 이유',\n",
       " '케냐 야생동물 고아원',\n",
       " '경유 1200원대로…',\n",
       " '더 내려야 하는 이유',\n",
       " '케냐 야생동물 고아원',\n",
       " '경유 1200원대로…',\n",
       " '더 내려야 하는 이유',\n",
       " '케냐 야생동물 고아원',\n",
       " '경유 1200원대로…',\n",
       " '더 내려야 하는 이유',\n",
       " '케냐 야생동물 고아원',\n",
       " '경유 1200원대로…',\n",
       " '더 내려야 하는 이유',\n",
       " '케냐 야생동물 고아원',\n",
       " '경유 1200원대로…',\n",
       " '더 내려야 하는 이유',\n",
       " '케냐 야생동물 고아원',\n",
       " '경유 1200원대로…',\n",
       " '더 내려야 하는 이유',\n",
       " '케냐 야생동물 고아원',\n",
       " '경유 1200원대로…',\n",
       " '더 내려야 하는 이유',\n",
       " '케냐 야생동물 고아원',\n",
       " '경유 1200원대로…',\n",
       " '더 내려야 하는 이유',\n",
       " '케냐 야생동물 고아원',\n",
       " '경유 1200원대로…',\n",
       " '더 내려야 하는 이유',\n",
       " '케냐 야생동물 고아원',\n",
       " '경유 1200원대로…',\n",
       " '더 내려야 하는 이유',\n",
       " '케냐 야생동물 고아원',\n",
       " '경유 1200원대로…',\n",
       " '더 내려야 하는 이유',\n",
       " '케냐 야생동물 고아원',\n",
       " '경유 1200원대로…',\n",
       " '더 내려야 하는 이유',\n",
       " '케냐 야생동물 고아원',\n",
       " '경유 1200원대로…',\n",
       " '더 내려야 하는 이유',\n",
       " '케냐 야생동물 고아원',\n",
       " '경유 1200원대로…',\n",
       " '더 내려야 하는 이유',\n",
       " '케냐 야생동물 고아원',\n",
       " '경유 1200원대로…',\n",
       " '더 내려야 하는 이유',\n",
       " '케냐 야생동물 고아원',\n",
       " '경유 1200원대로…',\n",
       " '더 내려야 하는 이유',\n",
       " '케냐 야생동물 고아원',\n",
       " '경유 1200원대로…',\n",
       " '더 내려야 하는 이유',\n",
       " '원문기사 원문기사보기',\n",
       " '케냐 야생동물 고아원',\n",
       " '경유 1200원대로…',\n",
       " '더 내려야 하는 이유',\n",
       " '케냐 야생동물 고아원',\n",
       " '경유 1200원대로…',\n",
       " '더 내려야 하는 이유',\n",
       " '케냐 야생동물 고아원',\n",
       " '경유 1200원대로…',\n",
       " '더 내려야 하는 이유',\n",
       " '케냐 야생동물 고아원',\n",
       " '경유 1200원대로…',\n",
       " '더 내려야 하는 이유',\n",
       " '케냐 야생동물 고아원',\n",
       " '경유 1200원대로…',\n",
       " '더 내려야 하는 이유',\n",
       " '케냐 야생동물 고아원',\n",
       " '경유 1200원대로…',\n",
       " '더 내려야 하는 이유',\n",
       " '케냐 야생동물 고아원',\n",
       " '경유 1200원대로…',\n",
       " '더 내려야 하는 이유',\n",
       " \"천재 소녀의 '부활'\",\n",
       " '케냐 야생동물 고아원',\n",
       " '경유 1200원대로…',\n",
       " '더 내려야 하는 이유',\n",
       " '케냐 야생동물 고아원',\n",
       " '경유 1200원대로…',\n",
       " '더 내려야 하는 이유',\n",
       " '케냐 야생동물 고아원',\n",
       " '경유 1200원대로…',\n",
       " '더 내려야 하는 이유',\n",
       " '케냐 야생동물 고아원',\n",
       " '경유 1200원대로…',\n",
       " '더 내려야 하는 이유',\n",
       " '케냐 야생동물 고아원',\n",
       " '경유 1200원대로…',\n",
       " '더 내려야 하는 이유',\n",
       " '케냐 야생동물 고아원',\n",
       " '경유 1200원대로…',\n",
       " '더 내려야 하는 이유',\n",
       " '케냐 야생동물 고아원',\n",
       " '경유 1200원대로…',\n",
       " '더 내려야 하는 이유',\n",
       " '케냐 야생동물 고아원',\n",
       " '경유 1200원대로…',\n",
       " '더 내려야 하는 이유',\n",
       " '케냐 야생동물 고아원',\n",
       " '경유 1200원대로…',\n",
       " '더 내려야 하는 이유',\n",
       " '케냐 야생동물 고아원',\n",
       " '경유 1200원대로…',\n",
       " '더 내려야 하는 이유',\n",
       " '케냐 야생동물 고아원',\n",
       " '경유 1200원대로…',\n",
       " '더 내려야 하는 이유',\n",
       " '케냐 야생동물 고아원',\n",
       " '경유 1200원대로…',\n",
       " '더 내려야 하는 이유',\n",
       " '케냐 야생동물 고아원',\n",
       " '경유 1200원대로…',\n",
       " '더 내려야 하는 이유',\n",
       " '케냐 야생동물 고아원',\n",
       " '경유 1200원대로…',\n",
       " '더 내려야 하는 이유',\n",
       " \"천재 소녀의 '부활'\",\n",
       " '케냐 야생동물 고아원',\n",
       " '경유 1200원대로…',\n",
       " '더 내려야 하는 이유',\n",
       " '케냐 야생동물 고아원',\n",
       " '경유 1200원대로…',\n",
       " '더 내려야 하는 이유',\n",
       " '케냐 야생동물 고아원',\n",
       " '경유 1200원대로…',\n",
       " '더 내려야 하는 이유',\n",
       " '케냐 야생동물 고아원',\n",
       " '경유 1200원대로…',\n",
       " '더 내려야 하는 이유',\n",
       " '케냐 야생동물 고아원',\n",
       " '경유 1200원대로…',\n",
       " '더 내려야 하는 이유',\n",
       " '케냐 야생동물 고아원',\n",
       " '경유 1200원대로…',\n",
       " '더 내려야 하는 이유',\n",
       " '케냐 야생동물 고아원',\n",
       " '경유 1200원대로…',\n",
       " '더 내려야 하는 이유',\n",
       " '케냐 야생동물 고아원',\n",
       " '경유 1200원대로…',\n",
       " '더 내려야 하는 이유',\n",
       " '케냐 야생동물 고아원',\n",
       " '경유 1200원대로…',\n",
       " '더 내려야 하는 이유',\n",
       " \"천재 소녀의 '부활'\",\n",
       " '케냐 야생동물 고아원',\n",
       " '경유 1200원대로…',\n",
       " '더 내려야 하는 이유',\n",
       " '케냐 야생동물 고아원',\n",
       " '경유 1200원대로…',\n",
       " '더 내려야 하는 이유',\n",
       " '케냐 야생동물 고아원',\n",
       " '경유 1200원대로…',\n",
       " '더 내려야 하는 이유',\n",
       " '케냐 야생동물 고아원',\n",
       " '경유 1200원대로…',\n",
       " '더 내려야 하는 이유',\n",
       " \"천재 소녀의 '부활'\",\n",
       " '케냐 야생동물 고아원',\n",
       " '경유 1200원대로…',\n",
       " '더 내려야 하는 이유',\n",
       " '케냐 야생동물 고아원',\n",
       " '경유 1200원대로…',\n",
       " '더 내려야 하는 이유',\n",
       " '케냐 야생동물 고아원',\n",
       " '경유 1200원대로…',\n",
       " '더 내려야 하는 이유',\n",
       " '케냐 야생동물 고아원',\n",
       " '경유 1200원대로…',\n",
       " '더 내려야 하는 이유',\n",
       " '케냐 야생동물 고아원',\n",
       " '경유 1200원대로…',\n",
       " '더 내려야 하는 이유',\n",
       " '케냐 야생동물 고아원',\n",
       " '경유 1200원대로…',\n",
       " '더 내려야 하는 이유',\n",
       " '케냐 야생동물 고아원',\n",
       " '경유 1200원대로…',\n",
       " '더 내려야 하는 이유',\n",
       " '케냐 야생동물 고아원',\n",
       " '경유 1200원대로…',\n",
       " '더 내려야 하는 이유',\n",
       " '케냐 야생동물 고아원',\n",
       " '경유 1200원대로…',\n",
       " '더 내려야 하는 이유',\n",
       " '케냐 야생동물 고아원',\n",
       " '경유 1200원대로…',\n",
       " '더 내려야 하는 이유',\n",
       " '케냐 야생동물 고아원',\n",
       " '경유 1200원대로…',\n",
       " '더 내려야 하는 이유',\n",
       " '케냐 야생동물 고아원',\n",
       " '경유 1200원대로…',\n",
       " '더 내려야 하는 이유',\n",
       " '케냐 야생동물 고아원',\n",
       " '경유 1200원대로…',\n",
       " '더 내려야 하는 이유',\n",
       " '케냐 야생동물 고아원',\n",
       " '경유 1200원대로…',\n",
       " '더 내려야 하는 이유',\n",
       " '케냐 야생동물 고아원',\n",
       " '경유 1200원대로…',\n",
       " '더 내려야 하는 이유',\n",
       " '케냐 야생동물 고아원',\n",
       " '경유 1200원대로…',\n",
       " '더 내려야 하는 이유',\n",
       " '케냐 야생동물 고아원',\n",
       " '경유 1200원대로…',\n",
       " '더 내려야 하는 이유',\n",
       " '케냐 야생동물 고아원',\n",
       " '경유 1200원대로…',\n",
       " '더 내려야 하는 이유',\n",
       " '케냐 야생동물 고아원',\n",
       " '경유 1200원대로…',\n",
       " '더 내려야 하는 이유',\n",
       " '케냐 야생동물 고아원',\n",
       " '경유 1200원대로…',\n",
       " '더 내려야 하는 이유',\n",
       " '케냐 야생동물 고아원',\n",
       " '경유 1200원대로…',\n",
       " '더 내려야 하는 이유',\n",
       " '케냐 야생동물 고아원',\n",
       " '경유 1200원대로…',\n",
       " '더 내려야 하는 이유',\n",
       " '케냐 야생동물 고아원',\n",
       " '경유 1200원대로…',\n",
       " '더 내려야 하는 이유',\n",
       " '케냐 야생동물 고아원',\n",
       " '경유 1200원대로…',\n",
       " '더 내려야 하는 이유',\n",
       " '케냐 야생동물 고아원',\n",
       " '경유 1200원대로…',\n",
       " '더 내려야 하는 이유',\n",
       " '케냐 야생동물 고아원',\n",
       " '경유 1200원대로…',\n",
       " '더 내려야 하는 이유',\n",
       " '케냐 야생동물 고아원',\n",
       " '경유 1200원대로…',\n",
       " '더 내려야 하는 이유',\n",
       " '케냐 야생동물 고아원',\n",
       " '경유 1200원대로…',\n",
       " '더 내려야 하는 이유',\n",
       " '케냐 야생동물 고아원',\n",
       " '경유 1200원대로…',\n",
       " '더 내려야 하는 이유',\n",
       " '케냐 야생동물 고아원',\n",
       " '경유 1200원대로…',\n",
       " '더 내려야 하는 이유',\n",
       " '케냐 야생동물 고아원',\n",
       " '경유 1200원대로…',\n",
       " '더 내려야 하는 이유',\n",
       " '케냐 야생동물 고아원',\n",
       " '경유 1200원대로…',\n",
       " '더 내려야 하는 이유',\n",
       " '케냐 야생동물 고아원',\n",
       " '경유 1200원대로…',\n",
       " '더 내려야 하는 이유',\n",
       " '케냐 야생동물 고아원',\n",
       " '경유 1200원대로…',\n",
       " '더 내려야 하는 이유',\n",
       " '케냐 야생동물 고아원',\n",
       " '경유 1200원대로…',\n",
       " '더 내려야 하는 이유',\n",
       " '케냐 야생동물 고아원',\n",
       " '경유 1200원대로…',\n",
       " '더 내려야 하는 이유',\n",
       " '케냐 야생동물 고아원',\n",
       " '경유 1200원대로…',\n",
       " '더 내려야 하는 이유',\n",
       " '케냐 야생동물 고아원',\n",
       " '경유 1200원대로…',\n",
       " '더 내려야 하는 이유',\n",
       " '케냐 야생동물 고아원',\n",
       " '경유 1200원대로…',\n",
       " '더 내려야 하는 이유',\n",
       " '케냐 야생동물 고아원',\n",
       " '경유 1200원대로…',\n",
       " '더 내려야 하는 이유',\n",
       " '케냐 야생동물 고아원',\n",
       " '경유 1200원대로…',\n",
       " '더 내려야 하는 이유',\n",
       " '케냐 야생동물 고아원',\n",
       " '경유 1200원대로…',\n",
       " '더 내려야 하는 이유',\n",
       " '케냐 야생동물 고아원',\n",
       " '경유 1200원대로…',\n",
       " '더 내려야 하는 이유',\n",
       " '케냐 야생동물 고아원',\n",
       " '경유 1200원대로…',\n",
       " '더 내려야 하는 이유',\n",
       " '케냐 야생동물 고아원',\n",
       " '경유 1200원대로…',\n",
       " '더 내려야 하는 이유',\n",
       " '케냐 야생동물 고아원',\n",
       " '경유 1200원대로…',\n",
       " '더 내려야 하는 이유',\n",
       " '케냐 야생동물 고아원',\n",
       " '경유 1200원대로…',\n",
       " '더 내려야 하는 이유',\n",
       " \"천재 소녀의 '부활'\",\n",
       " '케냐 야생동물 고아원',\n",
       " '경유 1200원대로…',\n",
       " '더 내려야 하는 이유',\n",
       " '케냐 야생동물 고아원',\n",
       " '경유 1200원대로…',\n",
       " '더 내려야 하는 이유',\n",
       " '케냐 야생동물 고아원',\n",
       " '경유 1200원대로…',\n",
       " '더 내려야 하는 이유',\n",
       " '케냐 야생동물 고아원',\n",
       " '경유 1200원대로…',\n",
       " '더 내려야 하는 이유',\n",
       " '케냐 야생동물 고아원',\n",
       " '경유 1200원대로…',\n",
       " '더 내려야 하는 이유',\n",
       " '케냐 야생동물 고아원',\n",
       " '경유 1200원대로…',\n",
       " '더 내려야 하는 이유',\n",
       " '케냐 야생동물 고아원',\n",
       " '경유 1200원대로…',\n",
       " '더 내려야 하는 이유',\n",
       " '케냐 야생동물 고아원',\n",
       " '경유 1200원대로…',\n",
       " '더 내려야 하는 이유',\n",
       " '케냐 야생동물 고아원',\n",
       " '경유 1200원대로…',\n",
       " '더 내려야 하는 이유',\n",
       " '케냐 야생동물 고아원',\n",
       " '경유 1200원대로…',\n",
       " '더 내려야 하는 이유',\n",
       " '케냐 야생동물 고아원',\n",
       " '경유 1200원대로…',\n",
       " '더 내려야 하는 이유',\n",
       " '케냐 야생동물 고아원',\n",
       " '경유 1200원대로…',\n",
       " '더 내려야 하는 이유',\n",
       " '케냐 야생동물 고아원',\n",
       " '경유 1200원대로…',\n",
       " '더 내려야 하는 이유',\n",
       " '케냐 야생동물 고아원',\n",
       " '경유 1200원대로…',\n",
       " '더 내려야 하는 이유',\n",
       " ...]"
      ]
     },
     "execution_count": 9,
     "metadata": {},
     "output_type": "execute_result"
    }
   ],
   "source": [
    "for idx, _sum in enumerate(sentence_length):\n",
    "    # 문장의 수가 1500을 초과하는 문장 길이를 추출합니다.\n",
    "    if _sum > 1500:\n",
    "        print(\"Outlier Index:\", idx+1)\n",
    "check_sentence_with_length(raw, 11)"
   ]
  },
  {
   "cell_type": "markdown",
   "id": "interior-wagner",
   "metadata": {},
   "source": [
    "중복 제거를 해주자."
   ]
  },
  {
   "cell_type": "code",
   "execution_count": 10,
   "id": "bigger-giant",
   "metadata": {},
   "outputs": [
    {
     "name": "stdout",
     "output_type": "stream",
     "text": [
      "Data Size: 77591\n",
      "문장의 최단 길이: 1\n",
      "문장의 최장 길이: 377\n",
      "문장의 평균 길이: 64\n"
     ]
    },
    {
     "data": {
      "image/png": "[encoded data removed]",
      "text/plain": [
       "<Figure size 432x288 with 1 Axes>"
      ]
     },
     "metadata": {
      "needs_background": "light"
     },
     "output_type": "display_data"
    }
   ],
   "source": [
    "min_len = 999\n",
    "max_len = 0\n",
    "sum_len = 0\n",
    "\n",
    "cleaned_corpus = list(set(raw))  # set를 사용해서 중복을 제거합니다.\n",
    "print(\"Data Size:\", len(cleaned_corpus))\n",
    "\n",
    "for sen in cleaned_corpus:\n",
    "    length = len(sen)\n",
    "    if min_len > length: min_len = length\n",
    "    if max_len < length: max_len = length\n",
    "    sum_len += length\n",
    "\n",
    "print(\"문장의 최단 길이:\", min_len)\n",
    "print(\"문장의 최장 길이:\", max_len)\n",
    "print(\"문장의 평균 길이:\", sum_len // len(cleaned_corpus))\n",
    "\n",
    "sentence_length = np.zeros((max_len), dtype=np.int)\n",
    "\n",
    "for sen in cleaned_corpus:   # 중복이 제거된 코퍼스 기준\n",
    "    sentence_length[len(sen)-1] += 1\n",
    "\n",
    "plt.bar(range(max_len), sentence_length, width=1.0)\n",
    "plt.title(\"Sentence Length Distribution\")\n",
    "plt.show()"
   ]
  },
  {
   "cell_type": "markdown",
   "id": "involved-render",
   "metadata": {},
   "source": [
    "Q. 모든 데이터를 다 쓸것이냐? \n",
    "A. padding 생성할 거면 제일 긴 길이의 데이터를 기준으로 padding이 이루어진다. 너무 비효율적이다. \n",
    "Q. 그럼 길이별로 미니배치를 생성하는건 어떤가?\n",
    "A. 길이에 따라 배치를 생성하면 편향성이 생길 수 있다. "
   ]
  },
  {
   "cell_type": "code",
   "execution_count": 11,
   "id": "structured-bacteria",
   "metadata": {},
   "outputs": [
    {
     "data": {
      "image/png": "[encoded data removed]",
      "text/plain": [
       "<Figure size 432x288 with 1 Axes>"
      ]
     },
     "metadata": {
      "needs_background": "light"
     },
     "output_type": "display_data"
    }
   ],
   "source": [
    "# 너무 짧거나 너무 긴 데이터들을 날리자\n",
    "max_len = 150\n",
    "min_len = 10\n",
    "\n",
    "# 길이 조건에 맞는 문장만 선택합니다.\n",
    "filtered_corpus = [s for s in cleaned_corpus if (len(s) < max_len) & (len(s) >= min_len)]\n",
    "\n",
    "# 분포도를 다시 그려봅니다.\n",
    "sentence_length = np.zeros((max_len), dtype=np.int)\n",
    "\n",
    "for sen in filtered_corpus:\n",
    "    sentence_length[len(sen)-1] += 1\n",
    "\n",
    "plt.bar(range(max_len), sentence_length, width=1.0)\n",
    "plt.title(\"Sentence Length Distribution\")\n",
    "plt.show()"
   ]
  },
  {
   "cell_type": "code",
   "execution_count": null,
   "id": "nominated-landing",
   "metadata": {},
   "outputs": [],
   "source": []
  },
  {
   "cell_type": "markdown",
   "id": "sharp-style",
   "metadata": {},
   "source": [
    "## 1. 데이터 준비\n",
    "```\n",
    "$ wget https://raw.githubusercontent.com/e9t/nsmc/master/ratings_train.txt\n",
    "$ wget https://raw.githubusercontent.com/e9t/nsmc/master/ratings_test.txt\n",
    "$ mv ratings_*.txt ~/aiffel/sentiment_classification\n",
    "```"
   ]
  },
  {
   "cell_type": "code",
   "execution_count": 12,
   "id": "genetic-norman",
   "metadata": {},
   "outputs": [
    {
     "data": {
      "text/html": [
       "<div>\n",
       "<style scoped>\n",
       "    .dataframe tbody tr th:only-of-type {\n",
       "        vertical-align: middle;\n",
       "    }\n",
       "\n",
       "    .dataframe tbody tr th {\n",
       "        vertical-align: top;\n",
       "    }\n",
       "\n",
       "    .dataframe thead th {\n",
       "        text-align: right;\n",
       "    }\n",
       "</style>\n",
       "<table border=\"1\" class=\"dataframe\">\n",
       "  <thead>\n",
       "    <tr style=\"text-align: right;\">\n",
       "      <th></th>\n",
       "      <th>id</th>\n",
       "      <th>document</th>\n",
       "      <th>label</th>\n",
       "    </tr>\n",
       "  </thead>\n",
       "  <tbody>\n",
       "    <tr>\n",
       "      <th>0</th>\n",
       "      <td>9976970</td>\n",
       "      <td>아 더빙.. 진짜 짜증나네요 목소리</td>\n",
       "      <td>0</td>\n",
       "    </tr>\n",
       "    <tr>\n",
       "      <th>1</th>\n",
       "      <td>3819312</td>\n",
       "      <td>흠...포스터보고 초딩영화줄....오버연기조차 가볍지 않구나</td>\n",
       "      <td>1</td>\n",
       "    </tr>\n",
       "    <tr>\n",
       "      <th>2</th>\n",
       "      <td>10265843</td>\n",
       "      <td>너무재밓었다그래서보는것을추천한다</td>\n",
       "      <td>0</td>\n",
       "    </tr>\n",
       "    <tr>\n",
       "      <th>3</th>\n",
       "      <td>9045019</td>\n",
       "      <td>교도소 이야기구먼 ..솔직히 재미는 없다..평점 조정</td>\n",
       "      <td>0</td>\n",
       "    </tr>\n",
       "    <tr>\n",
       "      <th>4</th>\n",
       "      <td>6483659</td>\n",
       "      <td>사이몬페그의 익살스런 연기가 돋보였던 영화!스파이더맨에서 늙어보이기만 했던 커스틴 ...</td>\n",
       "      <td>1</td>\n",
       "    </tr>\n",
       "  </tbody>\n",
       "</table>\n",
       "</div>"
      ],
      "text/plain": [
       "         id                                           document  label\n",
       "0   9976970                                아 더빙.. 진짜 짜증나네요 목소리      0\n",
       "1   3819312                  흠...포스터보고 초딩영화줄....오버연기조차 가볍지 않구나      1\n",
       "2  10265843                                  너무재밓었다그래서보는것을추천한다      0\n",
       "3   9045019                      교도소 이야기구먼 ..솔직히 재미는 없다..평점 조정      0\n",
       "4   6483659  사이몬페그의 익살스런 연기가 돋보였던 영화!스파이더맨에서 늙어보이기만 했던 커스틴 ...      1"
      ]
     },
     "execution_count": 12,
     "metadata": {},
     "output_type": "execute_result"
    }
   ],
   "source": [
    "import pandas as pd\n",
    "import urllib.request\n",
    "%matplotlib inline\n",
    "import matplotlib.pyplot as plt\n",
    "import re\n",
    "import tensorflow as tf\n",
    "from konlpy.tag import Okt\n",
    "from tensorflow import keras\n",
    "from tensorflow.keras.preprocessing.text import Tokenizer\n",
    "import numpy as np\n",
    "from tensorflow.keras.preprocessing.sequence import pad_sequences\n",
    "from collections import Counter\n",
    "\n",
    "# 데이터를 읽어봅시다. \n",
    "train_data = pd.read_table('~/aiffel/sentiment_classification/ratings_train.txt')\n",
    "test_data = pd.read_table('~/aiffel/sentiment_classification/ratings_test.txt')\n",
    "\n",
    "train_data.head()"
   ]
  },
  {
   "cell_type": "code",
   "execution_count": 13,
   "id": "express-fleet",
   "metadata": {},
   "outputs": [],
   "source": [
    "def analyze_sentences(raw) :\n",
    "    max_len=0\n",
    "    min_len=999 \n",
    "    sum_len=0\n",
    "    for sen in raw:\n",
    "        if type(sen) != type(\"\") :\n",
    "            continue\n",
    "        length = len(sen)\n",
    "        #print(length)\n",
    "        #print(type(sen))\n",
    "        #break\n",
    "        if min_len > length: min_len = length\n",
    "        if max_len < length: max_len = length\n",
    "        sum_len += length\n",
    "\n",
    "    print(\"문장의 최단 길이:\", min_len)\n",
    "    print(\"문장의 최장 길이:\", max_len)\n",
    "    print(\"문장의 평균 길이:\", sum_len // len(raw))\n",
    "\n",
    "    sentence_length = np.zeros((max_len), dtype=np.int)\n",
    "\n",
    "    for sen in raw:\n",
    "        if type(sen) != type(\"\") :\n",
    "            continue\n",
    "        sentence_length[len(sen)-1] += 1\n",
    "\n",
    "    plt.bar(range(max_len), sentence_length, width=1.0)\n",
    "    plt.title(\"Sentence Length Distribution\")\n",
    "    plt.show()"
   ]
  },
  {
   "cell_type": "code",
   "execution_count": 14,
   "id": "searching-attribute",
   "metadata": {},
   "outputs": [
    {
     "data": {
      "text/plain": [
       "['아 더빙.. 진짜 짜증나네요 목소리',\n",
       " '흠...포스터보고 초딩영화줄....오버연기조차 가볍지 않구나',\n",
       " '너무재밓었다그래서보는것을추천한다',\n",
       " '교도소 이야기구먼 ..솔직히 재미는 없다..평점 조정',\n",
       " '사이몬페그의 익살스런 연기가 돋보였던 영화!스파이더맨에서 늙어보이기만 했던 커스틴 던스트가 너무나도 이뻐보였다']"
      ]
     },
     "execution_count": 14,
     "metadata": {},
     "output_type": "execute_result"
    }
   ],
   "source": [
    "train_data['document'].values.tolist()[:5]"
   ]
  },
  {
   "cell_type": "code",
   "execution_count": 15,
   "id": "marked-papua",
   "metadata": {},
   "outputs": [
    {
     "name": "stdout",
     "output_type": "stream",
     "text": [
      "문장의 최단 길이: 1\n",
      "문장의 최장 길이: 146\n",
      "문장의 평균 길이: 35\n"
     ]
    },
    {
     "data": {
      "image/png": "[encoded data removed]",
      "text/plain": [
       "<Figure size 432x288 with 1 Axes>"
      ]
     },
     "metadata": {
      "needs_background": "light"
     },
     "output_type": "display_data"
    }
   ],
   "source": [
    "train_data_doc = train_data['document'].values.tolist()\n",
    "train_data_doc = [x for x in train_data_doc if type(x) == type(\"\")]\n",
    "\n",
    "analyze_sentences(train_data_doc)"
   ]
  },
  {
   "cell_type": "code",
   "execution_count": 16,
   "id": "incoming-accountability",
   "metadata": {},
   "outputs": [
    {
     "data": {
      "text/plain": [
       "149995"
      ]
     },
     "execution_count": 16,
     "metadata": {},
     "output_type": "execute_result"
    }
   ],
   "source": [
    "len(train_data_doc)"
   ]
  },
  {
   "cell_type": "code",
   "execution_count": null,
   "id": "latin-lobby",
   "metadata": {},
   "outputs": [],
   "source": [
    "target = check_sentence_with_length(train_data_doc, 1)\n",
    "if len(target) < 10 :\n",
    "    print(target)\n",
    "else :\n",
    "    print(target[:5])"
   ]
  },
  {
   "cell_type": "code",
   "execution_count": null,
   "id": "promotional-killing",
   "metadata": {},
   "outputs": [],
   "source": [
    "target = check_sentence_with_length(train_data_doc, 146)\n",
    "if len(target) < 10 :\n",
    "    print(target)\n",
    "else :\n",
    "    print(target[:5])"
   ]
  },
  {
   "cell_type": "markdown",
   "id": "corresponding-farmer",
   "metadata": {},
   "source": [
    "길이가 146인 데이터도 의미가 있긴 하지만, 분포를 균일하게 하는 것이 목표이기 때문에 이를 제거하자. "
   ]
  },
  {
   "cell_type": "code",
   "execution_count": 17,
   "id": "organized-shanghai",
   "metadata": {},
   "outputs": [
    {
     "data": {
      "image/png": "[encoded data removed]",
      "text/plain": [
       "<Figure size 432x288 with 1 Axes>"
      ]
     },
     "metadata": {
      "needs_background": "light"
     },
     "output_type": "display_data"
    }
   ],
   "source": [
    "# 너무 짧거나 너무 긴 데이터들을 날리자\n",
    "max_len = 120\n",
    "min_len = 5\n",
    "\n",
    "# 길이 조건에 맞는 문장만 선택합니다.\n",
    "filtered_corpus = [s for s in train_data_doc if (len(s) < max_len) & (len(s) >= min_len)]\n",
    "\n",
    "# 분포도를 다시 그려봅니다.\n",
    "sentence_length = np.zeros((max_len), dtype=np.int)\n",
    "\n",
    "for sen in filtered_corpus:\n",
    "    sentence_length[len(sen)-1] += 1\n",
    "\n",
    "plt.bar(range(max_len), sentence_length, width=1.0)\n",
    "plt.title(\"Sentence Length Distribution\")\n",
    "plt.show()"
   ]
  },
  {
   "cell_type": "code",
   "execution_count": 18,
   "id": "removed-breakdown",
   "metadata": {},
   "outputs": [],
   "source": [
    "def tokenize(corpus):  # corpus: Tokenized Sentence's List\n",
    "    tokenizer = tf.keras.preprocessing.text.Tokenizer(filters='')\n",
    "    tokenizer.fit_on_texts(corpus)\n",
    "\n",
    "    tensor = tokenizer.texts_to_sequences(corpus)\n",
    "\n",
    "    tensor = tf.keras.preprocessing.sequence.pad_sequences(tensor, padding='post')\n",
    "\n",
    "    return tensor, tokenizer"
   ]
  },
  {
   "cell_type": "markdown",
   "id": "bigger-dodge",
   "metadata": {},
   "source": [
    "## 2. Tokenizer 준비"
   ]
  },
  {
   "cell_type": "code",
   "execution_count": 19,
   "id": "vulnerable-landscape",
   "metadata": {},
   "outputs": [
    {
     "name": "stdout",
     "output_type": "stream",
     "text": [
      "-rw-r--r-- 1 aiffel-dj15 aiffel-dj15 375179  4월 18 21:35 korean_spm_bpe.model\r\n",
      "-rw-r--r-- 1 aiffel-dj15 aiffel-dj15 144638  4월 18 21:35 korean_spm_bpe.vocab\r\n",
      "-rw-r--r-- 1 aiffel-dj15 aiffel-dj15 375178  4월 20 15:25 korean_spm.model\r\n",
      "-rw-r--r-- 1 aiffel-dj15 aiffel-dj15 144638  4월 20 15:25 korean_spm.vocab\r\n"
     ]
    }
   ],
   "source": [
    "import sentencepiece as spm\n",
    "import os\n",
    "temp_file = os.getenv('HOME')+'/aiffel/sp_tokenizer/data/korean-english-park_spe.train.ko.temp'\n",
    "\n",
    "vocab_size = 8000\n",
    "\n",
    "with open(temp_file, 'w') as f:\n",
    "    for row in filtered_corpus:   # 이전 스텝에서 정제했던 corpus를 활용합니다.\n",
    "        f.write(str(row) + '\\n')\n",
    "\n",
    "spm.SentencePieceTrainer.Train(\n",
    "    '--input={} --model_prefix=korean_spm --vocab_size={}'.format(temp_file, vocab_size)    \n",
    ")\n",
    "#위 Train에서  --model_type = 'unigram'이 디폴트 적용되어 있습니다. --model_type = 'bpe' 로 옵션을 주어 변경할 수 있습니다.\n",
    "\n",
    "!ls -l korean_spm*\n"
   ]
  },
  {
   "cell_type": "markdown",
   "id": "restricted-norfolk",
   "metadata": {},
   "source": [
    "아까 만든 SentencePiece기반 토크나이저를 불러서 토큰화하는 함수를 정의해보자. \n",
    "해당 함수의 파라미터에는 `잘게 부셔진 문장`이 아닌 `문장 자체`가 들어간다."
   ]
  },
  {
   "cell_type": "markdown",
   "id": "infrared-updating",
   "metadata": {},
   "source": [
    "아까 학습시킨 모델을 로드하고, 이를 통해 tensor, word index와 index word를 생성한다. "
   ]
  },
  {
   "cell_type": "code",
   "execution_count": 21,
   "id": "expanded-flour",
   "metadata": {},
   "outputs": [
    {
     "data": {
      "text/html": [
       "<div>\n",
       "<style scoped>\n",
       "    .dataframe tbody tr th:only-of-type {\n",
       "        vertical-align: middle;\n",
       "    }\n",
       "\n",
       "    .dataframe tbody tr th {\n",
       "        vertical-align: top;\n",
       "    }\n",
       "\n",
       "    .dataframe thead th {\n",
       "        text-align: right;\n",
       "    }\n",
       "</style>\n",
       "<table border=\"1\" class=\"dataframe\">\n",
       "  <thead>\n",
       "    <tr style=\"text-align: right;\">\n",
       "      <th></th>\n",
       "      <th>label</th>\n",
       "    </tr>\n",
       "  </thead>\n",
       "  <tbody>\n",
       "    <tr>\n",
       "      <th>count</th>\n",
       "      <td>150000.000000</td>\n",
       "    </tr>\n",
       "    <tr>\n",
       "      <th>mean</th>\n",
       "      <td>0.498847</td>\n",
       "    </tr>\n",
       "    <tr>\n",
       "      <th>std</th>\n",
       "      <td>0.500000</td>\n",
       "    </tr>\n",
       "    <tr>\n",
       "      <th>min</th>\n",
       "      <td>0.000000</td>\n",
       "    </tr>\n",
       "    <tr>\n",
       "      <th>25%</th>\n",
       "      <td>0.000000</td>\n",
       "    </tr>\n",
       "    <tr>\n",
       "      <th>50%</th>\n",
       "      <td>0.000000</td>\n",
       "    </tr>\n",
       "    <tr>\n",
       "      <th>75%</th>\n",
       "      <td>1.000000</td>\n",
       "    </tr>\n",
       "    <tr>\n",
       "      <th>max</th>\n",
       "      <td>1.000000</td>\n",
       "    </tr>\n",
       "  </tbody>\n",
       "</table>\n",
       "</div>"
      ],
      "text/plain": [
       "               label\n",
       "count  150000.000000\n",
       "mean        0.498847\n",
       "std         0.500000\n",
       "min         0.000000\n",
       "25%         0.000000\n",
       "50%         0.000000\n",
       "75%         1.000000\n",
       "max         1.000000"
      ]
     },
     "execution_count": 21,
     "metadata": {},
     "output_type": "execute_result"
    }
   ],
   "source": [
    "t_lb = pd.DataFrame(train_data['label'])\n",
    "t_lb.describe()"
   ]
  },
  {
   "cell_type": "code",
   "execution_count": 22,
   "id": "fallen-graham",
   "metadata": {},
   "outputs": [],
   "source": [
    "from tensorflow.keras.initializers import Constant\n",
    "import gensim"
   ]
  },
  {
   "cell_type": "markdown",
   "id": "facial-oakland",
   "metadata": {},
   "source": []
  },
  {
   "cell_type": "markdown",
   "id": "material-invalid",
   "metadata": {},
   "source": [
    "테스트 데이터를 정제하기 위해 최대 최소 길이를 먼저 알아보고 걸러준다. "
   ]
  },
  {
   "cell_type": "code",
   "execution_count": 23,
   "id": "demonstrated-aberdeen",
   "metadata": {},
   "outputs": [
    {
     "name": "stdout",
     "output_type": "stream",
     "text": [
      "문장의 최단 길이: 1\n",
      "문장의 최장 길이: 144\n",
      "문장의 평균 길이: 35\n"
     ]
    },
    {
     "data": {
      "image/png": "[encoded data removed]",
      "text/plain": [
       "<Figure size 432x288 with 1 Axes>"
      ]
     },
     "metadata": {
      "needs_background": "light"
     },
     "output_type": "display_data"
    }
   ],
   "source": [
    "analyze_sentences(test_data['document'].values.tolist())"
   ]
  },
  {
   "cell_type": "markdown",
   "id": "moderate-voice",
   "metadata": {},
   "source": [
    "테스트 데이터의 분포도도 학습 데이터와 비슷해서 똑같은 길이로 잘라줬다. "
   ]
  },
  {
   "cell_type": "markdown",
   "id": "former-talent",
   "metadata": {},
   "source": [
    "null을 포함한 행도 지워준다. "
   ]
  },
  {
   "cell_type": "code",
   "execution_count": null,
   "id": "genuine-tablet",
   "metadata": {},
   "outputs": [],
   "source": []
  },
  {
   "cell_type": "code",
   "execution_count": 74,
   "id": "intermediate-annex",
   "metadata": {},
   "outputs": [],
   "source": [
    "train_data.drop_duplicates(subset=['document'], inplace=True)\n",
    "test_data.drop_duplicates(subset=['document'], inplace=True)\n",
    "#train_data['document'] = train_data['document'][train_data['document'].apply(lambda x: True  if type(x) == type(\"\") and 5 <= len(x) <= 120 else False)]"
   ]
  },
  {
   "cell_type": "code",
   "execution_count": null,
   "id": "traditional-grain",
   "metadata": {},
   "outputs": [],
   "source": []
  },
  {
   "cell_type": "code",
   "execution_count": 75,
   "id": "floppy-ensemble",
   "metadata": {},
   "outputs": [
    {
     "data": {
      "text/html": [
       "<div>\n",
       "<style scoped>\n",
       "    .dataframe tbody tr th:only-of-type {\n",
       "        vertical-align: middle;\n",
       "    }\n",
       "\n",
       "    .dataframe tbody tr th {\n",
       "        vertical-align: top;\n",
       "    }\n",
       "\n",
       "    .dataframe thead th {\n",
       "        text-align: right;\n",
       "    }\n",
       "</style>\n",
       "<table border=\"1\" class=\"dataframe\">\n",
       "  <thead>\n",
       "    <tr style=\"text-align: right;\">\n",
       "      <th></th>\n",
       "      <th>id</th>\n",
       "      <th>document</th>\n",
       "      <th>label</th>\n",
       "    </tr>\n",
       "  </thead>\n",
       "  <tbody>\n",
       "    <tr>\n",
       "      <th>1</th>\n",
       "      <td>9274899</td>\n",
       "      <td>GDNTOPCLASSINTHECLUB</td>\n",
       "      <td>0</td>\n",
       "    </tr>\n",
       "    <tr>\n",
       "      <th>2</th>\n",
       "      <td>8544678</td>\n",
       "      <td>뭐야 이 평점들은.... 나쁘진 않지만 10점 짜리는 더더욱 아니잖아</td>\n",
       "      <td>0</td>\n",
       "    </tr>\n",
       "    <tr>\n",
       "      <th>3</th>\n",
       "      <td>6825595</td>\n",
       "      <td>지루하지는 않은데 완전 막장임... 돈주고 보기에는....</td>\n",
       "      <td>0</td>\n",
       "    </tr>\n",
       "    <tr>\n",
       "      <th>4</th>\n",
       "      <td>6723715</td>\n",
       "      <td>3D만 아니었어도 별 다섯 개 줬을텐데.. 왜 3D로 나와서 제 심기를 불편하게 하죠??</td>\n",
       "      <td>0</td>\n",
       "    </tr>\n",
       "    <tr>\n",
       "      <th>5</th>\n",
       "      <td>7898805</td>\n",
       "      <td>음악이 주가 된, 최고의 음악영화</td>\n",
       "      <td>1</td>\n",
       "    </tr>\n",
       "    <tr>\n",
       "      <th>...</th>\n",
       "      <td>...</td>\n",
       "      <td>...</td>\n",
       "      <td>...</td>\n",
       "    </tr>\n",
       "    <tr>\n",
       "      <th>49995</th>\n",
       "      <td>4608761</td>\n",
       "      <td>오랜만에 평점 로긴했네ㅋㅋ 킹왕짱 쌈뽕한 영화를 만났습니다 강렬하게 육쾌함</td>\n",
       "      <td>1</td>\n",
       "    </tr>\n",
       "    <tr>\n",
       "      <th>49996</th>\n",
       "      <td>5308387</td>\n",
       "      <td>의지 박약들이나 하는거다 탈영은 일단 주인공 김대희 닮았고 이등병 찐따 OOOO</td>\n",
       "      <td>0</td>\n",
       "    </tr>\n",
       "    <tr>\n",
       "      <th>49997</th>\n",
       "      <td>9072549</td>\n",
       "      <td>그림도 좋고 완성도도 높았지만... 보는 내내 불안하게 만든다</td>\n",
       "      <td>0</td>\n",
       "    </tr>\n",
       "    <tr>\n",
       "      <th>49998</th>\n",
       "      <td>5802125</td>\n",
       "      <td>절대 봐서는 안 될 영화.. 재미도 없고 기분만 잡치고.. 한 세트장에서 다 해먹네</td>\n",
       "      <td>0</td>\n",
       "    </tr>\n",
       "    <tr>\n",
       "      <th>49999</th>\n",
       "      <td>6070594</td>\n",
       "      <td>마무리는 또 왜이래</td>\n",
       "      <td>0</td>\n",
       "    </tr>\n",
       "  </tbody>\n",
       "</table>\n",
       "<p>46427 rows × 3 columns</p>\n",
       "</div>"
      ],
      "text/plain": [
       "            id                                           document  label\n",
       "1      9274899                               GDNTOPCLASSINTHECLUB      0\n",
       "2      8544678             뭐야 이 평점들은.... 나쁘진 않지만 10점 짜리는 더더욱 아니잖아      0\n",
       "3      6825595                   지루하지는 않은데 완전 막장임... 돈주고 보기에는....      0\n",
       "4      6723715  3D만 아니었어도 별 다섯 개 줬을텐데.. 왜 3D로 나와서 제 심기를 불편하게 하죠??      0\n",
       "5      7898805                                 음악이 주가 된, 최고의 음악영화      1\n",
       "...        ...                                                ...    ...\n",
       "49995  4608761          오랜만에 평점 로긴했네ㅋㅋ 킹왕짱 쌈뽕한 영화를 만났습니다 강렬하게 육쾌함      1\n",
       "49996  5308387       의지 박약들이나 하는거다 탈영은 일단 주인공 김대희 닮았고 이등병 찐따 OOOO      0\n",
       "49997  9072549                 그림도 좋고 완성도도 높았지만... 보는 내내 불안하게 만든다      0\n",
       "49998  5802125     절대 봐서는 안 될 영화.. 재미도 없고 기분만 잡치고.. 한 세트장에서 다 해먹네      0\n",
       "49999  6070594                                         마무리는 또 왜이래      0\n",
       "\n",
       "[46427 rows x 3 columns]"
      ]
     },
     "execution_count": 75,
     "metadata": {},
     "output_type": "execute_result"
    }
   ],
   "source": [
    "train_data = train_data.dropna(how = 'any')\n",
    "test_data = test_data.dropna(how = 'any')\n",
    "train_data.drop_duplicates(['document'])\n",
    "test_data.drop_duplicates(['document'])"
   ]
  },
  {
   "cell_type": "code",
   "execution_count": 76,
   "id": "grave-james",
   "metadata": {},
   "outputs": [
    {
     "name": "stdout",
     "output_type": "stream",
     "text": [
      "122534 46427\n"
     ]
    }
   ],
   "source": [
    "print(len(train_data),len(test_data))"
   ]
  },
  {
   "cell_type": "code",
   "execution_count": 65,
   "id": "occasional-charge",
   "metadata": {},
   "outputs": [
    {
     "name": "stdout",
     "output_type": "stream",
     "text": [
      "0.25206766645977974 34927 2.0\n",
      "0.5757061820701203 44844 16.2\n",
      "0.7977223192505882 30763 30.4\n",
      "0.8843261500267029 12000 44.599999999999994\n",
      "0.925939290714626 5766 58.8\n",
      "0.9570950188363332 4317 73.0\n",
      "0.9784572970944415 2960 87.19999999999999\n",
      "0.9949048079560052 2279 101.39999999999999\n",
      "1.0 706 115.6\n"
     ]
    }
   ],
   "source": [
    "total = 138562\n",
    "count = 0\n",
    "bins = np.arange(2,144,(144-2)/10)\n",
    "train_data_only_sen = train_data['document'].values.tolist()\n",
    "train_data_lens = [len(x) for x in train_data_only_sen]\n",
    "#train_data_only_sen.sort(key=len)\n",
    "hist, bins = np.histogram(train_data_lens, bins)\n",
    "for i, v in enumerate(hist) :\n",
    "    count += hist[i]\n",
    "    print(count/total, hist[i], bins[i])"
   ]
  },
  {
   "cell_type": "code",
   "execution_count": 77,
   "id": "grave-kelly",
   "metadata": {},
   "outputs": [],
   "source": [
    "def get_hist(data, minlen, maxlen) :\n",
    "    total_len = len(data)\n",
    "    count = 0\n",
    "    bins = np.arange(minlen, maxlen, (maxlen-minlen)/10)\n",
    "    data_lens = [len(x) for x in data]\n",
    "    hist, bins = np.histogram(data_lens, bins)\n",
    "    for i, v in enumerate(hist) :\n",
    "        count += hist[i]\n",
    "        print(count/total_len, hist[i], bins[i])\n",
    "    return hist, bins"
   ]
  },
  {
   "cell_type": "code",
   "execution_count": 83,
   "id": "forbidden-treatment",
   "metadata": {},
   "outputs": [],
   "source": [
    "train_data_trimmed = train_data['document'][train_data['document'].apply(lambda x: True  if type(x) == type(\"s\") and 2 <= len(x) <= 58 else False)].values.tolist()\n",
    "train_data_label_trimmed = train_data['label'][train_data['document'].apply(lambda x: True  if type(x) == type(\"s\") and 2 <= len(x) <= 58 else False)].values.tolist()"
   ]
  },
  {
   "cell_type": "code",
   "execution_count": 88,
   "id": "monetary-country",
   "metadata": {},
   "outputs": [
    {
     "name": "stdout",
     "output_type": "stream",
     "text": [
      "122534\n"
     ]
    }
   ],
   "source": []
  },
  {
   "cell_type": "code",
   "execution_count": 78,
   "id": "closed-intention",
   "metadata": {},
   "outputs": [
    {
     "name": "stdout",
     "output_type": "stream",
     "text": [
      "0.25519632972192907 11848 2.0\n",
      "0.5791888340836151 15042 16.2\n",
      "0.7975100695715855 10136 30.4\n",
      "0.8840329980399336 4017 44.599999999999994\n",
      "0.9250005384797639 1902 58.8\n",
      "0.9583216662717815 1547 73.0\n",
      "0.9794946905895277 983 87.19999999999999\n",
      "0.9944859672173519 696 101.39999999999999\n",
      "1.0 256 115.6\n"
     ]
    },
    {
     "data": {
      "text/plain": [
       "(array([11848, 15042, 10136,  4017,  1902,  1547,   983,   696,   256]),\n",
       " array([  2. ,  16.2,  30.4,  44.6,  58.8,  73. ,  87.2, 101.4, 115.6,\n",
       "        129.8]))"
      ]
     },
     "execution_count": 78,
     "metadata": {},
     "output_type": "execute_result"
    }
   ],
   "source": [
    "get_hist(test_data['document'].values.tolist(), 2, 144)"
   ]
  },
  {
   "cell_type": "code",
   "execution_count": 84,
   "id": "physical-rehabilitation",
   "metadata": {},
   "outputs": [],
   "source": [
    "test_data_trimmed = test_data['document'][test_data['document'].apply(lambda x: True  if type(x) == type(\"s\") and 2 <= len(x) <= 73 else False)].values.tolist()\n",
    "test_data_label_trimmed = test_data['label'][test_data['document'].apply(lambda x: True  if type(x) == type(\"s\") and 2 <= len(x) <= 73 else False)].values.tolist()"
   ]
  },
  {
   "cell_type": "code",
   "execution_count": 81,
   "id": "desperate-activation",
   "metadata": {},
   "outputs": [
    {
     "name": "stdout",
     "output_type": "stream",
     "text": [
      "122534 43081\n"
     ]
    }
   ],
   "source": [
    "print(len(train_data_trimmed), len(test_data_trimmed))"
   ]
  },
  {
   "cell_type": "code",
   "execution_count": 89,
   "id": "imported-swiss",
   "metadata": {},
   "outputs": [
    {
     "name": "stdout",
     "output_type": "stream",
     "text": [
      "['아 더빙.. 진짜 짜증나네요 목소리', '흠...포스터보고 초딩영화줄....오버연기조차 가볍지 않구나', '너무재밓었다그래서보는것을추천한다', '교도소 이야기구먼 ..솔직히 재미는 없다..평점 조정', '막 걸음마 뗀 3세부터 초등학교 1학년생인 8살용영화.ㅋㅋㅋ...별반개도 아까움.']\n"
     ]
    }
   ],
   "source": []
  },
  {
   "cell_type": "code",
   "execution_count": 27,
   "id": "twelve-communication",
   "metadata": {},
   "outputs": [],
   "source": [
    "for i in train_data['document'].values.tolist() :\n",
    "    try : len(i)\n",
    "    except : \n",
    "        print(i, type(i))"
   ]
  },
  {
   "cell_type": "markdown",
   "id": "mineral-highland",
   "metadata": {},
   "source": [
    "## 3. 모델 학습시키기"
   ]
  },
  {
   "cell_type": "code",
   "execution_count": 91,
   "id": "ordinary-envelope",
   "metadata": {},
   "outputs": [],
   "source": [
    "def sp_tokenize(s, corpus, maxlen):\n",
    "\n",
    "    tensor = []\n",
    "\n",
    "    for sen in corpus:\n",
    "        tensor.append(s.EncodeAsIds(sen))\n",
    "\n",
    "    with open(\"./korean_spm.vocab\", 'r') as f:\n",
    "        vocab = f.readlines()\n",
    "\n",
    "    word_index = {}\n",
    "    index_word = {}\n",
    "\n",
    "    for idx, line in enumerate(vocab):\n",
    "        word = line.split(\"\\t\")[0]\n",
    "\n",
    "        word_index.update({idx:word})\n",
    "        index_word.update({word:idx})\n",
    "\n",
    "    tensor = tf.keras.preprocessing.sequence.pad_sequences(tensor, padding='pre',maxlen = maxlen)\n",
    "\n",
    "    return tensor, word_index, index_word"
   ]
  },
  {
   "cell_type": "code",
   "execution_count": 92,
   "id": "sublime-christmas",
   "metadata": {},
   "outputs": [],
   "source": [
    "s = spm.SentencePieceProcessor()\n",
    "s.Load('korean_spm.model')\n",
    "train_tensor, train_word_index, train_index_word = sp_tokenize(s, train_data_trimmed, 58)\n",
    "test_tensor, test_word_index, test_index_word = sp_tokenize(s, test_data_trimmed, 73)"
   ]
  },
  {
   "cell_type": "code",
   "execution_count": 98,
   "id": "august-purchase",
   "metadata": {},
   "outputs": [
    {
     "name": "stdout",
     "output_type": "stream",
     "text": [
      "<class 'list'>\n"
     ]
    }
   ],
   "source": [
    "print(type(train_data_label_trimmed))"
   ]
  },
  {
   "cell_type": "code",
   "execution_count": 29,
   "id": "noble-coach",
   "metadata": {},
   "outputs": [],
   "source": [
    "import matplotlib.pyplot as plt\n",
    "\n",
    "def draw_chart(history_dict) :\n",
    "    acc = history_dict['accuracy']\n",
    "    val_acc = history_dict['val_accuracy']\n",
    "    loss = history_dict['loss']\n",
    "    val_loss = history_dict['val_loss']\n",
    "\n",
    "    epochs = range(1, len(acc) + 1)\n",
    "\n",
    "    # \"bo\"는 \"파란색 점\"입니다\n",
    "    plt.plot(epochs, loss, 'bo', label='Training loss')\n",
    "    # b는 \"파란 실선\"입니다\n",
    "    plt.plot(epochs, val_loss, 'b', label='Validation loss')\n",
    "    plt.title('Training and validation loss')\n",
    "    plt.xlabel('Epochs')\n",
    "    plt.ylabel('Loss')\n",
    "    plt.legend()\n",
    "    plt.show()\n",
    "    \n",
    "    plt.clf()   # 그림을 초기화합니다\n",
    "\n",
    "    plt.plot(epochs, acc, 'bo', label='Training acc')\n",
    "    plt.plot(epochs, val_acc, 'b', label='Validation acc')\n",
    "    plt.title('Training and validation accuracy')\n",
    "    plt.xlabel('Epochs')\n",
    "    plt.ylabel('Accuracy')\n",
    "    plt.legend()\n",
    "\n",
    "    plt.show()"
   ]
  },
  {
   "cell_type": "code",
   "execution_count": 134,
   "id": "hourly-bunny",
   "metadata": {},
   "outputs": [
    {
     "name": "stdout",
     "output_type": "stream",
     "text": [
      "Model: \"sequential_16\"\n",
      "_________________________________________________________________\n",
      "Layer (type)                 Output Shape              Param #   \n",
      "=================================================================\n",
      "embedding_16 (Embedding)     (None, None, 200)         4000000   \n",
      "_________________________________________________________________\n",
      "global_max_pooling1d_12 (Glo (None, 200)               0         \n",
      "_________________________________________________________________\n",
      "dense_32 (Dense)             (None, 8)                 1608      \n",
      "_________________________________________________________________\n",
      "dense_33 (Dense)             (None, 1)                 9         \n",
      "=================================================================\n",
      "Total params: 4,001,617\n",
      "Trainable params: 4,001,617\n",
      "Non-trainable params: 0\n",
      "_________________________________________________________________\n"
     ]
    }
   ],
   "source": [
    "vocab_size = 20000    # 어휘 사전의 크기입니다(10,000개의 단어)\n",
    "word_vector_dim = 200  # 워드 벡터의 차원수 (변경가능한 하이퍼파라미터)\n",
    "from tensorflow.keras.callbacks import EarlyStopping, ModelCheckpoint\n",
    "\n",
    "model3 = keras.Sequential()\n",
    "model3.add(keras.layers.Embedding(vocab_size, word_vector_dim, input_shape=(None,)))\n",
    "model3.add(keras.layers.GlobalMaxPooling1D())\n",
    "model3.add(keras.layers.Dense(8, activation='relu'))\n",
    "model3.add(keras.layers.Dense(1, activation='sigmoid'))  # 최종 출력은 긍정/부정을 나타내는 1dim 입니다.\n",
    "\n",
    "model3.summary()"
   ]
  },
  {
   "cell_type": "code",
   "execution_count": 137,
   "id": "exposed-court",
   "metadata": {},
   "outputs": [
    {
     "name": "stdout",
     "output_type": "stream",
     "text": [
      "Epoch 1/10\n",
      "192/192 [==============================] - 8s 38ms/step - loss: 0.6273 - accuracy: 0.7001 - val_loss: 0.3632 - val_accuracy: 0.8451\n",
      "Epoch 2/10\n",
      "192/192 [==============================] - 7s 38ms/step - loss: 0.3182 - accuracy: 0.8670 - val_loss: 0.3364 - val_accuracy: 0.8527\n",
      "Epoch 3/10\n",
      "192/192 [==============================] - 7s 37ms/step - loss: 0.2563 - accuracy: 0.8970 - val_loss: 0.3427 - val_accuracy: 0.8533\n",
      "Epoch 00003: early stopping\n"
     ]
    }
   ],
   "source": [
    "import numpy as np\n",
    "\n",
    "es = EarlyStopping(monitor='val_loss', mode='min', verbose=1)\n",
    "mc = ModelCheckpoint('best_model_basic1.h5', monitor='val_loss', mode='min', save_best_only=True)\n",
    "\n",
    "\n",
    "model3.compile(optimizer='adam',\n",
    "              loss='binary_crossentropy',\n",
    "              metrics=['accuracy'])\n",
    "\n",
    "epochs = 10\n",
    "history3 = model3.fit(train_tensor,\n",
    "                    np.array(train_data_label_trimmed),\n",
    "                    epochs=epochs,\n",
    "                    batch_size=512,\n",
    "                    validation_split = 0.2,\n",
    "                    callbacks = [es,mc])"
   ]
  },
  {
   "cell_type": "code",
   "execution_count": 138,
   "id": "knowing-audit",
   "metadata": {},
   "outputs": [
    {
     "name": "stdout",
     "output_type": "stream",
     "text": [
      "1347/1347 - 2s - loss: 0.3501 - accuracy: 0.8493\n"
     ]
    }
   ],
   "source": [
    "results = model3.evaluate(test_tensor, np.array(test_data_label_trimmed), verbose=2)"
   ]
  },
  {
   "cell_type": "markdown",
   "id": "brazilian-coalition",
   "metadata": {},
   "source": [
    "막간의 보너스 : 구간을 지정해서 validation set을 넣어준다면?"
   ]
  },
  {
   "cell_type": "code",
   "execution_count": 125,
   "id": "czech-moscow",
   "metadata": {},
   "outputs": [],
   "source": [
    "train_data_label_trimmed = np.array(train_data_label_trimmed)\n",
    "x_val = train_data_trimmed[len(train_data_trimmed)//2:]\n",
    "y_val = train_data_label_trimmed[train_data_label_trimmed.shape[0]//2:]\n",
    "partial_x_train = train_data_trimmed[:len(train_data_trimmed)//2]\n",
    "partial_y_train = train_data_label_trimmed[:train_data_label_trimmed.shape[0]//2]"
   ]
  },
  {
   "cell_type": "code",
   "execution_count": 126,
   "id": "arbitrary-locator",
   "metadata": {},
   "outputs": [],
   "source": [
    "p_train_tensor, p_train_word_index, p_train_index_word = sp_tokenize(s, partial_x_train, 58)\n",
    "val_tensor, val_word_index, val_index_word = sp_tokenize(s, x_val,73)"
   ]
  },
  {
   "cell_type": "code",
   "execution_count": 131,
   "id": "accessible-letter",
   "metadata": {},
   "outputs": [
    {
     "name": "stdout",
     "output_type": "stream",
     "text": [
      "Model: \"sequential_15\"\n",
      "_________________________________________________________________\n",
      "Layer (type)                 Output Shape              Param #   \n",
      "=================================================================\n",
      "embedding_15 (Embedding)     (None, None, 200)         4000000   \n",
      "_________________________________________________________________\n",
      "global_max_pooling1d_11 (Glo (None, 200)               0         \n",
      "_________________________________________________________________\n",
      "dense_30 (Dense)             (None, 8)                 1608      \n",
      "_________________________________________________________________\n",
      "dense_31 (Dense)             (None, 1)                 9         \n",
      "=================================================================\n",
      "Total params: 4,001,617\n",
      "Trainable params: 4,001,617\n",
      "Non-trainable params: 0\n",
      "_________________________________________________________________\n"
     ]
    }
   ],
   "source": [
    "vocab_size = 20000    # 어휘 사전의 크기입니다(10,000개의 단어)\n",
    "word_vector_dim = 200  # 워드 벡터의 차원수 (변경가능한 하이퍼파라미터)\n",
    "from tensorflow.keras.callbacks import EarlyStopping, ModelCheckpoint\n",
    "\n",
    "model4 = keras.Sequential()\n",
    "model4.add(keras.layers.Embedding(vocab_size, word_vector_dim, input_shape=(None,)))\n",
    "model4.add(keras.layers.GlobalMaxPooling1D())\n",
    "model4.add(keras.layers.Dense(8, activation='relu'))\n",
    "model4.add(keras.layers.Dense(1, activation='sigmoid'))  # 최종 출력은 긍정/부정을 나타내는 1dim 입니다.\n",
    "\n",
    "model4.summary()"
   ]
  },
  {
   "cell_type": "code",
   "execution_count": 132,
   "id": "divine-cisco",
   "metadata": {},
   "outputs": [
    {
     "name": "stdout",
     "output_type": "stream",
     "text": [
      "Epoch 1/10\n",
      "120/120 [==============================] - 6s 46ms/step - loss: 0.6558 - accuracy: 0.7010 - val_loss: 0.4387 - val_accuracy: 0.8235\n",
      "Epoch 2/10\n",
      "120/120 [==============================] - 5s 45ms/step - loss: 0.3655 - accuracy: 0.8579 - val_loss: 0.3555 - val_accuracy: 0.8425\n",
      "Epoch 3/10\n",
      "120/120 [==============================] - 6s 47ms/step - loss: 0.2605 - accuracy: 0.8971 - val_loss: 0.3578 - val_accuracy: 0.8441\n",
      "Epoch 00003: early stopping\n"
     ]
    }
   ],
   "source": [
    "es = EarlyStopping(monitor='val_loss', mode='min', verbose=1)\n",
    "mc = ModelCheckpoint('best_model_basic.h5', monitor='val_loss', mode='min', save_best_only=True)\n",
    "\n",
    "\n",
    "model4.compile(optimizer='adam',\n",
    "              loss='binary_crossentropy',\n",
    "              metrics=['accuracy'])\n",
    "\n",
    "epochs = 10\n",
    "history4 = model4.fit(p_train_tensor,\n",
    "                    partial_y_train,\n",
    "                    epochs=epochs,\n",
    "                    batch_size=512,\n",
    "                    validation_data=(val_tensor, y_val),\n",
    "                    callbacks=[es, mc])"
   ]
  },
  {
   "cell_type": "code",
   "execution_count": 133,
   "id": "comparative-specific",
   "metadata": {},
   "outputs": [
    {
     "name": "stdout",
     "output_type": "stream",
     "text": [
      "1347/1347 - 2s - loss: 0.3585 - accuracy: 0.8452\n"
     ]
    }
   ],
   "source": [
    "results = model4.evaluate(test_tensor, np.array(test_data_label_trimmed), verbose=2)"
   ]
  },
  {
   "cell_type": "markdown",
   "id": "average-sweet",
   "metadata": {},
   "source": [
    "뚜렷한 정확도 증가는 일어나지 않았다. \n",
    "그렇다 쳐도 konlpy를 썼을 때(단순한 모델 + 임베딩 사용) 과 비슷한 수준의 정확도를 보여주어 매우 효율적으로 단어장을 생성했음을 알 수 있다. \n",
    "이에 추가적인 성능 개선을 위해 LSTM을 쓰겠다."
   ]
  },
  {
   "cell_type": "markdown",
   "id": "massive-abuse",
   "metadata": {},
   "source": [
    "## 추가 "
   ]
  },
  {
   "cell_type": "markdown",
   "id": "missing-keeping",
   "metadata": {},
   "source": [
    "### Tokenizer with bpe"
   ]
  },
  {
   "cell_type": "code",
   "execution_count": 112,
   "id": "short-physics",
   "metadata": {},
   "outputs": [
    {
     "name": "stdout",
     "output_type": "stream",
     "text": [
      "-rw-r--r-- 1 aiffel-dj15 aiffel-dj15 370595  4월 20 22:41 korean_spm_bpe.model\r\n",
      "-rw-r--r-- 1 aiffel-dj15 aiffel-dj15 115801  4월 20 22:41 korean_spm_bpe.vocab\r\n"
     ]
    }
   ],
   "source": [
    "temp_file = os.getenv('HOME')+'/aiffel/sp_tokenizer/data/korean-english-park-spm-bpe.train.ko.temp'\n",
    "\n",
    "vocab_size = 8000\n",
    "\n",
    "with open(temp_file, 'w') as f:\n",
    "    for row in filtered_corpus:   # 이전 스텝에서 정제했던 corpus를 활용합니다.\n",
    "        f.write(str(row) + '\\n')\n",
    "\n",
    "spm.SentencePieceTrainer.Train(\n",
    "    '--input={} --model_prefix=korean_spm_bpe --vocab_size={} --model_type=bpe'.format(temp_file, vocab_size)    \n",
    ")\n",
    "#위 Train에서  --model_type = 'unigram'이 디폴트 적용되어 있습니다. --model_type = 'bpe' 로 옵션을 주어 변경할 수 있습니다.\n",
    "\n",
    "!ls -l korean_spm_bpe*"
   ]
  },
  {
   "cell_type": "code",
   "execution_count": 113,
   "id": "rural-option",
   "metadata": {},
   "outputs": [],
   "source": [
    "def sp_tokenize_bpe(s, corpus, maxlen):\n",
    "\n",
    "    tensor = []\n",
    "\n",
    "    for sen in corpus:\n",
    "        tensor.append(s.EncodeAsIds(sen))\n",
    "\n",
    "    with open(\"./korean_spm_bpe.vocab\", 'r') as f:\n",
    "        vocab = f.readlines()\n",
    "\n",
    "    word_index = {}\n",
    "    index_word = {}\n",
    "\n",
    "    for idx, line in enumerate(vocab):\n",
    "        word = line.split(\"\\t\")[0]\n",
    "\n",
    "        word_index.update({idx:word})\n",
    "        index_word.update({word:idx})\n",
    "\n",
    "    tensor = tf.keras.preprocessing.sequence.pad_sequences(tensor, padding='pre',maxlen=maxlen)\n",
    "\n",
    "    return tensor, word_index, index_word"
   ]
  },
  {
   "cell_type": "code",
   "execution_count": 139,
   "id": "scenic-montgomery",
   "metadata": {},
   "outputs": [],
   "source": [
    "s2 = spm.SentencePieceProcessor()\n",
    "s2.Load('korean_spm_bpe.model')\n",
    "train_tensor2, train_word_index2, train_index_word2 = sp_tokenize_bpe(s, train_data_trimmed, 58)\n",
    "test_tensor2, test_word_index2, test_index_word2 = sp_tokenize_bpe(s, test_data_trimmed, 73)"
   ]
  },
  {
   "cell_type": "code",
   "execution_count": 123,
   "id": "killing-gross",
   "metadata": {},
   "outputs": [],
   "source": []
  },
  {
   "cell_type": "code",
   "execution_count": 140,
   "id": "sudden-thread",
   "metadata": {},
   "outputs": [
    {
     "name": "stdout",
     "output_type": "stream",
     "text": [
      "Model: \"sequential_17\"\n",
      "_________________________________________________________________\n",
      "Layer (type)                 Output Shape              Param #   \n",
      "=================================================================\n",
      "embedding_17 (Embedding)     (None, None, 200)         4000000   \n",
      "_________________________________________________________________\n",
      "global_max_pooling1d_13 (Glo (None, 200)               0         \n",
      "_________________________________________________________________\n",
      "dense_34 (Dense)             (None, 8)                 1608      \n",
      "_________________________________________________________________\n",
      "dense_35 (Dense)             (None, 1)                 9         \n",
      "=================================================================\n",
      "Total params: 4,001,617\n",
      "Trainable params: 4,001,617\n",
      "Non-trainable params: 0\n",
      "_________________________________________________________________\n"
     ]
    }
   ],
   "source": [
    "model6 = keras.Sequential()\n",
    "model6.add(keras.layers.Embedding(vocab_size, word_vector_dim, input_shape=(None,)))\n",
    "model6.add(keras.layers.GlobalMaxPooling1D())\n",
    "model6.add(keras.layers.Dense(8, activation='relu'))\n",
    "model6.add(keras.layers.Dense(1, activation='sigmoid'))  # 최종 출력은 긍정/부정을 나타내는 1dim 입니다.\n",
    "\n",
    "model6.summary()"
   ]
  },
  {
   "cell_type": "code",
   "execution_count": 141,
   "id": "complex-reference",
   "metadata": {},
   "outputs": [
    {
     "name": "stdout",
     "output_type": "stream",
     "text": [
      "Epoch 1/10\n",
      "192/192 [==============================] - 8s 38ms/step - loss: 0.6206 - accuracy: 0.6760 - val_loss: 0.3637 - val_accuracy: 0.8469\n",
      "Epoch 2/10\n",
      "192/192 [==============================] - 7s 38ms/step - loss: 0.3162 - accuracy: 0.8702 - val_loss: 0.3378 - val_accuracy: 0.8529\n",
      "Epoch 3/10\n",
      "192/192 [==============================] - 7s 39ms/step - loss: 0.2510 - accuracy: 0.9013 - val_loss: 0.3453 - val_accuracy: 0.8519\n",
      "Epoch 00003: early stopping\n"
     ]
    }
   ],
   "source": [
    "es = EarlyStopping(monitor='val_loss', mode='min', verbose=1)\n",
    "mc = ModelCheckpoint('best_model_bpe.h5', monitor='val_loss', mode='min', save_best_only=True)\n",
    "\n",
    "model6.compile(optimizer='adam',\n",
    "              loss='binary_crossentropy',\n",
    "              metrics=['accuracy'])\n",
    "\n",
    "epochs = 10\n",
    "history6 = model6.fit(train_tensor2,\n",
    "                    train_data_label_trimmed,\n",
    "                    epochs=epochs,\n",
    "                    validation_split = 0.2,\n",
    "                    callbacks = [es,mc],\n",
    "                    batch_size=512)"
   ]
  },
  {
   "cell_type": "code",
   "execution_count": 144,
   "id": "illegal-kazakhstan",
   "metadata": {},
   "outputs": [
    {
     "name": "stdout",
     "output_type": "stream",
     "text": [
      "1347/1347 - 2s - loss: 0.3543 - accuracy: 0.8486\n"
     ]
    }
   ],
   "source": [
    "results = model6.evaluate(test_tensor2, np.array(test_data_label_trimmed), verbose=2)"
   ]
  },
  {
   "cell_type": "markdown",
   "id": "final-ready",
   "metadata": {},
   "source": [
    "정확도에 있어서 거의 차이가 없다!"
   ]
  },
  {
   "cell_type": "markdown",
   "id": "continued-begin",
   "metadata": {},
   "source": [
    "### Model training with LSTM"
   ]
  },
  {
   "cell_type": "code",
   "execution_count": 145,
   "id": "rental-agreement",
   "metadata": {},
   "outputs": [
    {
     "name": "stdout",
     "output_type": "stream",
     "text": [
      "Model: \"sequential_18\"\n",
      "_________________________________________________________________\n",
      "Layer (type)                 Output Shape              Param #   \n",
      "=================================================================\n",
      "embedding_18 (Embedding)     (None, None, 200)         4000000   \n",
      "_________________________________________________________________\n",
      "lstm_4 (LSTM)                (None, 128)               168448    \n",
      "_________________________________________________________________\n",
      "dense_36 (Dense)             (None, 128)               16512     \n",
      "_________________________________________________________________\n",
      "dense_37 (Dense)             (None, 1)                 129       \n",
      "=================================================================\n",
      "Total params: 4,185,089\n",
      "Trainable params: 4,185,089\n",
      "Non-trainable params: 0\n",
      "_________________________________________________________________\n"
     ]
    }
   ],
   "source": [
    "model5 = keras.Sequential()\n",
    "model5.add(keras.layers.Embedding(vocab_size, word_vector_dim, input_shape=(None,)))\n",
    "model5.add(keras.layers.LSTM(128))\n",
    "model5.add(keras.layers.Dense(128, activation='relu'))\n",
    "model5.add(keras.layers.Dense(1, activation='sigmoid'))  # 최종 출력은 긍정/부정을 나타내는 1dim 입니다.\n",
    "\n",
    "model5.summary()"
   ]
  },
  {
   "cell_type": "code",
   "execution_count": 146,
   "id": "frank-qatar",
   "metadata": {},
   "outputs": [
    {
     "name": "stdout",
     "output_type": "stream",
     "text": [
      "Epoch 1/10\n",
      "192/192 [==============================] - 10s 46ms/step - loss: 0.5138 - accuracy: 0.7351 - val_loss: 0.3504 - val_accuracy: 0.8468\n",
      "Epoch 2/10\n",
      "192/192 [==============================] - 9s 47ms/step - loss: 0.3124 - accuracy: 0.8661 - val_loss: 0.3402 - val_accuracy: 0.8503\n",
      "Epoch 3/10\n",
      "192/192 [==============================] - 9s 49ms/step - loss: 0.2767 - accuracy: 0.8793 - val_loss: 0.3498 - val_accuracy: 0.8484\n",
      "Epoch 00003: early stopping\n"
     ]
    }
   ],
   "source": [
    "es = EarlyStopping(monitor='val_loss', mode='min', verbose=1)\n",
    "mc = ModelCheckpoint('best_model_bpe.h5', monitor='val_loss', mode='min', save_best_only=True)\n",
    "\n",
    "model5.compile(optimizer='adam',\n",
    "              loss='binary_crossentropy',\n",
    "              metrics=['accuracy'])\n",
    "\n",
    "epochs = 10\n",
    "history5 = model5.fit(train_tensor2,\n",
    "                    train_data_label_trimmed,\n",
    "                    epochs=epochs,\n",
    "                    batch_size=512,\n",
    "                    validation_split = 0.2,\n",
    "                    callbacks = [es, mc]\n",
    "                    )"
   ]
  },
  {
   "cell_type": "code",
   "execution_count": 149,
   "id": "worthy-suspect",
   "metadata": {},
   "outputs": [
    {
     "name": "stdout",
     "output_type": "stream",
     "text": [
      "1347/1347 - 3s - loss: 0.3603 - accuracy: 0.8454\n"
     ]
    }
   ],
   "source": [
    "results = model5.evaluate(test_tensor2, np.array(test_data_label_trimmed), verbose=2)"
   ]
  },
  {
   "cell_type": "markdown",
   "id": "sustainable-cookbook",
   "metadata": {},
   "source": [
    "**모델 학습시 텍스트 길이는 매우 중요하다.**\n",
    "현재까지 학습한 모델은 텍스트 최고 길이를 train시 58, test시 73으로 두었다. \n",
    "하지만 이 전에 시도한 모델은 텍스트 최고 길이를 120으로 두었다. \n",
    "이 경우 LSTM 모델의 정확도가 0.5로 나오는 일이 있었다.\n",
    "RNN 계열 모델은 텍스트 길이에 민감하게 반응하는 것을 간과한 탓이다. "
   ]
  },
  {
   "cell_type": "markdown",
   "id": "stylish-wrapping",
   "metadata": {},
   "source": [
    "# 결론"
   ]
  },
  {
   "cell_type": "markdown",
   "id": "understanding-gabriel",
   "metadata": {},
   "source": [
    "이전의 konlpy의 결과와 비교하겠다. \n",
    "```\n",
    "Model: \"sequential_4\"\n",
    "_________________________________________________________________\n",
    "Layer (type)                 Output Shape              Param #   \n",
    "=================================================================\n",
    "embedding_4 (Embedding)      (None, 41, 100)           2000000   \n",
    "_________________________________________________________________\n",
    "global_max_pooling1d_3 (Glob (None, 100)               0         \n",
    "_________________________________________________________________\n",
    "dense_8 (Dense)              (None, 8)                 808       \n",
    "_________________________________________________________________\n",
    "dense_9 (Dense)              (None, 1)                 9         \n",
    "=================================================================\n",
    "Total params: 2,000,817\n",
    "Trainable params: 2,000,817\n",
    "Non-trainable params: 0\n",
    "```\n",
    "위와 같이 모델을 구성했고 결과는 0.82의 정확도를 보였다. 그리고 maxpooling과 LSTM 각각을 사용한 모델과 비교하면 sentencepieces 토크나이저를 쓴 경우가 아무리 못해도 0.83의 정확도를 보이며 높은 효율을 보여줬다. \n",
    "높은 효율이라고 결론낸 이유를 서술하겠다. \n",
    "1. konlpy는 말뭉치를 업로드 -> 임베딩 매트릭스를 사용하기 위한 전처리 / sentencepieces는 입력 데이터 기반으로 토큰화 시도 => 시공간 비용이 전자가 높음"
   ]
  }
 ],
 "metadata": {
  "kernelspec": {
   "display_name": "aiffel",
   "language": "python",
   "name": "aiffel"
  },
  "language_info": {
   "codemirror_mode": {
    "name": "ipython",
    "version": 3
   },
   "file_extension": ".py",
   "mimetype": "text/x-python",
   "name": "python",
   "nbconvert_exporter": "python",
   "pygments_lexer": "ipython3",
   "version": "3.7.10"
  }
 },
 "nbformat": 4,
 "nbformat_minor": 5
}
