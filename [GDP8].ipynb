{
 "cells": [
  {
   "cell_type": "markdown",
   "id": "metric-meeting",
   "metadata": {},
   "source": [
    "# 실험 설계\n",
    "**오늘의 주제 : Seq2seq 기반 번역기**\n",
    "1. 데이터 전처리 \n",
    "2. 모델 설계 \n",
    "3. 훈련 하기\n",
    "4. 한영 번역기 적용"
   ]
  },
  {
   "cell_type": "code",
   "execution_count": 1,
   "id": "regulation-pacific",
   "metadata": {},
   "outputs": [],
   "source": [
    "import matplotlib as mpl\n",
    "import matplotlib.pyplot as plt\n",
    " \n",
    "%config InlineBackend.figure_format = 'retina'\n",
    " \n",
    "import matplotlib.font_manager as fm\n",
    "fontpath = '/usr/share/fonts/truetype/nanum/NanumBarunGothic.ttf'\n",
    "font = fm.FontProperties(fname=fontpath, size=9)\n",
    "plt.rc('font', family='NanumBarunGothic') \n",
    "mpl.font_manager._rebuild()"
   ]
  },
  {
   "cell_type": "code",
   "execution_count": 2,
   "id": "vietnamese-basement",
   "metadata": {},
   "outputs": [
    {
     "name": "stdout",
     "output_type": "stream",
     "text": [
      "2.4.1\n"
     ]
    }
   ],
   "source": [
    "import tensorflow as tf\n",
    "import numpy as np\n",
    "\n",
    "from sklearn.model_selection import train_test_split\n",
    "\n",
    "import matplotlib.ticker as ticker\n",
    "import matplotlib.pyplot as plt\n",
    "\n",
    "import time\n",
    "import re\n",
    "import os\n",
    "import io\n",
    "\n",
    "print(tf.__version__)"
   ]
  },
  {
   "cell_type": "code",
   "execution_count": 3,
   "id": "later-caribbean",
   "metadata": {},
   "outputs": [],
   "source": [
    "path_to_zip = tf.keras.utils.get_file(\n",
    "    'spa-eng.zip',\n",
    "    origin='http://storage.googleapis.com/download.tensorflow.org/data/spa-eng.zip',\n",
    "    extract=True)\n",
    "\n",
    "path_to_file = os.path.dirname(path_to_zip)+\"/spa-eng/spa.txt\""
   ]
  },
  {
   "cell_type": "code",
   "execution_count": 4,
   "id": "outer-bhutan",
   "metadata": {},
   "outputs": [
    {
     "name": "stdout",
     "output_type": "stream",
     "text": [
      "Data Size: 118964\n",
      "Example:\n",
      ">> Go.\tVe.\n",
      ">> Wait.\tEsperen.\n",
      ">> Hug me.\tAbrázame.\n",
      ">> No way!\t¡Ni cagando!\n",
      ">> Call me.\tLlamame.\n"
     ]
    }
   ],
   "source": [
    "with open(path_to_file, \"r\") as f:\n",
    "    raw = f.read().splitlines()\n",
    "\n",
    "print(\"Data Size:\", len(raw))\n",
    "print(\"Example:\")\n",
    "\n",
    "for sen in raw[0:100][::20]: print(\">>\", sen)"
   ]
  },
  {
   "cell_type": "markdown",
   "id": "bound-disposition",
   "metadata": {},
   "source": [
    "# 데이터 전처리\n",
    "## 데이터 정제하기"
   ]
  },
  {
   "cell_type": "code",
   "execution_count": 5,
   "id": "color-dairy",
   "metadata": {},
   "outputs": [],
   "source": [
    "def preprocess_sentence(sentence, s_token=False, e_token=False):\n",
    "    sentence = sentence.lower().strip()\n",
    "\n",
    "    sentence = re.sub(r\"([?.!,])\", r\" \\1 \", sentence)\n",
    "    sentence = re.sub(r'[\" \"]+', \" \", sentence)\n",
    "    sentence = re.sub(r\"[^a-zA-Z?.!,]+\", \" \", sentence)\n",
    "\n",
    "    sentence = sentence.strip()\n",
    "\n",
    "    if s_token:\n",
    "        sentence = '<start> ' + sentence\n",
    "\n",
    "    if e_token:\n",
    "        sentence += ' <end>'\n",
    "    \n",
    "    return sentence"
   ]
  },
  {
   "cell_type": "markdown",
   "id": "reliable-logan",
   "metadata": {},
   "source": [
    "Decoder를 위해 문장의 시작과 끝에 <start>와 <end>를 붙여준다."
   ]
  },
  {
   "cell_type": "code",
   "execution_count": 6,
   "id": "hispanic-junction",
   "metadata": {},
   "outputs": [],
   "source": [
    "def preprocess_sentence(sentence, s_token=False, e_token=False):\n",
    "    sentence = sentence.lower().strip()\n",
    "\n",
    "    sentence = re.sub(r\"([?.!,])\", r\" \\1 \", sentence)\n",
    "    sentence = re.sub(r'[\" \"]+', \" \", sentence)\n",
    "    sentence = re.sub(r\"[^a-zA-Z?.!,]+\", \" \", sentence)\n",
    "\n",
    "    sentence = sentence.strip()\n",
    "\n",
    "    if s_token:\n",
    "        sentence = '<start> ' + sentence\n",
    "\n",
    "    if e_token:\n",
    "        sentence += ' <end>'\n",
    "    \n",
    "    return sentence"
   ]
  },
  {
   "cell_type": "code",
   "execution_count": 7,
   "id": "criminal-affair",
   "metadata": {},
   "outputs": [
    {
     "name": "stdout",
     "output_type": "stream",
     "text": [
      "English: go away !\n",
      "Spanish: <start> salga de aqu ! <end>\n"
     ]
    }
   ],
   "source": [
    "enc_corpus = []\n",
    "dec_corpus = []\n",
    "\n",
    "num_examples = 30000\n",
    "\n",
    "for pair in raw[:num_examples]:\n",
    "    eng, spa = pair.split(\"\\t\")\n",
    "\n",
    "    enc_corpus.append(preprocess_sentence(eng))\n",
    "    dec_corpus.append(preprocess_sentence(spa, s_token=True, e_token=True))\n",
    "\n",
    "print(\"English:\", enc_corpus[100])   # go away !\n",
    "print(\"Spanish:\", dec_corpus[100])   # <start> salga de aqu ! <end>"
   ]
  },
  {
   "cell_type": "markdown",
   "id": "cubic-mattress",
   "metadata": {},
   "source": [
    "## 토큰화"
   ]
  },
  {
   "cell_type": "code",
   "execution_count": 8,
   "id": "excess-butler",
   "metadata": {},
   "outputs": [],
   "source": [
    "def tokenize(corpus):\n",
    "    tokenizer = tf.keras.preprocessing.text.Tokenizer(filters='')\n",
    "    tokenizer.fit_on_texts(corpus)\n",
    "\n",
    "    tensor = tokenizer.texts_to_sequences(corpus)\n",
    "    \n",
    "    #padding을 pre로 바꿈\n",
    "    tensor = tf.keras.preprocessing.sequence.pad_sequences(tensor, padding='pre')\n",
    "\n",
    "    return tensor, tokenizer"
   ]
  },
  {
   "cell_type": "code",
   "execution_count": 9,
   "id": "hydraulic-terrorism",
   "metadata": {},
   "outputs": [
    {
     "name": "stdout",
     "output_type": "stream",
     "text": [
      "English Vocab Size: 4931\n",
      "Spanish Vocab Size: 8893\n"
     ]
    }
   ],
   "source": [
    "enc_tensor, enc_tokenizer = tokenize(enc_corpus)\n",
    "dec_tensor, dec_tokenizer = tokenize(dec_corpus)\n",
    "\n",
    "enc_train, enc_val, dec_train, dec_val = \\\n",
    "train_test_split(enc_tensor, dec_tensor, test_size=0.2)\n",
    "\n",
    "print(\"English Vocab Size:\", len(enc_tokenizer.index_word))\n",
    "print(\"Spanish Vocab Size:\", len(dec_tokenizer.index_word))"
   ]
  },
  {
   "cell_type": "markdown",
   "id": "previous-injection",
   "metadata": {},
   "source": [
    "# 모델 설계"
   ]
  },
  {
   "cell_type": "markdown",
   "id": "uniform-narrative",
   "metadata": {},
   "source": [
    "1. 설계 목표 : GRU를 사용하는 Encoder-Decoder\n",
    "Encoder는 모든 Time-Step의 Hidden State를 출력으로 갖고, (2) Decoder는 Encoder의 출력과 Decoder의 t-1 Step의 Hidden State로 Attention을 취하여 t Step의 Hidden State를 만들어 냅니다. Decoder에서 t Step의 단어로 예측된 것을 실제 정답과 대조해 Loss를 구하고, 생성된 t Step의 Hidden State는 t+1 Step의 Hidden State를 만들기 위해 다시 Decoder에 전달됩니다.\n",
    "\n",
    "여기서 't=1 일 때의 Hidden State는 어떻게 정의할 것인가?' 가 궁금하실 수 있는데요, 일반적으로 Encoder의 Final State를 Hidden State로 사용합니다.\n",
    "Attention은 Bahdanau."
   ]
  },
  {
   "cell_type": "code",
   "execution_count": 10,
   "id": "incorporated-context",
   "metadata": {},
   "outputs": [],
   "source": [
    "class BahdanauAttention(tf.keras.layers.Layer):\n",
    "    def __init__(self, units):\n",
    "        super(BahdanauAttention, self).__init__()\n",
    "        self.w_dec = tf.keras.layers.Dense(units)\n",
    "        self.w_enc = tf.keras.layers.Dense(units)\n",
    "        self.w_com = tf.keras.layers.Dense(1)\n",
    "    \n",
    "    def call(self, h_enc, h_dec):\n",
    "        # h_enc shape: [batch x length x units]\n",
    "        # h_dec shape: [batch x units]\n",
    "\n",
    "        h_enc = self.w_enc(h_enc)\n",
    "        h_dec = tf.expand_dims(h_dec, 1)\n",
    "        h_dec = self.w_dec(h_dec)\n",
    "\n",
    "        score = self.w_com(tf.nn.tanh(h_dec + h_enc))\n",
    "        \n",
    "        attn = tf.nn.softmax(score, axis=1)\n",
    "\n",
    "        context_vec = attn * h_enc\n",
    "        context_vec = tf.reduce_sum(context_vec, axis=1)\n",
    "\n",
    "        return context_vec, attn"
   ]
  },
  {
   "cell_type": "code",
   "execution_count": 11,
   "id": "healthy-investor",
   "metadata": {},
   "outputs": [],
   "source": [
    "class Encoder(tf.keras.Model):\n",
    "    def __init__(self, vocab_size, embedding_dim, enc_units):\n",
    "        super(Encoder, self).__init__()\n",
    "\n",
    "        self.enc_units = enc_units\n",
    "        self.embedding = tf.keras.layers.Embedding(vocab_size, embedding_dim)\n",
    "        self.gru = tf.keras.layers.GRU(enc_units,\n",
    "                                       return_sequences=True)\n",
    "\n",
    "    def call(self, x):\n",
    "        out = self.embedding(x)\n",
    "        out = self.gru(out)\n",
    "\n",
    "        return out"
   ]
  },
  {
   "cell_type": "code",
   "execution_count": 12,
   "id": "equivalent-valley",
   "metadata": {},
   "outputs": [],
   "source": [
    "class Decoder(tf.keras.Model):\n",
    "    def __init__(self, vocab_size, embedding_dim, dec_units):\n",
    "        super(Decoder, self).__init__()\n",
    "        self.dec_units = dec_units\n",
    "        self.embedding = tf.keras.layers.Embedding(vocab_size, embedding_dim)\n",
    "        self.gru = tf.keras.layers.GRU(dec_units,\n",
    "                                       return_sequences=True,\n",
    "                                       return_state=True)\n",
    "        self.fc = tf.keras.layers.Dense(vocab_size)\n",
    "\n",
    "        self.attention = BahdanauAttention(self.dec_units)\n",
    "\n",
    "    def call(self, x, h_dec, enc_out):\n",
    "        context_vec, attn = self.attention(enc_out, h_dec)\n",
    "\n",
    "        out = self.embedding(x)\n",
    "        out = tf.concat([tf.expand_dims(context_vec, 1), out], axis=-1)\n",
    "\n",
    "        out, h_dec = self.gru(out)\n",
    "        out = tf.reshape(out, (-1, out.shape[2]))\n",
    "        out = self.fc(out)\n",
    "\n",
    "        return out, h_dec, attn"
   ]
  },
  {
   "cell_type": "code",
   "execution_count": 17,
   "id": "electronic-radius",
   "metadata": {},
   "outputs": [
    {
     "name": "stdout",
     "output_type": "stream",
     "text": [
      "Encoder Output: (64, 30, 1024)\n",
      "Decoder Output: (64, 8894)\n",
      "Decoder Hidden State: (64, 1024)\n",
      "Attention: (64, 30, 1)\n"
     ]
    }
   ],
   "source": [
    "# 코드를 실행하세요.\n",
    "\n",
    "BATCH_SIZE     = 64\n",
    "SRC_VOCAB_SIZE = len(enc_tokenizer.index_word) + 1 # 예: len(enc_tokenizer.index_word) + 1\n",
    "TGT_VOCAB_SIZE = len(dec_tokenizer.index_word) + 1 # 예: len(dec_tokenizer.index_word) + 1\n",
    "\n",
    "units         = 1024\n",
    "embedding_dim = 512\n",
    "\n",
    "encoder = Encoder(SRC_VOCAB_SIZE, embedding_dim, units)\n",
    "decoder = Decoder(TGT_VOCAB_SIZE, embedding_dim, units)\n",
    "\n",
    "# sample input\n",
    "sequence_len = 30\n",
    "\n",
    "sample_enc = tf.random.uniform((BATCH_SIZE, sequence_len))\n",
    "sample_output = encoder(sample_enc)\n",
    "\n",
    "print ('Encoder Output:', sample_output.shape)\n",
    "\n",
    "sample_state = tf.random.uniform((BATCH_SIZE, units))\n",
    "\n",
    "sample_logits, h_dec, attn = decoder(tf.random.uniform((BATCH_SIZE, 1)),\n",
    "                                     sample_state, sample_output)\n",
    "\n",
    "print ('Decoder Output:', sample_logits.shape)\n",
    "print ('Decoder Hidden State:', h_dec.shape)\n",
    "print ('Attention:', attn.shape)"
   ]
  },
  {
   "cell_type": "markdown",
   "id": "unlikely-browse",
   "metadata": {},
   "source": [
    "# 훈련 준비\n",
    "## Optimizer & Loss"
   ]
  },
  {
   "cell_type": "code",
   "execution_count": 18,
   "id": "acquired-supply",
   "metadata": {},
   "outputs": [],
   "source": [
    "optimizer = tf.keras.optimizers.Adam()\n",
    "loss_object = tf.keras.losses.SparseCategoricalCrossentropy(\n",
    "    from_logits=True, reduction='none')\n",
    "\n",
    "def loss_function(real, pred):\n",
    "    mask = tf.math.logical_not(tf.math.equal(real, 0))\n",
    "    loss = loss_object(real, pred)\n",
    "    \n",
    "    mask = tf.cast(mask, dtype=loss.dtype)\n",
    "    loss *= mask\n",
    "    \n",
    "    return tf.reduce_mean(loss)"
   ]
  },
  {
   "cell_type": "markdown",
   "id": "blind-awareness",
   "metadata": {},
   "source": [
    "`SparseCategoricalCrossentropy()` 에 대해서 : 모델이 출력한 확률 분포와 (One-hot이 아닌) 정수 인덱스 답안을 비교해 Cross Entropy값을 구함. \n",
    "ex ) `[ 0.1, 0.2, 0.7 ]`이 입력으로 들어왔을 때, 이를 2와 비교\n",
    "`from_logits`는 입력값이 확률 분포 함수를 거친 결과값이냐는 물음. 우리는 softmax로 이미 처리를 해줬기 때문에 True로 넣는다. \n",
    "**중요 : padding 처리를 한 부분이 padding임을 알려야 한다. 반복해서 가장 많이 등장할 값이기 때문이다. 찍어서 맞출 확률이 높아진다.**\n",
    "ex) equal() 함수에 정확히는 0 이 아닌 <PAD> 토큰의 인덱스를 전달하는 것이 맞지만 대부분의 경우는 0으로 패딩되기 때문에 편의상 0을 전달하여 처리"
   ]
  },
  {
   "cell_type": "code",
   "execution_count": 19,
   "id": "smooth-manual",
   "metadata": {},
   "outputs": [],
   "source": [
    "# GPU를 사용해서 학습하도록 하는 데코레이션. 첫 학습 단계에는 데코레이션이 붙은 함수를 GPU에 등록하도록 하기 때문에 속도가 살짝 느릴 것이다. \n",
    "@tf.function\n",
    "def train_step(src, tgt, encoder, decoder, optimizer, dec_tok):\n",
    "    bsz = src.shape[0]\n",
    "    loss = 0\n",
    "    \n",
    "    # GradientTape에 학습 과정 동안 발생한 모든 연산들을 기록한다. \n",
    "    # 모델이 각 스텝의 최종 단계에서 미분값을 구하는 데에 사용\n",
    "    with tf.GradientTape() as tape:\n",
    "        enc_out = encoder(src)\n",
    "        h_dec = enc_out[:, -1]\n",
    "        \n",
    "        dec_src = tf.expand_dims([dec_tok.word_index['<start>']] * bsz, 1)\n",
    "\n",
    "        for t in range(1, tgt.shape[1]):\n",
    "            pred, h_dec, _ = decoder(dec_src, h_dec, enc_out)\n",
    "\n",
    "            loss += loss_function(tgt[:, t], pred)\n",
    "            dec_src = tf.expand_dims(tgt[:, t], 1)\n",
    "        \n",
    "    batch_loss = (loss / int(tgt.shape[1]))\n",
    "\n",
    "    variables = encoder.trainable_variables + decoder.trainable_variables\n",
    "    gradients = tape.gradient(loss, variables)\n",
    "    optimizer.apply_gradients(zip(gradients, variables))\n",
    "    \n",
    "    return batch_loss"
   ]
  },
  {
   "cell_type": "markdown",
   "id": "great-belly",
   "metadata": {},
   "source": [
    "해당 함수를 이해하기 위한 reference 문서는 다음과 같다. \n",
    "- @tf.function : https://www.tensorflow.org/guide/function?hl=ko\n",
    "- tf.GradientTape() : https://www.tensorflow.org/guide/autodiff?hl=ko\n",
    "그리고 해당 함수의 학습 과정은 다음과 같다. \n",
    "1. 컨텍스트 벡터 생성 : Encoder에 소스 문장을 전달해 컨텍스트 벡터인 enc_out 을 생성\n",
    "2. Decoder 입력 준비 : Decoder에 입력으로 전달할 <start> 토큰 문장 생성\n",
    "3. Decoder Hidden State 초기화 : t=0일 때, Decoder의 Hidden State는 Encoder의 Final State로 정의. `h_dec = enc_out[:, -1]`\n",
    "4. <start> 문장과 enc_out(encoder의 출력 전부), Hidden State를 기반으로 다음 단어(t=1)를 예측. `pred`\n",
    "5. 예측된 단어와 정답 간의 Loss를 구한 후, t=1의 정답 단어를 다음 입력으로 사용 (예측 단어 X)\n",
    "6. 1-5 반복"
   ]
  },
  {
   "cell_type": "code",
   "execution_count": 20,
   "id": "ruled-retrieval",
   "metadata": {},
   "outputs": [
    {
     "name": "stderr",
     "output_type": "stream",
     "text": [
      "Epoch  1: 100%|██████████| 375/375 [01:01<00:00,  6.05it/s, Loss 1.4808]\n",
      "Epoch  2: 100%|██████████| 375/375 [00:45<00:00,  8.26it/s, Loss 1.1896]\n",
      "Epoch  3: 100%|██████████| 375/375 [00:43<00:00,  8.55it/s, Loss 1.0822]\n",
      "Epoch  4: 100%|██████████| 375/375 [00:45<00:00,  8.18it/s, Loss 0.9046]\n",
      "Epoch  5: 100%|██████████| 375/375 [00:45<00:00,  8.28it/s, Loss 0.7243]\n",
      "Epoch  6: 100%|██████████| 375/375 [00:44<00:00,  8.34it/s, Loss 0.5457]\n",
      "Epoch  7: 100%|██████████| 375/375 [00:44<00:00,  8.48it/s, Loss 0.4025]\n",
      "Epoch  8: 100%|██████████| 375/375 [00:45<00:00,  8.28it/s, Loss 0.3013]\n",
      "Epoch  9: 100%|██████████| 375/375 [00:44<00:00,  8.35it/s, Loss 0.2319]\n",
      "Epoch 10: 100%|██████████| 375/375 [00:45<00:00,  8.27it/s, Loss 0.1870]\n"
     ]
    }
   ],
   "source": [
    "from tqdm import tqdm    # tqdm\n",
    "import random\n",
    "\n",
    "EPOCHS = 10\n",
    "\n",
    "for epoch in range(EPOCHS):\n",
    "    total_loss = 0\n",
    "    \n",
    "    idx_list = list(range(0, enc_train.shape[0], BATCH_SIZE))\n",
    "    random.shuffle(idx_list)\n",
    "    t = tqdm(idx_list)    # tqdm\n",
    "\n",
    "    for (batch, idx) in enumerate(t):\n",
    "        batch_loss = train_step(enc_train[idx:idx+BATCH_SIZE],\n",
    "                                dec_train[idx:idx+BATCH_SIZE],\n",
    "                                encoder,\n",
    "                                decoder,\n",
    "                                optimizer,\n",
    "                                dec_tokenizer)\n",
    "    \n",
    "        total_loss += batch_loss\n",
    "        \n",
    "        t.set_description_str('Epoch %2d' % (epoch + 1))    # tqdm\n",
    "        t.set_postfix_str('Loss %.4f' % (total_loss.numpy() / (batch + 1)))    # tqdm"
   ]
  },
  {
   "cell_type": "code",
   "execution_count": 21,
   "id": "vanilla-export",
   "metadata": {},
   "outputs": [
    {
     "name": "stdout",
     "output_type": "stream",
     "text": [
      "Input: can i have some coffee ?\n",
      "Predicted translation: soy soy nadar ? <end> \n"
     ]
    },
    {
     "name": "stderr",
     "output_type": "stream",
     "text": [
      "/home/aiffel-dj15/anaconda3/envs/aiffel/lib/python3.7/site-packages/ipykernel_launcher.py:45: UserWarning: FixedFormatter should only be used together with FixedLocator\n",
      "/home/aiffel-dj15/anaconda3/envs/aiffel/lib/python3.7/site-packages/ipykernel_launcher.py:46: UserWarning: FixedFormatter should only be used together with FixedLocator\n"
     ]
    },
    {
     "data": {
      "image/png": "[encoded data removed]",
      "text/plain": [
       "<Figure size 720x720 with 1 Axes>"
      ]
     },
     "metadata": {
      "image/png": {
       "height": 530,
       "width": 616
      },
      "needs_background": "light"
     },
     "output_type": "display_data"
    }
   ],
   "source": [
    "def evaluate(sentence, encoder, decoder):\n",
    "    attention = np.zeros((dec_train.shape[-1], enc_train.shape[-1]))\n",
    "    \n",
    "    sentence = preprocess_sentence(sentence)\n",
    "    inputs = enc_tokenizer.texts_to_sequences([sentence.split()])\n",
    "    inputs = tf.keras.preprocessing.sequence.pad_sequences(inputs,\n",
    "                                                           maxlen=enc_train.shape[-1],\n",
    "                                                           padding='post')\n",
    "\n",
    "    result = ''\n",
    "\n",
    "    enc_out = encoder(inputs)\n",
    "\n",
    "    dec_hidden = enc_out[:, -1]\n",
    "    dec_input = tf.expand_dims([dec_tokenizer.word_index['<start>']], 0)\n",
    "\n",
    "    for t in range(dec_train.shape[-1]):\n",
    "        predictions, dec_hidden, attention_weights = decoder(dec_input,\n",
    "                                                             dec_hidden,\n",
    "                                                             enc_out)\n",
    "\n",
    "        attention_weights = tf.reshape(attention_weights, (-1, ))\n",
    "        attention[t] = attention_weights.numpy()\n",
    "\n",
    "        predicted_id = \\\n",
    "        tf.argmax(tf.math.softmax(predictions, axis=-1)[0]).numpy()\n",
    "\n",
    "        result += dec_tokenizer.index_word[predicted_id] + ' '\n",
    "\n",
    "        if dec_tokenizer.index_word[predicted_id] == '<end>':\n",
    "            return result, sentence, attention\n",
    "\n",
    "        dec_input = tf.expand_dims([predicted_id], 0)\n",
    "\n",
    "    return result, sentence, attention\n",
    "\n",
    "\n",
    "def plot_attention(attention, sentence, predicted_sentence):\n",
    "    fig = plt.figure(figsize=(10,10))\n",
    "    ax = fig.add_subplot(1, 1, 1)\n",
    "    ax.matshow(attention, cmap='viridis')\n",
    "\n",
    "    fontdict = {'fontsize': 14}\n",
    "\n",
    "    ax.set_xticklabels([''] + sentence, fontdict=fontdict, rotation=90)\n",
    "    ax.set_yticklabels([''] + predicted_sentence, fontdict=fontdict)\n",
    "\n",
    "    ax.xaxis.set_major_locator(ticker.MultipleLocator(1))\n",
    "    ax.yaxis.set_major_locator(ticker.MultipleLocator(1))\n",
    "\n",
    "    plt.show()\n",
    "\n",
    "\n",
    "def translate(sentence, encoder, decoder):\n",
    "    result, sentence, attention = evaluate(sentence, encoder, decoder)\n",
    "\n",
    "    print('Input: %s' % (sentence))\n",
    "    print('Predicted translation: {}'.format(result))\n",
    "    \n",
    "    attention = attention[:len(result.split()), :len(sentence.split())]\n",
    "    plot_attention(attention, sentence.split(), result.split(' '))\n",
    "\n",
    "\n",
    "translate(\"Can I have some coffee?\", encoder, decoder)"
   ]
  },
  {
   "cell_type": "code",
   "execution_count": null,
   "id": "healthy-algorithm",
   "metadata": {},
   "outputs": [],
   "source": [
    "# Define eval_step\n",
    "\n",
    "@tf.function\n",
    "def eval_step(src, tgt, encoder, decoder, dec_tok):\n",
    "    bsz = src.shape[0]\n",
    "    loss = 0\n",
    "\n",
    "    enc_out = encoder(src)\n",
    "\n",
    "    h_dec = enc_out[:, -1]\n",
    "\n",
    "    dec_src = tf.expand_dims([dec_tok.word_index['<start>']] * bsz, 1)\n",
    "\n",
    "    for t in range(1, tgt.shape[1]):\n",
    "        pred, h_dec, _ = decoder(dec_src, h_dec, enc_out)\n",
    "\n",
    "        loss += loss_function(tgt[:, t], pred)\n",
    "        dec_src = tf.expand_dims(tgt[:, t], 1)\n",
    "\n",
    "    batch_loss = (loss / int(tgt.shape[1]))\n",
    "\n",
    "    return batch_loss\n",
    "\n",
    "\n",
    "# Training Process\n",
    "\n",
    "from tqdm import tqdm\n",
    "\n",
    "EPOCHS = 10\n",
    "\n",
    "for epoch in range(EPOCHS):\n",
    "    total_loss = 0\n",
    "\n",
    "    idx_list = list(range(0, enc_train.shape[0], BATCH_SIZE))\n",
    "    random.shuffle(idx_list)\n",
    "    t = tqdm(idx_list)\n",
    "\n",
    "    for (batch, idx) in enumerate(t):\n",
    "        batch_loss = train_step(enc_train[idx:idx+BATCH_SIZE],\n",
    "                                dec_train[idx:idx+BATCH_SIZE],\n",
    "                                encoder,\n",
    "                                decoder,\n",
    "                                optimizer,\n",
    "                                dec_tokenizer)\n",
    "\n",
    "        total_loss += batch_loss\n",
    "\n",
    "        t.set_description_str('Epoch %2d' % (epoch + 1))\n",
    "        t.set_postfix_str('Loss %.4f' % (total_loss.numpy() / (batch + 1)))\n",
    "\n",
    "    test_loss = 0\n",
    "\n",
    "    idx_list = list(range(0, enc_val.shape[0], BATCH_SIZE))\n",
    "    random.shuffle(idx_list)\n",
    "    t = tqdm(idx_list)\n",
    "\n",
    "    for (test_batch, idx) in enumerate(t):\n",
    "        test_batch_loss = eval_step(enc_val[idx:idx+BATCH_SIZE],\n",
    "                                    dec_val[idx:idx+BATCH_SIZE],\n",
    "                                    encoder,\n",
    "                                    decoder,\n",
    "                                    dec_tokenizer)\n",
    "\n",
    "        test_loss += test_batch_loss\n",
    "\n",
    "        t.set_description_str('Test Epoch %2d' % (epoch + 1))\n",
    "        t.set_postfix_str('Test Loss %.4f' % (test_loss.numpy() / (test_batch + 1)))"
   ]
  },
  {
   "cell_type": "code",
   "execution_count": 23,
   "id": "wicked-weight",
   "metadata": {},
   "outputs": [
    {
     "name": "stdout",
     "output_type": "stream",
     "text": [
      "/:\r\n",
      "bin    dev   initrd.img      lib64\t mnt   root  snap      sys  var\r\n",
      "boot   etc   initrd.img.old  lost+found  opt   run   srv       tmp  vmlinuz\r\n",
      "cdrom  home  lib\t     media\t proc  sbin  swapfile  usr  vmlinuz.old\r\n",
      "\r\n",
      "/home/aiffel-dj15/aiffel/s2s_translation/korean-english-park.train:\r\n",
      "korean-english-park.train.en  korean-english-park.train.ko\r\n"
     ]
    }
   ],
   "source": [
    "!ls ~/aiffel/s2s_translation/korean-english-park.train /"
   ]
  },
  {
   "cell_type": "code",
   "execution_count": 25,
   "id": "transsexual-bulgarian",
   "metadata": {},
   "outputs": [],
   "source": [
    "path_to_file = \"/home/aiffel-dj15/aiffel/s2s_translation/korean-english-park.train/korean-english-park.train.ko\"\n",
    "with open(path_to_file, \"r\") as f:\n",
    "    ko_raw = f.read().splitlines()"
   ]
  },
  {
   "cell_type": "code",
   "execution_count": 26,
   "id": "specific-punch",
   "metadata": {},
   "outputs": [],
   "source": [
    "path_to_file = \"/home/aiffel-dj15/aiffel/s2s_translation/korean-english-park.train/korean-english-park.train.en\"\n",
    "with open(path_to_file, \"r\") as f:\n",
    "    en_raw = f.read().splitlines()"
   ]
  },
  {
   "cell_type": "code",
   "execution_count": 27,
   "id": "useful-lemon",
   "metadata": {},
   "outputs": [
    {
     "data": {
      "text/plain": [
       "['개인용 컴퓨터 사용의 상당 부분은 \"이것보다 뛰어날 수 있느냐?\"',\n",
       " '모든 광마우스와 마찬가지 로 이 광마우스도 책상 위에 놓는 마우스 패드를 필요로 하지 않는다.',\n",
       " '그러나 이것은 또한 책상도 필요로 하지 않는다.',\n",
       " '79.95달러하는 이 최첨단 무선 광마우스는 허공에서 팔목, 팔, 그외에 어떤 부분이든 그 움직임에따라 커서의 움직임을 조절하는 회전 운동 센서를 사용하고 있다.',\n",
       " '정보 관리들은 동남 아시아에서의 선박들에 대한 많은 (테러) 계획들이 실패로 돌아갔음을 밝혔으며, 세계 해상 교역량의 거의 3분의 1을 운송하는 좁은 해로인 말라카 해협이 테러 공격을 당하기 쉽다고 경고하고 있다.',\n",
       " '이 지역에 있는 미국 선박과 상업용 선박들에 대한 알카에다의 (테러) 시도 중 여러 건이 실패했다는 것을 알게 된 후에, 전문가들은 테러 조직이 여전히 세계 경제에 타격을 입히려 한다고 경고하고 있으며, 동남 아시아에 있는 세계 경제의 주요 통로가 위험에 처해 있다고 그들은 생각하고 있다.',\n",
       " '국립 과학 학회가 발표한 새 보고서에따르면, 복잡한 임무를 수행해야 하는 군인들이나 보다 오랜 시간 동안 경계를 늦추지 않고 있기 위해 도움이 필요한 군인들에게 카페인이 반응 시간을 증가시키고 임무 수행 능력을 향상시키는데 도움이 된다고 한다.',\n",
       " '이 보고서에따르면, \"특히, 군사 작전에서 생사가 걸린 상황이 될 수도 있는 반응 속도와 시각 및 청각의 경계 상태를 유지시키기 위해 카페인이 사용될 수도 있다.\" 고 한다.',\n",
       " '\"결정적인 순간에 그들의 능력을 증가시켜 줄 그 무엇이 매우 중요합니다.\"',\n",
       " '연구가들이 이미 커피 대체품으로서 음식 대용 과자나 껌에 카페인을 첨가하는 방법을 연구하고 있다고 Archibald는 말했다.',\n",
       " '약 200600밀리그램의, 비슷한 분량의 카페인은 또한 육체적 지구력을 강화시키는 데 효과적인 것 같으며, 특히 고도가 높은 곳에서 약해진 육체적 지구력을 일부 회복시켜주는 데 유용하다는 것이 이번 연구에서 밝혀졌다.',\n",
       " '의약 연구소는 정부에 과학 문제에 관해 자문하기 위해 의회가 설립 인가를 내어 준 민간 단체인 국립 과학 학회의 부속 단체이다.',\n",
       " '아시아에서의 왕성한 수요 덕분에 일본의 수출이 9월에 연속 6개월간 증가하여, 무역 흑자가 1조550억엔(84억7,000만달러)으로 늘어났다고 재무성이 발표했다.',\n",
       " '그러나 침체되고 있는 미국 경제와 국내 수요의 약세 전망이 향후 수개월 동안의 낙관론을 어둡게 했다.',\n",
       " '특수 부대가 극장 건물로 공격해 들어가면서, 러시아인이 아닌 75명의 외국인과 25명의 어린이 전부를 포함해 750명 이상의 인질들이 구출되었다.',\n",
       " '러시아 특수 부대는 극장으로 공격해 들어가기 전에 신경 독가스를 사용했다.',\n",
       " '많은 인질들이 화학 가스의 영향으로 고통을 겪으며 병원으로 옮겨졌다.',\n",
       " '과거 노조 지도자였던 루이스 이나시오 룰라 다 실바가 브라질의 대통령 선거 결선 투표에서 압승을 거두면서, 라틴 아메리카 최대 국가로서는 좌파로의 역사적인 전환을 맞이하게 되었다.',\n",
       " '실바의 노동자당이 자신들의 후보가 선거의 승리자라고 선언한 후 몇 시간이 지나, 집권당 후보인 조제 세하는 패배를 시인했다.',\n",
       " '수천명의 실바 지지자들이 상 파울로와 리오 데 자네이로의 거리에 모여 들어, 실바가 이끄는 당의 붉은 깃발을 흔들며 축하했다.',\n",
       " '북한의 핵무기 계획을 포기하도록 하려는 압력이 거세지고 있는 가운데, 일본과 북한의 외교관들이 외교 관계를 정상화하려는 회담을 재개했다.',\n",
       " '말레이시아의 수도 쿠알라 룸푸르에서 열리는 이틀간의 회담에서는 1970년대와 80년대에 있었던 일본 민간인들의 납치에 대한 보다 충분한 설명을 요청하는 것 뿐만아니라 북한의 (핵)폭탄 제조 노력에 대한 일본의 우려가 주로 논의될 것으로 예상되고 있다.',\n",
       " '100여명의 사망자가 예상되는 베트남 빌딩 화재',\n",
       " '상점, 디스코텍, 그리고 여러 외국 회사들이 들어 있는 베트남 호지민市의 6층 건물을 휩쓸어버린 화재가 발생하여, 적어도 54명이 사망한 것으로 확인되었는데',\n",
       " '최초 보도에 의하면 그 화재는 건물 2층의 Blue Disco에서 누전에 의해 발화되었을 것이라고 했다.',\n",
       " '소방관들이 그 지옥 같은 화재를 진압하는데는 5 시간 이상이 걸렸는데, 강한 열과 수그러들지 않는 불길 때문에 소방관들은 약 4시간 동안 건물에 진입할 수 없었다.',\n",
       " '이동할 수 있는 폭탄 제거 로보트가 이미 폭발물이나 위험 물질이 있는 것으로 의심되는 자동차, 건물, 또는 우편물을 검사할 수 있다고, 유엔의 유럽 경제 위원회 소속 전문가인 Jan Karlsson이 전하고 있다.',\n",
       " '어휘 :',\n",
       " '\"테러범들과 싸우기 위해서 자동화 기술에 투자하는 것이 분명히 훨씬 많은 이익이 있습니다,\" 라고 Karlsson이 말했다.',\n",
       " '\"자동화 기술은 우체국에서, 그리고 업무가 끝난 후 사무실 경비에, 그리고 의심스러운 차량을 수색하는 데 사용될 수 있습니다.\"',\n",
       " '어휘 :',\n",
       " '그와 동시 에 노동 비용은 더욱 상승하고 있습니다.\" 라고 말했다.',\n",
       " '\"산업용 로보트 분야에서 2000년은 최상의 해였습니다.\" 라고 이 스웨덴인은 덧붙혀 말했다.',\n",
       " '\"일본, 유럽 및 북아메리카 뿐만아니라 일부 개발도상국들, 예를들어 브라질, 중국 및 남아프리카에서도 산업용 로보트는 사용량이 폭증하기 시작했습니다.',\n",
       " '로보트 장치의 연간 판매액은 50억60억달러로 추산되고 있다.',\n",
       " '그러나 필수 소프트웨어 및 통합 시스템 설치 비용을 합할 경우, 전체 로보트 공학 시장의 가치는 250억달러에 달할 수 있다.',\n",
       " '2000년까지 이스라엘과 영국을 비롯한 여러 국가들에서 화재 진압 및 폭탄 처리 로보트 시스템이 약 50대가 판매되었다.',\n",
       " '미국에서 끔찍한 공격이 발생하기 전에 작성된 이 연구 보고서는 2004년까지 120대의 시스템이 판매될 것으로 예측하고 있다.',\n",
       " '약 2,300대의 로보트가 핵, 화학 물질, 폐기물, 또는 기타 위험한 합성물을 파괴하거나, 처리하거나, 해체하는 작업을 하고 있다고 보고서는 전했다.',\n",
       " '또 다른 60대의 로보트가 경비 일을 하고 있다.',\n",
       " '\"경호 로보트가 침입자나 화재를 탐지하기 위해서 개인적으로, 그리고 전문적으로 사용되고 있습니다.\"',\n",
       " '라고 Karlsson이 말했다. \"국방성은 그러한 로보트를 여러 대 갖고 있으며, 그 로보트들은 미국과 유럽의 핵 발전소에서 사용되고 있지만, 시장은 아직도 한계를 벗어나지 못하고 있습니다.\"',\n",
       " '미국 의회 의원 5명은 북한이 핵무기 계획을 계속 진행하는 데 대해 북한을 응징하고, 이 고립된 사회주의 국가에서의 정권 교체를 추진하라고 촉구하는 서한을 부시 대통령에게 보냈다.',\n",
       " '행정부에 보낸 서한에서, 공화당 상원의원 제시 헬름스, 봅 스미스, 존 킬, 그리고 공화당 하원의원 크리스 콕스와 민주당 하원의원 에드 마키는 대통령에게 미국이 북한에게 연료용 기름을 제공하기로 한 1994 협약을 폐지하라고 요청했다.',\n",
       " '양측이 아시아에서 가장 오래 지속되어온 분쟁을 종식시키기 위해 노력함에따라, 스리랑카 정부와 타밀 반군 사이 의 4일간의 평화 회담이 큰 성과를 거두고 끝났다.',\n",
       " '65,000명에 가까운 사상자를 냈으며, 150만명 이상을 피난시켰던 19년간의 전쟁에서의 핵심적인 쟁점들을 검토하기 위해 3개 위원회를 구성하기로 합의한 후에, 양측은 태국에서의 회담이 성공적이었다고 선언했다.',\n",
       " '새 기구들은 민족 문제와 권력 분할 문제를 중점적으로 다룰 것이며, 난민 재정착과 수십년간의 내전으로 파괴된 지역의 복구 문제를 감독할 것이라고 스리랑카 정부는 말하고 있다.',\n",
       " '로스앤젤레스 남부의 한 고속도로에서 194대의 차량이 연쇄 추돌하여 40명 이상이 부상당하고, 5명이 중상을 입었다고 경찰이 발표했다.',\n",
       " '이 사고는 오전 7시 직전에 발생했으며, 사고가 나자 캘리포니아 고속도로 순찰대는 즉시 Interstate 710 도로의 2마일 구간을 양방향 모두 그날 오후까지 폐쇄시켰다.',\n",
       " '짙은 안개가 사고의 요인이었을 것이라고 캘리포니아 고속도로 순찰대 관리들이 말했다.',\n",
       " '신랑 들러리가 포도주 잔을 들어 올린다 그리고는 술주정을 늘어놓는다.',\n",
       " '하지만 점점 더 많은 연인들이 웹사이트에 완벽한 축배의 말을 대신 써주도록 의뢰함으로써 그러한 실패로부터 자신들을 보호하고 있다.',\n",
       " '적당한 가격의 돈을 받고, 수십개의 사이트들이 정치 집회, 세례식, 성인식, 장례식, 심지어 기업 광고 등 과 같은 어떠한 행사를 위해서도 거기에 적합한 말을 찾아주겠다고 약속하고 있다.',\n",
       " '그러나 행복한 신랑, 신부를 위한 축배의 말이 가장 빈번하게 의뢰되고 있다.',\n",
       " '美 공화당과 부시 대통령에게는 놀랍고도 역사적 밤 에, 공화당이 상원을 장악했으며, 하원에서도 과반수를 유지하였다.',\n",
       " '하원 쪽에서는 공화당이 선거에 들어갈 때 차지하고 있던 223석에서 늘어나 최소한 226석을 얻었다.',\n",
       " '중국이 604억달러의 비용이 소요되는 아마도 세계 에서 가장 값비싼 계획 중의 하나이며, 중국 역사상 가장 규모가 큰 수로 변경 계획을 밝혔다.',\n",
       " '이 사업은 중국에서 가장 긴 강인 양쯔강의 물을 강 유역이 말라 들어가고 있는 북부의 황허, 화이허, 그리고 하이허, 세 개의 강으로 돌리게 될 것이다.',\n",
       " '이 야심찬 남북 수로 변경 사업은 더 습하고 홍수가 잦은 남부의 강 유역을 매우 건조한 북부 지방과 연결시키는 세 개의 수로를 따라 물을 이동시키게 될 것이다.',\n",
       " '최근의 사업 중에는 3개의 협곡 수력 발전 댐, 4,000킬로미터의 천연 가스 파이프라인 계획, 그리고 큉하이에서 티벳까지의 세계 최고도의 철로 건설이 포함되어 있다.',\n",
       " '수자원부 당국은 논란이 되고 있고, 막대한 비용이 드는 이 사업에 대해 내년에 건설을 시작할 계획이다.',\n",
       " '장쟈오 수자원부 차관은 사업 승인을 받기 위해 금년말까지 이 사업 계획이 의회에 제출될 것이라고 말했다.',\n",
       " '환경 전문가들은 이 새 사업이 광범위한 부패와 사람들의 고난, 그리고 환경 파괴를 야기시킬 수 있고, 30년내에 양쯔강을 고갈시킬 수도 있다고 말한다.',\n",
       " '그들은 중국이 물 가격 인상, 무분별한 우물 파기의 억제, 누수 방지, 그리고 용수 처리 방법의 개선과 같은 보다 간단한 조치들을 취할 것을 촉구하고 있다.',\n",
       " '유럽의 관리들은 공화당의 중간 선거 득표의 결과로 이제는 미국 대통령이 특히 이라크에 대해 더욱 대담해질 것이라는 우려를 나타냈다.',\n",
       " '유럽과 부시는 이라크에 대한 새 유엔 결의안 초안에 군사 행동을 통한 위협을 포함시킬지 여부를 놓고 서로 다투어왔으며, 유럽 지도자들은 또한 이라크에서의 \"정권 교체\"를 바라는 미국의 주장에 대해 우려를 표명했다.',\n",
       " '양측은 또한 지구 온난화와 새 국제 형사 재판소를 포함한 광범위한 문제에 대해 견해 차이를 보여왔다.',\n",
       " '영국의 영화 비평가와 작가들을 대상으로 한 조사에 의하면, 프란시스 포드 코폴라의 反베트남전 명작, \"지옥의 묵시록(Apocalypse Now)\"이 지난 25년 간 가장 위대한 영화라고 한다.',\n",
       " '마틴 스콜세지의 영화 두 편이 영국 영화 연구소의 Sight & Sound誌가 발표한 여론 조사에서 상위 10위 안에 들었다.',\n",
       " '50명의 응답자들은 스콜세지의 \"성난 황소(Raging Bull)\"를 지난 25년 간 두번째로 가장 훌륭한 영화로 선정했으며, 잉그마르 베르그만의 \"패니와 알렉산더(Fanny and Alexander)\"가 3위로 그 뒤를 이었다.',\n",
       " '34명을 태운 필리핀 국내 여객기가 추락한 후에 필리핀 해안 경비대와 해군 잠수부들이 마닐나 만(灣)에서 생존자를 수색하고 있다. 추락한지 이틀이 지난 지금 까지 그들은 승객 16명을 구조했으며, 이미 사망한 다른 14명을 발견했다고 해군 관리들이 말했다.',\n",
       " '다른 4명은 아직도 실종된 상태이다.',\n",
       " '생존자들은 필리핀 수도 마닐라의 해안 지역인 마닐라 만(灣) 부근에 있는 병원들로 이송되었다.',\n",
       " '잇따른 토네이도에 의해 36명의 사망자 발생',\n",
       " '70개 이상의 토네이도가 덮친 이후에 알라바마州에서 펜실바니아州에 이르는 지역에서 가옥, 학교, 교회, 상점들이 무너져 내려 앉았다.',\n",
       " '유엔 무기 사찰관들의 복귀를 거부하라는 권고안을 이라크 의회가 만장일치로 채택한 후에, 코피 아난 유엔 사무총장은 이라크의 최종 결정을 받기를 \"기대하고 있다\"고 말했다.',\n",
       " '하루가 지난 후 뉴욕에서, 이라크의 무하마드 알 두리 유엔 대사는 코피 아난에게 (사찰) 수용서를 전달했으며, 그 서한에는 \"이라크는 어떠한 대랑 살상 무기도 보유하지 않을 것이다.',\n",
       " '따라서 우리는 (무기) 사찰단이 이라크로 다시 돌아온다 해도 그들에 대해 불안해 하지 않는다. 이라크는 결백하다.',\n",
       " '적당한 육체 활동이 심장 질환을 예방하는 데 좋지만 활동의 정도를 높이는 것이 더욱 좋을 수 있으며, 특히 근력 운동을 함께 하면 더 좋다는 것이 4만명 이상의 남성을 대상으로 한 하버드의 한 연구 조사에서 나타났다.',\n",
       " '강도가 높은 운동에는 달리기나 시간당 6마일의 속도로 조깅하는 것이 포함되는 반면에, 강도가 낮은 운동에는 시간당 약 2마일의 속도로 걷는 것이 포함된다.',\n",
       " '또한 근력 운동은 활발하게 걷는 것이나 최소한 20분 동안 뛰는 것과 같은 유산소 활동에서 얻는 운동 효과를 심장과 폐에 주지 않기 때문에, 연구학자들은 근력 운동이 심장에 큰 영향을 미치는지 여부에 대해 논쟁을 해왔다.',\n",
       " '그러나 이번 하버드 공중 위생 학교의 연구에서는, 일주일에 30분이나 그 이상 근력 운동을 한 남성들이 아령으로 운동하지 않는 남성들보다 심장병에 걸릴 위험이 23% 낮았다.',\n",
       " '이러한 긍정적인 효과는 부분적으로는 근력 운동을 통해 얻어진 혈압과 신체 지방의 감소에 의한 것일 수 있다고 연구학자들은 말했다.',\n",
       " '근력 운동에 의한 독립적인 결과를 고려하면, 근력 운동을 강도 높은 운동 프로그램에 추가하는 것이 훨씬 더 큰 효과를 얻을 수 있을 것이라는 것을 연구학자들은 이론화하였다.',\n",
       " '이번 연구 조사는 1986년에서 1998년 사이 의 의학 보고서와 44,452명의 건강 전문가들에게 정기적으로 보낸 설문서에 근거한 것이다.',\n",
       " '연구가 시작될 때에 참가자들의 나이는 40세에서 75세 사이였다.',\n",
       " '결과적으로 1,700명의 참가자들에게서 심장 질환이 진단되었다.',\n",
       " '일주일에 한 시간 또는 그 이상 동안 시속 6마일 이상의 속도로 달린 사람들은 달리기를 하지 않은 사람들보다 심장 질환에 걸린 가능성이 42%나 낮았다.',\n",
       " '매일 최소한 30분 동안 적어도 시간당 3마일의 적당한 속도로 활발하게 걸었던 사람들은 그렇게 하지 않은 사람들보다 심장 질환에 걸릴 가능성이 18% 낮았다.',\n",
       " '강도가 약하게 걷는 것으로부터 발견된 현저한 심장 (질환 억제) 효과는 없었다.',\n",
       " '라고 미국 심장 협회 대변인인 제럴드 플레처 박사가 말했다.',\n",
       " '그는 이 연구 결과가 美 심장 협회의 지침과도 부합된다고 말했는데, 美 심장 협회의 지침은 일주일에 적어도 6일은 유산소 운동을 하고, 매주 23번은 근력 운동을 하라고 권장하고 있다.',\n",
       " '그러나 \"(운동을) 조금이라도 하는 것이 텔레비전 앞에 앉아 있는 것보다는 좋습니다.\" 라고 플레처 박사는 말했다.',\n",
       " '\"해리포터와 비밀의 방\"의 개봉을 며칠 앞두고, 이 영화의 제작사는 해적판이 인터넷에 출현하고 있어 걱정이 된다고 말했다.',\n",
       " '워너 브러더스는 이 영화의 불법 복제판이 인터넷 상에 나타났다고 밝혔는데, 인터넷에는 영화가 극장에서 상영되기도 전에 불법 복제판이 나타나는 경우가 종종 있다.',\n",
       " '핵무기 개발 완료를 공식 발표한 북한',\n",
       " '북한이 핵무기를 개발했다고 처음으로 밝혔다.',\n",
       " '북한 방송을 감시 청취하는 연합 통신에따르면, 북한은 \"미국 제국주의자들에 의한 증가한 핵 위협에 대처하기 위해 핵무기와 다른 강력한 군사 무기들을 보유하게 되었다.\"',\n",
       " '그러나 그 보도가 언급한 것이 플루토늄에 의한 무기인지 우라늄에 의한 무기인지는 명확하지 않았다.',\n",
       " '마이크로소프트社의 공동 창업자인 빌 게이츠는 알람 시계와 펜과 같은 일상 생활용품에 지능형 컴퓨터 기술을 결합시키는 전략을 발표하면서, 첨단 기술 산업의 침체에도 불구하고 혁신은 계속 되고 있다고 말했다.']"
      ]
     },
     "execution_count": 27,
     "metadata": {},
     "output_type": "execute_result"
    }
   ],
   "source": [
    "ko_raw[:100]"
   ]
  },
  {
   "cell_type": "code",
   "execution_count": 28,
   "id": "copyrighted-granny",
   "metadata": {},
   "outputs": [
    {
     "data": {
      "text/plain": [
       "['Much of personal computing is about \"can you top this?\"',\n",
       " 'so a mention a few weeks ago about a rechargeable wireless optical mouse brought in another rechargeable, wireless mouse.',\n",
       " \"Like all optical mice, But it also doesn't need a desk.\",\n",
       " 'uses gyroscopic sensors to control the cursor movement as you move your wrist, arm, whatever through the air.',\n",
       " \"Intelligence officials have revealed a spate of foiled plots on ships in Southeast Asia and are warning that a narrow stretch of water carrying almost one third of the world's maritime trade is vulnerable to a terror attack.\",\n",
       " \"After learning of several foiled al Qaeda attempts on U.S. and commercial ships in the area, experts are warning that the terror network still wants to cripple the global economy, the world's economic jugular vein in Southeast Asia is at risk.\",\n",
       " 'Caffeine can help increase reaction time and improve performance for military servicemen who must perform complex tasks or who need help staying alert for longer periods of time, according to a new report by the National Academy of Sciences.',\n",
       " '\"Specifically, it can be used in maintaining speed of reactions and visual and auditory vigilance, which in military operations could be a life or death situation,\" according to the report.',\n",
       " '\"Something that will boost their capabilities at crucial moments is very important.\"',\n",
       " 'Researchers are already exploring ways to put caffeine in nutrition bars or chewing gum as alternatives to coffee, Archibald said.',\n",
       " 'A similar dose of caffeine, about 200-600 mg, also appears effective in enhancing physical endurance and may be especially useful in returning some of the physical endurance lost at high altitude, the study found.',\n",
       " 'The Institute of Medicine is part of the National Academy of Sciences, a private organization chartered by Congress to advise the government on scientific matters.',\n",
       " 'thanks to robust demand in Asia, boosting the trade surplus to 1.055 trillion yen ($8.47 billion), the Ministry of Finance said.',\n",
       " 'But the prospect of a slowing U.S. economy and weak demand at home overshadowed any optimism for the months ahead.',\n",
       " 'More than 750 hostages were rescued, including all 75 non-Russians and 25 children, when special forces stormed the building.',\n",
       " 'Russian special forces used a sedative gas before storming the theatre.',\n",
       " 'Many captives were taken to hospital suffering from the effects of the chemical.',\n",
       " \"marking a historic shift to the left for Latin America's largest country.\",\n",
       " \"hours after Silva's Workers Party had declared their candidate the winner.\",\n",
       " \"Thousands of Silva supporters gathered in the streets of Sao Paulo and Rio de Janeiro, waving his party's red flag in celebration.\",\n",
       " 'Amid mounting pressure on North Korea to abandon its nuclear weapons program Japanese and North Korean diplomats have resumed talks on normalizing diplomatic relations.',\n",
       " \"The two days of meetings in the Malaysian capital, Kuala Lumpur, are expected to be dominated by Japanese concerns over the North's bomb-making efforts, as well as calls for a fuller explanation over the kidnapping of Japanese civilians in the 1970s and 80s.\",\n",
       " 'At least 54 people have been confirmed dead but that figure is expected to rise, possibly to over 100',\n",
       " \"after a fire tore through a six-storey building in Vietnam's Ho Chi Minh City that housed shops, a disco and several foreign companies.\",\n",
       " \"Initial reports indicated it may have been sparked by a short-circuit in the Blue Disco on the building's second floor.\",\n",
       " 'prevented firefighters from entering the building for about four hours with firefighters taking more than five hours to extinguish the inferno.',\n",
       " 'Mobile bomb-fighting robots can already inspect suspicious cars, buildings or mail for explosives or hazardous materials, according to Jan Karlsson, an expert at the U.N.',\n",
       " 'The Geneva-based commission, in its annual study of the industry titled “World Robotics 2001,” said a record 100,000 robots were installed last year, up 25 percent on 1999.',\n",
       " '“There is definitely a much higher incentive to invest in automated technology to fight terrorists,” Karlsson said.',\n",
       " '“It could be used in post offices, in surveillance of offices after hours and to inspect suspicious cars.”',\n",
       " 'Postal Service - whose postmaster told a Senate panel that the financial impact of the anthrax crisis could be several billion dollars - uses robots to sort parcels, but other automated equipment sorts letters.',\n",
       " 'At the same time, labor costs are more and more.”',\n",
       " '“For industrial robots, 2000 was the best year ever,” added the Swede.',\n",
       " '“Not only in Japan and Europe and North America, but they have also started to take off in some developing countries, for example in Brazil, Mexico, China and South Africa.”',\n",
       " 'Annual sales of robot units are estimated at $5 billion to $6 billion.',\n",
       " 'But with the cost of installing necessary software and integration systems, the total robotics market could be worth closer to $25 billion.',\n",
       " 'About 50 systems of firefighting and bomb-disposal robots have been sold through 2000 in countries including Israel and Britain.',\n",
       " 'The study, written before the devastating U.S. attacks, predicts sales of 120 systems by 2004.',\n",
       " 'About 2,300 robots work in demolition, servicing or dismantling nuclear, chemical, waste or other hazardous complexes, the report said.',\n",
       " 'Another 60 robots work in surveillance.',\n",
       " '“Guard robots are used privately and professionally to detect intruders or fire,” Karlsson said.',\n",
       " '“The Pentagon have several, and they are used in nuclear plants in the United States and Europe, but the market is still rather marginal.\"',\n",
       " 'Five United States Congressmen have written to President Bush urging him to punish North Korea for continuing with its nuclear weapons program and push for a change of government in the isolated Stalinist state.',\n",
       " 'In a letter to the administration, Republican Senators Jesse Helms, Bob Smith and John Kyl, Republican Representative Chris Cox and Democrat Representative Ed Markey called on the president for the U.S. to provide North Korea with fuel oil.',\n",
       " \"Four days of peace talks between the Sri Lankan government and Tamil rebels have ended on a high note as both sides bid to end one of Asia's longest-running conflicts.\",\n",
       " 'Both sides declared success in Thailand, after they agreed to set up three committees to look at issues that lie at the heart of the 19-year-old war that has killed nearly 65,000 people and displaced more than 1.5 million.',\n",
       " 'The government says the new bodies will address ethnic and power-sharing issues and will also oversee a resettlement of refugees and restoration of areas destroyed by the decades-old civil war.',\n",
       " 'A 194-vehicle pileup on a freeway south of Los Angeles left more than 40 people injured, five seriously, The accident occurred shortly before 7 a.m.',\n",
       " 'and prompted the California Highway Patrol to close a two-mile stretch of Interstate 710 in both directions Traffic was being diverted to alternate routes.',\n",
       " 'Thick fog may have been a factor in the accident, California Highway Patrol officers said.',\n",
       " 'The best man raises his wine glass and out comes a drunken diatribe.',\n",
       " \"It's a wedding couple's nightmare, but a growing number of love birds are shielding themselves by having Web sites ghostwrite the perfect toast.\",\n",
       " 'For the right price, dozens of sites promise to find the right words for just about any occasion:',\n",
       " 'But toasts for the happy couple are the most frequent requests.',\n",
       " 'In a stunning and historical night for the GOP and President Bush, Republicans seized control of the Senate, held onto their majority in the House and savored wins in two hot gubernatorial races.',\n",
       " 'The Republicans will have at least a 51-seat majority Republicans won at least 226 seats, up from the 223 they had going into the election.',\n",
       " \"China has unveiled plans for the largest water-diversion in its history and possibly one of the world's most expensive at $60.4 billion.\",\n",
       " \"The project will channel water from the country's longest river, the Yangtze, to three rivers in the north, the Yellow, Huai and Hai, whose basins are running dry.\",\n",
       " 'The ambitious South-to-North Water Transfer Project will move water along three channels linking the wetter flood-prone southern basin to parched northern climes.',\n",
       " \"This is just one of the latest of China's massive public works projects, recent ones including the Three Gorges hydroelectric dam, a proposed 4,000-kilometer natural-gas pipeline and the world's highest railroad from Qinghai to Tibet.\",\n",
       " 'Authorities from the Water Resources Ministry plan to begin construction next year on the controversial and hugely expensive project.',\n",
       " 'Vice Minister of the Water Resources ministry Zhang Jiyao said plans for the project would be submitted for approval to the cabinet by the end of the year.',\n",
       " 'Environmental experts say the new project could cause widespread corruption, human hardship and environmental damage, and could dry up the Yangtze in 30 years.',\n",
       " 'They urge China to take simpler steps like raising water prices, curbing rampant well-digging, stopping up leaks and improving water treatment.',\n",
       " \"European officials have expressed concern the U.S. president will now be more emboldened, following his Republican party's mid-term election gains.\",\n",
       " 'Europe and Bush have been at loggerheads over whether the threat of military action should be included in a new U.N. draft resolution on Iraq, and European leaders have also voiced concern about U.S. calls for \"regime change\" in Iraq.',\n",
       " 'The two sides have also had spats over a wide range of issues including global warming and the new International Criminal Court.',\n",
       " '\"Apocalypse Now,\" Francis Ford Coppola\\'s anti-Vietnam War classic, is the greatest film of the past 25 years, according to a survey of British film critics and writers.',\n",
       " \"Two movies by Martin Scorsese also made the top 10 in the poll released by the British Film Institute's Sight & Sound magazine.\",\n",
       " 'The 50 respondents chose Scorsese\\'s \"Raging Bull\" as the second-best movie of the past quarter-century, followed by Ingmar Bergman\\'s \"Fanny And Alexander\" in third place.',\n",
       " 'The Philippine Coast Guard and navy frogmen are searching for survivors in Manila Bay Two days after the crash, they had rescued 16 passengers and found 14 others who had died, navy officials said.',\n",
       " 'Four others are still missing.',\n",
       " 'Survivors have been taken to hospitals around Manila Bay, a shore region off the Philippine capital of Manila.',\n",
       " 'Emergency workers and stunned residents across the South and Great Lakes regions picked through shattered homes and buildings after a string of tornadoes left at least 36 people dead and dozens injured.',\n",
       " 'after more than 70 tornadoes touched down.',\n",
       " 'Most of those killed were in Tennessee, Following the Iraqi parliament\\'s unanimous recommendation to reject the return of U.N. weapons inspectors, he is \"looking forward\" to receiving the country\\'s final decision.',\n",
       " 'Iraq\\'s ambassador to the United Nations, Mohammad Al-Douri, delivered a letter of acceptance to Kofi Annan, telling reporters that \"Iraq will not have any mass destruction weapons.',\n",
       " 'So we are not worried about the inspectors when they will be back in the country.',\n",
       " 'especially if combined with weight-training, a Harvard study of more than 40,000 men suggests.',\n",
       " 'High-intensity exercise includes running or jogging at 6 mph, while low-intensity activities include walking at a pace of about 2 mph.',\n",
       " 'Researchers also have debated whether weight-training has a big impact on the heart, since it does not give the heart and lungs the kind of workout they get from aerobic activities such as brisk walking or running for at least 20 minutes.',\n",
       " 'But in the Harvard School of Public Health study, men who engaged in weight training for 30 minutes or more weekly had a 23 percent lower risk of heart disease than men who did not pump iron.',\n",
       " 'The researchers said the benefits may result in part from reductions in blood pressure and body fat achieved through weight training.',\n",
       " 'Given the independent results from weight training, the researchers theorized that adding weight training to a high-intensity exercise program would reap even greater benefits.',\n",
       " 'The study is based on medical records and questionnaires given periodically to 44,452 health professionals from 1986 to 1998.',\n",
       " 'Participants were ages 40 to 75 at the outset.',\n",
       " 'Heart disease was ultimately diagnosed in 1,700 participants.',\n",
       " 'Men who ran for an hour or more weekly at 6 mph or more were 42 percent less likely to develop heart disease than non-runners.',\n",
       " 'Men who did brisk walking at a moderate pace of at least 3 mph for at least a half hour daily were 18 percent less likely to develop heart disease than those who did not.',\n",
       " 'There were no significant heart benefits found from low-intensity walking.',\n",
       " 'Gerald Fletcher, an American Heart Association spokesman.',\n",
       " 'He said the findings correspond with AHA guidelines, which recommend aerobic exercise at least six days a week and weight-training two or three times weekly.',\n",
       " 'But Fletcher said, \"A little is better than sitting in front of the television.\"',\n",
       " 'Days before the premiere of \"Harry Potter and the Chamber of Secrets,\" the film\\'s producer said it fears pirated copies are showing up on the Internet.',\n",
       " 'an illegal copy of the film has appeared on the Internet, which often contains bootleg copies of films, even before they hit theaters.',\n",
       " \"The studio later retracted the statement, saying reports of bootleg copies hadn't been substantiated, but an AP search discovered what appeared to be the movie available on a site hosted in Europe.\",\n",
       " 'it has developed a nuclear weapon.',\n",
       " 'the country \"has come to have nuclear and other strong military weapons to deal with increased nuclear threats by the U.S. imperialists,\" according to the Yonhap news agency which monitors North Korean broadcasts.',\n",
       " 'It was unclear, however, whether the report referred to a plutonium- or uranium-based weapon.',\n",
       " 'despite the high-tech industry\\'s downturn, co-founder Bill Gates said as he unveiled a strategy to push \"smart\" computing technology into everyday gadgets such as alarm clocks and pens.']"
      ]
     },
     "execution_count": 28,
     "metadata": {},
     "output_type": "execute_result"
    }
   ],
   "source": [
    "en_raw[:100]"
   ]
  },
  {
   "cell_type": "code",
   "execution_count": 29,
   "id": "distinguished-vanilla",
   "metadata": {},
   "outputs": [
    {
     "name": "stdout",
     "output_type": "stream",
     "text": [
      "94123 77591\n",
      "94123 75598\n"
     ]
    }
   ],
   "source": [
    "ko_dup_remove = set(ko_raw)\n",
    "en_dup_remove = set(en_raw)\n",
    "print(len(ko_raw), len(ko_dup_remove))\n",
    "print(len(en_raw), len(en_dup_remove))"
   ]
  },
  {
   "cell_type": "markdown",
   "id": "proof-location",
   "metadata": {},
   "source": [
    "중복 제거 후 쌍이 맞지 않는 문제가 발생했다. 그래서 이를 다시 맞추기 위해서 for 문으로 중복을 처리하겠다. "
   ]
  },
  {
   "cell_type": "code",
   "execution_count": 30,
   "id": "recreational-mambo",
   "metadata": {},
   "outputs": [
    {
     "name": "stdout",
     "output_type": "stream",
     "text": [
      "94123 75598\n",
      "94123 75598\n"
     ]
    }
   ],
   "source": [
    "ko_dup_remove = []\n",
    "en_dup_remove = []\n",
    "for i in range(len(en_raw)) :\n",
    "    if en_raw[i] in en_dup_remove :\n",
    "        continue\n",
    "    else :\n",
    "        ko_dup_remove.append(ko_raw[i])\n",
    "        en_dup_remove.append(en_raw[i])\n",
    "print(len(ko_raw), len(ko_dup_remove))\n",
    "print(len(en_raw), len(en_dup_remove))"
   ]
  },
  {
   "cell_type": "code",
   "execution_count": 35,
   "id": "completed-berkeley",
   "metadata": {},
   "outputs": [],
   "source": [
    "def preprocess_sentence(sentence, s_token=False, e_token=False):\n",
    "    sentence = sentence.lower().strip()\n",
    "\n",
    "    sentence = re.sub(r\"([?.!,])\", r\" \\1 \", sentence)\n",
    "    sentence = re.sub(r'[\" \"]+', \" \", sentence)\n",
    "    sentence = re.sub(r\"[^ㄱ-ㅣ가-힣a-zA-Z0-9?.!,]+\", \" \", sentence)\n",
    "\n",
    "    sentence = sentence.strip()\n",
    "\n",
    "    if s_token:\n",
    "        sentence = '<start> ' + sentence\n",
    "\n",
    "    if e_token:\n",
    "        sentence += ' <end>'\n",
    "    \n",
    "    return sentence"
   ]
  },
  {
   "cell_type": "code",
   "execution_count": 33,
   "id": "exciting-throw",
   "metadata": {},
   "outputs": [
    {
     "name": "stdout",
     "output_type": "stream",
     "text": [
      "94123 14225\n",
      "94123 14225\n"
     ]
    }
   ],
   "source": [
    "ko_short = []\n",
    "en_short = []\n",
    "for i in range(len(ko_dup_remove)) : \n",
    "    if len(ko_dup_remove[i]) <= 40 :\n",
    "        ko_short.append(ko_raw[i])\n",
    "        en_short.append(en_raw[i])\n",
    "print(len(ko_raw), len(ko_short))\n",
    "print(len(en_raw), len(en_short))"
   ]
  },
  {
   "cell_type": "code",
   "execution_count": 37,
   "id": "african-manner",
   "metadata": {},
   "outputs": [
    {
     "name": "stdout",
     "output_type": "stream",
     "text": [
      "['<start> much of personal computing is about can you top this ? <end>', '<start> like all optical mice , but it also doesn t need a desk . <end>', '<start> many captives were taken to hospital suffering from the effects of the chemical . <end>', '<start> at least 54 people have been confirmed dead but that figure is expected to rise , possibly to over 100 <end>', '<start> the geneva based commission , in its annual study of the industry titled world robotics 2001 , said a record 100 , 000 robots were installed last year , up 25 percent on 1999 . <end>', '<start> postal service whose postmaster told a senate panel that the financial impact of the anthrax crisis could be several billion dollars uses robots to sort parcels , but other automated equipment sorts letters . <end>', '<start> at the same time , labor costs are more and more . <end>', '<start> annual sales of robot units are estimated at 5 billion to 6 billion . <end>', '<start> another 60 robots work in surveillance . <end>', '<start> the best man raises his wine glass and out comes a drunken diatribe . <end>', '<start> four others are still missing . <end>', '<start> emergency workers and stunned residents across the south and great lakes regions picked through shattered homes and buildings after a string of tornadoes left at least 36 people dead and dozens injured . <end>', '<start> participants were ages 40 to 75 at the outset . <end>', '<start> heart disease was ultimately diagnosed in 1 , 700 participants . <end>', '<start> gerald fletcher , an american heart association spokesman . <end>', '<start> the studio later retracted the statement , saying reports of bootleg copies hadn t been substantiated , but an ap search discovered what appeared to be the movie available on a site hosted in europe . <end>', '<start> it has developed a nuclear weapon . <end>', '<start> choi in won wants to perfect his badminton game . <end>', '<start> kim so hyon would just sleep a lot . <end>', '<start> but they re also 62 and 45 less productive , respectively . <end>', '<start> the u . s . had hundreds of years of commercial activity , while korea s had only a few . <end>', '<start> there is a precedent . <end>', '<start> why the hurry to accomplish such a herculean feat ? <end>', '<start> the government says the move is a way to show that south korea is a developed nation . <end>', '<start> among the many thorny issues is holidays . <end>', '<start> we just can t afford to be lazy or relaxed , said choi in woong , a civil engineer . <end>', '<start> it s a big problem . <end>', '<start> the 14 year old mir space station will be ditched in february in a controlled descent that will send it hurtling into a remote area of the pacific ocean , officials said today . <end>', '<start> president bill clinton arrived in ho chi minh city , vietnam , following a visit to the crash site of a u . s . <end>', '<start> the new suffixes could appear in use by the middle of next year . <end>', '<start> the car that carried the bomb is now a pile of twisted , smoking metal . <end>', '<start> the blast was so powerful , it caused the bus to slam into a nearby store . <end>', '<start> several stores also caught fire . <end>', '<start> it s got those tires that do what your feet do for you . <end>', '<start> the price is expected to be around 3 , 000 . <end>', '<start> still , growth next year is expected to be anemic . <end>', '<start> nine more women were attacked tuesday . <end>', '<start> most of the victims were ages 50 to 80 . <end>', '<start> north korean officials , however , refused that demand . <end>', '<start> caffeine is a substance naturally found in coffee . <end>', '<start> the disease affects women more than men . <end>', '<start> they studied more than 31 , 000 women between the ages of 55 and 69 . <end>', '<start> they also studied women who did not develop the disease . <end>', '<start> the women were involved in the black women s health study that began in 1995 . <end>', '<start> no successors have been announced . <end>', '<start> how to walk , climb stairs and recognize voices . <end>', '<start> never ask a question to which you don t know the answer . <end>', '<start> diplomats generally operate on the same basis . <end>', '<start> a day later came the shocker . <end>', '<start> and , he added , we ve got more powerful weapons <end>', '<start> presumably meaning biological and chemical agents . <end>', '<start> why , everyone wondered , was kim confessing now ? <end>', '<start> so who assisted the koreans ? <end>', '<start> war with north korea , bush told his aides , was out of the question . <end>', '<start> but the consequences of attacking pyongyang are unacceptable . <end>', '<start> scientists in britain and the united states shook hands . <end>', '<start> one in london and one in boston <end>', '<start> we can actually feel the object being pushed against our hands . <end>', '<start> at least five years , jordan said . <end>', '<start> need to pay down credit card debt ? <end>', '<start> desperate for money for music lessons ? <end>', '<start> the united states will take every measure against what is perhaps greatest danger of all that may result from hostile states or terrorist groups armed with weapons of mass destruction , bush said in a written statement . <end>', '<start> this shootdown shifts the paradigm for defensive capabilities . <end>', '<start> joseph cosumano , head of the missile defense command . <end>', '<start> microsoft had leveraged its pc monopoly in which it is unfairly advantaged . <end>', '<start> side effects from the cancer fighting drug gefitinib have resulted in 124 deaths in japan . <end>', '<start> smaller sums would go to 95 other urban and rural areas . <end>', '<start> in 1949 , then president harry truman launched his urban renewal initiative . <end>', '<start> two thirds of the lots are vacant . <end>', '<start> a large part of the population is a street population that doesn t live in the houses at all . <end>', '<start> their policy prescription is simple . <end>', '<start> there are things that are working . <end>', '<start> but the evidence as a whole indicates otherwise . <end>', '<start> and 92 , 92 of them are killed with firearms . <end>', '<start> over 50 of the people that are homeless are employed . <end>', '<start> 43 of the people that are homeless are women with at least two children . <end>', '<start> but many car renters are already protected . <end>', '<start> others are covered because they use a major credit card . <end>', '<start> the large car rental companies are for it . <end>', '<start> several smaller ones are not . <end>', '<start> neither was testimony from astronauts or even photographic evidence . <end>', '<start> did we land on the moon ? <end>', '<start> there is something wrong with the machine . <end>', '<start> we can t think of anything better . <end>', '<start> viagra , for instance , has caused cardiac problems in a number of its users . <end>', '<start> the two fields of computer research are at different stages in their life cycles . <end>', '<start> artificial intelligence is just getting started <end>', '<start> the blame or credit does not go exclusively to a nation s schools . <end>', '<start> it is clear that educational disadvantage is born not at school but in the home , said the report . <end>', '<start> the united states , however , finished low in each test and in adult literacy . <end>', '<start> ask the mayors of texas with you today ? <end>', '<start> my friends , this is not going to happen here . <end>', '<start> leeman notes that in fact many have actually moved out . <end>', '<start> blacks are historically a very mobile population in our society . <end>', '<start> we didn t have foster families in those days . <end>', '<start> the neighbors pitched in and they helped us for awhile . <end>', '<start> i lived with even an elementary classmate of mine . <end>', '<start> the church helped out as well . <end>', '<start> he thought he knew who he was . <end>', '<start> i didn t want to go around the rest of my life being a half baked alaskan . <end>']\n"
     ]
    }
   ],
   "source": [
    "ko_trimmed = [preprocess_sentence(x) for x in ko_short]\n",
    "en_trimmed = [preprocess_sentence(x, True, True) for x in en_short]\n",
    "print(ko_trimmed[:100])\n",
    "print(en_trimmed[:100])"
   ]
  },
  {
   "cell_type": "code",
   "execution_count": null,
   "id": "fantastic-german",
   "metadata": {},
   "outputs": [],
   "source": [
    "from konlpy.tag import Mecab\n",
    "tokenizer = Mecab()\n",
    "tokenizer.morphs()"
   ]
  }
 ],
 "metadata": {
  "kernelspec": {
   "display_name": "aiffel",
   "language": "python",
   "name": "aiffel"
  },
  "language_info": {
   "codemirror_mode": {
    "name": "ipython",
    "version": 3
   },
   "file_extension": ".py",
   "mimetype": "text/x-python",
   "name": "python",
   "nbconvert_exporter": "python",
   "pygments_lexer": "ipython3",
   "version": "3.7.10"
  }
 },
 "nbformat": 4,
 "nbformat_minor": 5
}
