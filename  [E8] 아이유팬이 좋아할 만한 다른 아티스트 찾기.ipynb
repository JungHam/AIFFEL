{
 "cells": [
  {
   "cell_type": "markdown",
   "id": "pressed-puppy",
   "metadata": {},
   "source": [
    "# 데이터 전처리\n",
    "1. '::' 별로 데이터가 구분되어 있어 이를 기준으로 데이터를 파싱한다.\n",
    "2. 3점 이상 평가를 받은 영화만 남겨서 추천 후보의 질을 높인다. \n",
    "3. rating 컬럼 이름 count로 바꾸기 -> 이거 노드에 이렇게 하라고 되어있는데 이거 >>개선좀<< 해주세요...\n",
    "`ratings.count`로 쓰면 dataframe내의 내장 속성과 겹쳐서 에러나요. \n",
    "4. movie id만 있으면 무슨 영화인지 모르니까 영화 자체의 속성을 담고 있는 데이터를 따로 로딩한다. -> 이번 노드에서 제일 헷갈렸던 부분. 영화 정보를 얻기 위해서 존재하는 거지, 평점을 위해 존재하는 데이터가 아님!\n",
    "5. 실제 사용할 정보만 남기기."
   ]
  },
  {
   "cell_type": "code",
   "execution_count": 40,
   "id": "conditional-baking",
   "metadata": {},
   "outputs": [
    {
     "name": "stdout",
     "output_type": "stream",
     "text": [
      "orginal_data_size: 1000209, filtered_data_size: 836478\n",
      "Ratio of Remaining Data is 83.63%\n"
     ]
    },
    {
     "data": {
      "text/html": [
       "<div>\n",
       "<style scoped>\n",
       "    .dataframe tbody tr th:only-of-type {\n",
       "        vertical-align: middle;\n",
       "    }\n",
       "\n",
       "    .dataframe tbody tr th {\n",
       "        vertical-align: top;\n",
       "    }\n",
       "\n",
       "    .dataframe thead th {\n",
       "        text-align: right;\n",
       "    }\n",
       "</style>\n",
       "<table border=\"1\" class=\"dataframe\">\n",
       "  <thead>\n",
       "    <tr style=\"text-align: right;\">\n",
       "      <th></th>\n",
       "      <th>movie_id</th>\n",
       "      <th>title</th>\n",
       "      <th>genre</th>\n",
       "    </tr>\n",
       "  </thead>\n",
       "  <tbody>\n",
       "    <tr>\n",
       "      <th>0</th>\n",
       "      <td>1</td>\n",
       "      <td>Toy Story (1995)</td>\n",
       "      <td>Animation|Children's|Comedy</td>\n",
       "    </tr>\n",
       "    <tr>\n",
       "      <th>1</th>\n",
       "      <td>2</td>\n",
       "      <td>Jumanji (1995)</td>\n",
       "      <td>Adventure|Children's|Fantasy</td>\n",
       "    </tr>\n",
       "    <tr>\n",
       "      <th>2</th>\n",
       "      <td>3</td>\n",
       "      <td>Grumpier Old Men (1995)</td>\n",
       "      <td>Comedy|Romance</td>\n",
       "    </tr>\n",
       "    <tr>\n",
       "      <th>3</th>\n",
       "      <td>4</td>\n",
       "      <td>Waiting to Exhale (1995)</td>\n",
       "      <td>Comedy|Drama</td>\n",
       "    </tr>\n",
       "    <tr>\n",
       "      <th>4</th>\n",
       "      <td>5</td>\n",
       "      <td>Father of the Bride Part II (1995)</td>\n",
       "      <td>Comedy</td>\n",
       "    </tr>\n",
       "  </tbody>\n",
       "</table>\n",
       "</div>"
      ],
      "text/plain": [
       "   movie_id                               title                         genre\n",
       "0         1                    Toy Story (1995)   Animation|Children's|Comedy\n",
       "1         2                      Jumanji (1995)  Adventure|Children's|Fantasy\n",
       "2         3             Grumpier Old Men (1995)                Comedy|Romance\n",
       "3         4            Waiting to Exhale (1995)                  Comedy|Drama\n",
       "4         5  Father of the Bride Part II (1995)                        Comedy"
      ]
     },
     "execution_count": 40,
     "metadata": {},
     "output_type": "execute_result"
    }
   ],
   "source": [
    "import os\n",
    "import pandas as pd\n",
    "rating_file_path=os.getenv('HOME') + '/aiffel/recommendata_iu/data/ml-1m/ratings.dat'\n",
    "ratings_cols = ['user_id', 'movie_id', 'rating', 'timestamp']\n",
    "ratings = pd.read_csv(rating_file_path, sep='::', names=ratings_cols, engine='python')\n",
    "orginal_data_size = len(ratings)\n",
    "ratings.head()\n",
    "\n",
    "# 3점 이상만 남깁니다.\n",
    "ratings = ratings[ratings['rating']>=3]\n",
    "filtered_data_size = len(ratings)\n",
    "\n",
    "print(f'orginal_data_size: {orginal_data_size}, filtered_data_size: {filtered_data_size}')\n",
    "print(f'Ratio of Remaining Data is {filtered_data_size / orginal_data_size:.2%}')\n",
    "\n",
    "# rating 컬럼의 이름을 count로 바꿉니다.\n",
    "ratings.rename(columns={'rating':'count'}, inplace=True)\n",
    "\n",
    "ratings['count']\n",
    "\n",
    "# 영화 제목을 보기 위해 메타 데이터를 읽어옵니다.\n",
    "movie_file_path=os.getenv('HOME') + '/aiffel/recommendata_iu/data/ml-1m/movies.dat'\n",
    "cols = ['movie_id', 'title', 'genre'] \n",
    "movies = pd.read_csv(movie_file_path, sep='::', names=cols, engine='python')\n",
    "movies.head()\n"
   ]
  },
  {
   "cell_type": "markdown",
   "id": "convenient-begin",
   "metadata": {},
   "source": [
    "그리고 노드에서 영화 정보에 담긴 영화 수와 평가에 참여한 사용자 수를 체크해보래서 해봤다. "
   ]
  },
  {
   "cell_type": "code",
   "execution_count": 41,
   "id": "usual-bargain",
   "metadata": {},
   "outputs": [
    {
     "name": "stdout",
     "output_type": "stream",
     "text": [
      "         user_id  movie_id  count  timestamp\n",
      "0              1      1193      5  978300760\n",
      "1              1       661      3  978302109\n",
      "2              1       914      3  978301968\n",
      "3              1      3408      4  978300275\n",
      "4              1      2355      5  978824291\n",
      "...          ...       ...    ...        ...\n",
      "1000203     6040      1090      3  956715518\n",
      "1000205     6040      1094      5  956704887\n",
      "1000206     6040       562      5  956704746\n",
      "1000207     6040      1096      4  956715648\n",
      "1000208     6040      1097      4  956715569\n",
      "\n",
      "[836478 rows x 4 columns]\n"
     ]
    }
   ],
   "source": [
    "from scipy.sparse import csr_matrix\n",
    "\n",
    "num_user = ratings['user_id'].nunique()\n",
    "num_movie = movies['movie_id'].nunique()\n",
    "\n",
    "print(ratings)"
   ]
  },
  {
   "cell_type": "markdown",
   "id": "blind-traffic",
   "metadata": {},
   "source": [
    "학습에 사용할 칼럼만 남기고 나머지 칼럼은 날린다."
   ]
  },
  {
   "cell_type": "code",
   "execution_count": 42,
   "id": "naked-river",
   "metadata": {},
   "outputs": [],
   "source": [
    "use_cols = ['user_id','movie_id','count']\n",
    "ratings = ratings[use_cols]\n",
    "user_unique = ratings['user_id'].unique()\n",
    "movie_unique = movies['movie_id'].unique()"
   ]
  },
  {
   "cell_type": "markdown",
   "id": "viral-knife",
   "metadata": {},
   "source": [
    "# 추천 시스템 베이스 만들기\n",
    "1. '나'를 추가하기 -> 내 취향에 맞는 데이터를 실존하는 데이터 안에서 골라서 집어넣기. "
   ]
  },
  {
   "cell_type": "code",
   "execution_count": 43,
   "id": "stuffed-appearance",
   "metadata": {},
   "outputs": [
    {
     "name": "stdout",
     "output_type": "stream",
     "text": [
      "      movie_id                                title   genre\n",
      "3570      3639  Man with the Golden Gun, The (1974)  Action\n",
      "2687      2756         Wanted: Dead or Alive (1987)  Action\n",
      "1400      1424                        Inside (1996)  Action\n",
      "143        145                      Bad Boys (1995)  Action\n",
      "540        544             Striking Distance (1993)  Action\n",
      "2896      2965               Omega Code, The (1999)  Action\n",
      "248        251                   Hunted, The (1995)  Action\n",
      "2920      2989            For Your Eyes Only (1981)  Action\n",
      "2880      2949                        Dr. No (1962)  Action\n",
      "2879      2948         From Russia with Love (1963)  Action\n",
      "['Man with the Golden Gun, The (1974)', 'From Russia with Love (1963)', 'Wanted: Dead or Alive (1987)', 'Bad Boys (1995)', 'Striking Distance (1993)']\n"
     ]
    }
   ],
   "source": [
    "sorted_m = movies.sort_values(by='genre', ascending=True)\n",
    "print(sorted_m.head(10))\n",
    "my_fav_name = [movies.loc[3570]['title'],movies.loc[2879]['title'],movies.loc[2687]['title'],movies.loc[143]['title'],movies.loc[540]['title']]\n",
    "my_fav_id = [movies.loc[3570]['movie_id'],movies.loc[2879]['movie_id'],movies.loc[2687]['movie_id'],movies.loc[143]['movie_id'],movies.loc[540]['movie_id']]\n",
    "print(my_fav_name)"
   ]
  },
  {
   "cell_type": "markdown",
   "id": "unsigned-cradle",
   "metadata": {},
   "source": [
    "추천 시스템을 위해서 일관된 취향을 가지려고 데이터를 genre 순으로 정렬했더니 역시 한 분야의 영화들이 몰려서 나온다. 이 중에 상위 5개의 영화를 가지고 내 취향을 만든다. "
   ]
  },
  {
   "cell_type": "code",
   "execution_count": 44,
   "id": "minimal-ribbon",
   "metadata": {},
   "outputs": [
    {
     "name": "stdout",
     "output_type": "stream",
     "text": [
      "         user_id  movie_id  count\n",
      "1000203     6040      1090      3\n",
      "1000205     6040      1094      5\n",
      "1000206     6040       562      5\n",
      "1000207     6040      1096      4\n",
      "1000208     6040      1097      4\n",
      "0           6041      3639      4\n",
      "1           6041      2948      5\n",
      "2           6041      2756      4\n",
      "3           6041       145      5\n",
      "4           6041       544      4\n"
     ]
    }
   ],
   "source": [
    "my_fav_list= pd.DataFrame({'user_id' : [6041]*5, 'movie_id' : my_fav_id, 'count' : [4,5,4,5,4]})\n",
    "ratings = ratings.append(my_fav_list)\n",
    "print(ratings.tail(10))"
   ]
  },
  {
   "cell_type": "markdown",
   "id": "married-barrel",
   "metadata": {},
   "source": [
    "요렇게 추가된 모습을 볼 수 있다. 여담이지만 옆에 index가 0부터 시작하는게 거슬리면 이를 리셋하는 코드가 있다. \n",
    "`df.reset_index()`"
   ]
  },
  {
   "cell_type": "markdown",
   "id": "published-silence",
   "metadata": {},
   "source": [
    "# 추천 시스템 만들기\n",
    "1. Matrix Factorization을 위한 행렬 크기 잘 계산하기(여기서 매우 헷갈렸음)\n",
    "이 과정은 ratings 데이터만 가지고 해도 충분하다! 근데 ratings에...index로 쓸 것이 있을까? \n",
    "중요한건 ratings 내의 총 영화수(중복 제거시) != 영화 정보 내의 총 영화수(중복 제거시) 이다. \n",
    "그래서 MF를 하려면 ratings내에서 item의 구분을 위해 따로 index를 만들어 줘야 한다. ratings내에서만 쓰일 index를 만드는 것이다. \n",
    "이번 노드에서 쓰인 방법은 이 논문에서 발췌해온 것이라고. (http://yifanhu.net/PUB/cf.pdf)\n",
    "2. CSR 매트릭스 만들기\n",
    "1번을 잘 정의했다면 필요한 행렬의 크기를 잘 계산할 수 있을 것이다. \n",
    "3. MF 모델 학습하기"
   ]
  },
  {
   "cell_type": "code",
   "execution_count": 45,
   "id": "adequate-tablet",
   "metadata": {
    "scrolled": true
   },
   "outputs": [
    {
     "name": "stdout",
     "output_type": "stream",
     "text": [
      "6040 3628\n",
      "<데이터 분석>\n",
      "3883 3628\n",
      "user_id column indexing OK!!\n",
      "movie column indexing OK!!\n"
     ]
    }
   ],
   "source": [
    "from scipy.sparse import csr_matrix\n",
    "num_user = ratings['user_id'].nunique()\n",
    "num_movies = ratings['movie_id'].nunique()\n",
    "print(num_user,num_movies)\n",
    "\n",
    "print(\"<데이터 분석>\")\n",
    "total_movies = movies['movie_id'].nunique()\n",
    "print(total_movies, num_movies)\n",
    "\n",
    "# 이 부분 코드가 매우 중요하다! user와 movie에 대한 인덱스를 만들어준다. \n",
    "# map 함수에 인자로 넣을 규칙.\n",
    "user_to_uniq_idx = {v:k for k,v in enumerate(ratings['user_id'].unique())}\n",
    "movie_to_uniq_idx = {v:k for k,v in enumerate(ratings['movie_id'].unique())}\n",
    "\n",
    "\n",
    "# indexing을 통해 데이터 컬럼 내 값을 바꾸는 코드\n",
    "# dictionary 자료형의 get 함수는 https://wikidocs.net/16 을 참고하세요.\n",
    "\n",
    "# user_to_idx.get을 통해 user_id 컬럼의 모든 값을 인덱싱한 Series를 구해 봅시다. \n",
    "# 혹시 정상적으로 인덱싱되지 않은 row가 있다면 인덱스가 NaN이 될 테니 dropna()로 제거합니다. \n",
    "temp_user_data = ratings['user_id'].map(user_to_uniq_idx.get).dropna()\n",
    "#print(temp_user_data)\n",
    "#print(ratings.user_id)\n",
    "if len(temp_user_data) == len(ratings):   # 모든 row가 정상적으로 인덱싱되었다면\n",
    "    print('user_id column indexing OK!!')\n",
    "    ratings['user_id'] = temp_user_data   # data['user_id']을 인덱싱된 Series로 교체해 줍니다. \n",
    "else:\n",
    "    print('user_id column indexing Fail!!')\n",
    "\n",
    "# ratings내의 movie에 대해서도 같은 작업을 해준다. \n",
    "temp_movie_data = ratings['movie_id'].map(movie_to_uniq_idx.get).dropna()\n",
    "if len(temp_movie_data) == len(ratings):\n",
    "    print('movie column indexing OK!!')\n",
    "    ratings['movie_id_uniq'] = temp_movie_data\n",
    "else:\n",
    "    print('movie_id column indexing Fail!!')\n"
   ]
  },
  {
   "cell_type": "markdown",
   "id": "unusual-census",
   "metadata": {},
   "source": [
    "indexing을 따로 해주고 나서 그 후에 csr_matrix를 구할 수 있다. \n",
    "csr_matrix는 MF 행렬의 사이즈를 생각했을 때, 행렬이 너무 커지므로 이를 압축해서 올릴 수 있는 방법이 없을까 하여 생각해 낸 방법이다.0이 아닌 헹렬의 요소 위치를 기억하는 자료구조. 뭐여 sparse matrix였네. \n",
    "csr_matrix가 두 행렬으로 분해될 때, 이론은 다음과 같다. \n",
    "(전체 사용자의 특성 벡터가 모인 행렬) * (평가한 아이템들의 특성 벡터가 모인 행렬)\n",
    "sparse matrix를 numpy에서 표현하는 방법은 여기를 참고하라. (https://stackoverflow.com/questions/53254104/cant-understand-scipy-sparse-csr-matrix-example/62118005#62118005) "
   ]
  },
  {
   "cell_type": "code",
   "execution_count": 46,
   "id": "finnish-ministry",
   "metadata": {},
   "outputs": [
    {
     "name": "stdout",
     "output_type": "stream",
     "text": [
      "  (0, 0)\t5\n",
      "  (0, 1)\t3\n",
      "  (0, 2)\t3\n",
      "  (0, 3)\t4\n",
      "  (0, 4)\t5\n",
      "  (0, 5)\t3\n",
      "  (0, 6)\t5\n",
      "  (0, 7)\t5\n",
      "  (0, 8)\t4\n",
      "  (0, 9)\t4\n",
      "  (0, 10)\t5\n",
      "  (0, 11)\t4\n",
      "  (0, 12)\t4\n",
      "  (0, 13)\t4\n",
      "  (0, 14)\t5\n",
      "  (0, 15)\t4\n",
      "  (0, 16)\t3\n",
      "  (0, 17)\t4\n",
      "  (0, 18)\t5\n",
      "  (0, 19)\t4\n",
      "  (0, 20)\t3\n",
      "  (0, 21)\t3\n",
      "  (0, 22)\t5\n",
      "  (0, 23)\t5\n",
      "  (0, 24)\t3\n",
      "  :\t:\n",
      "  (6038, 2311)\t4\n",
      "  (6038, 2317)\t5\n",
      "  (6038, 2386)\t4\n",
      "  (6038, 2394)\t5\n",
      "  (6038, 2424)\t4\n",
      "  (6038, 2437)\t4\n",
      "  (6038, 2446)\t5\n",
      "  (6038, 2471)\t4\n",
      "  (6038, 2511)\t5\n",
      "  (6038, 2523)\t4\n",
      "  (6038, 2559)\t3\n",
      "  (6038, 2560)\t4\n",
      "  (6038, 2631)\t5\n",
      "  (6038, 2648)\t4\n",
      "  (6038, 2654)\t5\n",
      "  (6038, 2738)\t4\n",
      "  (6038, 2740)\t5\n",
      "  (6038, 2857)\t5\n",
      "  (6038, 2860)\t3\n",
      "  (6038, 3311)\t5\n",
      "  (6039, 665)\t5\n",
      "  (6039, 969)\t4\n",
      "  (6039, 2054)\t5\n",
      "  (6039, 2223)\t4\n",
      "  (6039, 3146)\t4\n"
     ]
    }
   ],
   "source": [
    "csr_data = csr_matrix((ratings['count'], (ratings['user_id'], ratings['movie_id_uniq'])), shape=(num_user, num_movies))\n",
    "print(csr_data)"
   ]
  },
  {
   "cell_type": "code",
   "execution_count": 47,
   "id": "wrong-mailman",
   "metadata": {},
   "outputs": [
    {
     "data": {
      "application/vnd.jupyter.widget-view+json": {
       "model_id": "6d48a05ed5654a0da46d0d445e1c988e",
       "version_major": 2,
       "version_minor": 0
      },
      "text/plain": [
       "  0%|          | 0/15 [00:00<?, ?it/s]"
      ]
     },
     "metadata": {},
     "output_type": "display_data"
    }
   ],
   "source": [
    "from implicit.als import AlternatingLeastSquares\n",
    "import os\n",
    "import numpy as np\n",
    "\n",
    "# implicit 라이브러리에서 권장하고 있는 부분입니다. 학습 내용과는 무관합니다.\n",
    "os.environ['OPENBLAS_NUM_THREADS']='1'\n",
    "os.environ['KMP_DUPLICATE_LIB_OK']='True'\n",
    "os.environ['MKL_NUM_THREADS']='1'\n",
    "\n",
    "\n",
    "# Implicit AlternatingLeastSquares 모델의 선언\n",
    "als_model = AlternatingLeastSquares(factors=100, regularization=0.01, use_gpu=False, iterations=15, dtype=np.float32)\n",
    "\n",
    "# als 모델은 input으로 (item X user 꼴의 matrix를 받기 때문에 Transpose해줍니다.)\n",
    "csr_data_transpose = csr_data.T\n",
    "csr_data_transpose\n",
    "\n",
    "# 모델 훈련\n",
    "als_model.fit(csr_data_transpose)"
   ]
  },
  {
   "cell_type": "markdown",
   "id": "acknowledged-brunswick",
   "metadata": {},
   "source": [
    "# 추천받기"
   ]
  },
  {
   "cell_type": "markdown",
   "id": "subject-canon",
   "metadata": {},
   "source": [
    "일단 영화에 대한 정보는 이렇게 찾는다. \n",
    "1. movies 데이터에서 찾으려는 영화의 '전체' index를 찾아낸다.\n",
    "2. ratings의 movie_id와 user_id 컬럼은 자체 index를 가지고 있다. 1에서 얻은 index를 이용하자. "
   ]
  },
  {
   "cell_type": "code",
   "execution_count": 51,
   "id": "contrary-philip",
   "metadata": {},
   "outputs": [
    {
     "name": "stdout",
     "output_type": "stream",
     "text": [
      "      movie_id                         title   genre\n",
      "2879      2948  From Russia with Love (1963)  Action\n"
     ]
    }
   ],
   "source": [
    "#movie_name_search = {v:k for k,v in enumerate(movies['title'].unique())}\n",
    "new_fav_movie = \"From Russia with Love (1963)\"\n",
    "new_fav_movie_id = movies[movies['title'] == new_fav_movie]\n",
    "print(new_fav_movie_id)"
   ]
  },
  {
   "cell_type": "code",
   "execution_count": 53,
   "id": "generic-quarter",
   "metadata": {},
   "outputs": [
    {
     "name": "stdout",
     "output_type": "stream",
     "text": [
      "[2948, 'From Russia with Love (1963)', 'Action']\n"
     ]
    },
    {
     "data": {
      "text/plain": [
       "[(665, 1.0),\n",
       " (199, 0.7662193),\n",
       " (932, 0.7521499),\n",
       " (1025, 0.7480388),\n",
       " (992, 0.6683175),\n",
       " (966, 0.66034156),\n",
       " (967, 0.64210385),\n",
       " (969, 0.63595873),\n",
       " (929, 0.5777972),\n",
       " (1026, 0.5135011),\n",
       " (991, 0.5128461),\n",
       " (1308, 0.44402543),\n",
       " (1010, 0.43092686),\n",
       " (409, 0.40667576),\n",
       " (3466, 0.39105555)]"
      ]
     },
     "execution_count": 53,
     "metadata": {},
     "output_type": "execute_result"
    }
   ],
   "source": [
    "print(new_fav_movie_id.values.tolist()[0])\n",
    "new_fav_movie_id = new_fav_movie_id.values.tolist()[0][0]\n",
    "new_fav_movie_id_in_ratings = movie_to_uniq_idx[new_fav_movie_id]\n",
    "similar_movies = als_model.similar_items(new_fav_movie_id_in_ratings, N=15)\n",
    "similar_movies\n"
   ]
  },
  {
   "cell_type": "markdown",
   "id": "revolutionary-money",
   "metadata": {},
   "source": [
    "이렇게 추천받은 영화를 역으로 돌려야 할 때가 왔다. ratings 내의 유일한 movie_id로 출력된 결과물을 다시 전체의 고유한 id로 돌리고, 그리고 제목을 출력하는 코드를 짜려고 한다. "
   ]
  },
  {
   "cell_type": "code",
   "execution_count": 59,
   "id": "varying-rochester",
   "metadata": {},
   "outputs": [
    {
     "name": "stdout",
     "output_type": "stream",
     "text": [
      "[2948, 2947, 2993, 2949, 2991, 3633, 3635, 3639, 2989, 2376, 2990, 2944, 3638, 524, 989]\n"
     ]
    }
   ],
   "source": [
    "idx_to_g_idx = {v:k for k,v in movie_to_uniq_idx.items()}\n",
    "recommand_list = [idx_to_g_idx[i[0]] for i in similar_movies]\n",
    "print(recommand_list)"
   ]
  },
  {
   "cell_type": "markdown",
   "id": "cognitive-municipality",
   "metadata": {},
   "source": [
    "이제 이 영화 제목들을 movies에서 찾으면 된다. "
   ]
  },
  {
   "cell_type": "code",
   "execution_count": 63,
   "id": "former-notebook",
   "metadata": {},
   "outputs": [
    {
     "name": "stdout",
     "output_type": "stream",
     "text": [
      "      movie_id                         title   genre\n",
      "2879      2948  From Russia with Love (1963)  Action\n",
      "      movie_id              title   genre\n",
      "2878      2947  Goldfinger (1964)  Action\n",
      "      movie_id               title   genre\n",
      "2924      2993  Thunderball (1965)  Action\n",
      "      movie_id          title   genre\n",
      "2880      2949  Dr. No (1962)  Action\n",
      "      movie_id                    title   genre\n",
      "2922      2991  Live and Let Die (1973)  Action\n",
      "      movie_id                                   title   genre\n",
      "3564      3633  On Her Majesty's Secret Service (1969)  Action\n",
      "      movie_id                         title   genre\n",
      "3566      3635  Spy Who Loved Me, The (1977)  Action\n",
      "      movie_id                                title   genre\n",
      "3570      3639  Man with the Golden Gun, The (1974)  Action\n",
      "      movie_id                      title   genre\n",
      "2920      2989  For Your Eyes Only (1981)  Action\n",
      "      movie_id                     title   genre\n",
      "2307      2376  View to a Kill, A (1985)  Action\n",
      "      movie_id                   title   genre\n",
      "2921      2990  Licence to Kill (1989)  Action\n",
      "      movie_id                    title       genre\n",
      "2875      2944  Dirty Dozen, The (1967)  Action|War\n",
      "      movie_id             title                  genre\n",
      "3569      3638  Moonraker (1979)  Action|Romance|Sci-Fi\n",
      "     movie_id        title  genre\n",
      "520       524  Rudy (1993)  Drama\n",
      "     movie_id                                      title  genre\n",
      "977       989  Schlafes Bruder (Brother of Sleep) (1995)  Drama\n",
      "Empty DataFrame\n",
      "Columns: []\n",
      "Index: []\n"
     ]
    }
   ],
   "source": [
    "result = pd.DataFrame()\n",
    "for i in recommand_list :\n",
    "    print(movies[movies.movie_id == i])\n",
    "print(result)"
   ]
  },
  {
   "cell_type": "markdown",
   "id": "collectible-malaysia",
   "metadata": {},
   "source": [
    "# 후기\n",
    "이거는 MF 행렬 계산하는게 너무 어려웠다. 하고 CSR은 하나의 자료를 저장하는 방식일 뿐, 행렬에서 원소가 가득 들어차 있다면 그냥 행렬을 쓰는게 낫다. 추천시스템의 경우 데이터가 쌓이면 쌓일수록 제대로 추천받을 수 있는 확률이 높아지겠다. 내가 추천받은 영화의 경우 밑으로 가면 갈수록 값이 0.3으로 떨어지고 장르도 다른 장르로 바뀌면서 추천시스템의 효력이 떨어졌다. 넷플릭스를 구독하고 있는데 내가 호기심에 딱 한번 공포영화를 클릭했더니, 계속 관련 장르를 추천해주는 것도 이러한 이유에서 벌어진 건가 싶다."
   ]
  }
 ],
 "metadata": {
  "kernelspec": {
   "display_name": "aiffel",
   "language": "python",
   "name": "aiffel"
  },
  "language_info": {
   "codemirror_mode": {
    "name": "ipython",
    "version": 3
   },
   "file_extension": ".py",
   "mimetype": "text/x-python",
   "name": "python",
   "nbconvert_exporter": "python",
   "pygments_lexer": "ipython3",
   "version": "3.7.9"
  }
 },
 "nbformat": 4,
 "nbformat_minor": 5
}
