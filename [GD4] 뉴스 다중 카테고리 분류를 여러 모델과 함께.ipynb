{
 "cells": [
  {
   "cell_type": "markdown",
   "id": "thrown-stanley",
   "metadata": {},
   "source": [
    "# 서두\n",
    "1. 해당 실험의 설계 \n",
    "1.1 데이터 준비하기\n",
    "1.2 데이터 벡터화하기\n",
    "1.3 모델 준비하기(8개)\n",
    "1.4 단어장 수 정의하기 \n",
    "1.5 학습\n",
    "1.6 예측\n",
    "1.7 성능 분석\n",
    "2. 필요한 것\n",
    "2.1 로이터 뉴스 데이터\n",
    "2.2 데이터 정제\n",
    "2.3 각 모델에 대한 지식\n",
    "2.4 평가 기준"
   ]
  },
  {
   "cell_type": "markdown",
   "id": "positive-brick",
   "metadata": {},
   "source": [
    "# 데이터 준비하기"
   ]
  },
  {
   "cell_type": "code",
   "execution_count": 1,
   "id": "clinical-fever",
   "metadata": {},
   "outputs": [],
   "source": [
    "from tensorflow.keras.datasets import reuters\n",
    "import matplotlib.pyplot as plt\n",
    "import seaborn as sns\n",
    "import numpy as np\n",
    "import pandas as pd"
   ]
  },
  {
   "cell_type": "code",
   "execution_count": 2,
   "id": "moving-fellowship",
   "metadata": {},
   "outputs": [
    {
     "name": "stderr",
     "output_type": "stream",
     "text": [
      "/home/aiffel-dj15/anaconda3/envs/aiffel/lib/python3.7/site-packages/tensorflow/python/keras/datasets/reuters.py:148: VisibleDeprecationWarning: Creating an ndarray from ragged nested sequences (which is a list-or-tuple of lists-or-tuples-or ndarrays with different lengths or shapes) is deprecated. If you meant to do this, you must specify 'dtype=object' when creating the ndarray\n",
      "  x_train, y_train = np.array(xs[:idx]), np.array(labels[:idx])\n",
      "/home/aiffel-dj15/anaconda3/envs/aiffel/lib/python3.7/site-packages/tensorflow/python/keras/datasets/reuters.py:149: VisibleDeprecationWarning: Creating an ndarray from ragged nested sequences (which is a list-or-tuple of lists-or-tuples-or ndarrays with different lengths or shapes) is deprecated. If you meant to do this, you must specify 'dtype=object' when creating the ndarray\n",
      "  x_test, y_test = np.array(xs[idx:]), np.array(labels[idx:])\n"
     ]
    }
   ],
   "source": [
    "(x_train, y_train), (x_test, y_test) = reuters.load_data(num_words=10000, test_split=0.2)"
   ]
  },
  {
   "cell_type": "code",
   "execution_count": 3,
   "id": "superior-qualification",
   "metadata": {},
   "outputs": [
    {
     "name": "stdout",
     "output_type": "stream",
     "text": [
      "훈련용 뉴스의 최대 길이 :2376\n",
      "훈련용 뉴스의 평균 길이 :145.5398574927633\n"
     ]
    },
    {
     "data": {
      "image/png": "[encoded data removed]",
      "text/plain": [
       "<Figure size 432x288 with 1 Axes>"
      ]
     },
     "metadata": {
      "needs_background": "light"
     },
     "output_type": "display_data"
    }
   ],
   "source": [
    "print('훈련용 뉴스의 최대 길이 :{}'.format(max(len(l) for l in x_train)))\n",
    "print('훈련용 뉴스의 평균 길이 :{}'.format(sum(map(len, x_train))/len(x_train)))\n",
    "\n",
    "plt.hist([len(s) for s in x_train], bins=50)\n",
    "plt.xlabel('length of samples')\n",
    "plt.ylabel('number of samples')\n",
    "plt.show()"
   ]
  },
  {
   "cell_type": "markdown",
   "id": "introductory-weapon",
   "metadata": {},
   "source": [
    "단순 평균값을 보는게 아닌 분포값을 보기 위해서 numpy를 이용하겠다. "
   ]
  },
  {
   "cell_type": "code",
   "execution_count": 8,
   "id": "broken-frank",
   "metadata": {},
   "outputs": [
    {
     "data": {
      "text/html": [
       "<div>\n",
       "<style scoped>\n",
       "    .dataframe tbody tr th:only-of-type {\n",
       "        vertical-align: middle;\n",
       "    }\n",
       "\n",
       "    .dataframe tbody tr th {\n",
       "        vertical-align: top;\n",
       "    }\n",
       "\n",
       "    .dataframe thead th {\n",
       "        text-align: right;\n",
       "    }\n",
       "</style>\n",
       "<table border=\"1\" class=\"dataframe\">\n",
       "  <thead>\n",
       "    <tr style=\"text-align: right;\">\n",
       "      <th></th>\n",
       "      <th>0</th>\n",
       "    </tr>\n",
       "  </thead>\n",
       "  <tbody>\n",
       "    <tr>\n",
       "      <th>count</th>\n",
       "      <td>8982.000000</td>\n",
       "    </tr>\n",
       "    <tr>\n",
       "      <th>mean</th>\n",
       "      <td>145.539857</td>\n",
       "    </tr>\n",
       "    <tr>\n",
       "      <th>std</th>\n",
       "      <td>145.822248</td>\n",
       "    </tr>\n",
       "    <tr>\n",
       "      <th>min</th>\n",
       "      <td>13.000000</td>\n",
       "    </tr>\n",
       "    <tr>\n",
       "      <th>25%</th>\n",
       "      <td>60.000000</td>\n",
       "    </tr>\n",
       "    <tr>\n",
       "      <th>50%</th>\n",
       "      <td>95.000000</td>\n",
       "    </tr>\n",
       "    <tr>\n",
       "      <th>75%</th>\n",
       "      <td>179.000000</td>\n",
       "    </tr>\n",
       "    <tr>\n",
       "      <th>max</th>\n",
       "      <td>2376.000000</td>\n",
       "    </tr>\n",
       "  </tbody>\n",
       "</table>\n",
       "</div>"
      ],
      "text/plain": [
       "                 0\n",
       "count  8982.000000\n",
       "mean    145.539857\n",
       "std     145.822248\n",
       "min      13.000000\n",
       "25%      60.000000\n",
       "50%      95.000000\n",
       "75%     179.000000\n",
       "max    2376.000000"
      ]
     },
     "execution_count": 8,
     "metadata": {},
     "output_type": "execute_result"
    }
   ],
   "source": [
    "import pandas as pd\n",
    "x_train_len = [len(x) for x in x_train]\n",
    "x_train_len = pd.DataFrame(x_train_len)\n",
    "x_train_len.describe()\n"
   ]
  },
  {
   "cell_type": "markdown",
   "id": "applicable-third",
   "metadata": {},
   "source": [
    "클래스의 분포도 알아보자"
   ]
  },
  {
   "cell_type": "code",
   "execution_count": 9,
   "id": "accomplished-hopkins",
   "metadata": {},
   "outputs": [
    {
     "name": "stderr",
     "output_type": "stream",
     "text": [
      "/home/aiffel-dj15/anaconda3/envs/aiffel/lib/python3.7/site-packages/seaborn/_decorators.py:43: FutureWarning: Pass the following variable as a keyword arg: x. From version 0.12, the only valid positional argument will be `data`, and passing other arguments without an explicit keyword will result in an error or misinterpretation.\n",
      "  FutureWarning\n"
     ]
    },
    {
     "data": {
      "text/plain": [
       "<AxesSubplot:ylabel='count'>"
      ]
     },
     "execution_count": 9,
     "metadata": {},
     "output_type": "execute_result"
    },
    {
     "data": {
      "image/png": "[encoded data removed]",
      "text/plain": [
       "<Figure size 864x360 with 1 Axes>"
      ]
     },
     "metadata": {
      "needs_background": "light"
     },
     "output_type": "display_data"
    }
   ],
   "source": [
    "fig, axe = plt.subplots(ncols=1)\n",
    "fig.set_size_inches(12,5)\n",
    "sns.countplot(y_train)"
   ]
  },
  {
   "cell_type": "code",
   "execution_count": 10,
   "id": "armed-ozone",
   "metadata": {},
   "outputs": [
    {
     "name": "stdout",
     "output_type": "stream",
     "text": [
      "각 클래스 빈도수:\n",
      "[[   0    1    2    3    4    5    6    7    8    9   10   11   12   13\n",
      "    14   15   16   17   18   19   20   21   22   23   24   25   26   27\n",
      "    28   29   30   31   32   33   34   35   36   37   38   39   40   41\n",
      "    42   43   44   45]\n",
      " [  55  432   74 3159 1949   17   48   16  139  101  124  390   49  172\n",
      "    26   20  444   39   66  549  269  100   15   41   62   92   24   15\n",
      "    48   19   45   39   32   11   50   10   49   19   19   24   36   30\n",
      "    13   21   12   18]]\n"
     ]
    }
   ],
   "source": [
    "unique_elements, counts_elements = np.unique(y_train, return_counts=True)\n",
    "print(\"각 클래스 빈도수:\")\n",
    "print(np.asarray((unique_elements, counts_elements)))"
   ]
  },
  {
   "cell_type": "markdown",
   "id": "formal-category",
   "metadata": {},
   "source": [
    "워드 인덱스를 가져와서 원래 뉴스로 바꿀 수 있는 방법을 보자. "
   ]
  },
  {
   "cell_type": "code",
   "execution_count": 11,
   "id": "artistic-iraqi",
   "metadata": {},
   "outputs": [],
   "source": [
    "word_index = reuters.get_word_index(path=\"reuters_word_index.json\")"
   ]
  },
  {
   "cell_type": "markdown",
   "id": "decent-salem",
   "metadata": {},
   "source": [
    "근데 여기서 미리 인덱스를 앞에 지정해 둔 특수한 역할을 하는 단어들이 있어서 실제 단어를 구하려면 인덱스값에 3을 더해야 구할 수 있다. \n",
    "그 정체는 바로 `<pad>, <sos>, <unk>`. 이를 index_to_word에 추가해주자"
   ]
  },
  {
   "cell_type": "code",
   "execution_count": 13,
   "id": "latter-furniture",
   "metadata": {},
   "outputs": [],
   "source": [
    "index_to_word = {index + 3 : word for word, index in word_index.items()}\n",
    "# index_to_word에 숫자 0은 <pad>, 숫자 1은 <sos>, 숫자 2는 <unk>를 넣어줍니다.\n",
    "for index, token in enumerate((\"<pad>\", \"<sos>\", \"<unk>\")):\n",
    "    index_to_word[index]=token"
   ]
  },
  {
   "cell_type": "code",
   "execution_count": 14,
   "id": "previous-mongolia",
   "metadata": {},
   "outputs": [
    {
     "name": "stdout",
     "output_type": "stream",
     "text": [
      "<sos> <unk> <unk> said as a result of its december acquisition of space co it expects earnings per share in 1987 of 1 15 to 1 30 dlrs per share up from 70 cts in 1986 the company said pretax net should rise to nine to 10 mln dlrs from six mln dlrs in 1986 and rental operation revenues to 19 to 22 mln dlrs from 12 5 mln dlrs it said cash flow per share this year should be 2 50 to three dlrs reuter 3\n"
     ]
    }
   ],
   "source": [
    "print(' '.join([index_to_word[index] for index in x_train[0]]))"
   ]
  },
  {
   "cell_type": "markdown",
   "id": "ahead-lawsuit",
   "metadata": {},
   "source": [
    "전체 데이터를 다시 원복해본다. "
   ]
  },
  {
   "cell_type": "code",
   "execution_count": 69,
   "id": "sharp-klein",
   "metadata": {},
   "outputs": [],
   "source": [
    "decoded = []\n",
    "for i in range(len(x_train)):\n",
    "    t = ' '.join([index_to_word[index] for index in x_train[i]])\n",
    "    decoded.append(t)\n",
    "\n",
    "x_train = decoded\n",
    "\n",
    "decoded = []\n",
    "for i in range(len(x_test)):\n",
    "    t = ' '.join([index_to_word[index] for index in x_test[i]])\n",
    "    decoded.append(t)\n",
    "\n",
    "x_test = decoded"
   ]
  },
  {
   "cell_type": "code",
   "execution_count": 51,
   "id": "south-salad",
   "metadata": {},
   "outputs": [
    {
     "data": {
      "text/plain": [
       "array([list([1, 2, 2, 8, 43, 10, 447, 5, 25, 207, 270, 5, 3095, 111, 16, 369, 186, 90, 67, 7, 89, 5, 19, 102, 6, 19, 124, 15, 90, 67, 84, 22, 482, 26, 7, 48, 4, 49, 8, 864, 39, 209, 154, 6, 151, 6, 83, 11, 15, 22, 155, 11, 15, 7, 48, 9, 4579, 1005, 504, 6, 258, 6, 272, 11, 15, 22, 134, 44, 11, 15, 16, 8, 197, 1245, 90, 67, 52, 29, 209, 30, 32, 132, 6, 109, 15, 17, 12]),\n",
       "       list([1, 3267, 699, 3434, 2295, 56, 2, 7511, 9, 56, 3906, 1073, 81, 5, 1198, 57, 366, 737, 132, 20, 4093, 7, 2, 49, 2295, 2, 1037, 3267, 699, 3434, 8, 7, 10, 241, 16, 855, 129, 231, 783, 5, 4, 587, 2295, 2, 2, 775, 7, 48, 34, 191, 44, 35, 1795, 505, 17, 12]),\n",
       "       list([1, 53, 12, 284, 15, 14, 272, 26, 53, 959, 32, 818, 15, 14, 272, 26, 39, 684, 70, 11, 14, 12, 3886, 18, 180, 183, 187, 70, 11, 14, 102, 32, 11, 29, 53, 44, 704, 15, 14, 19, 758, 15, 53, 959, 47, 1013, 15, 14, 19, 132, 15, 39, 965, 32, 11, 14, 147, 72, 11, 180, 183, 187, 44, 11, 14, 102, 19, 11, 123, 186, 90, 67, 960, 4, 78, 13, 68, 467, 511, 110, 59, 89, 90, 67, 1390, 55, 2678, 92, 617, 80, 1274, 46, 905, 220, 13, 4, 346, 48, 235, 629, 5, 211, 5, 1118, 7, 2, 81, 5, 187, 11, 15, 9, 1709, 201, 5, 47, 3615, 18, 478, 4514, 5, 1118, 7, 232, 2, 71, 5, 160, 63, 11, 9, 2, 81, 5, 102, 59, 11, 17, 12]),\n",
       "       ...,\n",
       "       list([1, 141, 3890, 387, 81, 8, 16, 1629, 10, 340, 1241, 850, 31, 56, 3890, 691, 9, 1241, 71, 9, 5985, 2, 2, 699, 2, 2, 2, 699, 244, 5945, 4, 49, 8, 4, 656, 850, 33, 2993, 9, 2139, 340, 3371, 1493, 9, 2, 22, 2, 1094, 687, 83, 35, 15, 257, 6, 57, 9190, 7, 4, 5956, 654, 5, 2, 6191, 1371, 4, 49, 8, 16, 369, 646, 6, 1076, 7, 124, 407, 17, 12]),\n",
       "       list([1, 53, 46, 957, 26, 14, 74, 132, 26, 39, 46, 258, 3614, 18, 14, 74, 134, 5131, 18, 88, 2321, 72, 11, 14, 1842, 32, 11, 123, 383, 89, 39, 46, 235, 10, 864, 728, 5, 258, 44, 11, 15, 22, 753, 9, 42, 92, 131, 728, 5, 69, 312, 11, 15, 22, 222, 2, 3237, 383, 48, 39, 74, 235, 10, 864, 276, 5, 61, 32, 11, 15, 21, 4, 211, 5, 126, 1072, 42, 92, 131, 46, 19, 352, 11, 15, 22, 710, 220, 9, 42, 92, 131, 276, 5, 59, 61, 11, 15, 22, 10, 455, 7, 1172, 137, 336, 1325, 6, 1532, 142, 971, 6463, 43, 359, 5, 4, 326, 753, 364, 17, 12]),\n",
       "       list([1, 227, 2406, 91, 2, 125, 2855, 21, 4, 3976, 76, 7, 4, 757, 481, 3976, 790, 5259, 5654, 9, 111, 149, 8, 7, 10, 76, 223, 51, 4, 417, 8, 1047, 91, 6917, 1688, 340, 7, 194, 9411, 6, 1894, 21, 127, 2151, 2394, 1456, 6, 3034, 4, 329, 433, 7, 65, 87, 1127, 10, 8219, 1475, 290, 9, 21, 567, 16, 1926, 24, 4, 76, 209, 30, 4033, 6655, 5654, 8, 4, 60, 8, 4, 966, 308, 40, 2575, 129, 2, 295, 277, 1071, 9, 24, 286, 2114, 234, 222, 9, 4, 906, 3994, 8519, 114, 5758, 1752, 7, 4, 113, 17, 12])],\n",
       "      dtype=object)"
      ]
     },
     "execution_count": 51,
     "metadata": {},
     "output_type": "execute_result"
    }
   ],
   "source": [
    "x_train"
   ]
  },
  {
   "cell_type": "markdown",
   "id": "smart-construction",
   "metadata": {},
   "source": [
    "# 데이터 벡터화 하기"
   ]
  },
  {
   "cell_type": "code",
   "execution_count": 16,
   "id": "wrong-conditioning",
   "metadata": {},
   "outputs": [],
   "source": [
    "from sklearn.feature_extraction.text import CountVectorizer\n",
    "from sklearn.feature_extraction.text import TfidfTransformer\n"
   ]
  },
  {
   "cell_type": "markdown",
   "id": "authorized-photographer",
   "metadata": {},
   "source": [
    "DTM 개념을 가지고 텍스트를 벡터로 바꿔준다. "
   ]
  },
  {
   "cell_type": "code",
   "execution_count": 84,
   "id": "blank-latex",
   "metadata": {},
   "outputs": [
    {
     "name": "stdout",
     "output_type": "stream",
     "text": [
      "(8982, 9670)\n",
      "(8982, 9670)\n",
      "(2246, 9670)\n",
      "(2246, 9670)\n"
     ]
    }
   ],
   "source": [
    "dtmvector = CountVectorizer()\n",
    "x_train_dtm = dtmvector.fit_transform(x_train)\n",
    "print(x_train_dtm.shape)\n",
    "tfidf_transformer = TfidfTransformer()\n",
    "tfidfv = tfidf_transformer.fit_transform(x_train_dtm)\n",
    "print(tfidfv.shape)\n",
    "x_test_dtm = dtmvector.transform(x_test)\n",
    "print(x_test_dtm.shape)\n",
    "test_tfidfv = tfidf_transformer.transform(x_test_dtm)\n",
    "print(test_tfidfv.shape)"
   ]
  },
  {
   "cell_type": "code",
   "execution_count": 78,
   "id": "valued-substitute",
   "metadata": {},
   "outputs": [
    {
     "name": "stdout",
     "output_type": "stream",
     "text": [
      "(2246, 8819)\n",
      "(2246, 8819)\n"
     ]
    }
   ],
   "source": []
  },
  {
   "cell_type": "code",
   "execution_count": 19,
   "id": "exotic-monaco",
   "metadata": {},
   "outputs": [],
   "source": [
    "from sklearn.naive_bayes import MultinomialNB #다항분포 나이브 베이즈 모델\n",
    "from sklearn.linear_model import LogisticRegression, SGDClassifier\n",
    "from sklearn.naive_bayes import ComplementNB\n",
    "from sklearn.tree import DecisionTreeClassifier\n",
    "from sklearn.ensemble import RandomForestClassifier\n",
    "from sklearn.ensemble import GradientBoostingClassifier\n",
    "from sklearn.ensemble import VotingClassifier\n",
    "from sklearn.svm import LinearSVC\n",
    "from sklearn.metrics import accuracy_score #정확도 계산"
   ]
  },
  {
   "cell_type": "code",
   "execution_count": 76,
   "id": "pursuant-exhaust",
   "metadata": {},
   "outputs": [
    {
     "name": "stdout",
     "output_type": "stream",
     "text": [
      "(8982,)\n"
     ]
    }
   ],
   "source": [
    "print(y_train.shape)"
   ]
  },
  {
   "cell_type": "code",
   "execution_count": 79,
   "id": "literary-roberts",
   "metadata": {},
   "outputs": [
    {
     "data": {
      "text/plain": [
       "MultinomialNB()"
      ]
     },
     "execution_count": 79,
     "metadata": {},
     "output_type": "execute_result"
    }
   ],
   "source": [
    "mod = MultinomialNB()\n",
    "mod.fit(tfidfv, y_train)"
   ]
  },
  {
   "cell_type": "code",
   "execution_count": 85,
   "id": "transparent-australia",
   "metadata": {},
   "outputs": [
    {
     "name": "stdout",
     "output_type": "stream",
     "text": [
      "정확도: 0.6567230632235085\n"
     ]
    }
   ],
   "source": [
    "predicted = mod.predict(test_tfidfv) #테스트 데이터에 대한 예측\n",
    "print(\"정확도:\", accuracy_score(y_test, predicted)) #예측값과 실제값 비교"
   ]
  },
  {
   "cell_type": "code",
   "execution_count": 22,
   "id": "alpha-badge",
   "metadata": {},
   "outputs": [
    {
     "data": {
      "image/png": "[encoded data removed]",
      "text/plain": [
       "<Figure size 432x288 with 1 Axes>"
      ]
     },
     "metadata": {
      "needs_background": "light"
     },
     "output_type": "display_data"
    }
   ],
   "source": [
    "plt.subplot(211)\n",
    "plt.rcParams[\"figure.figsize\"] = (10,10)\n",
    "plt.bar(mod.classes_, mod.predict_proba(tfidfv_test[3])[0])\n",
    "plt.xlim(-1, 21)\n",
    "plt.xticks(mod.classes_)\n",
    "plt.xlabel(\"Class\")\n",
    "plt.ylabel(\"Probability\")\n",
    "plt.show()"
   ]
  },
  {
   "cell_type": "code",
   "execution_count": 23,
   "id": "expanded-giant",
   "metadata": {},
   "outputs": [
    {
     "data": {
      "text/plain": [
       "array([4])"
      ]
     },
     "execution_count": 23,
     "metadata": {},
     "output_type": "execute_result"
    }
   ],
   "source": [
    "mod.predict(tfidfv_test[3])"
   ]
  },
  {
   "cell_type": "markdown",
   "id": "administrative-stereo",
   "metadata": {},
   "source": [
    "# 성능 분석 지표"
   ]
  },
  {
   "cell_type": "code",
   "execution_count": 24,
   "id": "literary-status",
   "metadata": {},
   "outputs": [],
   "source": [
    "from sklearn.metrics import classification_report\n",
    "from sklearn.metrics import confusion_matrix"
   ]
  },
  {
   "cell_type": "code",
   "execution_count": 25,
   "id": "finished-metro",
   "metadata": {},
   "outputs": [
    {
     "name": "stdout",
     "output_type": "stream",
     "text": [
      "              precision    recall  f1-score   support\n",
      "\n",
      "           0       0.00      0.00      0.00        12\n",
      "           1       0.62      0.69      0.65       105\n",
      "           2       0.00      0.00      0.00        20\n",
      "           3       0.81      0.90      0.85       813\n",
      "           4       0.51      0.96      0.67       474\n",
      "           5       0.00      0.00      0.00         5\n",
      "           6       0.00      0.00      0.00        14\n",
      "           7       0.00      0.00      0.00         3\n",
      "           8       0.00      0.00      0.00        38\n",
      "           9       1.00      0.08      0.15        25\n",
      "          10       0.00      0.00      0.00        30\n",
      "          11       0.66      0.63      0.64        83\n",
      "          12       0.00      0.00      0.00        13\n",
      "          13       1.00      0.03      0.05        37\n",
      "          14       0.00      0.00      0.00         2\n",
      "          15       0.00      0.00      0.00         9\n",
      "          16       0.69      0.56      0.61        99\n",
      "          17       0.00      0.00      0.00        12\n",
      "          18       0.00      0.00      0.00        20\n",
      "          19       0.60      0.78      0.68       133\n",
      "          20       1.00      0.04      0.08        70\n",
      "          21       0.00      0.00      0.00        27\n",
      "          22       0.00      0.00      0.00         7\n",
      "          23       0.00      0.00      0.00        12\n",
      "          24       0.00      0.00      0.00        19\n",
      "          25       1.00      0.03      0.06        31\n",
      "          26       0.00      0.00      0.00         8\n",
      "          27       0.00      0.00      0.00         4\n",
      "          28       0.00      0.00      0.00        10\n",
      "          29       0.00      0.00      0.00         4\n",
      "          30       0.00      0.00      0.00        12\n",
      "          31       0.00      0.00      0.00        13\n",
      "          32       0.00      0.00      0.00        10\n",
      "          33       0.00      0.00      0.00         5\n",
      "          34       0.00      0.00      0.00         7\n",
      "          35       0.00      0.00      0.00         6\n",
      "          36       0.00      0.00      0.00        11\n",
      "          37       0.00      0.00      0.00         2\n",
      "          38       0.00      0.00      0.00         3\n",
      "          39       0.00      0.00      0.00         5\n",
      "          40       0.00      0.00      0.00        10\n",
      "          41       0.00      0.00      0.00         8\n",
      "          42       0.00      0.00      0.00         3\n",
      "          43       0.00      0.00      0.00         6\n",
      "          44       0.00      0.00      0.00         5\n",
      "          45       0.00      0.00      0.00         1\n",
      "\n",
      "    accuracy                           0.66      2246\n",
      "   macro avg       0.17      0.10      0.10      2246\n",
      "weighted avg       0.59      0.66      0.58      2246\n",
      "\n"
     ]
    },
    {
     "name": "stderr",
     "output_type": "stream",
     "text": [
      "/home/aiffel-dj15/anaconda3/envs/aiffel/lib/python3.7/site-packages/sklearn/metrics/_classification.py:1245: UndefinedMetricWarning: Precision and F-score are ill-defined and being set to 0.0 in labels with no predicted samples. Use `zero_division` parameter to control this behavior.\n",
      "  _warn_prf(average, modifier, msg_start, len(result))\n",
      "/home/aiffel-dj15/anaconda3/envs/aiffel/lib/python3.7/site-packages/sklearn/metrics/_classification.py:1245: UndefinedMetricWarning: Precision and F-score are ill-defined and being set to 0.0 in labels with no predicted samples. Use `zero_division` parameter to control this behavior.\n",
      "  _warn_prf(average, modifier, msg_start, len(result))\n",
      "/home/aiffel-dj15/anaconda3/envs/aiffel/lib/python3.7/site-packages/sklearn/metrics/_classification.py:1245: UndefinedMetricWarning: Precision and F-score are ill-defined and being set to 0.0 in labels with no predicted samples. Use `zero_division` parameter to control this behavior.\n",
      "  _warn_prf(average, modifier, msg_start, len(result))\n"
     ]
    }
   ],
   "source": [
    "print(classification_report(y_test, mod.predict(tfidfv_test)))"
   ]
  },
  {
   "cell_type": "markdown",
   "id": "martial-operations",
   "metadata": {},
   "source": [
    "결과 아래의 세 지표는 다음과 같은 의미를 가진다.\n",
    "- macro: 단순평균\n",
    "- weighted: 각 클래스에 속하는 표본의 개수로 가중평균\n",
    "- accuracy: 정확도. 전체 학습 데이터의 개수에서 클래스를 정확하게 맞춘 개수의 비율."
   ]
  },
  {
   "cell_type": "markdown",
   "id": "global-jones",
   "metadata": {},
   "source": [
    "# 여러 모델 정의하기"
   ]
  },
  {
   "cell_type": "markdown",
   "id": "representative-enterprise",
   "metadata": {},
   "source": [
    "## Complement Naive Bayes Classifier(CNB)"
   ]
  },
  {
   "cell_type": "code",
   "execution_count": 26,
   "id": "grateful-applicant",
   "metadata": {},
   "outputs": [
    {
     "name": "stdout",
     "output_type": "stream",
     "text": [
      "정확도: 0.7707034728406055\n"
     ]
    }
   ],
   "source": [
    "cb = ComplementNB()\n",
    "cb.fit(tfidfv, y_train)\n",
    "predicted = cb.predict(tfidfv_test) #테스트 데이터에 대한 예측\n",
    "print(\"정확도:\", accuracy_score(y_test, predicted)) #예측값과 실제값 비교"
   ]
  },
  {
   "cell_type": "markdown",
   "id": "virtual-nomination",
   "metadata": {},
   "source": [
    "## 로지스틱 회귀(Logistic Regression)\n",
    "소프트맥스 함수(확률값을 구하는 함수)를 통해 다중 클래스의 라벨을 분류"
   ]
  },
  {
   "cell_type": "code",
   "execution_count": 27,
   "id": "incredible-exhibit",
   "metadata": {},
   "outputs": [
    {
     "name": "stdout",
     "output_type": "stream",
     "text": [
      "정확도: 0.8076580587711487\n"
     ]
    },
    {
     "name": "stderr",
     "output_type": "stream",
     "text": [
      "/home/aiffel-dj15/anaconda3/envs/aiffel/lib/python3.7/site-packages/sklearn/linear_model/_logistic.py:765: ConvergenceWarning: lbfgs failed to converge (status=1):\n",
      "STOP: TOTAL NO. of ITERATIONS REACHED LIMIT.\n",
      "\n",
      "Increase the number of iterations (max_iter) or scale the data as shown in:\n",
      "    https://scikit-learn.org/stable/modules/preprocessing.html\n",
      "Please also refer to the documentation for alternative solver options:\n",
      "    https://scikit-learn.org/stable/modules/linear_model.html#logistic-regression\n",
      "  extra_warning_msg=_LOGISTIC_SOLVER_CONVERGENCE_MSG)\n"
     ]
    }
   ],
   "source": [
    "lr = LogisticRegression(C=10000, penalty='l2')\n",
    "lr.fit(tfidfv, y_train)\n",
    "predicted = lr.predict(tfidfv_test) #테스트 데이터에 대한 예측\n",
    "print(\"정확도:\", accuracy_score(y_test, predicted)) #예측값과 실제값 비교"
   ]
  },
  {
   "cell_type": "markdown",
   "id": "parliamentary-alert",
   "metadata": {},
   "source": [
    "## SVD \n",
    "**SV는 Decision Boundary와 가까운 class들의 값들을 의미한다.**"
   ]
  },
  {
   "cell_type": "code",
   "execution_count": 28,
   "id": "golden-welsh",
   "metadata": {},
   "outputs": [
    {
     "name": "stderr",
     "output_type": "stream",
     "text": [
      "/home/aiffel-dj15/anaconda3/envs/aiffel/lib/python3.7/site-packages/sklearn/svm/_base.py:986: ConvergenceWarning: Liblinear failed to converge, increase the number of iterations.\n",
      "  \"the number of iterations.\", ConvergenceWarning)\n"
     ]
    },
    {
     "data": {
      "text/plain": [
       "LinearSVC(C=1000, dual=False, max_iter=500, penalty='l1')"
      ]
     },
     "execution_count": 28,
     "metadata": {},
     "output_type": "execute_result"
    }
   ],
   "source": [
    "lsvc = LinearSVC(C=1000, penalty='l1', max_iter=500, dual=False)\n",
    "lsvc.fit(tfidfv, y_train)\n"
   ]
  },
  {
   "cell_type": "code",
   "execution_count": 29,
   "id": "posted-mumbai",
   "metadata": {},
   "outputs": [
    {
     "name": "stdout",
     "output_type": "stream",
     "text": [
      "정확도: 0.782279608192342\n"
     ]
    }
   ],
   "source": [
    "predicted = lsvc.predict(tfidfv_test) #테스트 데이터에 대한 예측\n",
    "print(\"정확도:\", accuracy_score(y_test, predicted)) #예측값과 실제값 비교"
   ]
  },
  {
   "cell_type": "markdown",
   "id": "severe-killer",
   "metadata": {},
   "source": [
    "## 트리 기반 & 앙상블"
   ]
  },
  {
   "cell_type": "markdown",
   "id": "secure-likelihood",
   "metadata": {},
   "source": [
    "### 결정 트리\n",
    "`지금까지의 모델 중 가장 낮은 정확도인 62%를 얻습니다. 사실 트리 계열의 모델들은 고차원이고 희소한 데이터에 대해서는 성능이 나오지 않는다는 특징이 있습니다. DTM이나 TF-IDF 행렬의 경우 고차원이면서 대부분의 값이 0인 희소한 데이터이므로 트리 계열의 모델보다는 선형 분류 모델을 통해 접근하는 것이 더 나은 접근일 수 있습니다.`"
   ]
  },
  {
   "cell_type": "code",
   "execution_count": 30,
   "id": "precise-employer",
   "metadata": {},
   "outputs": [
    {
     "name": "stdout",
     "output_type": "stream",
     "text": [
      "정확도: 0.6202137132680321\n"
     ]
    }
   ],
   "source": [
    "tree = DecisionTreeClassifier(max_depth=10, random_state=0)\n",
    "tree.fit(tfidfv, y_train)\n",
    "predicted = tree.predict(tfidfv_test) #테스트 데이터에 대한 예측\n",
    "print(\"정확도:\", accuracy_score(y_test, predicted)) #예측값과 실제값 비교"
   ]
  },
  {
   "cell_type": "markdown",
   "id": "forty-antique",
   "metadata": {},
   "source": [
    "### 앙상블"
   ]
  },
  {
   "cell_type": "markdown",
   "id": "naked-conditioning",
   "metadata": {},
   "source": [
    "#### 렌덤 포레스트\n",
    "결정 트리의 과적합 문제를 해결. 한꺼번에 여러 트리를 학습시키고 이 중 가장 좋은 값을 꼽는다. "
   ]
  },
  {
   "cell_type": "code",
   "execution_count": 31,
   "id": "renewable-mouth",
   "metadata": {},
   "outputs": [
    {
     "name": "stdout",
     "output_type": "stream",
     "text": [
      "정확도: 0.674087266251113\n"
     ]
    }
   ],
   "source": [
    "forest = RandomForestClassifier(n_estimators=5, random_state=0)\n",
    "forest.fit(tfidfv, y_train)\n",
    "predicted = forest.predict(tfidfv_test) #테스트 데이터에 대한 예측\n",
    "print(\"정확도:\", accuracy_score(y_test, predicted)) #예측값과 실제값 비교"
   ]
  },
  {
   "cell_type": "markdown",
   "id": "instant-coach",
   "metadata": {},
   "source": [
    "#### 그래디언트 부스팅 트리(GradientBoostingClassifier)\n",
    "렌덤 포레스트와 다른 점은, 한 트리를 학습시키고 난 후 그 오차를 다음 트리에 반영해서 오차를 줄여나간다는 것이다.\n",
    "특징은 다음과 같다.\n",
    "- 일부 특성 무시\n",
    "- 깊이가 그렇게 깊지 않음(1-5) => 메모리 적게 사용\n",
    "- 트리 기반이기 때문에 희소 데이터 학습에서 성능을 내지 못함\n",
    "- 학습 시 순차적으로 하기 때문에 학습 시간은 오래 걸리나, 빠른 예측 가능"
   ]
  },
  {
   "cell_type": "code",
   "execution_count": 32,
   "id": "sound-luxury",
   "metadata": {},
   "outputs": [
    {
     "name": "stdout",
     "output_type": "stream",
     "text": [
      "정확도: 0.7666963490650045\n"
     ]
    }
   ],
   "source": [
    "grbt = GradientBoostingClassifier(random_state=0) # verbose=3\n",
    "grbt.fit(tfidfv, y_train)\n",
    "predicted = grbt.predict(tfidfv_test) #테스트 데이터에 대한 예측\n",
    "print(\"정확도:\", accuracy_score(y_test, predicted)) #예측값과 실제값 비교"
   ]
  },
  {
   "cell_type": "markdown",
   "id": "serious-coordinator",
   "metadata": {},
   "source": [
    "#### Voting\n",
    "소프트 보팅과 하드 보팅이 있다. \n",
    "하드 보팅은 결과물에 대한 최종 예측값을 투표로 결정한다. 소프트 보팅은 최종 결과물이 나올 `확률값`을 다 더해서 최종 결과물에 대한 각각의 확률을 구한 뒤 최종값을 도출한다. "
   ]
  },
  {
   "cell_type": "code",
   "execution_count": 33,
   "id": "floral-receiver",
   "metadata": {},
   "outputs": [
    {
     "name": "stdout",
     "output_type": "stream",
     "text": [
      "정확도: 0.8116651825467498\n"
     ]
    }
   ],
   "source": [
    "voting_classifier = VotingClassifier(estimators=[\n",
    "         ('lr', LogisticRegression(C=10000, penalty='l2')),\n",
    "        ('cb', ComplementNB()),\n",
    "        ('grbt', GradientBoostingClassifier(random_state=0))\n",
    "], voting='soft', n_jobs=-1)\n",
    "voting_classifier.fit(tfidfv, y_train)\n",
    "predicted = voting_classifier.predict(tfidfv_test) #테스트 데이터에 대한 예측\n",
    "print(\"정확도:\", accuracy_score(y_test, predicted)) #예측값과 실제값 비교"
   ]
  },
  {
   "cell_type": "markdown",
   "id": "competitive-excellence",
   "metadata": {},
   "source": [
    "# 모델 준비하기"
   ]
  },
  {
   "cell_type": "markdown",
   "id": "lovely-traveler",
   "metadata": {},
   "source": [
    "## 단어장 세 개 준비하기"
   ]
  },
  {
   "cell_type": "code",
   "execution_count": 34,
   "id": "spiritual-fifty",
   "metadata": {},
   "outputs": [
    {
     "name": "stderr",
     "output_type": "stream",
     "text": [
      "/home/aiffel-dj15/anaconda3/envs/aiffel/lib/python3.7/site-packages/tensorflow/python/keras/datasets/reuters.py:148: VisibleDeprecationWarning: Creating an ndarray from ragged nested sequences (which is a list-or-tuple of lists-or-tuples-or ndarrays with different lengths or shapes) is deprecated. If you meant to do this, you must specify 'dtype=object' when creating the ndarray\n",
      "  x_train, y_train = np.array(xs[:idx]), np.array(labels[:idx])\n",
      "/home/aiffel-dj15/anaconda3/envs/aiffel/lib/python3.7/site-packages/tensorflow/python/keras/datasets/reuters.py:149: VisibleDeprecationWarning: Creating an ndarray from ragged nested sequences (which is a list-or-tuple of lists-or-tuples-or ndarrays with different lengths or shapes) is deprecated. If you meant to do this, you must specify 'dtype=object' when creating the ndarray\n",
      "  x_test, y_test = np.array(xs[idx:]), np.array(labels[idx:])\n"
     ]
    }
   ],
   "source": [
    "(x_train, y_train), (x_test, y_test) = reuters.load_data(num_words=10000, test_split=0.2)\n",
    "(x_train_voc_all, y_train_voc_all), (x_test_voc_all, y_test_voc_all) = reuters.load_data(test_split=0.2)\n",
    "(x_train_voc_half, y_train_voc_half), (x_test_voc_half, y_test_voc_half) = reuters.load_data(num_words=5000, test_split=0.2)"
   ]
  },
  {
   "cell_type": "code",
   "execution_count": 35,
   "id": "discrete-health",
   "metadata": {},
   "outputs": [],
   "source": [
    "(x_train_voc_double, y_train_voc_double), (x_test_voc_double, y_test_voc_double) = reuters.load_data(num_words=20000, test_split=0.2)"
   ]
  },
  {
   "cell_type": "markdown",
   "id": "stunning-bunny",
   "metadata": {},
   "source": [
    "## 모델 준비하기"
   ]
  },
  {
   "cell_type": "code",
   "execution_count": 86,
   "id": "altered-alignment",
   "metadata": {},
   "outputs": [],
   "source": [
    "def vectorize_doc(data, test) :\n",
    "    dtmvector = CountVectorizer()\n",
    "    data_dtm = dtmvector.fit_transform(data)\n",
    "    print(data_dtm.shape)\n",
    "    tfidf_transformer = TfidfTransformer()\n",
    "    tfidfv = tfidf_transformer.fit_transform(data_dtm)\n",
    "    print(tfidfv.shape)\n",
    "    \n",
    "    test_dtm = dtmvector.transform(test)\n",
    "    print(test_dtm.shape)\n",
    "    test_tfidfv = tfidf_transformer.transform(test_dtm)\n",
    "    print(test_tfidfv.shape)\n",
    "    return tfidfv, test_tfidfv"
   ]
  },
  {
   "cell_type": "code",
   "execution_count": 124,
   "id": "tender-ministry",
   "metadata": {},
   "outputs": [],
   "source": [
    "# 함수의 인자는 반드시 벡터화가 되어있는 상태여야 한다. \n",
    "def NB_model(train_data, train_label, test_data, test_label) :\n",
    "    mod = MultinomialNB()\n",
    "    mod.fit(train_data, train_label)\n",
    "    predicted = mod.predict(test_data) #테스트 데이터에 대한 예측\n",
    "    print(\"Naive Bayes 정확도:\", accuracy_score(test_label, predicted)) #예측값과 실제값 비교\n",
    "    print(\"confusion matrix\")\n",
    "    cm = confusion_matrix(test_label, predicted)\n",
    "    print(cm)\n",
    "    return predicted"
   ]
  },
  {
   "cell_type": "code",
   "execution_count": 125,
   "id": "injured-vanilla",
   "metadata": {},
   "outputs": [],
   "source": [
    "def CB_model(train_data, train_label, test_data, test_label) :\n",
    "    cb = ComplementNB()\n",
    "    cb.fit(train_data, train_label)\n",
    "    predicted = cb.predict(test_data) #테스트 데이터에 대한 예측\n",
    "    print(\"Complement NB 정확도:\", accuracy_score(test_label, predicted)) #예측값과 실제값 비교\n",
    "    print(\"confusion matrix\")\n",
    "    cm = confusion_matrix(test_label, predicted)\n",
    "    print(cm)\n",
    "    return predicted"
   ]
  },
  {
   "cell_type": "code",
   "execution_count": 126,
   "id": "consolidated-heath",
   "metadata": {},
   "outputs": [],
   "source": [
    "def LR_model(train_data, train_label, test_data, test_label) :\n",
    "    lr = LogisticRegression(C=10000, penalty='l2')\n",
    "    lr.fit(train_data, train_label)\n",
    "    predicted = lr.predict(test_data) #테스트 데이터에 대한 예측\n",
    "    print(\"Logistic Regression 정확도:\", accuracy_score(test_label, predicted)) #예측값과 실제값 비교\n",
    "    print(\"confusion matrix\")\n",
    "    cm = confusion_matrix(test_label, predicted)\n",
    "    return predicted"
   ]
  },
  {
   "cell_type": "code",
   "execution_count": 127,
   "id": "structured-cement",
   "metadata": {},
   "outputs": [],
   "source": [
    "def SVD_model(train_data, train_label, test_data, test_label) :\n",
    "    lsvc = LinearSVC(C=1000, penalty='l1', max_iter=500, dual=False)\n",
    "    lsvc.fit(train_data, train_label)\n",
    "    predicted = lsvc.predict(test_data) #테스트 데이터에 대한 예측\n",
    "    print(\"SVD 정확도:\", accuracy_score(test_label, predicted)) #예측값과 실제값 비교\n",
    "    print(\"confusion matrix\")\n",
    "    cm = confusion_matrix(test_label, predicted)\n",
    "    return predicted"
   ]
  },
  {
   "cell_type": "code",
   "execution_count": 128,
   "id": "unable-nursing",
   "metadata": {},
   "outputs": [],
   "source": [
    "def DT_model(train_data, train_label, test_data, test_label) :\n",
    "    tree = DecisionTreeClassifier(max_depth=10, random_state=0)\n",
    "    tree.fit(train_data, train_label)\n",
    "    predicted = tree.predict(test_data) #테스트 데이터에 대한 예측\n",
    "    print(\"결정 트리 정확도:\", accuracy_score(test_label, predicted)) #예측값과 실제값 비교\n",
    "    print(\"confusion matrix\")\n",
    "    cm = confusion_matrix(test_label, predicted)\n",
    "    return predicted"
   ]
  },
  {
   "cell_type": "code",
   "execution_count": 129,
   "id": "sacred-intention",
   "metadata": {},
   "outputs": [],
   "source": [
    "def RF_model(train_data, train_label, test_data, test_label) :\n",
    "    forest = RandomForestClassifier(n_estimators=5, random_state=0)\n",
    "    forest.fit(train_data, train_label)\n",
    "    predicted = forest.predict(test_data) #테스트 데이터에 대한 예측\n",
    "    print(\"Random Forest 정확도:\", accuracy_score(test_label, predicted)) #예측값과 실제값 비교\n",
    "    print(\"confusion matrix\")\n",
    "    cm = confusion_matrix(test_label, predicted)\n",
    "    return predicted"
   ]
  },
  {
   "cell_type": "code",
   "execution_count": 130,
   "id": "reflected-haiti",
   "metadata": {},
   "outputs": [],
   "source": [
    "def GB_model(train_data, train_label, test_data, test_label) :\n",
    "    grbt = GradientBoostingClassifier(random_state=0) # verbose=3\n",
    "    grbt.fit(train_data, train_label)\n",
    "    predicted = grbt.predict(test_data) #테스트 데이터에 대한 예측\n",
    "    print(\"GradientBoosting Tree 정확도:\", accuracy_score(test_label, predicted)) #예측값과 실제값 비교\n",
    "    print(\"confusion matrix\")\n",
    "    cm = confusion_matrix(test_label, predicted)\n",
    "    return predicted"
   ]
  },
  {
   "cell_type": "code",
   "execution_count": 131,
   "id": "elect-consideration",
   "metadata": {},
   "outputs": [],
   "source": [
    "def Voting_model(train_data, train_label, test_data, test_label) :\n",
    "    voting_classifier = VotingClassifier(estimators=[\n",
    "         ('lr', LogisticRegression(C=10000, penalty='l2')),\n",
    "        ('cb', ComplementNB()),\n",
    "        ('grbt', GradientBoostingClassifier(random_state=0))\n",
    "        ], voting='soft', n_jobs=-1)\n",
    "    voting_classifier.fit(train_data, train_label)\n",
    "    predicted = voting_classifier.predict(test_data) #테스트 데이터에 대한 예측\n",
    "    print(\"Voting 정확도:\", accuracy_score(test_label, predicted)) #예측값과 실제값 비교\n",
    "    print(\"confusion matrix\")\n",
    "    cm = confusion_matrix(test_label, predicted)\n",
    "    return predicted"
   ]
  },
  {
   "cell_type": "code",
   "execution_count": 132,
   "id": "pediatric-sixth",
   "metadata": {},
   "outputs": [],
   "source": [
    "def learning_model(train_data, train_label, test_data, test_label) : \n",
    "    predicted_results = []\n",
    "    rs = NB_model(train_data, train_label, test_data, test_label)\n",
    "    predicted_results.append(rs)\n",
    "    rs = CB_model(train_data, train_label, test_data, test_label)\n",
    "    predicted_results.append(rs)\n",
    "    rs = LR_model(train_data, train_label, test_data, test_label)\n",
    "    predicted_results.append(rs)\n",
    "    rs = SVD_model(train_data, train_label, test_data, test_label)\n",
    "    predicted_results.append(rs)\n",
    "    rs = DT_model(train_data, train_label, test_data, test_label)\n",
    "    predicted_results.append(rs)\n",
    "    rs = RF_model(train_data, train_label, test_data, test_label)\n",
    "    predicted_results.append(rs)\n",
    "    rs = GB_model(train_data, train_label, test_data, test_label)\n",
    "    predicted_results.append(rs)\n",
    "    rs = Voting_model(train_data, train_label, test_data, test_label)\n",
    "    predicted_results.append(rs)\n",
    "    return predicted_results"
   ]
  },
  {
   "cell_type": "code",
   "execution_count": null,
   "id": "dominant-ozone",
   "metadata": {},
   "outputs": [],
   "source": [
    "(x_train_voc_all, y_train_voc_all), (x_test_voc_all, y_test_voc_all) \n",
    "(x_train_voc_half, y_train_voc_half), (x_test_voc_half, y_test_voc_half)\n",
    "(x_train_voc_double, y_train_voc_double), (x_test_voc_double, y_test_voc_double)"
   ]
  },
  {
   "cell_type": "code",
   "execution_count": 62,
   "id": "concerned-aircraft",
   "metadata": {},
   "outputs": [],
   "source": [
    "train_data_list = [x_train_voc_half, x_train_voc_double, x_train_voc_all]\n",
    "train_label_list = [y_train_voc_half, y_train_voc_double, y_train_voc_all]  \n",
    "test_data_list = [x_test_voc_half, x_test_voc_double, x_test_voc_all]\n",
    "test_label_list = [y_test_voc_half, y_test_voc_double, y_test_voc_all]  "
   ]
  },
  {
   "cell_type": "code",
   "execution_count": 52,
   "id": "passing-ceremony",
   "metadata": {},
   "outputs": [
    {
     "data": {
      "text/plain": [
       "array([list([1, 2, 2, 8, 43, 10, 447, 5, 25, 207, 270, 5, 3095, 111, 16, 369, 186, 90, 67, 7, 89, 5, 19, 102, 6, 19, 124, 15, 90, 67, 84, 22, 482, 26, 7, 48, 4, 49, 8, 864, 39, 209, 154, 6, 151, 6, 83, 11, 15, 22, 155, 11, 15, 7, 48, 9, 4579, 1005, 504, 6, 258, 6, 272, 11, 15, 22, 134, 44, 11, 15, 16, 8, 197, 1245, 90, 67, 52, 29, 209, 30, 32, 132, 6, 109, 15, 17, 12]),\n",
       "       list([1, 3267, 699, 3434, 2295, 56, 16784, 7511, 9, 56, 3906, 1073, 81, 5, 1198, 57, 366, 737, 132, 20, 4093, 7, 19261, 49, 2295, 13415, 1037, 3267, 699, 3434, 8, 7, 10, 241, 16, 855, 129, 231, 783, 5, 4, 587, 2295, 13415, 2, 775, 7, 48, 34, 191, 44, 35, 1795, 505, 17, 12]),\n",
       "       list([1, 53, 12, 284, 15, 14, 272, 26, 53, 959, 32, 818, 15, 14, 272, 26, 39, 684, 70, 11, 14, 12, 3886, 18, 180, 183, 187, 70, 11, 14, 102, 32, 11, 29, 53, 44, 704, 15, 14, 19, 758, 15, 53, 959, 47, 1013, 15, 14, 19, 132, 15, 39, 965, 32, 11, 14, 147, 72, 11, 180, 183, 187, 44, 11, 14, 102, 19, 11, 123, 186, 90, 67, 960, 4, 78, 13, 68, 467, 511, 110, 59, 89, 90, 67, 1390, 55, 2678, 92, 617, 80, 1274, 46, 905, 220, 13, 4, 346, 48, 235, 629, 5, 211, 5, 1118, 7, 11733, 81, 5, 187, 11, 15, 9, 1709, 201, 5, 47, 3615, 18, 478, 4514, 5, 1118, 7, 232, 13051, 71, 5, 160, 63, 11, 9, 2, 81, 5, 102, 59, 11, 17, 12]),\n",
       "       ...,\n",
       "       list([1, 141, 3890, 387, 81, 8, 16, 1629, 10, 340, 1241, 850, 31, 56, 3890, 691, 9, 1241, 71, 9, 5985, 16338, 19170, 699, 19886, 13441, 18064, 699, 244, 5945, 4, 49, 8, 4, 656, 850, 33, 2993, 9, 2139, 340, 3371, 1493, 9, 17870, 22, 16964, 1094, 687, 83, 35, 15, 257, 6, 57, 9190, 7, 4, 5956, 654, 5, 17822, 6191, 1371, 4, 49, 8, 16, 369, 646, 6, 1076, 7, 124, 407, 17, 12]),\n",
       "       list([1, 53, 46, 957, 26, 14, 74, 132, 26, 39, 46, 258, 3614, 18, 14, 74, 134, 5131, 18, 88, 2321, 72, 11, 14, 1842, 32, 11, 123, 383, 89, 39, 46, 235, 10, 864, 728, 5, 258, 44, 11, 15, 22, 753, 9, 42, 92, 131, 728, 5, 69, 312, 11, 15, 22, 222, 10964, 3237, 383, 48, 39, 74, 235, 10, 864, 276, 5, 61, 32, 11, 15, 21, 4, 211, 5, 126, 1072, 42, 92, 131, 46, 19, 352, 11, 15, 22, 710, 220, 9, 42, 92, 131, 276, 5, 59, 61, 11, 15, 22, 10, 455, 7, 1172, 137, 336, 1325, 6, 1532, 142, 971, 6463, 43, 359, 5, 4, 326, 753, 364, 17, 12]),\n",
       "       list([1, 227, 2406, 91, 2, 125, 2855, 21, 4, 3976, 76, 7, 4, 757, 481, 3976, 790, 5259, 5654, 9, 111, 149, 8, 7, 10, 76, 223, 51, 4, 417, 8, 1047, 91, 6917, 1688, 340, 7, 194, 9411, 6, 1894, 21, 127, 2151, 2394, 1456, 6, 3034, 4, 329, 433, 7, 65, 87, 1127, 10, 8219, 1475, 290, 9, 21, 567, 16, 1926, 24, 4, 76, 209, 30, 4033, 6655, 5654, 8, 4, 60, 8, 4, 966, 308, 40, 2575, 129, 15562, 295, 277, 1071, 9, 24, 286, 2114, 234, 222, 9, 4, 906, 3994, 8519, 114, 5758, 1752, 7, 4, 113, 17, 12])],\n",
       "      dtype=object)"
      ]
     },
     "execution_count": 52,
     "metadata": {},
     "output_type": "execute_result"
    }
   ],
   "source": [
    "train_data_list[1]"
   ]
  },
  {
   "cell_type": "markdown",
   "id": "burning-venue",
   "metadata": {},
   "source": [
    "text 데이터를 넣어줘야 한다. "
   ]
  },
  {
   "cell_type": "code",
   "execution_count": 53,
   "id": "unable-florida",
   "metadata": {},
   "outputs": [],
   "source": [
    "def decoded(data) :\n",
    "    decoded = []\n",
    "    for i in range(len(data)):\n",
    "        t = ' '.join([index_to_word[index] for index in data[i]])\n",
    "        decoded.append(t)\n",
    "    return decoded"
   ]
  },
  {
   "cell_type": "code",
   "execution_count": 54,
   "id": "special-essay",
   "metadata": {},
   "outputs": [],
   "source": [
    "train_data_list_t = []\n",
    "test_data_list_t = []\n",
    "for i in range(3) :\n",
    "    train_data_list_t.append(decoded(train_data_list[i]))\n",
    "    test_data_list_t.append(decoded(test_data_list[i]))\n"
   ]
  },
  {
   "cell_type": "code",
   "execution_count": 90,
   "id": "complicated-cycle",
   "metadata": {},
   "outputs": [
    {
     "name": "stdout",
     "output_type": "stream",
     "text": [
      "(8982, 4867)\n",
      "(8982, 4867)\n",
      "(2246, 4867)\n",
      "(2246, 4867)\n",
      "(8982, 18479)\n",
      "(8982, 18479)\n",
      "(2246, 18479)\n",
      "(2246, 18479)\n",
      "(8982, 26506)\n",
      "(8982, 26506)\n",
      "(2246, 26506)\n",
      "(2246, 26506)\n"
     ]
    }
   ],
   "source": [
    "train_data_list_v = []\n",
    "test_data_list_v = []\n",
    "for i in range(3) :\n",
    "    train, test = vectorize_doc(train_data_list_t[i], test_data_list_t[i])\n",
    "    train_data_list_v.append(train)\n",
    "    test_data_list_v.append(test)    "
   ]
  },
  {
   "cell_type": "code",
   "execution_count": 102,
   "id": "continued-public",
   "metadata": {},
   "outputs": [
    {
     "name": "stdout",
     "output_type": "stream",
     "text": [
      "half\n",
      "Naive Bayes 정확도: 0.6731967943009796\n",
      "Complement NB 정확도: 0.7707034728406055\n"
     ]
    },
    {
     "name": "stderr",
     "output_type": "stream",
     "text": [
      "/home/aiffel-dj15/anaconda3/envs/aiffel/lib/python3.7/site-packages/sklearn/linear_model/_logistic.py:765: ConvergenceWarning: lbfgs failed to converge (status=1):\n",
      "STOP: TOTAL NO. of ITERATIONS REACHED LIMIT.\n",
      "\n",
      "Increase the number of iterations (max_iter) or scale the data as shown in:\n",
      "    https://scikit-learn.org/stable/modules/preprocessing.html\n",
      "Please also refer to the documentation for alternative solver options:\n",
      "    https://scikit-learn.org/stable/modules/linear_model.html#logistic-regression\n",
      "  extra_warning_msg=_LOGISTIC_SOLVER_CONVERGENCE_MSG)\n"
     ]
    },
    {
     "name": "stdout",
     "output_type": "stream",
     "text": [
      "Logistic Regression 정확도: 0.8058771148708815\n"
     ]
    },
    {
     "name": "stderr",
     "output_type": "stream",
     "text": [
      "/home/aiffel-dj15/anaconda3/envs/aiffel/lib/python3.7/site-packages/sklearn/svm/_base.py:986: ConvergenceWarning: Liblinear failed to converge, increase the number of iterations.\n",
      "  \"the number of iterations.\", ConvergenceWarning)\n"
     ]
    },
    {
     "name": "stdout",
     "output_type": "stream",
     "text": [
      "SVD 정확도: 0.7600178094390027\n",
      "결정 트리 정확도: 0.6179875333926982\n",
      "Random Forest 정확도: 0.701246660730187\n",
      "GradientBoosting Tree 정확도: 0.767586821015138\n",
      "Voting 정확도: 0.8161175422974176\n",
      "double\n",
      "Naive Bayes 정확도: 0.6193232413178985\n",
      "Complement NB 정확도: 0.7671415850400712\n"
     ]
    },
    {
     "name": "stderr",
     "output_type": "stream",
     "text": [
      "/home/aiffel-dj15/anaconda3/envs/aiffel/lib/python3.7/site-packages/sklearn/linear_model/_logistic.py:765: ConvergenceWarning: lbfgs failed to converge (status=1):\n",
      "STOP: TOTAL NO. of ITERATIONS REACHED LIMIT.\n",
      "\n",
      "Increase the number of iterations (max_iter) or scale the data as shown in:\n",
      "    https://scikit-learn.org/stable/modules/preprocessing.html\n",
      "Please also refer to the documentation for alternative solver options:\n",
      "    https://scikit-learn.org/stable/modules/linear_model.html#logistic-regression\n",
      "  extra_warning_msg=_LOGISTIC_SOLVER_CONVERGENCE_MSG)\n"
     ]
    },
    {
     "name": "stdout",
     "output_type": "stream",
     "text": [
      "Logistic Regression 정확도: 0.8098842386464826\n"
     ]
    },
    {
     "name": "stderr",
     "output_type": "stream",
     "text": [
      "/home/aiffel-dj15/anaconda3/envs/aiffel/lib/python3.7/site-packages/sklearn/svm/_base.py:986: ConvergenceWarning: Liblinear failed to converge, increase the number of iterations.\n",
      "  \"the number of iterations.\", ConvergenceWarning)\n"
     ]
    },
    {
     "name": "stdout",
     "output_type": "stream",
     "text": [
      "SVD 정확도: 0.7796081923419412\n",
      "결정 트리 정확도: 0.6211041852181657\n",
      "Random Forest 정확도: 0.6714158504007124\n",
      "GradientBoosting Tree 정확도: 0.769813000890472\n",
      "Voting 정확도: 0.8178984861976848\n",
      "all\n",
      "Naive Bayes 정확도: 0.5997328584149599\n",
      "Complement NB 정확도: 0.7649154051647373\n"
     ]
    },
    {
     "name": "stderr",
     "output_type": "stream",
     "text": [
      "/home/aiffel-dj15/anaconda3/envs/aiffel/lib/python3.7/site-packages/sklearn/linear_model/_logistic.py:765: ConvergenceWarning: lbfgs failed to converge (status=1):\n",
      "STOP: TOTAL NO. of ITERATIONS REACHED LIMIT.\n",
      "\n",
      "Increase the number of iterations (max_iter) or scale the data as shown in:\n",
      "    https://scikit-learn.org/stable/modules/preprocessing.html\n",
      "Please also refer to the documentation for alternative solver options:\n",
      "    https://scikit-learn.org/stable/modules/linear_model.html#logistic-regression\n",
      "  extra_warning_msg=_LOGISTIC_SOLVER_CONVERGENCE_MSG)\n"
     ]
    },
    {
     "name": "stdout",
     "output_type": "stream",
     "text": [
      "Logistic Regression 정확도: 0.813446126447017\n"
     ]
    },
    {
     "name": "stderr",
     "output_type": "stream",
     "text": [
      "/home/aiffel-dj15/anaconda3/envs/aiffel/lib/python3.7/site-packages/sklearn/svm/_base.py:986: ConvergenceWarning: Liblinear failed to converge, increase the number of iterations.\n",
      "  \"the number of iterations.\", ConvergenceWarning)\n"
     ]
    },
    {
     "name": "stdout",
     "output_type": "stream",
     "text": [
      "SVD 정확도: 0.7778272484416741\n",
      "결정 트리 정확도: 0.6211041852181657\n",
      "Random Forest 정확도: 0.6544968833481746\n",
      "GradientBoosting Tree 정확도: 0.7702582368655387\n",
      "Voting 정확도: 0.8187889581478184\n"
     ]
    }
   ],
   "source": [
    "predicted_result = []\n",
    "print_label = ['half', 'double','all']\n",
    "for i in range(3) :\n",
    "    print(print_label[i])\n",
    "    predicted_result.append(learning_model(train_data_list_v[i], train_label_list[i], test_data_list_v[i], test_label_list[i]))"
   ]
  },
  {
   "cell_type": "code",
   "execution_count": 133,
   "id": "impaired-search",
   "metadata": {},
   "outputs": [],
   "source": [
    "predicted_result_tm = []\n",
    "for i in range(3) : \n",
    "    predicted_result_tm.append(predicted_result[i][0])"
   ]
  },
  {
   "cell_type": "code",
   "execution_count": 134,
   "id": "devoted-evaluation",
   "metadata": {},
   "outputs": [
    {
     "name": "stdout",
     "output_type": "stream",
     "text": [
      "[[array([3, 1, 1, ..., 3, 4, 1]), array([ 3, 10,  1, ...,  3,  4,  1]), array([ 3, 10,  1, ...,  3,  4, 24]), array([ 3, 10,  1, ...,  3,  4, 24]), array([ 3, 10,  4, ...,  3,  4,  4]), array([ 3, 10,  1, ...,  3,  4,  1]), array([ 3, 10,  1, ...,  3,  4, 24]), array([ 3, 10,  1, ...,  3,  4, 24])], [array([3, 4, 4, ..., 3, 4, 4]), array([ 3, 10,  1, ...,  3,  4,  1]), array([ 3, 10,  1, ...,  3,  4, 24]), array([ 3, 10,  1, ...,  3, 15, 24]), array([ 4, 10,  4, ...,  3,  4,  4]), array([ 3, 16,  1, ...,  3,  4,  1]), array([ 3, 10,  1, ...,  3, 15, 24]), array([ 3, 10,  1, ...,  3,  4, 24])], [array([3, 4, 4, ..., 3, 4, 4]), array([ 3, 10,  1, ...,  3,  4,  1]), array([ 3, 10,  1, ...,  3,  4, 24]), array([ 3, 10,  1, ...,  3,  1, 24]), array([27, 10,  4, ...,  3,  4,  4]), array([3, 6, 1, ..., 3, 3, 4]), array([ 3, 10,  1, ...,  3,  3, 24]), array([ 3, 10,  1, ...,  3,  4, 24])]]\n"
     ]
    }
   ],
   "source": [
    "print(predicted_result_tm)"
   ]
  },
  {
   "cell_type": "code",
   "execution_count": 174,
   "id": "designed-greenhouse",
   "metadata": {},
   "outputs": [
    {
     "name": "stdout",
     "output_type": "stream",
     "text": [
      "task 0\n",
      "Naive Bayes\n",
      "0.6012501291711391\n",
      "Complement NB\n",
      "0.6012501291711391\n",
      "Logistic Regression\n",
      "0.6012501291711391\n",
      "SVD\n",
      "0.6012501291711391\n",
      "결정 트리\n",
      "0.6012501291711391\n",
      "Random Forest\n",
      "0.6012501291711391\n",
      "GradientBoosting Tree\n",
      "0.6012501291711391\n",
      "Voting\n",
      "0.6012501291711391\n",
      "task 1\n",
      "Naive Bayes\n",
      "0.5315181088041159\n",
      "Complement NB\n",
      "0.5315181088041159\n",
      "Logistic Regression\n",
      "0.5315181088041159\n",
      "SVD\n",
      "0.5315181088041159\n",
      "결정 트리\n",
      "0.5315181088041159\n",
      "Random Forest\n",
      "0.5315181088041159\n",
      "GradientBoosting Tree\n",
      "0.5315181088041159\n",
      "Voting\n",
      "0.5315181088041159\n",
      "task 2\n",
      "Naive Bayes\n",
      "0.5045670886188423\n",
      "Complement NB\n",
      "0.5045670886188423\n",
      "Logistic Regression\n",
      "0.5045670886188423\n",
      "SVD\n",
      "0.5045670886188423\n",
      "결정 트리\n",
      "0.5045670886188423\n",
      "Random Forest\n",
      "0.5045670886188423\n",
      "GradientBoosting Tree\n",
      "0.5045670886188423\n",
      "Voting\n",
      "0.5045670886188423\n"
     ]
    }
   ],
   "source": [
    "from sklearn.metrics import f1_score, precision_score, recall_score, confusion_matrix\n",
    "from keras import backend as K\n",
    "from sklearn.metrics import f1_score\n",
    "label = [\"Naive Bayes\",\"Complement NB\",\"Logistic Regression\",\"SVD\",\"결정 트리\",\"Random Forest\",\"GradientBoosting Tree\",\"Voting\"]\n",
    "for i in range(3) :\n",
    "    print(f\"task {i}\")\n",
    "    for j in range(8) :\n",
    "        print(label[j])\n",
    "        print(f1_score(test_label_list[i],predicted_result_tm[i][0],average='weighted'))        "
   ]
  },
  {
   "cell_type": "code",
   "execution_count": null,
   "id": "victorian-central",
   "metadata": {},
   "outputs": [],
   "source": [
    "tfidfv\n",
    "\n",
    "tfidfv.array\n",
    "\n",
    "\n"
   ]
  },
  {
   "cell_type": "code",
   "execution_count": 204,
   "id": "vanilla-region",
   "metadata": {},
   "outputs": [
    {
     "data": {
      "text/plain": [
       "array([0., 0., 0., 1., 0., 0., 0., 0., 0., 0., 0., 0., 0., 0., 0., 0., 0.,\n",
       "       0., 0., 0., 0., 0., 0., 0., 0., 0., 0., 0., 0., 0., 0., 0., 0., 0.,\n",
       "       0., 0., 0., 0., 0., 0., 0., 0., 0., 0., 0., 0.], dtype=float32)"
      ]
     },
     "execution_count": 204,
     "metadata": {},
     "output_type": "execute_result"
    }
   ],
   "source": [
    "train_label_onehot = tf.keras.utils.to_categorical(train_label_list[0],46)\n",
    "train_label_onehot[0]"
   ]
  },
  {
   "cell_type": "code",
   "execution_count": 205,
   "id": "fifty-estimate",
   "metadata": {},
   "outputs": [],
   "source": [
    "import tensorflow as tf\n",
    "batch_size = 50\n",
    "\n",
    "tf_pipeline = tf.data.Dataset.from_tensor_slices((train_data_list_v[0].toarray(), train_label_onehot)).batch(batch_size)"
   ]
  },
  {
   "cell_type": "code",
   "execution_count": 177,
   "id": "aquatic-reducing",
   "metadata": {},
   "outputs": [],
   "source": [
    "from keras import backend as K\n",
    "\n",
    "def recall_m(y_true, y_pred):\n",
    "    true_positives = K.sum(K.round(K.clip(y_true * y_pred, 0, 1)))\n",
    "    possible_positives = K.sum(K.round(K.clip(y_true, 0, 1)))\n",
    "    recall = true_positives / (possible_positives + K.epsilon())\n",
    "    return recall\n",
    "\n",
    "def precision_m(y_true, y_pred):\n",
    "    true_positives = K.sum(K.round(K.clip(y_true * y_pred, 0, 1)))\n",
    "    predicted_positives = K.sum(K.round(K.clip(y_pred, 0, 1)))\n",
    "    precision = true_positives / (predicted_positives + K.epsilon())\n",
    "    return precision\n",
    "\n",
    "def f1_m(y_true, y_pred):\n",
    "    precision = precision_m(y_true, y_pred)\n",
    "    recall = recall_m(y_true, y_pred)\n",
    "    return 2*((precision*recall)/(precision+recall+K.epsilon()))"
   ]
  },
  {
   "cell_type": "code",
   "execution_count": 209,
   "id": "korean-session",
   "metadata": {},
   "outputs": [
    {
     "name": "stdout",
     "output_type": "stream",
     "text": [
      "Model: \"sequential_12\"\n",
      "_________________________________________________________________\n",
      "Layer (type)                 Output Shape              Param #   \n",
      "=================================================================\n",
      "dense_20 (Dense)             (None, 512)               2492416   \n",
      "_________________________________________________________________\n",
      "activation_18 (Activation)   (None, 512)               0         \n",
      "_________________________________________________________________\n",
      "dropout_9 (Dropout)          (None, 512)               0         \n",
      "_________________________________________________________________\n",
      "dense_21 (Dense)             (None, 46)                23598     \n",
      "_________________________________________________________________\n",
      "activation_19 (Activation)   (None, 46)                0         \n",
      "=================================================================\n",
      "Total params: 2,516,014\n",
      "Trainable params: 2,516,014\n",
      "Non-trainable params: 0\n",
      "_________________________________________________________________\n",
      "[]\n"
     ]
    }
   ],
   "source": [
    "from keras.models import Sequential\n",
    "from keras.layers import Dense, Dropout, Activation\n",
    "\n",
    "model = Sequential()\n",
    "\n",
    "model.add(Dense(512, input_shape=(4867,)))\n",
    "model.add(Activation('relu'))\n",
    "model.add(Dropout(0.5))\n",
    "model.add(Dense(46))\n",
    "model.add(Activation('softmax'))\n",
    "model.compile(loss='categorical_crossentropy', optimizer='adam', metrics=['accuracy',f1_m])\n",
    "model.summary()\n",
    "print(model.metrics_names)"
   ]
  },
  {
   "cell_type": "code",
   "execution_count": 194,
   "id": "independent-circular",
   "metadata": {},
   "outputs": [
    {
     "data": {
      "text/plain": [
       "<BatchDataset shapes: ((None, 4867), (None,)), types: (tf.float64, tf.int64)>"
      ]
     },
     "execution_count": 194,
     "metadata": {},
     "output_type": "execute_result"
    }
   ],
   "source": [
    "tf_pipeline"
   ]
  },
  {
   "cell_type": "code",
   "execution_count": 192,
   "id": "incident-transition",
   "metadata": {},
   "outputs": [
    {
     "data": {
      "text/plain": [
       "(8982, 4867)"
      ]
     },
     "execution_count": 192,
     "metadata": {},
     "output_type": "execute_result"
    }
   ],
   "source": [
    "train_data_list_v[0].toarray().shape"
   ]
  },
  {
   "cell_type": "code",
   "execution_count": 210,
   "id": "black-decade",
   "metadata": {},
   "outputs": [
    {
     "name": "stdout",
     "output_type": "stream",
     "text": [
      "Epoch 1/10\n",
      "180/180 - 1s - loss: 1.7909 - accuracy: 0.6246 - f1_m: 0.5053\n",
      "Epoch 2/10\n",
      "180/180 - 0s - loss: 0.9189 - accuracy: 0.7936 - f1_m: 0.7773\n",
      "Epoch 3/10\n",
      "180/180 - 0s - loss: 0.6396 - accuracy: 0.8559 - f1_m: 0.8386\n",
      "Epoch 4/10\n",
      "180/180 - 0s - loss: 0.4670 - accuracy: 0.8926 - f1_m: 0.8778\n",
      "Epoch 5/10\n",
      "180/180 - 0s - loss: 0.3549 - accuracy: 0.9176 - f1_m: 0.9063\n",
      "Epoch 6/10\n",
      "180/180 - 0s - loss: 0.2711 - accuracy: 0.9310 - f1_m: 0.9247\n",
      "Epoch 7/10\n",
      "180/180 - 0s - loss: 0.2166 - accuracy: 0.9402 - f1_m: 0.9359\n",
      "Epoch 8/10\n",
      "180/180 - 0s - loss: 0.1806 - accuracy: 0.9479 - f1_m: 0.9437\n",
      "Epoch 9/10\n",
      "180/180 - 0s - loss: 0.1571 - accuracy: 0.9510 - f1_m: 0.9491\n",
      "Epoch 10/10\n",
      "180/180 - 0s - loss: 0.1407 - accuracy: 0.9507 - f1_m: 0.9507\n"
     ]
    }
   ],
   "source": [
    "history = model.fit(tf_pipeline, epochs=10, verbose=2)"
   ]
  },
  {
   "cell_type": "code",
   "execution_count": null,
   "id": "regular-myanmar",
   "metadata": {},
   "outputs": [],
   "source": []
  }
 ],
 "metadata": {
  "kernelspec": {
   "display_name": "aiffel",
   "language": "python",
   "name": "aiffel"
  },
  "language_info": {
   "codemirror_mode": {
    "name": "ipython",
    "version": 3
   },
   "file_extension": ".py",
   "mimetype": "text/x-python",
   "name": "python",
   "nbconvert_exporter": "python",
   "pygments_lexer": "ipython3",
   "version": "3.7.10"
  }
 },
 "nbformat": 4,
 "nbformat_minor": 5
}
