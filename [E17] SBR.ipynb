{
 "cells": [
  {
   "cell_type": "code",
   "execution_count": 1,
   "id": "technological-despite",
   "metadata": {},
   "outputs": [],
   "source": [
    "import datetime as dt\n",
    "from pathlib import Path\n",
    "import os\n",
    "\n",
    "import numpy as np\n",
    "import pandas as pd\n",
    "import warnings\n",
    "warnings.filterwarnings('ignore')"
   ]
  },
  {
   "cell_type": "code",
   "execution_count": 2,
   "id": "funny-master",
   "metadata": {},
   "outputs": [],
   "source": [
    "data_path = Path(os.getenv('HOME')+'/aiffel/yoochoose-data/ml-1m') \n",
    "train_path = data_path / 'ratings.dat'\n",
    "from datetime import datetime \n",
    "def load_data(data_path: Path, nrows=None):\n",
    "    data = pd.read_csv(data_path, sep='::', header=None, usecols=[0, 1, 2, 3], dtype={0: np.int32, 1: np.int32, 2: np.int32}, nrows=nrows)\n",
    "    data.columns = ['UserId', 'ItemId', 'Rating', 'Time']\n",
    "    return data\n",
    "\n",
    "data = load_data(train_path, None)\n",
    "data.sort_values(['UserId', 'Time'], inplace=True)  # data를 id와 시간 순서로 정렬해줍니다.\n",
    "data['Time'] = data['Time'].apply(lambda x : datetime.fromtimestamp(x))"
   ]
  },
  {
   "cell_type": "markdown",
   "id": "featured-monitoring",
   "metadata": {},
   "source": [
    "먼저 rating 3 이하인 아이템을 제거한다. "
   ]
  },
  {
   "cell_type": "code",
   "execution_count": 3,
   "id": "fifty-quick",
   "metadata": {},
   "outputs": [
    {
     "data": {
      "text/html": [
       "<div>\n",
       "<style scoped>\n",
       "    .dataframe tbody tr th:only-of-type {\n",
       "        vertical-align: middle;\n",
       "    }\n",
       "\n",
       "    .dataframe tbody tr th {\n",
       "        vertical-align: top;\n",
       "    }\n",
       "\n",
       "    .dataframe thead th {\n",
       "        text-align: right;\n",
       "    }\n",
       "</style>\n",
       "<table border=\"1\" class=\"dataframe\">\n",
       "  <thead>\n",
       "    <tr style=\"text-align: right;\">\n",
       "      <th></th>\n",
       "      <th>UserId</th>\n",
       "      <th>ItemId</th>\n",
       "      <th>Rating</th>\n",
       "    </tr>\n",
       "  </thead>\n",
       "  <tbody>\n",
       "    <tr>\n",
       "      <th>count</th>\n",
       "      <td>575281.000000</td>\n",
       "      <td>575281.000000</td>\n",
       "      <td>575281.000000</td>\n",
       "    </tr>\n",
       "    <tr>\n",
       "      <th>mean</th>\n",
       "      <td>3038.114852</td>\n",
       "      <td>1817.587070</td>\n",
       "      <td>4.393390</td>\n",
       "    </tr>\n",
       "    <tr>\n",
       "      <th>std</th>\n",
       "      <td>1733.654125</td>\n",
       "      <td>1083.844338</td>\n",
       "      <td>0.488503</td>\n",
       "    </tr>\n",
       "    <tr>\n",
       "      <th>min</th>\n",
       "      <td>1.000000</td>\n",
       "      <td>1.000000</td>\n",
       "      <td>4.000000</td>\n",
       "    </tr>\n",
       "    <tr>\n",
       "      <th>25%</th>\n",
       "      <td>1533.000000</td>\n",
       "      <td>1022.000000</td>\n",
       "      <td>4.000000</td>\n",
       "    </tr>\n",
       "    <tr>\n",
       "      <th>50%</th>\n",
       "      <td>3080.000000</td>\n",
       "      <td>1648.000000</td>\n",
       "      <td>4.000000</td>\n",
       "    </tr>\n",
       "    <tr>\n",
       "      <th>75%</th>\n",
       "      <td>4505.000000</td>\n",
       "      <td>2750.000000</td>\n",
       "      <td>5.000000</td>\n",
       "    </tr>\n",
       "    <tr>\n",
       "      <th>max</th>\n",
       "      <td>6040.000000</td>\n",
       "      <td>3952.000000</td>\n",
       "      <td>5.000000</td>\n",
       "    </tr>\n",
       "  </tbody>\n",
       "</table>\n",
       "</div>"
      ],
      "text/plain": [
       "              UserId         ItemId         Rating\n",
       "count  575281.000000  575281.000000  575281.000000\n",
       "mean     3038.114852    1817.587070       4.393390\n",
       "std      1733.654125    1083.844338       0.488503\n",
       "min         1.000000       1.000000       4.000000\n",
       "25%      1533.000000    1022.000000       4.000000\n",
       "50%      3080.000000    1648.000000       4.000000\n",
       "75%      4505.000000    2750.000000       5.000000\n",
       "max      6040.000000    3952.000000       5.000000"
      ]
     },
     "execution_count": 3,
     "metadata": {},
     "output_type": "execute_result"
    }
   ],
   "source": [
    "data = data[data['Rating'] > 3]\n",
    "data.describe()"
   ]
  },
  {
   "cell_type": "markdown",
   "id": "smart-questionnaire",
   "metadata": {},
   "source": [
    "그리고 ItemId의 분포를 보고 적게 추천된 영화는 제외한다. "
   ]
  },
  {
   "cell_type": "code",
   "execution_count": 4,
   "id": "political-circus",
   "metadata": {},
   "outputs": [
    {
     "data": {
      "text/plain": [
       "count    3533.000000\n",
       "mean      162.830739\n",
       "std       285.798512\n",
       "min         1.000000\n",
       "25%        13.000000\n",
       "50%        49.000000\n",
       "75%       183.000000\n",
       "max      2853.000000\n",
       "dtype: float64"
      ]
     },
     "execution_count": 4,
     "metadata": {},
     "output_type": "execute_result"
    }
   ],
   "source": [
    "data.groupby('ItemId').size().describe()"
   ]
  },
  {
   "cell_type": "markdown",
   "id": "satellite-louis",
   "metadata": {},
   "source": [
    "13번 이하로 추천된 영화는 일단 지운다. "
   ]
  },
  {
   "cell_type": "code",
   "execution_count": 5,
   "id": "nonprofit-motel",
   "metadata": {},
   "outputs": [],
   "source": [
    "#print()\n",
    "#data[data]\n",
    "maniac_item = data.groupby('ItemId').size().apply(lambda x : x <= 13)\n",
    "\n",
    "result = data.groupby('ItemId').size()[maniac_item]\n",
    "result = result.index.tolist()\n",
    "#data = data[data['ItemId'][maniac_item]]"
   ]
  },
  {
   "cell_type": "code",
   "execution_count": 6,
   "id": "combined-candy",
   "metadata": {},
   "outputs": [
    {
     "data": {
      "text/html": [
       "<div>\n",
       "<style scoped>\n",
       "    .dataframe tbody tr th:only-of-type {\n",
       "        vertical-align: middle;\n",
       "    }\n",
       "\n",
       "    .dataframe tbody tr th {\n",
       "        vertical-align: top;\n",
       "    }\n",
       "\n",
       "    .dataframe thead th {\n",
       "        text-align: right;\n",
       "    }\n",
       "</style>\n",
       "<table border=\"1\" class=\"dataframe\">\n",
       "  <thead>\n",
       "    <tr style=\"text-align: right;\">\n",
       "      <th></th>\n",
       "      <th>UserId</th>\n",
       "      <th>ItemId</th>\n",
       "      <th>Rating</th>\n",
       "      <th>Time</th>\n",
       "    </tr>\n",
       "  </thead>\n",
       "  <tbody>\n",
       "    <tr>\n",
       "      <th>31</th>\n",
       "      <td>1</td>\n",
       "      <td>3186</td>\n",
       "      <td>4</td>\n",
       "      <td>2001-01-01 07:00:19</td>\n",
       "    </tr>\n",
       "    <tr>\n",
       "      <th>22</th>\n",
       "      <td>1</td>\n",
       "      <td>1270</td>\n",
       "      <td>5</td>\n",
       "      <td>2001-01-01 07:00:55</td>\n",
       "    </tr>\n",
       "    <tr>\n",
       "      <th>27</th>\n",
       "      <td>1</td>\n",
       "      <td>1721</td>\n",
       "      <td>4</td>\n",
       "      <td>2001-01-01 07:00:55</td>\n",
       "    </tr>\n",
       "    <tr>\n",
       "      <th>37</th>\n",
       "      <td>1</td>\n",
       "      <td>1022</td>\n",
       "      <td>5</td>\n",
       "      <td>2001-01-01 07:00:55</td>\n",
       "    </tr>\n",
       "    <tr>\n",
       "      <th>36</th>\n",
       "      <td>1</td>\n",
       "      <td>1836</td>\n",
       "      <td>5</td>\n",
       "      <td>2001-01-01 07:02:52</td>\n",
       "    </tr>\n",
       "    <tr>\n",
       "      <th>...</th>\n",
       "      <td>...</td>\n",
       "      <td>...</td>\n",
       "      <td>...</td>\n",
       "      <td>...</td>\n",
       "    </tr>\n",
       "    <tr>\n",
       "      <th>1000119</th>\n",
       "      <td>6040</td>\n",
       "      <td>3671</td>\n",
       "      <td>4</td>\n",
       "      <td>2001-08-10 23:39:27</td>\n",
       "    </tr>\n",
       "    <tr>\n",
       "      <th>999923</th>\n",
       "      <td>6040</td>\n",
       "      <td>232</td>\n",
       "      <td>5</td>\n",
       "      <td>2001-08-10 23:39:58</td>\n",
       "    </tr>\n",
       "    <tr>\n",
       "      <th>1000019</th>\n",
       "      <td>6040</td>\n",
       "      <td>2917</td>\n",
       "      <td>4</td>\n",
       "      <td>2001-08-10 23:40:29</td>\n",
       "    </tr>\n",
       "    <tr>\n",
       "      <th>999988</th>\n",
       "      <td>6040</td>\n",
       "      <td>1921</td>\n",
       "      <td>4</td>\n",
       "      <td>2001-08-10 23:41:04</td>\n",
       "    </tr>\n",
       "    <tr>\n",
       "      <th>1000042</th>\n",
       "      <td>6040</td>\n",
       "      <td>1221</td>\n",
       "      <td>4</td>\n",
       "      <td>2001-08-20 22:44:15</td>\n",
       "    </tr>\n",
       "  </tbody>\n",
       "</table>\n",
       "<p>569802 rows × 4 columns</p>\n",
       "</div>"
      ],
      "text/plain": [
       "         UserId  ItemId  Rating                Time\n",
       "31            1    3186       4 2001-01-01 07:00:19\n",
       "22            1    1270       5 2001-01-01 07:00:55\n",
       "27            1    1721       4 2001-01-01 07:00:55\n",
       "37            1    1022       5 2001-01-01 07:00:55\n",
       "36            1    1836       5 2001-01-01 07:02:52\n",
       "...         ...     ...     ...                 ...\n",
       "1000119    6040    3671       4 2001-08-10 23:39:27\n",
       "999923     6040     232       5 2001-08-10 23:39:58\n",
       "1000019    6040    2917       4 2001-08-10 23:40:29\n",
       "999988     6040    1921       4 2001-08-10 23:41:04\n",
       "1000042    6040    1221       4 2001-08-20 22:44:15\n",
       "\n",
       "[569802 rows x 4 columns]"
      ]
     },
     "execution_count": 6,
     "metadata": {},
     "output_type": "execute_result"
    }
   ],
   "source": [
    "drop_list = []\n",
    "for i in result : \n",
    "    temp = data[data['ItemId'] == i].index.tolist()\n",
    "    if temp : \n",
    "        drop_list += temp\n",
    "data.drop(drop_list)"
   ]
  },
  {
   "cell_type": "markdown",
   "id": "ruled-surrey",
   "metadata": {},
   "source": [
    "이제는 user와 item에 대해서 정리할 시간이다. 평가에 몇 번 참가하지 않았거나 너무 많이 평가에 참여햔 비정상적인 경우를 보려고 한다. "
   ]
  },
  {
   "cell_type": "code",
   "execution_count": 7,
   "id": "proper-persian",
   "metadata": {},
   "outputs": [
    {
     "data": {
      "text/plain": [
       "(6038, 3533)"
      ]
     },
     "execution_count": 7,
     "metadata": {},
     "output_type": "execute_result"
    }
   ],
   "source": [
    "data['UserId'].nunique(), data['ItemId'].nunique()"
   ]
  },
  {
   "cell_type": "code",
   "execution_count": 8,
   "id": "expired-peninsula",
   "metadata": {},
   "outputs": [],
   "source": [
    "user_length = data.groupby('UserId').size()"
   ]
  },
  {
   "cell_type": "code",
   "execution_count": 9,
   "id": "civic-unknown",
   "metadata": {},
   "outputs": [
    {
     "name": "stdout",
     "output_type": "stream",
     "text": [
      "count    6038.000000\n",
      "mean       95.276747\n",
      "std       105.005005\n",
      "min         1.000000\n",
      "25%        27.000000\n",
      "50%        58.000000\n",
      "75%       124.000000\n",
      "max      1435.000000\n",
      "dtype: float64\n"
     ]
    }
   ],
   "source": [
    "print(user_length.describe())"
   ]
  },
  {
   "cell_type": "code",
   "execution_count": 10,
   "id": "automated-calendar",
   "metadata": {},
   "outputs": [
    {
     "data": {
      "text/plain": [
       "816.8890000000019"
      ]
     },
     "execution_count": 10,
     "metadata": {},
     "output_type": "execute_result"
    }
   ],
   "source": [
    "user_length.quantile(0.999)"
   ]
  },
  {
   "cell_type": "code",
   "execution_count": 11,
   "id": "pressed-boating",
   "metadata": {},
   "outputs": [
    {
     "name": "stdout",
     "output_type": "stream",
     "text": [
      "0\n"
     ]
    }
   ],
   "source": [
    "heavy_user = user_length[user_length==2314]\n",
    "print(len(heavy_user))"
   ]
  },
  {
   "cell_type": "code",
   "execution_count": 12,
   "id": "bacterial-chemistry",
   "metadata": {
    "scrolled": true
   },
   "outputs": [
    {
     "name": "stdout",
     "output_type": "stream",
     "text": [
      "[1435]\n"
     ]
    }
   ],
   "source": [
    "heavy_users = user_length.apply(lambda x : x > 1343)\n",
    "heavy_users = user_length[heavy_users]\n",
    "heavy_users_sort = sorted(heavy_users)\n",
    "print(heavy_users_sort)"
   ]
  },
  {
   "cell_type": "markdown",
   "id": "photographic-stylus",
   "metadata": {},
   "source": [
    "1초에 한 유저가 몇 번 만큼 평가했는지 알아보려고 제일 많이 평가를 한 유저에 대해 조사를 해보았다. "
   ]
  },
  {
   "cell_type": "code",
   "execution_count": 13,
   "id": "superb-tamil",
   "metadata": {},
   "outputs": [],
   "source": [
    "click_num = []\n",
    "for user in heavy_users_sort :\n",
    "    row = data[data['UserId'] == user]\n",
    "    #print(row)\n",
    "    # 일단은 1초에 몇번만큼 겹치게 클릭했는지 구해보려고 한다.\n",
    "    count_time = row['Time'].unique()\n",
    "    multi_click = row['Time'].apply(lambda x : x not in count_time)\n",
    "    click_num.append(len(multi_click))"
   ]
  },
  {
   "cell_type": "code",
   "execution_count": 14,
   "id": "persistent-canvas",
   "metadata": {},
   "outputs": [
    {
     "name": "stdout",
     "output_type": "stream",
     "text": [
      "[20]\n"
     ]
    }
   ],
   "source": [
    "print(click_num)"
   ]
  },
  {
   "cell_type": "markdown",
   "id": "gentle-sample",
   "metadata": {},
   "source": [
    "이 사람은 20초에 해당하는 시간동안(합산 20초) 1초에 여러번 평가했다. "
   ]
  },
  {
   "cell_type": "markdown",
   "id": "fancy-finnish",
   "metadata": {},
   "source": [
    "근데 Time이 겹칠 수 밖에 없는게, 이 사이트는 정말 단순하게 rating을 한다. \n",
    "직접 Movielens에 가입해서 rating 하는 페이지까지 접근해서 하나 시험삼아 해보았다. \n",
    "페이지는 영화 포스터와 별 5개로 표현하는 rating으로 이루어진 패널들로 차 있는데, 원하는 영화 패널을 클릭해서 별이 그려진 부분에서 마우스를 움직이면 바로 별이 차오르는 방식을 택하고 있어서, 1분 안에서는 영화를 빠르게 평가할 수 있다. 하지만 데이터는 초 단위로 기록이 되어있다. 그래서 이상 유저들을 바로 걸러내야 할 필요가 있다. 1초 내에 3번->5번(생각보다 3번 이상 평가한 손빠른 사람들이 많았다.) 이상의 평가를 한 경우 이상 유저로 간주하여 데이터에서 완전히 제외할 생각이다. "
   ]
  },
  {
   "cell_type": "code",
   "execution_count": 15,
   "id": "abandoned-thriller",
   "metadata": {},
   "outputs": [],
   "source": [
    "\n",
    "def check_multi_click_user(data) :\n",
    "    #print(data)\n",
    "    time_list = data.groupby('Time').size()\n",
    "    #print(time_list)\n",
    "    duplicated_click = time_list[lambda x : x > 5]\n",
    "    \n",
    "    #print(duplicated_click)\n",
    "    return duplicated_click\n",
    "def find_abnomal_user(data) :\n",
    "    all_dup = []\n",
    "    ls = data['UserId'].unique()\n",
    "    ab_us = []\n",
    "    for i in ls :\n",
    "        result = []\n",
    "        result = check_multi_click_user(data[data['UserId']==i])\n",
    "        if len(result) != 0 :\n",
    "            #print(i,result)\n",
    "            ab_us.append(i)    \n",
    "    return ab_us\n",
    "ab_us_ls = find_abnomal_user(data)\n",
    "#print(ab_us_ls)"
   ]
  },
  {
   "cell_type": "code",
   "execution_count": 16,
   "id": "casual-growing",
   "metadata": {},
   "outputs": [
    {
     "name": "stdout",
     "output_type": "stream",
     "text": [
      "1827\n"
     ]
    }
   ],
   "source": [
    "print(len(ab_us_ls))"
   ]
  },
  {
   "cell_type": "code",
   "execution_count": 17,
   "id": "specified-plate",
   "metadata": {},
   "outputs": [
    {
     "name": "stdout",
     "output_type": "stream",
     "text": [
      "              UserId         ItemId         Rating\n",
      "count  575281.000000  575281.000000  575281.000000\n",
      "mean     3038.114852    1817.587070       4.393390\n",
      "std      1733.654125    1083.844338       0.488503\n",
      "min         1.000000       1.000000       4.000000\n",
      "25%      1533.000000    1022.000000       4.000000\n",
      "50%      3080.000000    1648.000000       4.000000\n",
      "75%      4505.000000    2750.000000       5.000000\n",
      "max      6040.000000    3952.000000       5.000000\n"
     ]
    }
   ],
   "source": [
    "for i in ab_us_ls : \n",
    "    temp = data[data['ItemId'] == i].index.tolist()\n",
    "    data.drop(temp)\n",
    "print(data.describe())"
   ]
  },
  {
   "cell_type": "code",
   "execution_count": 18,
   "id": "determined-aruba",
   "metadata": {},
   "outputs": [
    {
     "name": "stdout",
     "output_type": "stream",
     "text": [
      "1      0.000166\n",
      "2      0.000497\n",
      "4      0.000662\n",
      "5      0.001656\n",
      "6      0.003644\n",
      "         ...   \n",
      "788    0.998178\n",
      "792    0.998344\n",
      "794    0.998509\n",
      "800    0.998675\n",
      "814    0.998841\n",
      "Length: 480, dtype: float64\n"
     ]
    }
   ],
   "source": [
    "length_count = user_length.groupby(user_length).size()\n",
    "length_percent_cumsum = length_count.cumsum()/length_count.sum()\n",
    "length_percent_cumsum_999 = length_percent_cumsum[length_percent_cumsum < 0.999]\n",
    "print(length_percent_cumsum_999)"
   ]
  },
  {
   "cell_type": "code",
   "execution_count": 19,
   "id": "decimal-count",
   "metadata": {},
   "outputs": [
    {
     "data": {
      "image/png": "[encoded data removed]",
      "text/plain": [
       "<Figure size 1440x720 with 1 Axes>"
      ]
     },
     "metadata": {
      "needs_background": "light"
     },
     "output_type": "display_data"
    }
   ],
   "source": [
    "import matplotlib.pyplot as plt\n",
    "\n",
    "plt.figure(figsize=(20, 10))\n",
    "plt.bar(x=length_percent_cumsum_999.index,\n",
    "        height=length_percent_cumsum_999, color='red')\n",
    "plt.xticks(length_percent_cumsum_999.index)\n",
    "plt.yticks(np.arange(0, 1.01, 0.05))\n",
    "plt.title('Cumsum Percentage Until 0.999', size=20)\n",
    "plt.show()"
   ]
  },
  {
   "cell_type": "code",
   "execution_count": 22,
   "id": "improving-means",
   "metadata": {},
   "outputs": [
    {
     "data": {
      "text/plain": [
       "count    3533.000000\n",
       "mean      162.830739\n",
       "std       285.798512\n",
       "min         1.000000\n",
       "25%        13.000000\n",
       "50%        49.000000\n",
       "75%       183.000000\n",
       "max      2853.000000\n",
       "dtype: float64"
      ]
     },
     "execution_count": 22,
     "metadata": {},
     "output_type": "execute_result"
    }
   ],
   "source": [
    "item_length = data.groupby('ItemId').size()\n",
    "item_length.describe()"
   ]
  },
  {
   "cell_type": "code",
   "execution_count": 23,
   "id": "inclusive-israel",
   "metadata": {},
   "outputs": [
    {
     "name": "stdout",
     "output_type": "stream",
     "text": [
      "count    6038.000000\n",
      "mean       95.276747\n",
      "std       105.005005\n",
      "min         1.000000\n",
      "25%        27.000000\n",
      "50%        58.000000\n",
      "75%       124.000000\n",
      "max      1435.000000\n",
      "dtype: float64\n"
     ]
    }
   ],
   "source": [
    "user_length = data.groupby('UserId').size()\n",
    "print(user_length.describe())"
   ]
  },
  {
   "cell_type": "markdown",
   "id": "crude-democrat",
   "metadata": {},
   "source": [
    "그리고 25퍼센트 미만의 출현 횟수를 가진 user와 item을 지운다. user는 27번, item은 13번으로 기준을 잡겠다."
   ]
  },
  {
   "cell_type": "code",
   "execution_count": 24,
   "id": "compact-equality",
   "metadata": {},
   "outputs": [],
   "source": [
    "def clean_short_record(data : pd.DataFrame, shortest) :\n",
    "    user_len = data.groupby('UserId').size()\n",
    "    normal_user = user_len[user_len >= shortest].index\n",
    "    data = data[data['UserId'].isin(normal_user)]\n",
    "    return data\n",
    "def clean_unpopular_item(data: pd.DataFrame, least_click):\n",
    "    item_popular = data.groupby('ItemId').size()\n",
    "    item_use = item_popular[item_popular >= least_click].index\n",
    "    data = data[data['ItemId'].isin(item_use)]\n",
    "    return data\n",
    "\n",
    "def cleanse_recursive(data: pd.DataFrame, shortest, least_click) -> pd.DataFrame:\n",
    "    while True:\n",
    "        before_len = len(data)\n",
    "        data = clean_short_record(data, shortest)\n",
    "        data = clean_unpopular_item(data, least_click)\n",
    "        after_len = len(data)\n",
    "        if before_len == after_len:\n",
    "            break\n",
    "    return data"
   ]
  },
  {
   "cell_type": "code",
   "execution_count": 25,
   "id": "threaded-control",
   "metadata": {},
   "outputs": [],
   "source": [
    "data = cleanse_recursive(data, shortest=27, least_click=33)"
   ]
  },
  {
   "cell_type": "markdown",
   "id": "norwegian-penny",
   "metadata": {},
   "source": [
    "소비패턴은 1년을 주기로 변하기 때문에, 미니배치를 1년 단위로 자른다. 전체 기간이 4년인데 첫 2년을 학습데이터, 그 다음 1년을 validation, 그 다음 1년을 test로 본다. "
   ]
  },
  {
   "cell_type": "code",
   "execution_count": 26,
   "id": "vanilla-reducing",
   "metadata": {},
   "outputs": [
    {
     "name": "stdout",
     "output_type": "stream",
     "text": [
      "259 days 16:41:04.500000\n"
     ]
    }
   ],
   "source": [
    "gap = (latest - oldest)//4\n",
    "print(gap)"
   ]
  },
  {
   "cell_type": "code",
   "execution_count": 27,
   "id": "accessory-ireland",
   "metadata": {},
   "outputs": [],
   "source": [
    "def split_by_date(data: pd.DataFrame, n_days):\n",
    "    final_time = data['Time'].max()\n",
    "    #print(final_time) \n",
    "    #last_time = data['Time'].max()\n",
    "    train = data['Time'].apply(lambda x : x < final_time - n_days)\n",
    "    test = data['Time'].apply(lambda x : x >= final_time - n_days)\n",
    "\n",
    "    before_date = data[train]\n",
    "    after_date = data[test]\n",
    "    #after_date = after_date[after_date['ItemId'].isin(before_date['ItemId'])]\n",
    "    return before_date, after_date"
   ]
  },
  {
   "cell_type": "code",
   "execution_count": 28,
   "id": "informed-malpractice",
   "metadata": {},
   "outputs": [],
   "source": [
    "tr, test = split_by_date(data, n_days = gap)\n",
    "tr, val = split_by_date(tr, n_days = gap)"
   ]
  },
  {
   "cell_type": "code",
   "execution_count": 29,
   "id": "simple-threat",
   "metadata": {},
   "outputs": [],
   "source": [
    "origin_tr = tr\n",
    "origin_test = test\n",
    "origin_val = val"
   ]
  },
  {
   "cell_type": "code",
   "execution_count": 30,
   "id": "published-senegal",
   "metadata": {},
   "outputs": [],
   "source": [
    "def stats_info(data: pd.DataFrame, status: str):\n",
    "    print(f'* {status} Set Stats Info\\n'\n",
    "          f'\\t Events: {len(data)}\\n'\n",
    "          f'\\t Users: {data[\"UserId\"].nunique()}\\n'\n",
    "          f'\\t Items: {data[\"ItemId\"].nunique()}\\n'\n",
    "          f'\\t First Time : {data[\"Time\"].min()}\\n'\n",
    "          f'\\t Last Time : {data[\"Time\"].max()}\\n')"
   ]
  },
  {
   "cell_type": "code",
   "execution_count": 31,
   "id": "loaded-trading",
   "metadata": {},
   "outputs": [
    {
     "name": "stdout",
     "output_type": "stream",
     "text": [
      "* train Set Stats Info\n",
      "\t Events: 511534\n",
      "\t Users: 4537\n",
      "\t Items: 2000\n",
      "\t First Time : 2000-04-26 08:05:32\n",
      "\t Last Time : 2001-09-27 12:31:39\n",
      "\n",
      "* valid Set Stats Info\n",
      "\t Events: 11202\n",
      "\t Users: 529\n",
      "\t Items: 1807\n",
      "\t First Time : 2001-09-28 01:15:19\n",
      "\t Last Time : 2002-06-14 07:56:48\n",
      "\n",
      "* test Set Stats Info\n",
      "\t Events: 6934\n",
      "\t Users: 371\n",
      "\t Items: 1607\n",
      "\t First Time : 2002-06-14 13:09:46\n",
      "\t Last Time : 2003-03-01 02:49:50\n",
      "\n"
     ]
    }
   ],
   "source": [
    "stats_info(tr, 'train')\n",
    "stats_info(val, 'valid')\n",
    "stats_info(test, 'test')"
   ]
  },
  {
   "cell_type": "code",
   "execution_count": 32,
   "id": "controversial-depth",
   "metadata": {},
   "outputs": [],
   "source": [
    "id2idx = {item_id : index for index, item_id in enumerate(tr['ItemId'].unique())}\n",
    "def indexing(df, id2idx):\n",
    "    df['item_idx'] = df['ItemId'].map(lambda x: id2idx.get(x, -1))  # id2idx에 없는 아이템은 모르는 값(-1) 처리 해줍니다.\n",
    "    return df\n",
    "\n",
    "tr = indexing(tr, id2idx)\n",
    "val = indexing(val, id2idx)\n",
    "test = indexing(test, id2idx)"
   ]
  },
  {
   "cell_type": "code",
   "execution_count": 33,
   "id": "brazilian-mention",
   "metadata": {},
   "outputs": [],
   "source": [
    "save_path = data_path / 'processed'\n",
    "save_path.mkdir(parents=True, exist_ok=True)\n",
    "\n",
    "tr.to_pickle(save_path / 'train.pkl')\n",
    "val.to_pickle(save_path / 'valid.pkl')\n",
    "test.to_pickle(save_path / 'test.pkl')"
   ]
  },
  {
   "cell_type": "markdown",
   "id": "young-boring",
   "metadata": {},
   "source": [
    "# 모델 준비하기\n",
    "## 파이프라인 준비하기"
   ]
  },
  {
   "cell_type": "code",
   "execution_count": 126,
   "id": "urban-server",
   "metadata": {},
   "outputs": [],
   "source": [
    "#tr =  origin_tr\n",
    "val =  origin_val\n",
    "test = origin_test"
   ]
  },
  {
   "cell_type": "code",
   "execution_count": null,
   "id": "arctic-reason",
   "metadata": {},
   "outputs": [],
   "source": [
    "먼저 세션 아이디를 만든다. 시간별로 정렬한 후, 한 유저당 가장 먼저 평가한 시간과 가장 늦게 평가한 시간의 차를 구한 후, 이를 기준으로 세션을 나눈다. "
   ]
  },
  {
   "cell_type": "code",
   "execution_count": 127,
   "id": "sharing-seller",
   "metadata": {
    "scrolled": true
   },
   "outputs": [
    {
     "name": "stdout",
     "output_type": "stream",
     "text": [
      "                  0\n",
      "count     4537.0000\n",
      "mean  10005785.4884\n",
      "std   20610173.5374\n",
      "min        139.0000\n",
      "25%       2026.0000\n",
      "50%      12658.0000\n",
      "75%    5251929.0000\n",
      "max   89247792.0000\n"
     ]
    }
   ],
   "source": [
    "tr_user_list = tr['UserId'].unique()\n",
    "gaps = []\n",
    "for i in tr_user_list :\n",
    "    temp = data[data['UserId'] == i]\n",
    "    old = min(temp['Time'])\n",
    "    new = max(temp['Time'])\n",
    "    gap = new - old\n",
    "    gap = gap.total_seconds()\n",
    "    gaps.append(gap)\n",
    "gaps = pd.DataFrame(gaps)\n",
    "pd.options.display.float_format = \"{:.4f}\".format\n",
    "print(gaps.describe())"
   ]
  },
  {
   "cell_type": "code",
   "execution_count": 128,
   "id": "unavailable-threat",
   "metadata": {},
   "outputs": [
    {
     "data": {
      "text/plain": [
       "0   2026.0000\n",
       "Name: 25%, dtype: float64"
      ]
     },
     "execution_count": 128,
     "metadata": {},
     "output_type": "execute_result"
    }
   ],
   "source": [
    "gaps.describe().iloc[4]"
   ]
  },
  {
   "cell_type": "markdown",
   "id": "ceramic-subsection",
   "metadata": {},
   "source": [
    "그렇다면 각 값이 몇 분을 의미하는지 한번 계산해 보자."
   ]
  },
  {
   "cell_type": "code",
   "execution_count": 129,
   "id": "likely-advocate",
   "metadata": {},
   "outputs": [
    {
     "name": "stdout",
     "output_type": "stream",
     "text": [
      "2 분\n",
      "33 분\n",
      "210 분\n",
      "24 일\n",
      "413 일\n"
     ]
    }
   ],
   "source": [
    "print(139//60,'분')\n",
    "print(2026//60,\"분\")\n",
    "print(12658//60, \"분\")\n",
    "print(5251929//60//60//60, \"일\")\n",
    "print(89247792//60//60//60, \"일\")"
   ]
  },
  {
   "cell_type": "markdown",
   "id": "center-jewelry",
   "metadata": {},
   "source": [
    "짧게 활동한 유저는 33분, 가장 길게 활동한 유저는 413일을 활동했다. 제일 짧게 활동한 유저를 기준으로 세션을 나누겠다. \n",
    "세션 번호를 부여할 함수를 만들려고 한다. \n",
    "단순히 time을 33분 단위로 묶어 세션번호를 부여할 것이다. 왜냐하면 세션은 '익명의 한 유저'를 기반으로 하고, 그 유저가 여러 세션을 가질 수 있기 때문에 UserId와 무관하게 시간 기준으로 33분 단위로 세션을 나눈다. "
   ]
  },
  {
   "cell_type": "code",
   "execution_count": 130,
   "id": "traditional-payment",
   "metadata": {},
   "outputs": [
    {
     "name": "stdout",
     "output_type": "stream",
     "text": [
      "                0\n",
      "count 511534.0000\n",
      "mean    4210.5477\n",
      "std     2254.7629\n",
      "min        0.0000\n",
      "25%     2486.0000\n",
      "50%     4639.0000\n",
      "75%     5755.0000\n",
      "max    10861.0000\n"
     ]
    }
   ],
   "source": [
    "time_sort = list(tr['Time'])\n",
    "time_sort.sort()\n",
    "oldest = time_sort[0]\n",
    "latest = time_sort[-1]\n",
    "count = 0\n",
    "session_index = []\n",
    "next_start = oldest\n",
    "first_index = 0\n",
    "last_index = len(time_sort)\n",
    "while oldest <= latest :\n",
    "    next_time = oldest + dt.timedelta(seconds = 60*33) \n",
    "    flag = False\n",
    "    for i in range(first_index, len(time_sort)) :\n",
    "        if oldest <= time_sort[i] <= next_time :\n",
    "            session_index.append(count)\n",
    "            flag = True\n",
    "        else : \n",
    "            # 다음 서치할 범위 저장 \n",
    "            first_index = i\n",
    "            if flag :\n",
    "                count += 1\n",
    "            break\n",
    "    \n",
    "    oldest = next_time\n",
    "print(pd.DataFrame(session_index).describe())    "
   ]
  },
  {
   "cell_type": "code",
   "execution_count": 131,
   "id": "romance-effectiveness",
   "metadata": {},
   "outputs": [],
   "source": [
    "tr.sort_values(['Time'], inplace=True)\n",
    "tr['SessionId'] = session_index"
   ]
  },
  {
   "cell_type": "code",
   "execution_count": 59,
   "id": "controlling-threshold",
   "metadata": {},
   "outputs": [
    {
     "name": "stdout",
     "output_type": "stream",
     "text": [
      "         UserId  ItemId  Rating                Time  item_idx  SessionId\n",
      "1000138    6040     858       4 2000-04-26 08:05:32       730          0\n",
      "999873     6040     593       5 2000-04-26 08:05:54        54          0\n",
      "1000153    6040    2384       4 2000-04-26 08:05:54      1458          0\n",
      "1000007    6040    1961       4 2000-04-26 08:06:17        13          0\n",
      "1000192    6040    2019       5 2000-04-26 08:06:17       646          0\n",
      "999920     6040     213       5 2000-04-26 08:07:36      1657          0\n",
      "999967     6040    3111       5 2000-04-26 08:07:36      1592          0\n",
      "999980     6040    3505       4 2000-04-26 08:07:36       796          0\n",
      "999884     6040     912       5 2000-04-26 08:09:51       208          0\n",
      "999888     6040     919       5 2000-04-26 08:09:51        10          0\n",
      "1000186    6040     527       5 2000-04-26 08:10:19        35          0\n",
      "999991     6040     318       4 2000-04-26 08:10:57        50          0\n",
      "1000063    6040    1252       5 2000-04-26 08:10:57       877          0\n",
      "1000083    6040     759       5 2000-04-26 08:14:08      1714          0\n",
      "999938     6040    2858       4 2000-04-26 08:14:35        52          0\n",
      "999946     6040     608       4 2000-04-26 08:14:35        11          0\n",
      "1000101    6040    1649       5 2000-04-26 08:15:19       173          0\n",
      "999992     6040     326       4 2000-04-26 08:15:19      1269          0\n",
      "1000200    6040    2028       5 2000-04-26 08:15:19        14          0\n",
      "1000014    6040      34       4 2000-04-26 08:16:24       171          0\n",
      "        UserId  ItemId  Rating                Time  item_idx  SessionId\n",
      "720002    4312     280       4 2001-09-26 06:55:44      1205      10851\n",
      "720127    4312    3178       4 2001-09-26 06:56:54       517      10851\n",
      "719939    4312    3408       4 2001-09-26 07:06:29         5      10851\n",
      "720084    4312    3893       4 2001-09-26 07:06:29      1330      10851\n",
      "720309    4312    3948       4 2001-09-26 07:06:52       464      10851\n",
      "720185    4312    3555       4 2001-09-26 07:07:38      1124      10851\n",
      "720035    4312    3831       4 2001-09-26 07:07:55      1720      10851\n",
      "719972    4312    3452       4 2001-09-26 07:10:12      1450      10851\n",
      "720687    4312    3752       4 2001-09-26 07:10:25       734      10851\n",
      "54352      355    1375       4 2001-09-26 09:45:55       404      10852\n",
      "54354      355    1376       4 2001-09-26 09:45:56       478      10852\n",
      "589269    3592    3916       4 2001-09-26 12:25:51      1175      10853\n",
      "179710    1125    1735       4 2001-09-26 17:12:24       252      10854\n",
      "329226    1943    3467       5 2001-09-26 23:12:06      1009      10855\n",
      "609395    3693    1207       5 2001-09-27 01:48:30         7      10856\n",
      "183504    1142    2622       4 2001-09-27 05:29:29       402      10857\n",
      "943457    5689      36       4 2001-09-27 06:25:44       257      10858\n",
      "289946    1733     923       5 2001-09-27 08:53:19       889      10859\n",
      "299079    1776    3882       4 2001-09-27 11:41:10      1701      10860\n",
      "805739    4823    2529       4 2001-09-27 12:31:39       355      10861\n"
     ]
    }
   ],
   "source": [
    "print(tr.head(20))\n",
    "print(tr.tail(20))"
   ]
  },
  {
   "cell_type": "markdown",
   "id": "electrical-equity",
   "metadata": {},
   "source": [
    "위의 과정을 val과 test에도 반복해준다."
   ]
  },
  {
   "cell_type": "code",
   "execution_count": 139,
   "id": "invisible-marathon",
   "metadata": {},
   "outputs": [],
   "source": [
    "def create_session_index(tr) :\n",
    "    tr_user_list = tr['UserId'].unique()\n",
    "    gaps = []\n",
    "    for i in tr_user_list :\n",
    "        temp = data[data['UserId'] == i]\n",
    "        old = min(temp['Time'])\n",
    "        new = max(temp['Time'])\n",
    "        gap = new - old\n",
    "        gap = gap.total_seconds()\n",
    "        gaps.append(gap)\n",
    "    gaps.sort()\n",
    "    #print(gaps)\n",
    "    gaps = pd.DataFrame(gaps)\n",
    "    pd.options.display.float_format = \"{:.4f}\".format\n",
    "    \n",
    "    min_gap = int(gaps.describe().iloc[3])//60*60\n",
    "    # 너무 갭이 큰 경우는 train 데이터를 기준으로 갭을 삼아준다. \n",
    "    if min_gap > 33*60 :\n",
    "        min_gap = 33*60\n",
    "    #print(min_gap)\n",
    "    gap = dt.timedelta(seconds = int(min_gap))\n",
    "    #print(gap)\n",
    "    time_sort = list(tr['Time'])\n",
    "    time_sort.sort()\n",
    "    oldest = time_sort[0]\n",
    "    latest = time_sort[-1]\n",
    "    count = 0\n",
    "    session_index = []\n",
    "    next_start = oldest\n",
    "    first_index = 0\n",
    "    last_index = len(time_sort)\n",
    "    while oldest <= latest :\n",
    "        next_time = oldest + gap\n",
    "        flag = False\n",
    "        for i in range(first_index, len(time_sort)) :\n",
    "            if oldest <= time_sort[i] <= next_time :\n",
    "                session_index.append(count)\n",
    "                flag = True\n",
    "            else : \n",
    "                # 다음 서치할 범위 저장 \n",
    "                first_index = i\n",
    "                if flag :\n",
    "                    count += 1\n",
    "                break\n",
    "\n",
    "        oldest = next_time\n",
    "    #print(pd.DataFrame(session_index).describe())\n",
    "    return session_index\n",
    "val.sort_values(['Time'], inplace=True)\n",
    "#create_session_index(val)\n",
    "val['SessionId'] = create_session_index(val)\n",
    "test.sort_values(['Time'], inplace=True)\n",
    "test['SessionId'] = create_session_index(test)"
   ]
  },
  {
   "cell_type": "markdown",
   "id": "ultimate-homeless",
   "metadata": {},
   "source": [
    "그리고 세션 길이가 1인 세션은 지워준다. "
   ]
  },
  {
   "cell_type": "code",
   "execution_count": 143,
   "id": "subsequent-arbitration",
   "metadata": {},
   "outputs": [
    {
     "name": "stdout",
     "output_type": "stream",
     "text": [
      "        UserId  ItemId  Rating                Time  item_idx  SessionId\n",
      "720283    4312    3917       4 2001-09-28 05:54:37       760          3\n",
      "720284    4312    3918       4 2001-09-28 05:55:07      1253          3\n",
      "720712    4312    2034       4 2001-09-28 06:02:37      1116          3\n",
      "720070    4312    1194       4 2001-09-28 06:03:04      1776          3\n",
      "720049    4312    2114       4 2001-09-28 06:06:11      1280          3\n",
      "720444    4312    3679       4 2001-09-28 06:06:31      1659          3\n",
      "720617    4312    3398       4 2001-09-28 06:09:44       678          3\n",
      "719859    4312     595       4 2001-09-28 06:25:12        36          4\n",
      "720668    4312    1059       4 2001-09-28 06:29:07       474          4\n",
      "720369    4312    2294       4 2001-09-28 06:32:43        40          4\n",
      "720564    4312    1735       4 2001-09-28 06:34:24       252          4\n",
      "720606    4312     175       4 2001-09-28 06:34:38       822          4\n",
      "811037    4867    2492       4 2001-09-29 00:39:44      1965          8\n",
      "811282    4867    3948       4 2001-09-29 00:40:06       464          8\n",
      "463881    2859    2502       4 2001-09-29 05:15:28       735         10\n",
      "463813    2859       1       5 2001-09-29 05:17:35        38         10\n",
      "463853    2859    1148       5 2001-09-29 05:17:35       291         10\n",
      "820973    4934    2384       4 2001-09-29 05:19:23      1458         11\n",
      "821008    4934    2033       4 2001-09-29 05:23:57      1314         11\n",
      "820996    4934     527       5 2001-09-29 05:28:28        35         11\n",
      "        UserId  ItemId  Rating                Time  item_idx  SessionId\n",
      "583326    3562     253       4 2002-06-14 01:00:23       276       2144\n",
      "583120    3562     586       4 2002-06-14 01:00:23       677       2144\n",
      "583371    3562     440       4 2002-06-14 01:01:57       919       2144\n",
      "583264    3562    3264       4 2002-06-14 01:03:15       729       2144\n",
      "583124    3562       1       5 2002-06-14 01:06:07        38       2144\n",
      "583163    3562    1290       5 2002-06-14 01:07:57      1303       2144\n",
      "583478    3562    2166       5 2002-06-14 01:07:57       306       2144\n",
      "583386    3562    1135       5 2002-06-14 01:09:16       436       2144\n",
      "583350    3562    1892       5 2002-06-14 01:09:16       572       2144\n",
      "583673    3562      39       5 2002-06-14 01:11:17       791       2144\n",
      "583109    3562    3791       5 2002-06-14 01:11:17      1627       2144\n",
      "583586    3562    3512       4 2002-06-14 01:13:24      1069       2144\n",
      "823427    4950    2208       4 2002-06-14 03:20:01       921       2145\n",
      "823486    4950    2640       4 2002-06-14 03:20:23       484       2145\n",
      "776957    4640    2724       4 2002-06-14 05:37:06      1476       2146\n",
      "776896    4640    1252       4 2002-06-14 05:37:06       877       2146\n",
      "776855    4640    1148       5 2002-06-14 05:37:06       291       2146\n",
      "776904    4640    1275       4 2002-06-14 05:44:18       657       2146\n",
      "776841    4640     903       4 2002-06-14 05:49:24       933       2147\n",
      "776924    4640     420       4 2002-06-14 05:49:24       711       2147\n",
      "        UserId  ItemId  Rating                Time  item_idx  SessionId\n",
      "561097    3452    2028       5 2002-06-14 23:56:09        14          2\n",
      "234857    1425     247       5 2002-06-14 23:59:43       595          2\n",
      "807304    4831    3361       4 2002-06-15 00:57:49       812          3\n",
      "966535    5831    2403       4 2002-06-15 00:58:07       909          3\n",
      "966791    5831    2138       4 2002-06-15 00:58:41       738          3\n",
      "807216    4831    1231       4 2002-06-15 00:59:08      1319          3\n",
      "807293    4831    3317       4 2002-06-15 00:59:47      1342          3\n",
      "807238    4831     750       4 2002-06-15 01:02:22       501          3\n",
      "807326    4831    1097       4 2002-06-15 01:02:22        22          3\n",
      "807116    4831     949       4 2002-06-15 01:02:22       965          3\n",
      "807263    4831    3629       4 2002-06-15 01:02:43      1160          3\n",
      "807112    4831     923       5 2002-06-15 01:15:36       889          3\n",
      "807126    4831    3418       4 2002-06-15 01:15:36       101          3\n",
      "807261    4831    3296       4 2002-06-15 01:15:36       338          3\n",
      "807257    4831    3260       4 2002-06-15 01:15:57       183          4\n",
      "807297    4831    3334       4 2002-06-15 01:16:33        77          4\n",
      "807113    4831     924       4 2002-06-15 01:17:28       606          4\n",
      "807309    4831     194       4 2002-06-15 01:18:33      1620          4\n",
      "807270    4831    1302       4 2002-06-15 01:19:52       330          4\n",
      "807277    4831    2312       5 2002-06-15 01:20:22       318          4\n",
      "        UserId  ItemId  Rating                Time  item_idx  SessionId\n",
      "984541    5950    2804       4 2003-02-28 02:51:03         6       1582\n",
      "984559    5950    2859       4 2003-02-28 02:51:30      1697       1582\n",
      "984807    5950    1300       4 2003-02-28 02:53:18       955       1582\n",
      "984590    5950    1196       4 2003-02-28 02:53:37        66       1582\n",
      "984818    5950    1358       4 2003-02-28 02:53:49       307       1582\n",
      "984632    5950    3196       5 2003-02-28 02:54:22      1070       1582\n",
      "984803    5950    3683       4 2003-02-28 02:54:56       883       1582\n",
      "984732    5950    1261       4 2003-02-28 02:59:10       705       1582\n",
      "984713    5950    3911       4 2003-02-28 03:03:46      1711       1582\n",
      "984544    5950    3481       4 2003-02-28 03:04:50       240       1582\n",
      "984731    5950    3948       4 2003-02-28 03:13:57       464       1582\n",
      "984682    5950    3578       4 2003-02-28 03:14:30        76       1582\n",
      "984733    5950    1262       4 2003-02-28 03:17:38       535       1582\n",
      "984025    5948    1180       5 2003-02-28 22:11:19       886       1585\n",
      "983967    5948    3098       4 2003-02-28 22:12:12       858       1585\n",
      "825497    4958    2453       4 2003-03-01 02:44:20       418       1587\n",
      "825526    4958    3489       4 2003-03-01 02:45:20       493       1587\n",
      "825438    4958    1407       5 2003-03-01 02:47:23       714       1587\n",
      "825724    4958    3264       4 2003-03-01 02:49:08       729       1587\n",
      "825603    4958    1924       4 2003-03-01 02:49:50      1567       1587\n"
     ]
    }
   ],
   "source": [
    "def cleanse_short_session(data: pd.DataFrame, shortest):\n",
    "    session_len = data.groupby('SessionId').size()\n",
    "    session_use = session_len[session_len >= shortest].index\n",
    "    data = data[data['SessionId'].isin(session_use)]\n",
    "    return data\n",
    "tr = cleanse_short_session(tr, 2)\n",
    "val = cleanse_short_session(val,2)\n",
    "test = cleanse_short_session(test,2)\n",
    "print(val.head(20))\n",
    "print(val.tail(20))\n",
    "print(test.head(20))\n",
    "print(test.tail(20))\n"
   ]
  },
  {
   "cell_type": "code",
   "execution_count": 69,
   "id": "proof-olive",
   "metadata": {},
   "outputs": [],
   "source": [
    "class SessionDataset:\n",
    "    \"\"\"Credit to yhs-968/pyGRU4REC.\"\"\"\n",
    "\n",
    "    def __init__(self, data):\n",
    "        self.df = data\n",
    "        self.click_offsets = self.get_click_offsets()\n",
    "        self.session_idx = np.arange(self.df['SessionId'].nunique())  # indexing to SessionId\n",
    "\n",
    "    def get_click_offsets(self):\n",
    "        \"\"\"\n",
    "        Return the indexes of the first click of each session IDs,\n",
    "        \"\"\"\n",
    "        offsets = np.zeros(self.df['SessionId'].nunique() + 1, dtype=np.int32)\n",
    "        offsets[1:] = self.df.groupby('SessionId').size().cumsum()\n",
    "        return offsets"
   ]
  },
  {
   "cell_type": "code",
   "execution_count": 144,
   "id": "electric-rwanda",
   "metadata": {},
   "outputs": [
    {
     "name": "stdout",
     "output_type": "stream",
     "text": [
      "         UserId  ItemId  Rating                Time  item_idx  SessionId\n",
      "1000138    6040     858       4 2000-04-26 08:05:32       730          0\n",
      "999873     6040     593       5 2000-04-26 08:05:54        54          0\n",
      "1000153    6040    2384       4 2000-04-26 08:05:54      1458          0\n",
      "1000007    6040    1961       4 2000-04-26 08:06:17        13          0\n",
      "1000192    6040    2019       5 2000-04-26 08:06:17       646          0\n",
      "999920     6040     213       5 2000-04-26 08:07:36      1657          0\n",
      "999967     6040    3111       5 2000-04-26 08:07:36      1592          0\n",
      "999980     6040    3505       4 2000-04-26 08:07:36       796          0\n",
      "999884     6040     912       5 2000-04-26 08:09:51       208          0\n",
      "999888     6040     919       5 2000-04-26 08:09:51        10          0\n",
      "        UserId  ItemId  Rating                Time  item_idx  SessionId\n",
      "720127    4312    3178       4 2001-09-26 06:56:54       517      10851\n",
      "719939    4312    3408       4 2001-09-26 07:06:29         5      10851\n",
      "720084    4312    3893       4 2001-09-26 07:06:29      1330      10851\n",
      "720309    4312    3948       4 2001-09-26 07:06:52       464      10851\n",
      "720185    4312    3555       4 2001-09-26 07:07:38      1124      10851\n",
      "720035    4312    3831       4 2001-09-26 07:07:55      1720      10851\n",
      "719972    4312    3452       4 2001-09-26 07:10:12      1450      10851\n",
      "720687    4312    3752       4 2001-09-26 07:10:25       734      10851\n",
      "54352      355    1375       4 2001-09-26 09:45:55       404      10852\n",
      "54354      355    1376       4 2001-09-26 09:45:56       478      10852\n",
      "[     0     95    128 ... 509767 509787 509789]\n",
      "[   0    1    2 ... 9114 9115 9116]\n"
     ]
    }
   ],
   "source": [
    "tr_dataset = SessionDataset(tr)\n",
    "print(tr_dataset.df.head(10))\n",
    "print(tr_dataset.df.tail(10))\n",
    "print(tr_dataset.click_offsets)\n",
    "print(tr_dataset.session_idx)"
   ]
  },
  {
   "cell_type": "code",
   "execution_count": 145,
   "id": "express-sheriff",
   "metadata": {},
   "outputs": [
    {
     "name": "stdout",
     "output_type": "stream",
     "text": [
      "        UserId  ItemId  Rating                Time  item_idx  SessionId\n",
      "720283    4312    3917       4 2001-09-28 05:54:37       760          3\n",
      "720284    4312    3918       4 2001-09-28 05:55:07      1253          3\n",
      "720712    4312    2034       4 2001-09-28 06:02:37      1116          3\n",
      "720070    4312    1194       4 2001-09-28 06:03:04      1776          3\n",
      "720049    4312    2114       4 2001-09-28 06:06:11      1280          3\n",
      "720444    4312    3679       4 2001-09-28 06:06:31      1659          3\n",
      "720617    4312    3398       4 2001-09-28 06:09:44       678          3\n",
      "719859    4312     595       4 2001-09-28 06:25:12        36          4\n",
      "720668    4312    1059       4 2001-09-28 06:29:07       474          4\n",
      "720369    4312    2294       4 2001-09-28 06:32:43        40          4\n",
      "        UserId  ItemId  Rating                Time  item_idx  SessionId\n",
      "583109    3562    3791       5 2002-06-14 01:11:17      1627       2144\n",
      "583586    3562    3512       4 2002-06-14 01:13:24      1069       2144\n",
      "823427    4950    2208       4 2002-06-14 03:20:01       921       2145\n",
      "823486    4950    2640       4 2002-06-14 03:20:23       484       2145\n",
      "776957    4640    2724       4 2002-06-14 05:37:06      1476       2146\n",
      "776896    4640    1252       4 2002-06-14 05:37:06       877       2146\n",
      "776855    4640    1148       5 2002-06-14 05:37:06       291       2146\n",
      "776904    4640    1275       4 2002-06-14 05:44:18       657       2146\n",
      "776841    4640     903       4 2002-06-14 05:49:24       933       2147\n",
      "776924    4640     420       4 2002-06-14 05:49:24       711       2147\n",
      "[    0     7    12 ... 10231 10235 10237]\n",
      "[   0    1    2 ... 1181 1182 1183]\n"
     ]
    }
   ],
   "source": [
    "val_dataset = SessionDataset(val)\n",
    "print(val_dataset.df.head(10))\n",
    "print(val_dataset.df.tail(10))\n",
    "print(val_dataset.click_offsets)\n",
    "print(val_dataset.session_idx)"
   ]
  },
  {
   "cell_type": "code",
   "execution_count": null,
   "id": "direct-portugal",
   "metadata": {},
   "outputs": [],
   "source": []
  },
  {
   "cell_type": "code",
   "execution_count": 167,
   "id": "english-observation",
   "metadata": {},
   "outputs": [],
   "source": [
    "class SessionDataLoader:\n",
    "    \"\"\"Credit to yhs-968/pyGRU4REC.\"\"\"\n",
    "\n",
    "    def __init__(self, dataset: SessionDataset, batch_size=50):\n",
    "        self.dataset = dataset\n",
    "        self.batch_size = batch_size\n",
    "\n",
    "    def __iter__(self):\n",
    "        \"\"\" Returns the iterator for producing session-parallel training mini-batches.\n",
    "        Yields:\n",
    "            input (B,):  Item indices that will be encoded as one-hot vectors later.\n",
    "            target (B,): a Variable that stores the target item indices\n",
    "            masks: Numpy array indicating the positions of the sessions to be terminated\n",
    "        \"\"\"\n",
    "\n",
    "        start, end, mask, last_session, finished = self.initialize()  # initialize 메소드에서 확인해주세요.\n",
    "        \"\"\"\n",
    "        start : Index Where Session Start\n",
    "        end : Index Where Session End\n",
    "        mask : indicator for the sessions to be terminated\n",
    "        \"\"\"\n",
    "\n",
    "        while not finished:\n",
    "            min_len = (end - start).min() - 1  # Shortest Length Among Sessions\n",
    "            for i in range(min_len):\n",
    "                # Build inputs & targets\n",
    "                inp = self.dataset.df['item_idx'].values[start + i]\n",
    "                target = self.dataset.df['item_idx'].values[start + i + 1]\n",
    "                #print(inp,target)\n",
    "                yield inp, target, mask\n",
    "\n",
    "            start, end, mask, last_session, finished = self.update_status(start, end, min_len, last_session, finished)\n",
    "            #print(start, end, mask, last_session, finished)\n",
    "    def initialize(self):\n",
    "        first_iters = np.arange(self.batch_size)    # 첫 배치에 사용할 세션 Index를 가져옵니다.\n",
    "        last_session = self.batch_size - 1    # 마지막으로 다루고 있는 세션 Index를 저장해둡니다.\n",
    "        #print(first_iters)\n",
    "        #print(len(first_iters))\n",
    "        #print(last_session)\n",
    "        #print(len(self.dataset.click_offsets))\n",
    "        #print(len(self.dataset.session_idx))\n",
    "        #print(self.dataset.click_offsets)\n",
    "        #print(self.dataset.session_idx)\n",
    "        #print(self.dataset.session_idx[first_iters])\n",
    "        \n",
    "        start = self.dataset.click_offsets[self.dataset.session_idx[first_iters]]       # data 상에서 session이 시작된 위치를 가져옵니다.\n",
    "        end = self.dataset.click_offsets[self.dataset.session_idx[first_iters] + 1]  # session이 끝난 위치 바로 다음 위치를 가져옵니다.\n",
    "        mask = np.array([])   # session의 모든 아이템을 다 돌은 경우 mask에 추가해줄 것입니다.\n",
    "        finished = False         # data를 전부 돌았는지 기록하기 위한 변수입니다.\n",
    "        return start, end, mask, last_session, finished\n",
    "\n",
    "    def update_status(self, start: np.ndarray, end: np.ndarray, min_len: int, last_session: int, finished: bool):  \n",
    "        # 다음 배치 데이터를 생성하기 위해 상태를 update합니다.\n",
    "        \n",
    "        start += min_len   # __iter__에서 min_len 만큼 for문을 돌았으므로 start를 min_len 만큼 더해줍니다.\n",
    "        mask = np.arange(self.batch_size)[(end - start) == 1]  \n",
    "        # end는 다음 세션이 시작되는 위치인데 start와 한 칸 차이난다는 것은 session이 끝났다는 뜻입니다. mask에 기록해줍니다.\n",
    "\n",
    "        for i, idx in enumerate(mask, start=1):  # mask에 추가된 세션 개수만큼 새로운 세션을 돌것입니다.\n",
    "            new_session = last_session + i  \n",
    "            if new_session > self.dataset.session_idx[-1]:  # 만약 새로운 세션이 마지막 세션 index보다 크다면 모든 학습데이터를 돈 것입니다.\n",
    "                finished = True\n",
    "                break\n",
    "            # update the next starting/ending point\n",
    "            start[idx] = self.dataset.click_offsets[self.dataset.session_idx[new_session]]     # 종료된 세션 대신 새로운 세션의 시작점을 기록합니다.\n",
    "            end[idx] = self.dataset.click_offsets[self.dataset.session_idx[new_session] + 1]\n",
    "\n",
    "        last_session += len(mask)  # 마지막 세션의 위치를 기록해둡니다.\n",
    "        return start, end, mask, last_session, finished"
   ]
  },
  {
   "cell_type": "code",
   "execution_count": 158,
   "id": "formed-onion",
   "metadata": {},
   "outputs": [],
   "source": [
    "iter_ex = iter(tr_data_loader)"
   ]
  },
  {
   "cell_type": "code",
   "execution_count": 165,
   "id": "atmospheric-representation",
   "metadata": {},
   "outputs": [
    {
     "name": "stdout",
     "output_type": "stream",
     "text": [
      "[]\n",
      "Model Input Item Idx are : [1592  225  290 1779]\n",
      "Label Item Idx are :       [ 796 1664  889  965]\n",
      "Previous Masked Input Idx are []\n"
     ]
    }
   ],
   "source": [
    "inputs, labels, mask =  next(iter_ex)\n",
    "print(f'Model Input Item Idx are : {inputs}')\n",
    "print(f'Label Item Idx are : {\"\":5} {labels}')\n",
    "print(f'Previous Masked Input Idx are {mask}')"
   ]
  },
  {
   "cell_type": "code",
   "execution_count": null,
   "id": "dramatic-peter",
   "metadata": {},
   "outputs": [],
   "source": []
  },
  {
   "cell_type": "code",
   "execution_count": 98,
   "id": "distinguished-manhattan",
   "metadata": {},
   "outputs": [],
   "source": [
    "def mrr_k(pred, truth: int, k: int):\n",
    "    indexing = np.where(pred[:k] == truth)[0]\n",
    "    if len(indexing) > 0:\n",
    "        return 1 / (indexing[0] + 1)\n",
    "    else:\n",
    "        return 0\n",
    "\n",
    "\n",
    "def recall_k(pred, truth: int, k: int) -> int:\n",
    "    answer = truth in pred[:k]\n",
    "    return int(answer)"
   ]
  },
  {
   "cell_type": "code",
   "execution_count": 99,
   "id": "alert-corrections",
   "metadata": {},
   "outputs": [],
   "source": [
    "import numpy as np\n",
    "import tensorflow as tf\n",
    "from tensorflow.keras.layers import Input, Dense, Dropout, GRU\n",
    "from tensorflow.keras.losses import categorical_crossentropy\n",
    "from tensorflow.keras.models import Model\n",
    "from tensorflow.keras.optimizers import Adam\n",
    "from tensorflow.keras.utils import to_categorical\n",
    "from tqdm import tqdm"
   ]
  },
  {
   "cell_type": "code",
   "execution_count": 100,
   "id": "racial-moldova",
   "metadata": {},
   "outputs": [],
   "source": [
    "def create_model(args):\n",
    "    inputs = Input(batch_shape=(args.batch_size, 1, args.num_items))\n",
    "    gru, _ = GRU(args.hsz, stateful=True, return_state=True, name='GRU')(inputs)\n",
    "    dropout = Dropout(args.drop_rate)(gru)\n",
    "    predictions = Dense(args.num_items, activation='softmax')(dropout)\n",
    "    model = Model(inputs=inputs, outputs=[predictions])\n",
    "    model.compile(loss=categorical_crossentropy, optimizer=Adam(args.lr), metrics=['accuracy'])\n",
    "    model.summary()\n",
    "    return model"
   ]
  },
  {
   "cell_type": "code",
   "execution_count": 101,
   "id": "conceptual-chick",
   "metadata": {},
   "outputs": [],
   "source": [
    "class Args:\n",
    "    def __init__(self, tr, val, test, batch_size, hsz, drop_rate, lr, epochs, k):\n",
    "        self.tr = tr\n",
    "        self.val = val\n",
    "        self.test = test\n",
    "        self.num_items = tr['ItemId'].nunique()\n",
    "        self.num_sessions = tr['SessionId'].nunique()\n",
    "        self.batch_size = batch_size\n",
    "        self.hsz = hsz\n",
    "        self.drop_rate = drop_rate\n",
    "        self.lr = lr\n",
    "        self.epochs = epochs\n",
    "        self.k = k\n",
    "\n",
    "args = Args(tr, val, test, batch_size=2048, hsz=50, drop_rate=0.1, lr=0.001, epochs=3, k=20)"
   ]
  },
  {
   "cell_type": "code",
   "execution_count": 102,
   "id": "objective-bottle",
   "metadata": {},
   "outputs": [
    {
     "name": "stdout",
     "output_type": "stream",
     "text": [
      "Model: \"model_1\"\n",
      "_________________________________________________________________\n",
      "Layer (type)                 Output Shape              Param #   \n",
      "=================================================================\n",
      "input_2 (InputLayer)         [(2048, 1, 2000)]         0         \n",
      "_________________________________________________________________\n",
      "GRU (GRU)                    [(2048, 50), (2048, 50)]  307800    \n",
      "_________________________________________________________________\n",
      "dropout_1 (Dropout)          (2048, 50)                0         \n",
      "_________________________________________________________________\n",
      "dense_1 (Dense)              (2048, 2000)              102000    \n",
      "=================================================================\n",
      "Total params: 409,800\n",
      "Trainable params: 409,800\n",
      "Non-trainable params: 0\n",
      "_________________________________________________________________\n"
     ]
    }
   ],
   "source": [
    "model = create_model(args)"
   ]
  },
  {
   "cell_type": "code",
   "execution_count": 121,
   "id": "tracked-vacuum",
   "metadata": {},
   "outputs": [],
   "source": [
    "# train 셋으로 학습하면서 valid 셋으로 검증합니다.\n",
    "def train_model(model, args):\n",
    "    train_dataset = SessionDataset(args.tr)\n",
    "    train_loader = SessionDataLoader(train_dataset, batch_size=args.batch_size)\n",
    "\n",
    "    for epoch in range(1, args.epochs + 1):\n",
    "        total_step = len(args.tr) - args.tr['SessionId'].nunique()\n",
    "        tr_loader = tqdm(train_loader, total=total_step // args.batch_size, desc='Train', mininterval=1)\n",
    "        for feat, target, mask in tr_loader:\n",
    "            reset_hidden_states(model, mask)  # 종료된 session은 hidden_state를 초기화합니다. 아래 메서드에서 확인해주세요.\n",
    "\n",
    "            input_ohe = to_categorical(feat, num_classes=args.num_items)\n",
    "            input_ohe = np.expand_dims(input_ohe, axis=1)\n",
    "            target_ohe = to_categorical(target, num_classes=args.num_items)\n",
    "\n",
    "            result = model.train_on_batch(input_ohe, target_ohe)\n",
    "            tr_loader.set_postfix(train_loss=result[0], accuracy = result[1])\n",
    "\n",
    "        val_recall, val_mrr = get_metrics(args.val, model, args, args.k)  # valid set에 대해 검증합니다.\n",
    "\n",
    "        print(f\"\\t - Recall@{args.k} epoch {epoch}: {val_recall:3f}\")\n",
    "        print(f\"\\t - MRR@{args.k}    epoch {epoch}: {val_mrr:3f}\\n\")\n",
    "\n",
    "\n",
    "def reset_hidden_states(model, mask):\n",
    "    gru_layer = model.get_layer(name='GRU')  # model에서 gru layer를 가져옵니다.\n",
    "    hidden_states = gru_layer.states[0].numpy()  # gru_layer의 parameter를 가져옵니다.\n",
    "    for elt in mask:  # mask된 인덱스 즉, 종료된 세션의 인덱스를 돌면서\n",
    "        hidden_states[elt, :] = 0  # parameter를 초기화 합니다.\n",
    "    gru_layer.reset_states(states=hidden_states)\n",
    "\n",
    "\n",
    "def get_metrics(data, model, args, k: int):  # valid셋과 test셋을 평가하는 코드입니다. \n",
    "                                             # train과 거의 같지만 mrr, recall을 구하는 라인이 있습니다.\n",
    "    dataset = SessionDataset(data)\n",
    "    loader = SessionDataLoader(dataset, batch_size=args.batch_size)\n",
    "    recall_list, mrr_list = [], []\n",
    "\n",
    "    total_step = len(data) - data['SessionId'].nunique()\n",
    "    for inputs, label, mask in tqdm(loader, total=total_step // args.batch_size, desc='Evaluation', mininterval=1):\n",
    "        reset_hidden_states(model, mask)\n",
    "        input_ohe = to_categorical(inputs, num_classes=args.num_items)\n",
    "        input_ohe = np.expand_dims(input_ohe, axis=1)\n",
    "\n",
    "        pred = model.predict(input_ohe, batch_size=args.batch_size)\n",
    "        pred_arg = tf.argsort(pred, direction='DESCENDING')  # softmax 값이 큰 순서대로 sorting 합니다.\n",
    "\n",
    "        length = len(inputs)\n",
    "        recall_list.extend([recall_k(pred_arg[i], label[i], k) for i in range(length)])\n",
    "        mrr_list.extend([mrr_k(pred_arg[i], label[i], k) for i in range(length)])\n",
    "\n",
    "    recall, mrr = np.mean(recall_list), np.mean(mrr_list)\n",
    "    return recall, mrr"
   ]
  },
  {
   "cell_type": "code",
   "execution_count": 168,
   "id": "absent-florida",
   "metadata": {},
   "outputs": [
    {
     "name": "stderr",
     "output_type": "stream",
     "text": [
      "Train:  68%|██████▊   | 166/244 [00:05<00:02, 31.12it/s, accuracy=0.0151, train_loss=6.57] \n",
      "Evaluation:   0%|          | 0/4 [00:00<?, ?it/s]\n",
      "Train:   0%|          | 0/244 [00:00<?, ?it/s, accuracy=0.0229, train_loss=6.25]"
     ]
    },
    {
     "name": "stdout",
     "output_type": "stream",
     "text": [
      "\t - Recall@20 epoch 1: nan\n",
      "\t - MRR@20    epoch 1: nan\n",
      "\n"
     ]
    },
    {
     "name": "stderr",
     "output_type": "stream",
     "text": [
      "Train:  68%|██████▊   | 166/244 [00:05<00:02, 30.96it/s, accuracy=0.019, train_loss=6.53]  \n",
      "Evaluation:   0%|          | 0/4 [00:00<?, ?it/s]\n",
      "Train:   0%|          | 0/244 [00:00<?, ?it/s, accuracy=0.0249, train_loss=6.21]"
     ]
    },
    {
     "name": "stdout",
     "output_type": "stream",
     "text": [
      "\t - Recall@20 epoch 2: nan\n",
      "\t - MRR@20    epoch 2: nan\n",
      "\n"
     ]
    },
    {
     "name": "stderr",
     "output_type": "stream",
     "text": [
      "Train:  68%|██████▊   | 166/244 [00:05<00:02, 30.46it/s, accuracy=0.0186, train_loss=6.49]\n",
      "Evaluation:   0%|          | 0/4 [00:00<?, ?it/s]"
     ]
    },
    {
     "name": "stdout",
     "output_type": "stream",
     "text": [
      "\t - Recall@20 epoch 3: nan\n",
      "\t - MRR@20    epoch 3: nan\n",
      "\n"
     ]
    },
    {
     "name": "stderr",
     "output_type": "stream",
     "text": [
      "\n"
     ]
    }
   ],
   "source": [
    "train_model(model, args)"
   ]
  },
  {
   "cell_type": "markdown",
   "id": "separate-diabetes",
   "metadata": {},
   "source": [
    "# 결론\n",
    "일단 왜 그런지 모르겠지만 모델이 제대로 돌아가지 않아서 루브릭 1번만 완료했다. \n",
    "허탈하다...ㅠㅠㅠㅠ모델은 제출 이후 다른 분들 코드 보고 왜 모델이 안 돌아가는지 알아봐야겠다.\n",
    "그리고 별개로 모델이 좀 나이브하게 짜인것 같다...ㅠㅠㅠㅠㅠ\n"
   ]
  }
 ],
 "metadata": {
  "kernelspec": {
   "display_name": "aiffel",
   "language": "python",
   "name": "aiffel"
  },
  "language_info": {
   "codemirror_mode": {
    "name": "ipython",
    "version": 3
   },
   "file_extension": ".py",
   "mimetype": "text/x-python",
   "name": "python",
   "nbconvert_exporter": "python",
   "pygments_lexer": "ipython3",
   "version": "3.7.10"
  }
 },
 "nbformat": 4,
 "nbformat_minor": 5
}
